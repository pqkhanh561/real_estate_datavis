{
 "cells": [
  {
   "cell_type": "code",
   "execution_count": 1,
   "metadata": {},
   "outputs": [],
   "source": [
    "import pandas as pd\n",
    "import numpy as np\n",
    "import matplotlib.pyplot as plt"
   ]
  },
  {
   "cell_type": "code",
   "execution_count": 2,
   "metadata": {},
   "outputs": [],
   "source": [
    "pd.set_option('display.max_column',None)"
   ]
  },
  {
   "cell_type": "code",
   "execution_count": 3,
   "metadata": {},
   "outputs": [
    {
     "data": {
      "text/html": [
       "<div>\n",
       "<style scoped>\n",
       "    .dataframe tbody tr th:only-of-type {\n",
       "        vertical-align: middle;\n",
       "    }\n",
       "\n",
       "    .dataframe tbody tr th {\n",
       "        vertical-align: top;\n",
       "    }\n",
       "\n",
       "    .dataframe thead th {\n",
       "        text-align: right;\n",
       "    }\n",
       "</style>\n",
       "<table border=\"1\" class=\"dataframe\">\n",
       "  <thead>\n",
       "    <tr style=\"text-align: right;\">\n",
       "      <th></th>\n",
       "      <th>Unnamed: 0</th>\n",
       "      <th>Mã tin</th>\n",
       "      <th>Diện tích đất</th>\n",
       "      <th>Diện tích sử dụng</th>\n",
       "      <th>Chiều dài</th>\n",
       "      <th>Chiều rộng</th>\n",
       "      <th>Độ rộng hẻm</th>\n",
       "      <th>Độ rộng mặt tiền đường</th>\n",
       "      <th>Phòng ngủ</th>\n",
       "      <th>Phòng tắm</th>\n",
       "      <th>Lầu</th>\n",
       "      <th>Lửng</th>\n",
       "      <th>Tầng thượng</th>\n",
       "      <th>Hướng</th>\n",
       "      <th>Đường</th>\n",
       "      <th>Phường</th>\n",
       "      <th>Quận</th>\n",
       "      <th>Giá</th>\n",
       "      <th>Đơn giá gộp</th>\n",
       "      <th>Tiêu đề</th>\n",
       "      <th>Địa chỉ</th>\n",
       "      <th>Gần chợ, siêu thị</th>\n",
       "      <th>Gần trường học</th>\n",
       "      <th>Di chuyển thuận tiện ra trung tâm</th>\n",
       "      <th>Khu vực an ninh, yên tĩnh</th>\n",
       "      <th>phân loại</th>\n",
       "    </tr>\n",
       "  </thead>\n",
       "  <tbody>\n",
       "    <tr>\n",
       "      <th>0</th>\n",
       "      <td>0</td>\n",
       "      <td>387193</td>\n",
       "      <td>14.00</td>\n",
       "      <td>14.00</td>\n",
       "      <td>NaN</td>\n",
       "      <td>NaN</td>\n",
       "      <td>NaN</td>\n",
       "      <td>NaN</td>\n",
       "      <td>1.0</td>\n",
       "      <td>1.0</td>\n",
       "      <td>0</td>\n",
       "      <td>0</td>\n",
       "      <td>0</td>\n",
       "      <td>Đông</td>\n",
       "      <td>Đ.Gò Công</td>\n",
       "      <td>P.13</td>\n",
       "      <td>Q.5</td>\n",
       "      <td>0.75</td>\n",
       "      <td>53.5</td>\n",
       "      <td>bán chung cư cũ gò công quận 5 - gần chợ kim biên</td>\n",
       "      <td>Đ.Gò Công, P.13, Q.5, Hồ Chí Minh</td>\n",
       "      <td>0</td>\n",
       "      <td>0</td>\n",
       "      <td>0</td>\n",
       "      <td>0</td>\n",
       "      <td>2.0</td>\n",
       "    </tr>\n",
       "    <tr>\n",
       "      <th>1</th>\n",
       "      <td>1</td>\n",
       "      <td>417224</td>\n",
       "      <td>34.91</td>\n",
       "      <td>34.91</td>\n",
       "      <td>NaN</td>\n",
       "      <td>NaN</td>\n",
       "      <td>NaN</td>\n",
       "      <td>NaN</td>\n",
       "      <td>1.0</td>\n",
       "      <td>1.0</td>\n",
       "      <td>0</td>\n",
       "      <td>0</td>\n",
       "      <td>0</td>\n",
       "      <td>NaN</td>\n",
       "      <td>Đ.Hương Lộ 80</td>\n",
       "      <td>X.Vĩnh Lộc A</td>\n",
       "      <td>H.Bình Chánh</td>\n",
       "      <td>0.78</td>\n",
       "      <td>22.3</td>\n",
       "      <td>bán căn hộ nhà ở xã hội huyện bình chánh</td>\n",
       "      <td>Đ.Hương Lộ 80, X.Vĩnh Lộc A, H.Bình Chánh, Hồ ...</td>\n",
       "      <td>0</td>\n",
       "      <td>0</td>\n",
       "      <td>0</td>\n",
       "      <td>0</td>\n",
       "      <td>1.0</td>\n",
       "    </tr>\n",
       "    <tr>\n",
       "      <th>2</th>\n",
       "      <td>2</td>\n",
       "      <td>391821</td>\n",
       "      <td>4.30</td>\n",
       "      <td>12.90</td>\n",
       "      <td>2.11</td>\n",
       "      <td>2.22</td>\n",
       "      <td>1.0</td>\n",
       "      <td>NaN</td>\n",
       "      <td>2.0</td>\n",
       "      <td>1.0</td>\n",
       "      <td>2</td>\n",
       "      <td>0</td>\n",
       "      <td>0</td>\n",
       "      <td>Đ.Bắc</td>\n",
       "      <td>Đ.Hồ Thị Kỷ</td>\n",
       "      <td>P.1</td>\n",
       "      <td>Q.10</td>\n",
       "      <td>0.90</td>\n",
       "      <td>209.3</td>\n",
       "      <td>bán nhà hẻm an ninh hồ thị kỷ p1 q10 - nhà kiê...</td>\n",
       "      <td>Đ.Hồ Thị Kỷ, P.1, Q.10, Hồ Chí Minh</td>\n",
       "      <td>0</td>\n",
       "      <td>0</td>\n",
       "      <td>0</td>\n",
       "      <td>0</td>\n",
       "      <td>1.0</td>\n",
       "    </tr>\n",
       "    <tr>\n",
       "      <th>3</th>\n",
       "      <td>3</td>\n",
       "      <td>345253</td>\n",
       "      <td>10.20</td>\n",
       "      <td>20.40</td>\n",
       "      <td>4.00</td>\n",
       "      <td>2.50</td>\n",
       "      <td>1.8</td>\n",
       "      <td>NaN</td>\n",
       "      <td>1.0</td>\n",
       "      <td>1.0</td>\n",
       "      <td>1</td>\n",
       "      <td>0</td>\n",
       "      <td>0</td>\n",
       "      <td>Đ.Nam</td>\n",
       "      <td>Đ.Tôn Đản</td>\n",
       "      <td>P.10</td>\n",
       "      <td>Q.4</td>\n",
       "      <td>0.93</td>\n",
       "      <td>91.1</td>\n",
       "      <td>bán nhà hẻm quận 4 - nhà nhỏ, thích hợp gia đì...</td>\n",
       "      <td>Đ.Tôn Đản, P.10, Q.4, Hồ Chí Minh</td>\n",
       "      <td>1</td>\n",
       "      <td>1</td>\n",
       "      <td>1</td>\n",
       "      <td>1</td>\n",
       "      <td>1.0</td>\n",
       "    </tr>\n",
       "    <tr>\n",
       "      <th>4</th>\n",
       "      <td>4</td>\n",
       "      <td>377209</td>\n",
       "      <td>96.10</td>\n",
       "      <td>NaN</td>\n",
       "      <td>19.40</td>\n",
       "      <td>5.00</td>\n",
       "      <td>2.0</td>\n",
       "      <td>NaN</td>\n",
       "      <td>NaN</td>\n",
       "      <td>NaN</td>\n",
       "      <td>0</td>\n",
       "      <td>0</td>\n",
       "      <td>0</td>\n",
       "      <td>T.Nam</td>\n",
       "      <td>Đ.TL15</td>\n",
       "      <td>X.Tân Hiệp</td>\n",
       "      <td>H.Hóc Môn</td>\n",
       "      <td>0.95</td>\n",
       "      <td>9.8</td>\n",
       "      <td>bán lô đất nông nghiệp, diện tích 96.1m2 tân h...</td>\n",
       "      <td>Đ.TL15, X.Tân Hiệp, H.Hóc Môn, Hồ Chí Minh</td>\n",
       "      <td>1</td>\n",
       "      <td>1</td>\n",
       "      <td>0</td>\n",
       "      <td>0</td>\n",
       "      <td>3.0</td>\n",
       "    </tr>\n",
       "  </tbody>\n",
       "</table>\n",
       "</div>"
      ],
      "text/plain": [
       "   Unnamed: 0  Mã tin  Diện tích đất  Diện tích sử dụng  Chiều dài  \\\n",
       "0           0  387193          14.00              14.00        NaN   \n",
       "1           1  417224          34.91              34.91        NaN   \n",
       "2           2  391821           4.30              12.90       2.11   \n",
       "3           3  345253          10.20              20.40       4.00   \n",
       "4           4  377209          96.10                NaN      19.40   \n",
       "\n",
       "   Chiều rộng  Độ rộng hẻm  Độ rộng mặt tiền đường  Phòng ngủ  Phòng tắm  Lầu  \\\n",
       "0         NaN          NaN                     NaN        1.0        1.0    0   \n",
       "1         NaN          NaN                     NaN        1.0        1.0    0   \n",
       "2        2.22          1.0                     NaN        2.0        1.0    2   \n",
       "3        2.50          1.8                     NaN        1.0        1.0    1   \n",
       "4        5.00          2.0                     NaN        NaN        NaN    0   \n",
       "\n",
       "   Lửng  Tầng thượng  Hướng          Đường        Phường          Quận   Giá  \\\n",
       "0     0            0   Đông      Đ.Gò Công          P.13           Q.5  0.75   \n",
       "1     0            0    NaN  Đ.Hương Lộ 80  X.Vĩnh Lộc A  H.Bình Chánh  0.78   \n",
       "2     0            0  Đ.Bắc    Đ.Hồ Thị Kỷ           P.1          Q.10  0.90   \n",
       "3     0            0  Đ.Nam      Đ.Tôn Đản          P.10           Q.4  0.93   \n",
       "4     0            0  T.Nam         Đ.TL15    X.Tân Hiệp     H.Hóc Môn  0.95   \n",
       "\n",
       "   Đơn giá gộp                                            Tiêu đề  \\\n",
       "0         53.5  bán chung cư cũ gò công quận 5 - gần chợ kim biên   \n",
       "1         22.3           bán căn hộ nhà ở xã hội huyện bình chánh   \n",
       "2        209.3  bán nhà hẻm an ninh hồ thị kỷ p1 q10 - nhà kiê...   \n",
       "3         91.1  bán nhà hẻm quận 4 - nhà nhỏ, thích hợp gia đì...   \n",
       "4          9.8  bán lô đất nông nghiệp, diện tích 96.1m2 tân h...   \n",
       "\n",
       "                                             Địa chỉ  Gần chợ, siêu thị  \\\n",
       "0                  Đ.Gò Công, P.13, Q.5, Hồ Chí Minh                  0   \n",
       "1  Đ.Hương Lộ 80, X.Vĩnh Lộc A, H.Bình Chánh, Hồ ...                  0   \n",
       "2                Đ.Hồ Thị Kỷ, P.1, Q.10, Hồ Chí Minh                  0   \n",
       "3                  Đ.Tôn Đản, P.10, Q.4, Hồ Chí Minh                  1   \n",
       "4         Đ.TL15, X.Tân Hiệp, H.Hóc Môn, Hồ Chí Minh                  1   \n",
       "\n",
       "   Gần trường học  Di chuyển thuận tiện ra trung tâm  \\\n",
       "0               0                                  0   \n",
       "1               0                                  0   \n",
       "2               0                                  0   \n",
       "3               1                                  1   \n",
       "4               1                                  0   \n",
       "\n",
       "   Khu vực an ninh, yên tĩnh  phân loại  \n",
       "0                          0        2.0  \n",
       "1                          0        1.0  \n",
       "2                          0        1.0  \n",
       "3                          1        1.0  \n",
       "4                          0        3.0  "
      ]
     },
     "execution_count": 3,
     "metadata": {},
     "output_type": "execute_result"
    }
   ],
   "source": [
    "df = pd.read_csv('propzy_cleaned.csv')\n",
    "df.head()"
   ]
  },
  {
   "cell_type": "code",
   "execution_count": 4,
   "metadata": {},
   "outputs": [
    {
     "data": {
      "text/plain": [
       "Index(['Unnamed: 0', 'Mã tin', 'Diện tích đất', 'Diện tích sử dụng',\n",
       "       'Chiều dài', 'Chiều rộng', 'Độ rộng hẻm', 'Độ rộng mặt tiền đường',\n",
       "       'Phòng ngủ', 'Phòng tắm', 'Lầu', 'Lửng', 'Tầng thượng', 'Hướng',\n",
       "       'Đường', 'Phường', 'Quận', 'Giá', 'Đơn giá gộp', 'Tiêu đề', 'Địa chỉ',\n",
       "       'Gần chợ, siêu thị', 'Gần trường học',\n",
       "       'Di chuyển thuận tiện ra trung tâm', 'Khu vực an ninh, yên tĩnh',\n",
       "       'phân loại'],\n",
       "      dtype='object')"
      ]
     },
     "execution_count": 4,
     "metadata": {},
     "output_type": "execute_result"
    }
   ],
   "source": [
    "df.columns"
   ]
  },
  {
   "cell_type": "code",
   "execution_count": 5,
   "metadata": {},
   "outputs": [
    {
     "name": "stdout",
     "output_type": "stream",
     "text": [
      "<class 'pandas.core.frame.DataFrame'>\n",
      "RangeIndex: 1452 entries, 0 to 1451\n",
      "Data columns (total 26 columns):\n",
      " #   Column                             Non-Null Count  Dtype  \n",
      "---  ------                             --------------  -----  \n",
      " 0   Unnamed: 0                         1452 non-null   int64  \n",
      " 1   Mã tin                             1452 non-null   int64  \n",
      " 2   Diện tích đất                      1452 non-null   float64\n",
      " 3   Diện tích sử dụng                  1326 non-null   float64\n",
      " 4   Chiều dài                          1117 non-null   float64\n",
      " 5   Chiều rộng                         1117 non-null   float64\n",
      " 6   Độ rộng hẻm                        565 non-null    float64\n",
      " 7   Độ rộng mặt tiền đường             566 non-null    float64\n",
      " 8   Phòng ngủ                          1221 non-null   float64\n",
      " 9   Phòng tắm                          1288 non-null   float64\n",
      " 10  Lầu                                1452 non-null   int64  \n",
      " 11  Lửng                               1452 non-null   int64  \n",
      " 12  Tầng thượng                        1452 non-null   int64  \n",
      " 13  Hướng                              1268 non-null   object \n",
      " 14  Đường                              1452 non-null   object \n",
      " 15  Phường                             1452 non-null   object \n",
      " 16  Quận                               1452 non-null   object \n",
      " 17  Giá                                1452 non-null   float64\n",
      " 18  Đơn giá gộp                        1452 non-null   float64\n",
      " 19  Tiêu đề                            1452 non-null   object \n",
      " 20  Địa chỉ                            1452 non-null   object \n",
      " 21  Gần chợ, siêu thị                  1452 non-null   int64  \n",
      " 22  Gần trường học                     1452 non-null   int64  \n",
      " 23  Di chuyển thuận tiện ra trung tâm  1452 non-null   int64  \n",
      " 24  Khu vực an ninh, yên tĩnh          1452 non-null   int64  \n",
      " 25  phân loại                          1452 non-null   float64\n",
      "dtypes: float64(11), int64(9), object(6)\n",
      "memory usage: 295.1+ KB\n"
     ]
    }
   ],
   "source": [
    "df.info()"
   ]
  },
  {
   "cell_type": "code",
   "execution_count": 6,
   "metadata": {},
   "outputs": [
    {
     "name": "stdout",
     "output_type": "stream",
     "text": [
      "<class 'pandas.core.frame.DataFrame'>\n",
      "RangeIndex: 1452 entries, 0 to 1451\n",
      "Data columns (total 26 columns):\n",
      " #   Column                             Non-Null Count  Dtype  \n",
      "---  ------                             --------------  -----  \n",
      " 0   Unnamed: 0                         1452 non-null   int64  \n",
      " 1   Mã tin                             1452 non-null   int64  \n",
      " 2   Diện tích đất                      1452 non-null   float64\n",
      " 3   Diện tích sử dụng                  1326 non-null   float64\n",
      " 4   Chiều dài                          1117 non-null   float64\n",
      " 5   Chiều rộng                         1117 non-null   float64\n",
      " 6   Độ rộng hẻm                        565 non-null    float64\n",
      " 7   Độ rộng mặt tiền đường             566 non-null    float64\n",
      " 8   Phòng ngủ                          1221 non-null   float64\n",
      " 9   Phòng tắm                          1288 non-null   float64\n",
      " 10  Lầu                                1452 non-null   int64  \n",
      " 11  Lửng                               1452 non-null   int64  \n",
      " 12  Tầng thượng                        1452 non-null   int64  \n",
      " 13  Hướng                              1268 non-null   object \n",
      " 14  Đường                              1452 non-null   object \n",
      " 15  Phường                             1452 non-null   object \n",
      " 16  Quận                               1452 non-null   object \n",
      " 17  Giá                                1452 non-null   float64\n",
      " 18  Đơn giá gộp                        1452 non-null   float64\n",
      " 19  Tiêu đề                            1452 non-null   object \n",
      " 20  Địa chỉ                            1452 non-null   object \n",
      " 21  Gần chợ, siêu thị                  1452 non-null   int64  \n",
      " 22  Gần trường học                     1452 non-null   int64  \n",
      " 23  Di chuyển thuận tiện ra trung tâm  1452 non-null   int64  \n",
      " 24  Khu vực an ninh, yên tĩnh          1452 non-null   int64  \n",
      " 25  phân loại                          1452 non-null   float64\n",
      "dtypes: float64(11), int64(9), object(6)\n",
      "memory usage: 295.1+ KB\n"
     ]
    }
   ],
   "source": [
    "df.info()"
   ]
  },
  {
   "cell_type": "markdown",
   "metadata": {},
   "source": [
    "# Map"
   ]
  },
  {
   "cell_type": "code",
   "execution_count": 7,
   "metadata": {},
   "outputs": [
    {
     "data": {
      "text/html": [
       "<div>\n",
       "<style scoped>\n",
       "    .dataframe tbody tr th:only-of-type {\n",
       "        vertical-align: middle;\n",
       "    }\n",
       "\n",
       "    .dataframe tbody tr th {\n",
       "        vertical-align: top;\n",
       "    }\n",
       "\n",
       "    .dataframe thead th {\n",
       "        text-align: right;\n",
       "    }\n",
       "</style>\n",
       "<table border=\"1\" class=\"dataframe\">\n",
       "  <thead>\n",
       "    <tr style=\"text-align: right;\">\n",
       "      <th></th>\n",
       "      <th>Quận</th>\n",
       "      <th>Đơn giá gộp</th>\n",
       "    </tr>\n",
       "  </thead>\n",
       "  <tbody>\n",
       "    <tr>\n",
       "      <th>0</th>\n",
       "      <td>H.Hóc Môn</td>\n",
       "      <td>36.473171</td>\n",
       "    </tr>\n",
       "    <tr>\n",
       "      <th>1</th>\n",
       "      <td>H.Bình Chánh</td>\n",
       "      <td>41.598611</td>\n",
       "    </tr>\n",
       "    <tr>\n",
       "      <th>2</th>\n",
       "      <td>H.Nhà Bè</td>\n",
       "      <td>50.968889</td>\n",
       "    </tr>\n",
       "    <tr>\n",
       "      <th>3</th>\n",
       "      <td>Q.12</td>\n",
       "      <td>54.976271</td>\n",
       "    </tr>\n",
       "    <tr>\n",
       "      <th>4</th>\n",
       "      <td>Q.Bình Tân</td>\n",
       "      <td>70.383158</td>\n",
       "    </tr>\n",
       "    <tr>\n",
       "      <th>5</th>\n",
       "      <td>Q.9</td>\n",
       "      <td>75.809195</td>\n",
       "    </tr>\n",
       "    <tr>\n",
       "      <th>6</th>\n",
       "      <td>Q.Thủ Đức</td>\n",
       "      <td>86.382609</td>\n",
       "    </tr>\n",
       "    <tr>\n",
       "      <th>7</th>\n",
       "      <td>Q.8</td>\n",
       "      <td>89.153153</td>\n",
       "    </tr>\n",
       "    <tr>\n",
       "      <th>8</th>\n",
       "      <td>Q.Tân Phú</td>\n",
       "      <td>104.450000</td>\n",
       "    </tr>\n",
       "    <tr>\n",
       "      <th>9</th>\n",
       "      <td>Q.2</td>\n",
       "      <td>112.038384</td>\n",
       "    </tr>\n",
       "    <tr>\n",
       "      <th>10</th>\n",
       "      <td>Q.7</td>\n",
       "      <td>112.588750</td>\n",
       "    </tr>\n",
       "    <tr>\n",
       "      <th>11</th>\n",
       "      <td>Q.Gò Vấp</td>\n",
       "      <td>119.669737</td>\n",
       "    </tr>\n",
       "    <tr>\n",
       "      <th>12</th>\n",
       "      <td>Q.4</td>\n",
       "      <td>138.765625</td>\n",
       "    </tr>\n",
       "    <tr>\n",
       "      <th>13</th>\n",
       "      <td>Q.Bình Thạnh</td>\n",
       "      <td>157.645263</td>\n",
       "    </tr>\n",
       "    <tr>\n",
       "      <th>14</th>\n",
       "      <td>Q.6</td>\n",
       "      <td>172.580519</td>\n",
       "    </tr>\n",
       "    <tr>\n",
       "      <th>15</th>\n",
       "      <td>Q.Tân Bình</td>\n",
       "      <td>197.588095</td>\n",
       "    </tr>\n",
       "    <tr>\n",
       "      <th>16</th>\n",
       "      <td>Q.Phú Nhuận</td>\n",
       "      <td>202.193506</td>\n",
       "    </tr>\n",
       "    <tr>\n",
       "      <th>17</th>\n",
       "      <td>Q.11</td>\n",
       "      <td>220.495652</td>\n",
       "    </tr>\n",
       "    <tr>\n",
       "      <th>18</th>\n",
       "      <td>Q.5</td>\n",
       "      <td>282.666000</td>\n",
       "    </tr>\n",
       "    <tr>\n",
       "      <th>19</th>\n",
       "      <td>Q.3</td>\n",
       "      <td>305.747059</td>\n",
       "    </tr>\n",
       "    <tr>\n",
       "      <th>20</th>\n",
       "      <td>Q.10</td>\n",
       "      <td>312.587755</td>\n",
       "    </tr>\n",
       "    <tr>\n",
       "      <th>21</th>\n",
       "      <td>Q.1</td>\n",
       "      <td>463.007407</td>\n",
       "    </tr>\n",
       "  </tbody>\n",
       "</table>\n",
       "</div>"
      ],
      "text/plain": [
       "            Quận  Đơn giá gộp\n",
       "0      H.Hóc Môn    36.473171\n",
       "1   H.Bình Chánh    41.598611\n",
       "2       H.Nhà Bè    50.968889\n",
       "3           Q.12    54.976271\n",
       "4     Q.Bình Tân    70.383158\n",
       "5            Q.9    75.809195\n",
       "6      Q.Thủ Đức    86.382609\n",
       "7            Q.8    89.153153\n",
       "8      Q.Tân Phú   104.450000\n",
       "9            Q.2   112.038384\n",
       "10           Q.7   112.588750\n",
       "11      Q.Gò Vấp   119.669737\n",
       "12           Q.4   138.765625\n",
       "13  Q.Bình Thạnh   157.645263\n",
       "14           Q.6   172.580519\n",
       "15    Q.Tân Bình   197.588095\n",
       "16   Q.Phú Nhuận   202.193506\n",
       "17          Q.11   220.495652\n",
       "18           Q.5   282.666000\n",
       "19           Q.3   305.747059\n",
       "20          Q.10   312.587755\n",
       "21           Q.1   463.007407"
      ]
     },
     "execution_count": 7,
     "metadata": {},
     "output_type": "execute_result"
    }
   ],
   "source": [
    "price_district = df.groupby('Quận')['Đơn giá gộp'].mean().sort_values().reset_index()\n",
    "price_district"
   ]
  },
  {
   "cell_type": "code",
   "execution_count": 8,
   "metadata": {},
   "outputs": [
    {
     "data": {
      "text/html": [
       "<div>\n",
       "<style scoped>\n",
       "    .dataframe tbody tr th:only-of-type {\n",
       "        vertical-align: middle;\n",
       "    }\n",
       "\n",
       "    .dataframe tbody tr th {\n",
       "        vertical-align: top;\n",
       "    }\n",
       "\n",
       "    .dataframe thead th {\n",
       "        text-align: right;\n",
       "    }\n",
       "</style>\n",
       "<table border=\"1\" class=\"dataframe\">\n",
       "  <thead>\n",
       "    <tr style=\"text-align: right;\">\n",
       "      <th></th>\n",
       "      <th>Quận</th>\n",
       "      <th>Đơn giá gộp</th>\n",
       "      <th>Giá</th>\n",
       "      <th>Diện tích đất</th>\n",
       "    </tr>\n",
       "  </thead>\n",
       "  <tbody>\n",
       "    <tr>\n",
       "      <th>0</th>\n",
       "      <td>H.Hóc Môn</td>\n",
       "      <td>36.473171</td>\n",
       "      <td>19.767561</td>\n",
       "      <td>1028.078293</td>\n",
       "    </tr>\n",
       "    <tr>\n",
       "      <th>1</th>\n",
       "      <td>H.Bình Chánh</td>\n",
       "      <td>41.598611</td>\n",
       "      <td>9.255417</td>\n",
       "      <td>436.355417</td>\n",
       "    </tr>\n",
       "    <tr>\n",
       "      <th>2</th>\n",
       "      <td>H.Nhà Bè</td>\n",
       "      <td>50.968889</td>\n",
       "      <td>17.600222</td>\n",
       "      <td>610.882000</td>\n",
       "    </tr>\n",
       "    <tr>\n",
       "      <th>3</th>\n",
       "      <td>Q.12</td>\n",
       "      <td>54.976271</td>\n",
       "      <td>17.662542</td>\n",
       "      <td>537.363898</td>\n",
       "    </tr>\n",
       "    <tr>\n",
       "      <th>4</th>\n",
       "      <td>Q.Bình Tân</td>\n",
       "      <td>70.383158</td>\n",
       "      <td>19.745368</td>\n",
       "      <td>379.626421</td>\n",
       "    </tr>\n",
       "    <tr>\n",
       "      <th>5</th>\n",
       "      <td>Q.9</td>\n",
       "      <td>75.809195</td>\n",
       "      <td>22.521724</td>\n",
       "      <td>399.020230</td>\n",
       "    </tr>\n",
       "    <tr>\n",
       "      <th>6</th>\n",
       "      <td>Q.Thủ Đức</td>\n",
       "      <td>86.382609</td>\n",
       "      <td>34.828261</td>\n",
       "      <td>746.165652</td>\n",
       "    </tr>\n",
       "    <tr>\n",
       "      <th>7</th>\n",
       "      <td>Q.8</td>\n",
       "      <td>89.153153</td>\n",
       "      <td>4.804414</td>\n",
       "      <td>63.654595</td>\n",
       "    </tr>\n",
       "    <tr>\n",
       "      <th>8</th>\n",
       "      <td>Q.Tân Phú</td>\n",
       "      <td>104.450000</td>\n",
       "      <td>15.745000</td>\n",
       "      <td>126.303676</td>\n",
       "    </tr>\n",
       "    <tr>\n",
       "      <th>9</th>\n",
       "      <td>Q.2</td>\n",
       "      <td>112.038384</td>\n",
       "      <td>31.544949</td>\n",
       "      <td>275.280707</td>\n",
       "    </tr>\n",
       "    <tr>\n",
       "      <th>10</th>\n",
       "      <td>Q.7</td>\n",
       "      <td>112.588750</td>\n",
       "      <td>17.368000</td>\n",
       "      <td>135.868625</td>\n",
       "    </tr>\n",
       "    <tr>\n",
       "      <th>11</th>\n",
       "      <td>Q.Gò Vấp</td>\n",
       "      <td>119.669737</td>\n",
       "      <td>22.903553</td>\n",
       "      <td>183.726711</td>\n",
       "    </tr>\n",
       "    <tr>\n",
       "      <th>12</th>\n",
       "      <td>Q.4</td>\n",
       "      <td>138.765625</td>\n",
       "      <td>14.372500</td>\n",
       "      <td>87.093125</td>\n",
       "    </tr>\n",
       "    <tr>\n",
       "      <th>13</th>\n",
       "      <td>Q.Bình Thạnh</td>\n",
       "      <td>157.645263</td>\n",
       "      <td>23.064000</td>\n",
       "      <td>146.908526</td>\n",
       "    </tr>\n",
       "    <tr>\n",
       "      <th>14</th>\n",
       "      <td>Q.6</td>\n",
       "      <td>172.580519</td>\n",
       "      <td>21.214026</td>\n",
       "      <td>133.328052</td>\n",
       "    </tr>\n",
       "    <tr>\n",
       "      <th>15</th>\n",
       "      <td>Q.Tân Bình</td>\n",
       "      <td>197.588095</td>\n",
       "      <td>36.938095</td>\n",
       "      <td>187.035952</td>\n",
       "    </tr>\n",
       "    <tr>\n",
       "      <th>16</th>\n",
       "      <td>Q.Phú Nhuận</td>\n",
       "      <td>202.193506</td>\n",
       "      <td>23.095455</td>\n",
       "      <td>114.614805</td>\n",
       "    </tr>\n",
       "    <tr>\n",
       "      <th>17</th>\n",
       "      <td>Q.11</td>\n",
       "      <td>220.495652</td>\n",
       "      <td>32.246957</td>\n",
       "      <td>160.503913</td>\n",
       "    </tr>\n",
       "    <tr>\n",
       "      <th>18</th>\n",
       "      <td>Q.5</td>\n",
       "      <td>282.666000</td>\n",
       "      <td>21.650600</td>\n",
       "      <td>68.420000</td>\n",
       "    </tr>\n",
       "    <tr>\n",
       "      <th>19</th>\n",
       "      <td>Q.3</td>\n",
       "      <td>305.747059</td>\n",
       "      <td>28.567647</td>\n",
       "      <td>87.840588</td>\n",
       "    </tr>\n",
       "    <tr>\n",
       "      <th>20</th>\n",
       "      <td>Q.10</td>\n",
       "      <td>312.587755</td>\n",
       "      <td>31.804898</td>\n",
       "      <td>110.704898</td>\n",
       "    </tr>\n",
       "    <tr>\n",
       "      <th>21</th>\n",
       "      <td>Q.1</td>\n",
       "      <td>463.007407</td>\n",
       "      <td>39.552778</td>\n",
       "      <td>80.786111</td>\n",
       "    </tr>\n",
       "  </tbody>\n",
       "</table>\n",
       "</div>"
      ],
      "text/plain": [
       "            Quận  Đơn giá gộp        Giá  Diện tích đất\n",
       "0      H.Hóc Môn    36.473171  19.767561    1028.078293\n",
       "1   H.Bình Chánh    41.598611   9.255417     436.355417\n",
       "2       H.Nhà Bè    50.968889  17.600222     610.882000\n",
       "3           Q.12    54.976271  17.662542     537.363898\n",
       "4     Q.Bình Tân    70.383158  19.745368     379.626421\n",
       "5            Q.9    75.809195  22.521724     399.020230\n",
       "6      Q.Thủ Đức    86.382609  34.828261     746.165652\n",
       "7            Q.8    89.153153   4.804414      63.654595\n",
       "8      Q.Tân Phú   104.450000  15.745000     126.303676\n",
       "9            Q.2   112.038384  31.544949     275.280707\n",
       "10           Q.7   112.588750  17.368000     135.868625\n",
       "11      Q.Gò Vấp   119.669737  22.903553     183.726711\n",
       "12           Q.4   138.765625  14.372500      87.093125\n",
       "13  Q.Bình Thạnh   157.645263  23.064000     146.908526\n",
       "14           Q.6   172.580519  21.214026     133.328052\n",
       "15    Q.Tân Bình   197.588095  36.938095     187.035952\n",
       "16   Q.Phú Nhuận   202.193506  23.095455     114.614805\n",
       "17          Q.11   220.495652  32.246957     160.503913\n",
       "18           Q.5   282.666000  21.650600      68.420000\n",
       "19           Q.3   305.747059  28.567647      87.840588\n",
       "20          Q.10   312.587755  31.804898     110.704898\n",
       "21           Q.1   463.007407  39.552778      80.786111"
      ]
     },
     "execution_count": 8,
     "metadata": {},
     "output_type": "execute_result"
    }
   ],
   "source": [
    "price_district = df.groupby('Quận').agg({'Đơn giá gộp':'mean', 'Giá': 'mean', 'Diện tích đất':'mean'}).sort_values(by='Đơn giá gộp').reset_index()\n",
    "price_district "
   ]
  },
  {
   "cell_type": "code",
   "execution_count": 9,
   "metadata": {},
   "outputs": [
    {
     "data": {
      "text/html": [
       "<div>\n",
       "<style scoped>\n",
       "    .dataframe tbody tr th:only-of-type {\n",
       "        vertical-align: middle;\n",
       "    }\n",
       "\n",
       "    .dataframe tbody tr th {\n",
       "        vertical-align: top;\n",
       "    }\n",
       "\n",
       "    .dataframe thead th {\n",
       "        text-align: right;\n",
       "    }\n",
       "</style>\n",
       "<table border=\"1\" class=\"dataframe\">\n",
       "  <thead>\n",
       "    <tr style=\"text-align: right;\">\n",
       "      <th></th>\n",
       "      <th>Quận</th>\n",
       "      <th>Latitude</th>\n",
       "      <th>Longitude</th>\n",
       "    </tr>\n",
       "  </thead>\n",
       "  <tbody>\n",
       "    <tr>\n",
       "      <th>0</th>\n",
       "      <td>Q.1</td>\n",
       "      <td>10.775659</td>\n",
       "      <td>106.700424</td>\n",
       "    </tr>\n",
       "    <tr>\n",
       "      <th>1</th>\n",
       "      <td>Q.12</td>\n",
       "      <td>10.867153</td>\n",
       "      <td>106.641332</td>\n",
       "    </tr>\n",
       "    <tr>\n",
       "      <th>2</th>\n",
       "      <td>Q.Thủ Đức</td>\n",
       "      <td>10.849409</td>\n",
       "      <td>106.753705</td>\n",
       "    </tr>\n",
       "    <tr>\n",
       "      <th>3</th>\n",
       "      <td>Q.9</td>\n",
       "      <td>10.842840</td>\n",
       "      <td>106.828685</td>\n",
       "    </tr>\n",
       "    <tr>\n",
       "      <th>4</th>\n",
       "      <td>Q.Gò Vấp</td>\n",
       "      <td>10.838678</td>\n",
       "      <td>106.665290</td>\n",
       "    </tr>\n",
       "    <tr>\n",
       "      <th>5</th>\n",
       "      <td>Q.Bình Thạnh</td>\n",
       "      <td>10.810583</td>\n",
       "      <td>106.709142</td>\n",
       "    </tr>\n",
       "    <tr>\n",
       "      <th>6</th>\n",
       "      <td>Q.Tân Bình</td>\n",
       "      <td>10.801466</td>\n",
       "      <td>106.652597</td>\n",
       "    </tr>\n",
       "    <tr>\n",
       "      <th>7</th>\n",
       "      <td>Q.Tân Phú</td>\n",
       "      <td>11.427531</td>\n",
       "      <td>107.361230</td>\n",
       "    </tr>\n",
       "    <tr>\n",
       "      <th>8</th>\n",
       "      <td>Q.Phú Nhuận</td>\n",
       "      <td>10.799194</td>\n",
       "      <td>106.680264</td>\n",
       "    </tr>\n",
       "    <tr>\n",
       "      <th>9</th>\n",
       "      <td>Q.2</td>\n",
       "      <td>10.787273</td>\n",
       "      <td>106.749810</td>\n",
       "    </tr>\n",
       "    <tr>\n",
       "      <th>10</th>\n",
       "      <td>Q.3</td>\n",
       "      <td>10.784370</td>\n",
       "      <td>106.684409</td>\n",
       "    </tr>\n",
       "    <tr>\n",
       "      <th>11</th>\n",
       "      <td>Q.10</td>\n",
       "      <td>10.774596</td>\n",
       "      <td>106.667954</td>\n",
       "    </tr>\n",
       "    <tr>\n",
       "      <th>12</th>\n",
       "      <td>Q.11</td>\n",
       "      <td>10.762974</td>\n",
       "      <td>106.650084</td>\n",
       "    </tr>\n",
       "    <tr>\n",
       "      <th>13</th>\n",
       "      <td>Q.4</td>\n",
       "      <td>10.757826</td>\n",
       "      <td>106.701297</td>\n",
       "    </tr>\n",
       "    <tr>\n",
       "      <th>14</th>\n",
       "      <td>Q.5</td>\n",
       "      <td>10.754028</td>\n",
       "      <td>106.663375</td>\n",
       "    </tr>\n",
       "    <tr>\n",
       "      <th>15</th>\n",
       "      <td>Q.6</td>\n",
       "      <td>10.748093</td>\n",
       "      <td>106.635236</td>\n",
       "    </tr>\n",
       "    <tr>\n",
       "      <th>16</th>\n",
       "      <td>Q.8</td>\n",
       "      <td>10.724088</td>\n",
       "      <td>106.628626</td>\n",
       "    </tr>\n",
       "    <tr>\n",
       "      <th>17</th>\n",
       "      <td>Q.Bình Tân</td>\n",
       "      <td>10.765258</td>\n",
       "      <td>106.603853</td>\n",
       "    </tr>\n",
       "    <tr>\n",
       "      <th>18</th>\n",
       "      <td>Q.7</td>\n",
       "      <td>10.734034</td>\n",
       "      <td>106.721579</td>\n",
       "    </tr>\n",
       "    <tr>\n",
       "      <th>19</th>\n",
       "      <td>H.Hóc Môn</td>\n",
       "      <td>10.883968</td>\n",
       "      <td>106.587061</td>\n",
       "    </tr>\n",
       "    <tr>\n",
       "      <th>20</th>\n",
       "      <td>H.Bình Chánh</td>\n",
       "      <td>10.687392</td>\n",
       "      <td>106.593854</td>\n",
       "    </tr>\n",
       "    <tr>\n",
       "      <th>21</th>\n",
       "      <td>H.Nhà Bè</td>\n",
       "      <td>10.695264</td>\n",
       "      <td>106.704874</td>\n",
       "    </tr>\n",
       "  </tbody>\n",
       "</table>\n",
       "</div>"
      ],
      "text/plain": [
       "            Quận   Latitude   Longitude\n",
       "0            Q.1  10.775659  106.700424\n",
       "1           Q.12  10.867153  106.641332\n",
       "2      Q.Thủ Đức  10.849409  106.753705\n",
       "3            Q.9  10.842840  106.828685\n",
       "4       Q.Gò Vấp  10.838678  106.665290\n",
       "5   Q.Bình Thạnh  10.810583  106.709142\n",
       "6     Q.Tân Bình  10.801466  106.652597\n",
       "7      Q.Tân Phú  11.427531  107.361230\n",
       "8    Q.Phú Nhuận  10.799194  106.680264\n",
       "9            Q.2  10.787273  106.749810\n",
       "10           Q.3  10.784370  106.684409\n",
       "11          Q.10  10.774596  106.667954\n",
       "12          Q.11  10.762974  106.650084\n",
       "13           Q.4  10.757826  106.701297\n",
       "14           Q.5  10.754028  106.663375\n",
       "15           Q.6  10.748093  106.635236\n",
       "16           Q.8  10.724088  106.628626\n",
       "17    Q.Bình Tân  10.765258  106.603853\n",
       "18           Q.7  10.734034  106.721579\n",
       "19     H.Hóc Môn  10.883968  106.587061\n",
       "20  H.Bình Chánh  10.687392  106.593854\n",
       "21      H.Nhà Bè  10.695264  106.704874"
      ]
     },
     "execution_count": 9,
     "metadata": {},
     "output_type": "execute_result"
    }
   ],
   "source": [
    "hcmc_location = pd.read_excel('hcmc.xlsx')\n",
    "hcmc_location"
   ]
  },
  {
   "cell_type": "code",
   "execution_count": 10,
   "metadata": {},
   "outputs": [
    {
     "data": {
      "text/html": [
       "<div>\n",
       "<style scoped>\n",
       "    .dataframe tbody tr th:only-of-type {\n",
       "        vertical-align: middle;\n",
       "    }\n",
       "\n",
       "    .dataframe tbody tr th {\n",
       "        vertical-align: top;\n",
       "    }\n",
       "\n",
       "    .dataframe thead th {\n",
       "        text-align: right;\n",
       "    }\n",
       "</style>\n",
       "<table border=\"1\" class=\"dataframe\">\n",
       "  <thead>\n",
       "    <tr style=\"text-align: right;\">\n",
       "      <th></th>\n",
       "      <th>Quận</th>\n",
       "      <th>Latitude</th>\n",
       "      <th>Longitude</th>\n",
       "      <th>Đơn giá gộp</th>\n",
       "      <th>Giá</th>\n",
       "      <th>Diện tích đất</th>\n",
       "    </tr>\n",
       "  </thead>\n",
       "  <tbody>\n",
       "    <tr>\n",
       "      <th>19</th>\n",
       "      <td>H.Hóc Môn</td>\n",
       "      <td>10.883968</td>\n",
       "      <td>106.587061</td>\n",
       "      <td>36.473171</td>\n",
       "      <td>19.767561</td>\n",
       "      <td>1028.078293</td>\n",
       "    </tr>\n",
       "    <tr>\n",
       "      <th>20</th>\n",
       "      <td>H.Bình Chánh</td>\n",
       "      <td>10.687392</td>\n",
       "      <td>106.593854</td>\n",
       "      <td>41.598611</td>\n",
       "      <td>9.255417</td>\n",
       "      <td>436.355417</td>\n",
       "    </tr>\n",
       "    <tr>\n",
       "      <th>21</th>\n",
       "      <td>H.Nhà Bè</td>\n",
       "      <td>10.695264</td>\n",
       "      <td>106.704874</td>\n",
       "      <td>50.968889</td>\n",
       "      <td>17.600222</td>\n",
       "      <td>610.882000</td>\n",
       "    </tr>\n",
       "    <tr>\n",
       "      <th>1</th>\n",
       "      <td>Q.12</td>\n",
       "      <td>10.867153</td>\n",
       "      <td>106.641332</td>\n",
       "      <td>54.976271</td>\n",
       "      <td>17.662542</td>\n",
       "      <td>537.363898</td>\n",
       "    </tr>\n",
       "    <tr>\n",
       "      <th>17</th>\n",
       "      <td>Q.Bình Tân</td>\n",
       "      <td>10.765258</td>\n",
       "      <td>106.603853</td>\n",
       "      <td>70.383158</td>\n",
       "      <td>19.745368</td>\n",
       "      <td>379.626421</td>\n",
       "    </tr>\n",
       "    <tr>\n",
       "      <th>3</th>\n",
       "      <td>Q.9</td>\n",
       "      <td>10.842840</td>\n",
       "      <td>106.828685</td>\n",
       "      <td>75.809195</td>\n",
       "      <td>22.521724</td>\n",
       "      <td>399.020230</td>\n",
       "    </tr>\n",
       "    <tr>\n",
       "      <th>2</th>\n",
       "      <td>Q.Thủ Đức</td>\n",
       "      <td>10.849409</td>\n",
       "      <td>106.753705</td>\n",
       "      <td>86.382609</td>\n",
       "      <td>34.828261</td>\n",
       "      <td>746.165652</td>\n",
       "    </tr>\n",
       "    <tr>\n",
       "      <th>16</th>\n",
       "      <td>Q.8</td>\n",
       "      <td>10.724088</td>\n",
       "      <td>106.628626</td>\n",
       "      <td>89.153153</td>\n",
       "      <td>4.804414</td>\n",
       "      <td>63.654595</td>\n",
       "    </tr>\n",
       "    <tr>\n",
       "      <th>7</th>\n",
       "      <td>Q.Tân Phú</td>\n",
       "      <td>11.427531</td>\n",
       "      <td>107.361230</td>\n",
       "      <td>104.450000</td>\n",
       "      <td>15.745000</td>\n",
       "      <td>126.303676</td>\n",
       "    </tr>\n",
       "    <tr>\n",
       "      <th>9</th>\n",
       "      <td>Q.2</td>\n",
       "      <td>10.787273</td>\n",
       "      <td>106.749810</td>\n",
       "      <td>112.038384</td>\n",
       "      <td>31.544949</td>\n",
       "      <td>275.280707</td>\n",
       "    </tr>\n",
       "    <tr>\n",
       "      <th>18</th>\n",
       "      <td>Q.7</td>\n",
       "      <td>10.734034</td>\n",
       "      <td>106.721579</td>\n",
       "      <td>112.588750</td>\n",
       "      <td>17.368000</td>\n",
       "      <td>135.868625</td>\n",
       "    </tr>\n",
       "    <tr>\n",
       "      <th>4</th>\n",
       "      <td>Q.Gò Vấp</td>\n",
       "      <td>10.838678</td>\n",
       "      <td>106.665290</td>\n",
       "      <td>119.669737</td>\n",
       "      <td>22.903553</td>\n",
       "      <td>183.726711</td>\n",
       "    </tr>\n",
       "    <tr>\n",
       "      <th>13</th>\n",
       "      <td>Q.4</td>\n",
       "      <td>10.757826</td>\n",
       "      <td>106.701297</td>\n",
       "      <td>138.765625</td>\n",
       "      <td>14.372500</td>\n",
       "      <td>87.093125</td>\n",
       "    </tr>\n",
       "    <tr>\n",
       "      <th>5</th>\n",
       "      <td>Q.Bình Thạnh</td>\n",
       "      <td>10.810583</td>\n",
       "      <td>106.709142</td>\n",
       "      <td>157.645263</td>\n",
       "      <td>23.064000</td>\n",
       "      <td>146.908526</td>\n",
       "    </tr>\n",
       "    <tr>\n",
       "      <th>15</th>\n",
       "      <td>Q.6</td>\n",
       "      <td>10.748093</td>\n",
       "      <td>106.635236</td>\n",
       "      <td>172.580519</td>\n",
       "      <td>21.214026</td>\n",
       "      <td>133.328052</td>\n",
       "    </tr>\n",
       "    <tr>\n",
       "      <th>6</th>\n",
       "      <td>Q.Tân Bình</td>\n",
       "      <td>10.801466</td>\n",
       "      <td>106.652597</td>\n",
       "      <td>197.588095</td>\n",
       "      <td>36.938095</td>\n",
       "      <td>187.035952</td>\n",
       "    </tr>\n",
       "    <tr>\n",
       "      <th>8</th>\n",
       "      <td>Q.Phú Nhuận</td>\n",
       "      <td>10.799194</td>\n",
       "      <td>106.680264</td>\n",
       "      <td>202.193506</td>\n",
       "      <td>23.095455</td>\n",
       "      <td>114.614805</td>\n",
       "    </tr>\n",
       "    <tr>\n",
       "      <th>12</th>\n",
       "      <td>Q.11</td>\n",
       "      <td>10.762974</td>\n",
       "      <td>106.650084</td>\n",
       "      <td>220.495652</td>\n",
       "      <td>32.246957</td>\n",
       "      <td>160.503913</td>\n",
       "    </tr>\n",
       "    <tr>\n",
       "      <th>14</th>\n",
       "      <td>Q.5</td>\n",
       "      <td>10.754028</td>\n",
       "      <td>106.663375</td>\n",
       "      <td>282.666000</td>\n",
       "      <td>21.650600</td>\n",
       "      <td>68.420000</td>\n",
       "    </tr>\n",
       "    <tr>\n",
       "      <th>10</th>\n",
       "      <td>Q.3</td>\n",
       "      <td>10.784370</td>\n",
       "      <td>106.684409</td>\n",
       "      <td>305.747059</td>\n",
       "      <td>28.567647</td>\n",
       "      <td>87.840588</td>\n",
       "    </tr>\n",
       "    <tr>\n",
       "      <th>11</th>\n",
       "      <td>Q.10</td>\n",
       "      <td>10.774596</td>\n",
       "      <td>106.667954</td>\n",
       "      <td>312.587755</td>\n",
       "      <td>31.804898</td>\n",
       "      <td>110.704898</td>\n",
       "    </tr>\n",
       "    <tr>\n",
       "      <th>0</th>\n",
       "      <td>Q.1</td>\n",
       "      <td>10.775659</td>\n",
       "      <td>106.700424</td>\n",
       "      <td>463.007407</td>\n",
       "      <td>39.552778</td>\n",
       "      <td>80.786111</td>\n",
       "    </tr>\n",
       "  </tbody>\n",
       "</table>\n",
       "</div>"
      ],
      "text/plain": [
       "            Quận   Latitude   Longitude  Đơn giá gộp        Giá  Diện tích đất\n",
       "19     H.Hóc Môn  10.883968  106.587061    36.473171  19.767561    1028.078293\n",
       "20  H.Bình Chánh  10.687392  106.593854    41.598611   9.255417     436.355417\n",
       "21      H.Nhà Bè  10.695264  106.704874    50.968889  17.600222     610.882000\n",
       "1           Q.12  10.867153  106.641332    54.976271  17.662542     537.363898\n",
       "17    Q.Bình Tân  10.765258  106.603853    70.383158  19.745368     379.626421\n",
       "3            Q.9  10.842840  106.828685    75.809195  22.521724     399.020230\n",
       "2      Q.Thủ Đức  10.849409  106.753705    86.382609  34.828261     746.165652\n",
       "16           Q.8  10.724088  106.628626    89.153153   4.804414      63.654595\n",
       "7      Q.Tân Phú  11.427531  107.361230   104.450000  15.745000     126.303676\n",
       "9            Q.2  10.787273  106.749810   112.038384  31.544949     275.280707\n",
       "18           Q.7  10.734034  106.721579   112.588750  17.368000     135.868625\n",
       "4       Q.Gò Vấp  10.838678  106.665290   119.669737  22.903553     183.726711\n",
       "13           Q.4  10.757826  106.701297   138.765625  14.372500      87.093125\n",
       "5   Q.Bình Thạnh  10.810583  106.709142   157.645263  23.064000     146.908526\n",
       "15           Q.6  10.748093  106.635236   172.580519  21.214026     133.328052\n",
       "6     Q.Tân Bình  10.801466  106.652597   197.588095  36.938095     187.035952\n",
       "8    Q.Phú Nhuận  10.799194  106.680264   202.193506  23.095455     114.614805\n",
       "12          Q.11  10.762974  106.650084   220.495652  32.246957     160.503913\n",
       "14           Q.5  10.754028  106.663375   282.666000  21.650600      68.420000\n",
       "10           Q.3  10.784370  106.684409   305.747059  28.567647      87.840588\n",
       "11          Q.10  10.774596  106.667954   312.587755  31.804898     110.704898\n",
       "0            Q.1  10.775659  106.700424   463.007407  39.552778      80.786111"
      ]
     },
     "execution_count": 10,
     "metadata": {},
     "output_type": "execute_result"
    }
   ],
   "source": [
    "hcm = pd.merge(hcmc_location, price_district, on = 'Quận').sort_values(by='Đơn giá gộp')\n",
    "hcm\n",
    "    "
   ]
  },
  {
   "cell_type": "code",
   "execution_count": 11,
   "metadata": {},
   "outputs": [],
   "source": [
    "import folium\n",
    "import branca"
   ]
  },
  {
   "cell_type": "code",
   "execution_count": 12,
   "metadata": {},
   "outputs": [],
   "source": [
    "def fancy_html(row):\n",
    "    i = row\n",
    "    district = hcm['Quận'].iloc[i]                             \n",
    "    price_unit = round(hcm['Đơn giá gộp'].iloc[i],2)  # đơn giá gộp trung bình (triệu/m2)\n",
    "    price = round(hcm['Giá'].iloc[i],2)  # giá: (tỷ/ căn)  \n",
    "    area =  round(hcm['Diện tích đất'].iloc[i], 2)                                                    \n",
    "                           \n",
    "    \n",
    "    \n",
    "    left_col_colour = \"#2A799C\"\n",
    "    right_col_colour = \"#C5DCE7\"\n",
    "    \n",
    "    html = \"\"\"<!DOCTYPE html>\n",
    "<html>\n",
    "\n",
    "    <table style=\"height: 100px; width: 300px;\">\n",
    "<tbody>\n",
    "<tr>\n",
    "<td style=\"background-color: \"\"\"+ left_col_colour +\"\"\";\"><span style=\"color: #ffffff;\">Quận</span></td>\n",
    "<td style=\"width: 200px;background-color: \"\"\"+ right_col_colour +\"\"\";\">{}</td>\"\"\".format(district) + \"\"\"\n",
    "</tr>\n",
    "<tr>\n",
    "<td style=\"background-color: \"\"\"+ left_col_colour +\"\"\";\"><span style=\"color: #ffffff;\">Đơn giá gộp trung bình cho 1 m² </span></td>\n",
    "<td style=\"width: 200px;background-color: \"\"\"+ right_col_colour +\"\"\";\">{} triệu/m²</td>\"\"\".format(price_unit) + \"\"\"\n",
    "</tr>\n",
    "<tr>\n",
    "<td style=\"background-color: \"\"\"+ left_col_colour +\"\"\";\"><span style=\"color: #ffffff;\">Giá trung bình 1 căn </span></td>\n",
    "<td style=\"width: 200px;background-color: \"\"\"+ right_col_colour +\"\"\";\">{} tỷ/căn</td>\"\"\".format(price) + \"\"\"\n",
    "</tr>\n",
    "<td style=\"background-color: \"\"\"+ left_col_colour +\"\"\";\"><span style=\"color: #ffffff;\">Diện tích đất </span></td>\n",
    "<td style=\"width: 200px;background-color: \"\"\"+ right_col_colour +\"\"\";\">{} m²</td>\"\"\".format(area) + \"\"\"\n",
    "</tr>\n",
    "</tbody>\n",
    "</table>\n",
    "</html>\n",
    "\"\"\"\n",
    "    return html"
   ]
  },
  {
   "cell_type": "code",
   "execution_count": 13,
   "metadata": {},
   "outputs": [
    {
     "data": {
      "text/html": [
       "<div style=\"width:100%;\"><div style=\"position:relative;width:100%;height:0;padding-bottom:60%;\"><span style=\"color:#565656\">Make this Notebook Trusted to load map: File -> Trust Notebook</span><iframe srcdoc=\"&lt;!DOCTYPE html&gt;\n",
       "&lt;html&gt;\n",
       "&lt;head&gt;\n",
       "    \n",
       "    &lt;meta http-equiv=&quot;content-type&quot; content=&quot;text/html; charset=UTF-8&quot; /&gt;\n",
       "    \n",
       "        &lt;script&gt;\n",
       "            L_NO_TOUCH = false;\n",
       "            L_DISABLE_3D = false;\n",
       "        &lt;/script&gt;\n",
       "    \n",
       "    &lt;style&gt;html, body {width: 100%;height: 100%;margin: 0;padding: 0;}&lt;/style&gt;\n",
       "    &lt;style&gt;#map {position:absolute;top:0;bottom:0;right:0;left:0;}&lt;/style&gt;\n",
       "    &lt;script src=&quot;https://cdn.jsdelivr.net/npm/leaflet@1.6.0/dist/leaflet.js&quot;&gt;&lt;/script&gt;\n",
       "    &lt;script src=&quot;https://code.jquery.com/jquery-1.12.4.min.js&quot;&gt;&lt;/script&gt;\n",
       "    &lt;script src=&quot;https://maxcdn.bootstrapcdn.com/bootstrap/3.2.0/js/bootstrap.min.js&quot;&gt;&lt;/script&gt;\n",
       "    &lt;script src=&quot;https://cdnjs.cloudflare.com/ajax/libs/Leaflet.awesome-markers/2.0.2/leaflet.awesome-markers.js&quot;&gt;&lt;/script&gt;\n",
       "    &lt;link rel=&quot;stylesheet&quot; href=&quot;https://cdn.jsdelivr.net/npm/leaflet@1.6.0/dist/leaflet.css&quot;/&gt;\n",
       "    &lt;link rel=&quot;stylesheet&quot; href=&quot;https://maxcdn.bootstrapcdn.com/bootstrap/3.2.0/css/bootstrap.min.css&quot;/&gt;\n",
       "    &lt;link rel=&quot;stylesheet&quot; href=&quot;https://maxcdn.bootstrapcdn.com/bootstrap/3.2.0/css/bootstrap-theme.min.css&quot;/&gt;\n",
       "    &lt;link rel=&quot;stylesheet&quot; href=&quot;https://maxcdn.bootstrapcdn.com/font-awesome/4.6.3/css/font-awesome.min.css&quot;/&gt;\n",
       "    &lt;link rel=&quot;stylesheet&quot; href=&quot;https://cdnjs.cloudflare.com/ajax/libs/Leaflet.awesome-markers/2.0.2/leaflet.awesome-markers.css&quot;/&gt;\n",
       "    &lt;link rel=&quot;stylesheet&quot; href=&quot;https://cdn.jsdelivr.net/gh/python-visualization/folium/folium/templates/leaflet.awesome.rotate.min.css&quot;/&gt;\n",
       "    \n",
       "            &lt;meta name=&quot;viewport&quot; content=&quot;width=device-width,\n",
       "                initial-scale=1.0, maximum-scale=1.0, user-scalable=no&quot; /&gt;\n",
       "            &lt;style&gt;\n",
       "                #map_7cd75769a322dd05108049beaba5abc9 {\n",
       "                    position: relative;\n",
       "                    width: 100.0%;\n",
       "                    height: 100.0%;\n",
       "                    left: 0.0%;\n",
       "                    top: 0.0%;\n",
       "                }\n",
       "            &lt;/style&gt;\n",
       "        \n",
       "&lt;/head&gt;\n",
       "&lt;body&gt;\n",
       "    \n",
       "    \n",
       "            &lt;div class=&quot;folium-map&quot; id=&quot;map_7cd75769a322dd05108049beaba5abc9&quot; &gt;&lt;/div&gt;\n",
       "        \n",
       "&lt;/body&gt;\n",
       "&lt;script&gt;\n",
       "    \n",
       "    \n",
       "            var map_7cd75769a322dd05108049beaba5abc9 = L.map(\n",
       "                &quot;map_7cd75769a322dd05108049beaba5abc9&quot;,\n",
       "                {\n",
       "                    center: [10.762622, 106.660172],\n",
       "                    crs: L.CRS.EPSG3857,\n",
       "                    zoom: 11.5,\n",
       "                    zoomControl: true,\n",
       "                    preferCanvas: false,\n",
       "                }\n",
       "            );\n",
       "\n",
       "            \n",
       "\n",
       "        \n",
       "    \n",
       "            var tile_layer_7954155e711f3d39369ebb1a2be34d34 = L.tileLayer(\n",
       "                &quot;https://{s}.tile.openstreetmap.org/{z}/{x}/{y}.png&quot;,\n",
       "                {&quot;attribution&quot;: &quot;Data by \\u0026copy; \\u003ca href=\\&quot;http://openstreetmap.org\\&quot;\\u003eOpenStreetMap\\u003c/a\\u003e, under \\u003ca href=\\&quot;http://www.openstreetmap.org/copyright\\&quot;\\u003eODbL\\u003c/a\\u003e.&quot;, &quot;detectRetina&quot;: false, &quot;maxNativeZoom&quot;: 18, &quot;maxZoom&quot;: 18, &quot;minZoom&quot;: 0, &quot;noWrap&quot;: false, &quot;opacity&quot;: 1, &quot;subdomains&quot;: &quot;abc&quot;, &quot;tms&quot;: false}\n",
       "            ).addTo(map_7cd75769a322dd05108049beaba5abc9);\n",
       "        \n",
       "    \n",
       "            var marker_4dbc46a5fbe07bc4fedba4ba7cb737f3 = L.marker(\n",
       "                [10.8839675, 106.5870611],\n",
       "                {}\n",
       "            ).addTo(map_7cd75769a322dd05108049beaba5abc9);\n",
       "        \n",
       "    \n",
       "            var icon_164cdba96cb4dba921500064782d228c = L.AwesomeMarkers.icon(\n",
       "                {&quot;extraClasses&quot;: &quot;fa-rotate-0&quot;, &quot;icon&quot;: &quot;info-sign&quot;, &quot;iconColor&quot;: &quot;white&quot;, &quot;markerColor&quot;: &quot;green&quot;, &quot;prefix&quot;: &quot;glyphicon&quot;}\n",
       "            );\n",
       "            marker_4dbc46a5fbe07bc4fedba4ba7cb737f3.setIcon(icon_164cdba96cb4dba921500064782d228c);\n",
       "        \n",
       "    \n",
       "        var popup_b75a303de0e95a32332fee00027b35fa = L.popup({&quot;maxWidth&quot;: &quot;100%&quot;});\n",
       "\n",
       "        \n",
       "            \n",
       "                var i_frame_d6cf6107c183f89da143af9fda90edb2 = $(`&lt;iframe src=&quot;data:text/html;charset=utf-8;base64,CiAgICA8IURPQ1RZUEUgaHRtbD4KPGh0bWw+CgogICAgPHRhYmxlIHN0eWxlPSJoZWlnaHQ6IDEwMHB4OyB3aWR0aDogMzAwcHg7Ij4KPHRib2R5Pgo8dHI+Cjx0ZCBzdHlsZT0iYmFja2dyb3VuZC1jb2xvcjogIzJBNzk5QzsiPjxzcGFuIHN0eWxlPSJjb2xvcjogI2ZmZmZmZjsiPlF14bqtbjwvc3Bhbj48L3RkPgo8dGQgc3R5bGU9IndpZHRoOiAyMDBweDtiYWNrZ3JvdW5kLWNvbG9yOiAjQzVEQ0U3OyI+SC5Iw7NjIE3DtG48L3RkPgo8L3RyPgo8dHI+Cjx0ZCBzdHlsZT0iYmFja2dyb3VuZC1jb2xvcjogIzJBNzk5QzsiPjxzcGFuIHN0eWxlPSJjb2xvcjogI2ZmZmZmZjsiPsSQxqFuIGdpw6EgZ+G7mXAgdHJ1bmcgYsOsbmggY2hvIDEgbcKyIDwvc3Bhbj48L3RkPgo8dGQgc3R5bGU9IndpZHRoOiAyMDBweDtiYWNrZ3JvdW5kLWNvbG9yOiAjQzVEQ0U3OyI+MzYuNDcgdHJp4buHdS9twrI8L3RkPgo8L3RyPgo8dHI+Cjx0ZCBzdHlsZT0iYmFja2dyb3VuZC1jb2xvcjogIzJBNzk5QzsiPjxzcGFuIHN0eWxlPSJjb2xvcjogI2ZmZmZmZjsiPkdpw6EgdHJ1bmcgYsOsbmggMSBjxINuIDwvc3Bhbj48L3RkPgo8dGQgc3R5bGU9IndpZHRoOiAyMDBweDtiYWNrZ3JvdW5kLWNvbG9yOiAjQzVEQ0U3OyI+MTkuNzcgdOG7ty9jxINuPC90ZD4KPC90cj4KPHRkIHN0eWxlPSJiYWNrZ3JvdW5kLWNvbG9yOiAjMkE3OTlDOyI+PHNwYW4gc3R5bGU9ImNvbG9yOiAjZmZmZmZmOyI+RGnhu4duIHTDrWNoIMSR4bqldCA8L3NwYW4+PC90ZD4KPHRkIHN0eWxlPSJ3aWR0aDogMjAwcHg7YmFja2dyb3VuZC1jb2xvcjogI0M1RENFNzsiPjEwMjguMDggbcKyPC90ZD4KPC90cj4KPC90Ym9keT4KPC90YWJsZT4KPC9odG1sPg==&quot; width=&quot;300&quot; style=&quot;border:none !important;&quot; height=&quot;300&quot;&gt;&lt;/iframe&gt;`)[0];\n",
       "                popup_b75a303de0e95a32332fee00027b35fa.setContent(i_frame_d6cf6107c183f89da143af9fda90edb2);\n",
       "            \n",
       "        \n",
       "\n",
       "        marker_4dbc46a5fbe07bc4fedba4ba7cb737f3.bindPopup(popup_b75a303de0e95a32332fee00027b35fa)\n",
       "        ;\n",
       "\n",
       "        \n",
       "    \n",
       "    \n",
       "            var marker_8f4b83ffa126b9ff2ddd606176261591 = L.marker(\n",
       "                [10.687392, 106.5938538],\n",
       "                {}\n",
       "            ).addTo(map_7cd75769a322dd05108049beaba5abc9);\n",
       "        \n",
       "    \n",
       "            var icon_b532899fbce914b8ca5842ade5495ef1 = L.AwesomeMarkers.icon(\n",
       "                {&quot;extraClasses&quot;: &quot;fa-rotate-0&quot;, &quot;icon&quot;: &quot;info-sign&quot;, &quot;iconColor&quot;: &quot;white&quot;, &quot;markerColor&quot;: &quot;green&quot;, &quot;prefix&quot;: &quot;glyphicon&quot;}\n",
       "            );\n",
       "            marker_8f4b83ffa126b9ff2ddd606176261591.setIcon(icon_b532899fbce914b8ca5842ade5495ef1);\n",
       "        \n",
       "    \n",
       "        var popup_98f7c236cea586a7e857ce38f41cf915 = L.popup({&quot;maxWidth&quot;: &quot;100%&quot;});\n",
       "\n",
       "        \n",
       "            \n",
       "                var i_frame_8e4fe97b961fbb63ff03a9cd0e145b61 = $(`&lt;iframe src=&quot;data:text/html;charset=utf-8;base64,CiAgICA8IURPQ1RZUEUgaHRtbD4KPGh0bWw+CgogICAgPHRhYmxlIHN0eWxlPSJoZWlnaHQ6IDEwMHB4OyB3aWR0aDogMzAwcHg7Ij4KPHRib2R5Pgo8dHI+Cjx0ZCBzdHlsZT0iYmFja2dyb3VuZC1jb2xvcjogIzJBNzk5QzsiPjxzcGFuIHN0eWxlPSJjb2xvcjogI2ZmZmZmZjsiPlF14bqtbjwvc3Bhbj48L3RkPgo8dGQgc3R5bGU9IndpZHRoOiAyMDBweDtiYWNrZ3JvdW5kLWNvbG9yOiAjQzVEQ0U3OyI+SC5Cw6xuaCBDaMOhbmg8L3RkPgo8L3RyPgo8dHI+Cjx0ZCBzdHlsZT0iYmFja2dyb3VuZC1jb2xvcjogIzJBNzk5QzsiPjxzcGFuIHN0eWxlPSJjb2xvcjogI2ZmZmZmZjsiPsSQxqFuIGdpw6EgZ+G7mXAgdHJ1bmcgYsOsbmggY2hvIDEgbcKyIDwvc3Bhbj48L3RkPgo8dGQgc3R5bGU9IndpZHRoOiAyMDBweDtiYWNrZ3JvdW5kLWNvbG9yOiAjQzVEQ0U3OyI+NDEuNiB0cmnhu4d1L23CsjwvdGQ+CjwvdHI+Cjx0cj4KPHRkIHN0eWxlPSJiYWNrZ3JvdW5kLWNvbG9yOiAjMkE3OTlDOyI+PHNwYW4gc3R5bGU9ImNvbG9yOiAjZmZmZmZmOyI+R2nDoSB0cnVuZyBiw6xuaCAxIGPEg24gPC9zcGFuPjwvdGQ+Cjx0ZCBzdHlsZT0id2lkdGg6IDIwMHB4O2JhY2tncm91bmQtY29sb3I6ICNDNURDRTc7Ij45LjI2IHThu7cvY8SDbjwvdGQ+CjwvdHI+Cjx0ZCBzdHlsZT0iYmFja2dyb3VuZC1jb2xvcjogIzJBNzk5QzsiPjxzcGFuIHN0eWxlPSJjb2xvcjogI2ZmZmZmZjsiPkRp4buHbiB0w61jaCDEkeG6pXQgPC9zcGFuPjwvdGQ+Cjx0ZCBzdHlsZT0id2lkdGg6IDIwMHB4O2JhY2tncm91bmQtY29sb3I6ICNDNURDRTc7Ij40MzYuMzYgbcKyPC90ZD4KPC90cj4KPC90Ym9keT4KPC90YWJsZT4KPC9odG1sPg==&quot; width=&quot;300&quot; style=&quot;border:none !important;&quot; height=&quot;300&quot;&gt;&lt;/iframe&gt;`)[0];\n",
       "                popup_98f7c236cea586a7e857ce38f41cf915.setContent(i_frame_8e4fe97b961fbb63ff03a9cd0e145b61);\n",
       "            \n",
       "        \n",
       "\n",
       "        marker_8f4b83ffa126b9ff2ddd606176261591.bindPopup(popup_98f7c236cea586a7e857ce38f41cf915)\n",
       "        ;\n",
       "\n",
       "        \n",
       "    \n",
       "    \n",
       "            var marker_3f1015d51d1ac932b9bc7ac33ab4c347 = L.marker(\n",
       "                [10.6952642, 106.704874],\n",
       "                {}\n",
       "            ).addTo(map_7cd75769a322dd05108049beaba5abc9);\n",
       "        \n",
       "    \n",
       "            var icon_f3491dc4c2086b204b22ea7d289d017f = L.AwesomeMarkers.icon(\n",
       "                {&quot;extraClasses&quot;: &quot;fa-rotate-0&quot;, &quot;icon&quot;: &quot;info-sign&quot;, &quot;iconColor&quot;: &quot;white&quot;, &quot;markerColor&quot;: &quot;green&quot;, &quot;prefix&quot;: &quot;glyphicon&quot;}\n",
       "            );\n",
       "            marker_3f1015d51d1ac932b9bc7ac33ab4c347.setIcon(icon_f3491dc4c2086b204b22ea7d289d017f);\n",
       "        \n",
       "    \n",
       "        var popup_ddde323c955d07c0892702a0050c6b19 = L.popup({&quot;maxWidth&quot;: &quot;100%&quot;});\n",
       "\n",
       "        \n",
       "            \n",
       "                var i_frame_0791b05e917aef13eda7849e9df5240e = $(`&lt;iframe src=&quot;data:text/html;charset=utf-8;base64,CiAgICA8IURPQ1RZUEUgaHRtbD4KPGh0bWw+CgogICAgPHRhYmxlIHN0eWxlPSJoZWlnaHQ6IDEwMHB4OyB3aWR0aDogMzAwcHg7Ij4KPHRib2R5Pgo8dHI+Cjx0ZCBzdHlsZT0iYmFja2dyb3VuZC1jb2xvcjogIzJBNzk5QzsiPjxzcGFuIHN0eWxlPSJjb2xvcjogI2ZmZmZmZjsiPlF14bqtbjwvc3Bhbj48L3RkPgo8dGQgc3R5bGU9IndpZHRoOiAyMDBweDtiYWNrZ3JvdW5kLWNvbG9yOiAjQzVEQ0U3OyI+SC5OaMOgIELDqDwvdGQ+CjwvdHI+Cjx0cj4KPHRkIHN0eWxlPSJiYWNrZ3JvdW5kLWNvbG9yOiAjMkE3OTlDOyI+PHNwYW4gc3R5bGU9ImNvbG9yOiAjZmZmZmZmOyI+xJDGoW4gZ2nDoSBn4buZcCB0cnVuZyBiw6xuaCBjaG8gMSBtwrIgPC9zcGFuPjwvdGQ+Cjx0ZCBzdHlsZT0id2lkdGg6IDIwMHB4O2JhY2tncm91bmQtY29sb3I6ICNDNURDRTc7Ij41MC45NyB0cmnhu4d1L23CsjwvdGQ+CjwvdHI+Cjx0cj4KPHRkIHN0eWxlPSJiYWNrZ3JvdW5kLWNvbG9yOiAjMkE3OTlDOyI+PHNwYW4gc3R5bGU9ImNvbG9yOiAjZmZmZmZmOyI+R2nDoSB0cnVuZyBiw6xuaCAxIGPEg24gPC9zcGFuPjwvdGQ+Cjx0ZCBzdHlsZT0id2lkdGg6IDIwMHB4O2JhY2tncm91bmQtY29sb3I6ICNDNURDRTc7Ij4xNy42IHThu7cvY8SDbjwvdGQ+CjwvdHI+Cjx0ZCBzdHlsZT0iYmFja2dyb3VuZC1jb2xvcjogIzJBNzk5QzsiPjxzcGFuIHN0eWxlPSJjb2xvcjogI2ZmZmZmZjsiPkRp4buHbiB0w61jaCDEkeG6pXQgPC9zcGFuPjwvdGQ+Cjx0ZCBzdHlsZT0id2lkdGg6IDIwMHB4O2JhY2tncm91bmQtY29sb3I6ICNDNURDRTc7Ij42MTAuODggbcKyPC90ZD4KPC90cj4KPC90Ym9keT4KPC90YWJsZT4KPC9odG1sPg==&quot; width=&quot;300&quot; style=&quot;border:none !important;&quot; height=&quot;300&quot;&gt;&lt;/iframe&gt;`)[0];\n",
       "                popup_ddde323c955d07c0892702a0050c6b19.setContent(i_frame_0791b05e917aef13eda7849e9df5240e);\n",
       "            \n",
       "        \n",
       "\n",
       "        marker_3f1015d51d1ac932b9bc7ac33ab4c347.bindPopup(popup_ddde323c955d07c0892702a0050c6b19)\n",
       "        ;\n",
       "\n",
       "        \n",
       "    \n",
       "    \n",
       "            var marker_96af5682e9d433997d22c46a5cf07356 = L.marker(\n",
       "                [10.8671531, 106.6413322],\n",
       "                {}\n",
       "            ).addTo(map_7cd75769a322dd05108049beaba5abc9);\n",
       "        \n",
       "    \n",
       "            var icon_752ba625a7c886a18c4e5b3c16ed8cea = L.AwesomeMarkers.icon(\n",
       "                {&quot;extraClasses&quot;: &quot;fa-rotate-0&quot;, &quot;icon&quot;: &quot;info-sign&quot;, &quot;iconColor&quot;: &quot;white&quot;, &quot;markerColor&quot;: &quot;green&quot;, &quot;prefix&quot;: &quot;glyphicon&quot;}\n",
       "            );\n",
       "            marker_96af5682e9d433997d22c46a5cf07356.setIcon(icon_752ba625a7c886a18c4e5b3c16ed8cea);\n",
       "        \n",
       "    \n",
       "        var popup_3aa711d46ce3cc8546bf287ce2d7328e = L.popup({&quot;maxWidth&quot;: &quot;100%&quot;});\n",
       "\n",
       "        \n",
       "            \n",
       "                var i_frame_e044e795c7c147a07815246cb3935f58 = $(`&lt;iframe src=&quot;data:text/html;charset=utf-8;base64,CiAgICA8IURPQ1RZUEUgaHRtbD4KPGh0bWw+CgogICAgPHRhYmxlIHN0eWxlPSJoZWlnaHQ6IDEwMHB4OyB3aWR0aDogMzAwcHg7Ij4KPHRib2R5Pgo8dHI+Cjx0ZCBzdHlsZT0iYmFja2dyb3VuZC1jb2xvcjogIzJBNzk5QzsiPjxzcGFuIHN0eWxlPSJjb2xvcjogI2ZmZmZmZjsiPlF14bqtbjwvc3Bhbj48L3RkPgo8dGQgc3R5bGU9IndpZHRoOiAyMDBweDtiYWNrZ3JvdW5kLWNvbG9yOiAjQzVEQ0U3OyI+US4xMjwvdGQ+CjwvdHI+Cjx0cj4KPHRkIHN0eWxlPSJiYWNrZ3JvdW5kLWNvbG9yOiAjMkE3OTlDOyI+PHNwYW4gc3R5bGU9ImNvbG9yOiAjZmZmZmZmOyI+xJDGoW4gZ2nDoSBn4buZcCB0cnVuZyBiw6xuaCBjaG8gMSBtwrIgPC9zcGFuPjwvdGQ+Cjx0ZCBzdHlsZT0id2lkdGg6IDIwMHB4O2JhY2tncm91bmQtY29sb3I6ICNDNURDRTc7Ij41NC45OCB0cmnhu4d1L23CsjwvdGQ+CjwvdHI+Cjx0cj4KPHRkIHN0eWxlPSJiYWNrZ3JvdW5kLWNvbG9yOiAjMkE3OTlDOyI+PHNwYW4gc3R5bGU9ImNvbG9yOiAjZmZmZmZmOyI+R2nDoSB0cnVuZyBiw6xuaCAxIGPEg24gPC9zcGFuPjwvdGQ+Cjx0ZCBzdHlsZT0id2lkdGg6IDIwMHB4O2JhY2tncm91bmQtY29sb3I6ICNDNURDRTc7Ij4xNy42NiB04bu3L2PEg248L3RkPgo8L3RyPgo8dGQgc3R5bGU9ImJhY2tncm91bmQtY29sb3I6ICMyQTc5OUM7Ij48c3BhbiBzdHlsZT0iY29sb3I6ICNmZmZmZmY7Ij5EaeG7h24gdMOtY2ggxJHhuqV0IDwvc3Bhbj48L3RkPgo8dGQgc3R5bGU9IndpZHRoOiAyMDBweDtiYWNrZ3JvdW5kLWNvbG9yOiAjQzVEQ0U3OyI+NTM3LjM2IG3CsjwvdGQ+CjwvdHI+CjwvdGJvZHk+CjwvdGFibGU+CjwvaHRtbD4=&quot; width=&quot;300&quot; style=&quot;border:none !important;&quot; height=&quot;300&quot;&gt;&lt;/iframe&gt;`)[0];\n",
       "                popup_3aa711d46ce3cc8546bf287ce2d7328e.setContent(i_frame_e044e795c7c147a07815246cb3935f58);\n",
       "            \n",
       "        \n",
       "\n",
       "        marker_96af5682e9d433997d22c46a5cf07356.bindPopup(popup_3aa711d46ce3cc8546bf287ce2d7328e)\n",
       "        ;\n",
       "\n",
       "        \n",
       "    \n",
       "    \n",
       "            var marker_7d99c328e81bd38661177b88b790997a = L.marker(\n",
       "                [10.7652581, 106.6038535],\n",
       "                {}\n",
       "            ).addTo(map_7cd75769a322dd05108049beaba5abc9);\n",
       "        \n",
       "    \n",
       "            var icon_26fdea223699b447ac9c711b48cd5d0f = L.AwesomeMarkers.icon(\n",
       "                {&quot;extraClasses&quot;: &quot;fa-rotate-0&quot;, &quot;icon&quot;: &quot;info-sign&quot;, &quot;iconColor&quot;: &quot;white&quot;, &quot;markerColor&quot;: &quot;green&quot;, &quot;prefix&quot;: &quot;glyphicon&quot;}\n",
       "            );\n",
       "            marker_7d99c328e81bd38661177b88b790997a.setIcon(icon_26fdea223699b447ac9c711b48cd5d0f);\n",
       "        \n",
       "    \n",
       "        var popup_b94d1d3a0716505fe07effcf5f73265a = L.popup({&quot;maxWidth&quot;: &quot;100%&quot;});\n",
       "\n",
       "        \n",
       "            \n",
       "                var i_frame_01d7a1e3d8d79f93bdbfea4261c8d745 = $(`&lt;iframe src=&quot;data:text/html;charset=utf-8;base64,CiAgICA8IURPQ1RZUEUgaHRtbD4KPGh0bWw+CgogICAgPHRhYmxlIHN0eWxlPSJoZWlnaHQ6IDEwMHB4OyB3aWR0aDogMzAwcHg7Ij4KPHRib2R5Pgo8dHI+Cjx0ZCBzdHlsZT0iYmFja2dyb3VuZC1jb2xvcjogIzJBNzk5QzsiPjxzcGFuIHN0eWxlPSJjb2xvcjogI2ZmZmZmZjsiPlF14bqtbjwvc3Bhbj48L3RkPgo8dGQgc3R5bGU9IndpZHRoOiAyMDBweDtiYWNrZ3JvdW5kLWNvbG9yOiAjQzVEQ0U3OyI+US5Cw6xuaCBUw6JuPC90ZD4KPC90cj4KPHRyPgo8dGQgc3R5bGU9ImJhY2tncm91bmQtY29sb3I6ICMyQTc5OUM7Ij48c3BhbiBzdHlsZT0iY29sb3I6ICNmZmZmZmY7Ij7EkMahbiBnacOhIGfhu5lwIHRydW5nIGLDrG5oIGNobyAxIG3CsiA8L3NwYW4+PC90ZD4KPHRkIHN0eWxlPSJ3aWR0aDogMjAwcHg7YmFja2dyb3VuZC1jb2xvcjogI0M1RENFNzsiPjcwLjM4IHRyaeG7h3UvbcKyPC90ZD4KPC90cj4KPHRyPgo8dGQgc3R5bGU9ImJhY2tncm91bmQtY29sb3I6ICMyQTc5OUM7Ij48c3BhbiBzdHlsZT0iY29sb3I6ICNmZmZmZmY7Ij5HacOhIHRydW5nIGLDrG5oIDEgY8SDbiA8L3NwYW4+PC90ZD4KPHRkIHN0eWxlPSJ3aWR0aDogMjAwcHg7YmFja2dyb3VuZC1jb2xvcjogI0M1RENFNzsiPjE5Ljc1IHThu7cvY8SDbjwvdGQ+CjwvdHI+Cjx0ZCBzdHlsZT0iYmFja2dyb3VuZC1jb2xvcjogIzJBNzk5QzsiPjxzcGFuIHN0eWxlPSJjb2xvcjogI2ZmZmZmZjsiPkRp4buHbiB0w61jaCDEkeG6pXQgPC9zcGFuPjwvdGQ+Cjx0ZCBzdHlsZT0id2lkdGg6IDIwMHB4O2JhY2tncm91bmQtY29sb3I6ICNDNURDRTc7Ij4zNzkuNjMgbcKyPC90ZD4KPC90cj4KPC90Ym9keT4KPC90YWJsZT4KPC9odG1sPg==&quot; width=&quot;300&quot; style=&quot;border:none !important;&quot; height=&quot;300&quot;&gt;&lt;/iframe&gt;`)[0];\n",
       "                popup_b94d1d3a0716505fe07effcf5f73265a.setContent(i_frame_01d7a1e3d8d79f93bdbfea4261c8d745);\n",
       "            \n",
       "        \n",
       "\n",
       "        marker_7d99c328e81bd38661177b88b790997a.bindPopup(popup_b94d1d3a0716505fe07effcf5f73265a)\n",
       "        ;\n",
       "\n",
       "        \n",
       "    \n",
       "    \n",
       "            var marker_80701849161819ca47027543ff39d9d9 = L.marker(\n",
       "                [10.8428402, 106.8286851],\n",
       "                {}\n",
       "            ).addTo(map_7cd75769a322dd05108049beaba5abc9);\n",
       "        \n",
       "    \n",
       "            var icon_9f42f65772074d75e5124d606529eab3 = L.AwesomeMarkers.icon(\n",
       "                {&quot;extraClasses&quot;: &quot;fa-rotate-0&quot;, &quot;icon&quot;: &quot;info-sign&quot;, &quot;iconColor&quot;: &quot;white&quot;, &quot;markerColor&quot;: &quot;green&quot;, &quot;prefix&quot;: &quot;glyphicon&quot;}\n",
       "            );\n",
       "            marker_80701849161819ca47027543ff39d9d9.setIcon(icon_9f42f65772074d75e5124d606529eab3);\n",
       "        \n",
       "    \n",
       "        var popup_b0e4b7217cade229f4ae4cbb9a90ec27 = L.popup({&quot;maxWidth&quot;: &quot;100%&quot;});\n",
       "\n",
       "        \n",
       "            \n",
       "                var i_frame_35b00449cb8e7cec4145a9236118822c = $(`&lt;iframe src=&quot;data:text/html;charset=utf-8;base64,CiAgICA8IURPQ1RZUEUgaHRtbD4KPGh0bWw+CgogICAgPHRhYmxlIHN0eWxlPSJoZWlnaHQ6IDEwMHB4OyB3aWR0aDogMzAwcHg7Ij4KPHRib2R5Pgo8dHI+Cjx0ZCBzdHlsZT0iYmFja2dyb3VuZC1jb2xvcjogIzJBNzk5QzsiPjxzcGFuIHN0eWxlPSJjb2xvcjogI2ZmZmZmZjsiPlF14bqtbjwvc3Bhbj48L3RkPgo8dGQgc3R5bGU9IndpZHRoOiAyMDBweDtiYWNrZ3JvdW5kLWNvbG9yOiAjQzVEQ0U3OyI+US45PC90ZD4KPC90cj4KPHRyPgo8dGQgc3R5bGU9ImJhY2tncm91bmQtY29sb3I6ICMyQTc5OUM7Ij48c3BhbiBzdHlsZT0iY29sb3I6ICNmZmZmZmY7Ij7EkMahbiBnacOhIGfhu5lwIHRydW5nIGLDrG5oIGNobyAxIG3CsiA8L3NwYW4+PC90ZD4KPHRkIHN0eWxlPSJ3aWR0aDogMjAwcHg7YmFja2dyb3VuZC1jb2xvcjogI0M1RENFNzsiPjc1LjgxIHRyaeG7h3UvbcKyPC90ZD4KPC90cj4KPHRyPgo8dGQgc3R5bGU9ImJhY2tncm91bmQtY29sb3I6ICMyQTc5OUM7Ij48c3BhbiBzdHlsZT0iY29sb3I6ICNmZmZmZmY7Ij5HacOhIHRydW5nIGLDrG5oIDEgY8SDbiA8L3NwYW4+PC90ZD4KPHRkIHN0eWxlPSJ3aWR0aDogMjAwcHg7YmFja2dyb3VuZC1jb2xvcjogI0M1RENFNzsiPjIyLjUyIHThu7cvY8SDbjwvdGQ+CjwvdHI+Cjx0ZCBzdHlsZT0iYmFja2dyb3VuZC1jb2xvcjogIzJBNzk5QzsiPjxzcGFuIHN0eWxlPSJjb2xvcjogI2ZmZmZmZjsiPkRp4buHbiB0w61jaCDEkeG6pXQgPC9zcGFuPjwvdGQ+Cjx0ZCBzdHlsZT0id2lkdGg6IDIwMHB4O2JhY2tncm91bmQtY29sb3I6ICNDNURDRTc7Ij4zOTkuMDIgbcKyPC90ZD4KPC90cj4KPC90Ym9keT4KPC90YWJsZT4KPC9odG1sPg==&quot; width=&quot;300&quot; style=&quot;border:none !important;&quot; height=&quot;300&quot;&gt;&lt;/iframe&gt;`)[0];\n",
       "                popup_b0e4b7217cade229f4ae4cbb9a90ec27.setContent(i_frame_35b00449cb8e7cec4145a9236118822c);\n",
       "            \n",
       "        \n",
       "\n",
       "        marker_80701849161819ca47027543ff39d9d9.bindPopup(popup_b0e4b7217cade229f4ae4cbb9a90ec27)\n",
       "        ;\n",
       "\n",
       "        \n",
       "    \n",
       "    \n",
       "            var marker_a60641b75ffd46f9401d5143d0b09425 = L.marker(\n",
       "                [10.8494094, 106.7537055],\n",
       "                {}\n",
       "            ).addTo(map_7cd75769a322dd05108049beaba5abc9);\n",
       "        \n",
       "    \n",
       "            var icon_3f42452b94f6b8a6f4139dd2e53acad0 = L.AwesomeMarkers.icon(\n",
       "                {&quot;extraClasses&quot;: &quot;fa-rotate-0&quot;, &quot;icon&quot;: &quot;info-sign&quot;, &quot;iconColor&quot;: &quot;white&quot;, &quot;markerColor&quot;: &quot;green&quot;, &quot;prefix&quot;: &quot;glyphicon&quot;}\n",
       "            );\n",
       "            marker_a60641b75ffd46f9401d5143d0b09425.setIcon(icon_3f42452b94f6b8a6f4139dd2e53acad0);\n",
       "        \n",
       "    \n",
       "        var popup_4b56835be6f4617293d5951d5a2a0396 = L.popup({&quot;maxWidth&quot;: &quot;100%&quot;});\n",
       "\n",
       "        \n",
       "            \n",
       "                var i_frame_42612ec814437215fda62563921724f4 = $(`&lt;iframe src=&quot;data:text/html;charset=utf-8;base64,CiAgICA8IURPQ1RZUEUgaHRtbD4KPGh0bWw+CgogICAgPHRhYmxlIHN0eWxlPSJoZWlnaHQ6IDEwMHB4OyB3aWR0aDogMzAwcHg7Ij4KPHRib2R5Pgo8dHI+Cjx0ZCBzdHlsZT0iYmFja2dyb3VuZC1jb2xvcjogIzJBNzk5QzsiPjxzcGFuIHN0eWxlPSJjb2xvcjogI2ZmZmZmZjsiPlF14bqtbjwvc3Bhbj48L3RkPgo8dGQgc3R5bGU9IndpZHRoOiAyMDBweDtiYWNrZ3JvdW5kLWNvbG9yOiAjQzVEQ0U3OyI+US5UaOG7pyDEkOG7qWM8L3RkPgo8L3RyPgo8dHI+Cjx0ZCBzdHlsZT0iYmFja2dyb3VuZC1jb2xvcjogIzJBNzk5QzsiPjxzcGFuIHN0eWxlPSJjb2xvcjogI2ZmZmZmZjsiPsSQxqFuIGdpw6EgZ+G7mXAgdHJ1bmcgYsOsbmggY2hvIDEgbcKyIDwvc3Bhbj48L3RkPgo8dGQgc3R5bGU9IndpZHRoOiAyMDBweDtiYWNrZ3JvdW5kLWNvbG9yOiAjQzVEQ0U3OyI+ODYuMzggdHJp4buHdS9twrI8L3RkPgo8L3RyPgo8dHI+Cjx0ZCBzdHlsZT0iYmFja2dyb3VuZC1jb2xvcjogIzJBNzk5QzsiPjxzcGFuIHN0eWxlPSJjb2xvcjogI2ZmZmZmZjsiPkdpw6EgdHJ1bmcgYsOsbmggMSBjxINuIDwvc3Bhbj48L3RkPgo8dGQgc3R5bGU9IndpZHRoOiAyMDBweDtiYWNrZ3JvdW5kLWNvbG9yOiAjQzVEQ0U3OyI+MzQuODMgdOG7ty9jxINuPC90ZD4KPC90cj4KPHRkIHN0eWxlPSJiYWNrZ3JvdW5kLWNvbG9yOiAjMkE3OTlDOyI+PHNwYW4gc3R5bGU9ImNvbG9yOiAjZmZmZmZmOyI+RGnhu4duIHTDrWNoIMSR4bqldCA8L3NwYW4+PC90ZD4KPHRkIHN0eWxlPSJ3aWR0aDogMjAwcHg7YmFja2dyb3VuZC1jb2xvcjogI0M1RENFNzsiPjc0Ni4xNyBtwrI8L3RkPgo8L3RyPgo8L3Rib2R5Pgo8L3RhYmxlPgo8L2h0bWw+&quot; width=&quot;300&quot; style=&quot;border:none !important;&quot; height=&quot;300&quot;&gt;&lt;/iframe&gt;`)[0];\n",
       "                popup_4b56835be6f4617293d5951d5a2a0396.setContent(i_frame_42612ec814437215fda62563921724f4);\n",
       "            \n",
       "        \n",
       "\n",
       "        marker_a60641b75ffd46f9401d5143d0b09425.bindPopup(popup_4b56835be6f4617293d5951d5a2a0396)\n",
       "        ;\n",
       "\n",
       "        \n",
       "    \n",
       "    \n",
       "            var marker_824e9b145ea153dd2d3e5db200d77d2e = L.marker(\n",
       "                [10.7240878, 106.6286259],\n",
       "                {}\n",
       "            ).addTo(map_7cd75769a322dd05108049beaba5abc9);\n",
       "        \n",
       "    \n",
       "            var icon_9b077c7e2c1b8c9bd83602d3e51aea78 = L.AwesomeMarkers.icon(\n",
       "                {&quot;extraClasses&quot;: &quot;fa-rotate-0&quot;, &quot;icon&quot;: &quot;info-sign&quot;, &quot;iconColor&quot;: &quot;white&quot;, &quot;markerColor&quot;: &quot;green&quot;, &quot;prefix&quot;: &quot;glyphicon&quot;}\n",
       "            );\n",
       "            marker_824e9b145ea153dd2d3e5db200d77d2e.setIcon(icon_9b077c7e2c1b8c9bd83602d3e51aea78);\n",
       "        \n",
       "    \n",
       "        var popup_7678c89f7393b9f3f7c762661ff13cdc = L.popup({&quot;maxWidth&quot;: &quot;100%&quot;});\n",
       "\n",
       "        \n",
       "            \n",
       "                var i_frame_396760f6ffdb07db3595931421451baf = $(`&lt;iframe src=&quot;data:text/html;charset=utf-8;base64,CiAgICA8IURPQ1RZUEUgaHRtbD4KPGh0bWw+CgogICAgPHRhYmxlIHN0eWxlPSJoZWlnaHQ6IDEwMHB4OyB3aWR0aDogMzAwcHg7Ij4KPHRib2R5Pgo8dHI+Cjx0ZCBzdHlsZT0iYmFja2dyb3VuZC1jb2xvcjogIzJBNzk5QzsiPjxzcGFuIHN0eWxlPSJjb2xvcjogI2ZmZmZmZjsiPlF14bqtbjwvc3Bhbj48L3RkPgo8dGQgc3R5bGU9IndpZHRoOiAyMDBweDtiYWNrZ3JvdW5kLWNvbG9yOiAjQzVEQ0U3OyI+US44PC90ZD4KPC90cj4KPHRyPgo8dGQgc3R5bGU9ImJhY2tncm91bmQtY29sb3I6ICMyQTc5OUM7Ij48c3BhbiBzdHlsZT0iY29sb3I6ICNmZmZmZmY7Ij7EkMahbiBnacOhIGfhu5lwIHRydW5nIGLDrG5oIGNobyAxIG3CsiA8L3NwYW4+PC90ZD4KPHRkIHN0eWxlPSJ3aWR0aDogMjAwcHg7YmFja2dyb3VuZC1jb2xvcjogI0M1RENFNzsiPjg5LjE1IHRyaeG7h3UvbcKyPC90ZD4KPC90cj4KPHRyPgo8dGQgc3R5bGU9ImJhY2tncm91bmQtY29sb3I6ICMyQTc5OUM7Ij48c3BhbiBzdHlsZT0iY29sb3I6ICNmZmZmZmY7Ij5HacOhIHRydW5nIGLDrG5oIDEgY8SDbiA8L3NwYW4+PC90ZD4KPHRkIHN0eWxlPSJ3aWR0aDogMjAwcHg7YmFja2dyb3VuZC1jb2xvcjogI0M1RENFNzsiPjQuOCB04bu3L2PEg248L3RkPgo8L3RyPgo8dGQgc3R5bGU9ImJhY2tncm91bmQtY29sb3I6ICMyQTc5OUM7Ij48c3BhbiBzdHlsZT0iY29sb3I6ICNmZmZmZmY7Ij5EaeG7h24gdMOtY2ggxJHhuqV0IDwvc3Bhbj48L3RkPgo8dGQgc3R5bGU9IndpZHRoOiAyMDBweDtiYWNrZ3JvdW5kLWNvbG9yOiAjQzVEQ0U3OyI+NjMuNjUgbcKyPC90ZD4KPC90cj4KPC90Ym9keT4KPC90YWJsZT4KPC9odG1sPg==&quot; width=&quot;300&quot; style=&quot;border:none !important;&quot; height=&quot;300&quot;&gt;&lt;/iframe&gt;`)[0];\n",
       "                popup_7678c89f7393b9f3f7c762661ff13cdc.setContent(i_frame_396760f6ffdb07db3595931421451baf);\n",
       "            \n",
       "        \n",
       "\n",
       "        marker_824e9b145ea153dd2d3e5db200d77d2e.bindPopup(popup_7678c89f7393b9f3f7c762661ff13cdc)\n",
       "        ;\n",
       "\n",
       "        \n",
       "    \n",
       "    \n",
       "            var marker_0f8d568b372a631969ec0f9fa68c22bb = L.marker(\n",
       "                [11.4275308, 107.36123],\n",
       "                {}\n",
       "            ).addTo(map_7cd75769a322dd05108049beaba5abc9);\n",
       "        \n",
       "    \n",
       "            var icon_2773b6a6ed06ef5728cb6d26920694f0 = L.AwesomeMarkers.icon(\n",
       "                {&quot;extraClasses&quot;: &quot;fa-rotate-0&quot;, &quot;icon&quot;: &quot;info-sign&quot;, &quot;iconColor&quot;: &quot;white&quot;, &quot;markerColor&quot;: &quot;blue&quot;, &quot;prefix&quot;: &quot;glyphicon&quot;}\n",
       "            );\n",
       "            marker_0f8d568b372a631969ec0f9fa68c22bb.setIcon(icon_2773b6a6ed06ef5728cb6d26920694f0);\n",
       "        \n",
       "    \n",
       "        var popup_e25007762826d0dc3d15b52842eed0d3 = L.popup({&quot;maxWidth&quot;: &quot;100%&quot;});\n",
       "\n",
       "        \n",
       "            \n",
       "                var i_frame_3c4f62a671417728b061274e2d17761c = $(`&lt;iframe src=&quot;data:text/html;charset=utf-8;base64,CiAgICA8IURPQ1RZUEUgaHRtbD4KPGh0bWw+CgogICAgPHRhYmxlIHN0eWxlPSJoZWlnaHQ6IDEwMHB4OyB3aWR0aDogMzAwcHg7Ij4KPHRib2R5Pgo8dHI+Cjx0ZCBzdHlsZT0iYmFja2dyb3VuZC1jb2xvcjogIzJBNzk5QzsiPjxzcGFuIHN0eWxlPSJjb2xvcjogI2ZmZmZmZjsiPlF14bqtbjwvc3Bhbj48L3RkPgo8dGQgc3R5bGU9IndpZHRoOiAyMDBweDtiYWNrZ3JvdW5kLWNvbG9yOiAjQzVEQ0U3OyI+US5Uw6JuIFBow7o8L3RkPgo8L3RyPgo8dHI+Cjx0ZCBzdHlsZT0iYmFja2dyb3VuZC1jb2xvcjogIzJBNzk5QzsiPjxzcGFuIHN0eWxlPSJjb2xvcjogI2ZmZmZmZjsiPsSQxqFuIGdpw6EgZ+G7mXAgdHJ1bmcgYsOsbmggY2hvIDEgbcKyIDwvc3Bhbj48L3RkPgo8dGQgc3R5bGU9IndpZHRoOiAyMDBweDtiYWNrZ3JvdW5kLWNvbG9yOiAjQzVEQ0U3OyI+MTA0LjQ1IHRyaeG7h3UvbcKyPC90ZD4KPC90cj4KPHRyPgo8dGQgc3R5bGU9ImJhY2tncm91bmQtY29sb3I6ICMyQTc5OUM7Ij48c3BhbiBzdHlsZT0iY29sb3I6ICNmZmZmZmY7Ij5HacOhIHRydW5nIGLDrG5oIDEgY8SDbiA8L3NwYW4+PC90ZD4KPHRkIHN0eWxlPSJ3aWR0aDogMjAwcHg7YmFja2dyb3VuZC1jb2xvcjogI0M1RENFNzsiPjE1Ljc0IHThu7cvY8SDbjwvdGQ+CjwvdHI+Cjx0ZCBzdHlsZT0iYmFja2dyb3VuZC1jb2xvcjogIzJBNzk5QzsiPjxzcGFuIHN0eWxlPSJjb2xvcjogI2ZmZmZmZjsiPkRp4buHbiB0w61jaCDEkeG6pXQgPC9zcGFuPjwvdGQ+Cjx0ZCBzdHlsZT0id2lkdGg6IDIwMHB4O2JhY2tncm91bmQtY29sb3I6ICNDNURDRTc7Ij4xMjYuMyBtwrI8L3RkPgo8L3RyPgo8L3Rib2R5Pgo8L3RhYmxlPgo8L2h0bWw+&quot; width=&quot;300&quot; style=&quot;border:none !important;&quot; height=&quot;300&quot;&gt;&lt;/iframe&gt;`)[0];\n",
       "                popup_e25007762826d0dc3d15b52842eed0d3.setContent(i_frame_3c4f62a671417728b061274e2d17761c);\n",
       "            \n",
       "        \n",
       "\n",
       "        marker_0f8d568b372a631969ec0f9fa68c22bb.bindPopup(popup_e25007762826d0dc3d15b52842eed0d3)\n",
       "        ;\n",
       "\n",
       "        \n",
       "    \n",
       "    \n",
       "            var marker_eee6ce6b5acbaa5b2d6dc6d53b37ce03 = L.marker(\n",
       "                [10.7872729, 106.7498105],\n",
       "                {}\n",
       "            ).addTo(map_7cd75769a322dd05108049beaba5abc9);\n",
       "        \n",
       "    \n",
       "            var icon_f456b6f9759274b6e624e1ea15401247 = L.AwesomeMarkers.icon(\n",
       "                {&quot;extraClasses&quot;: &quot;fa-rotate-0&quot;, &quot;icon&quot;: &quot;info-sign&quot;, &quot;iconColor&quot;: &quot;white&quot;, &quot;markerColor&quot;: &quot;blue&quot;, &quot;prefix&quot;: &quot;glyphicon&quot;}\n",
       "            );\n",
       "            marker_eee6ce6b5acbaa5b2d6dc6d53b37ce03.setIcon(icon_f456b6f9759274b6e624e1ea15401247);\n",
       "        \n",
       "    \n",
       "        var popup_d310fde3564c17fb37863edc4cdf74de = L.popup({&quot;maxWidth&quot;: &quot;100%&quot;});\n",
       "\n",
       "        \n",
       "            \n",
       "                var i_frame_0e286c785574753b83751bb0b87f6f47 = $(`&lt;iframe src=&quot;data:text/html;charset=utf-8;base64,CiAgICA8IURPQ1RZUEUgaHRtbD4KPGh0bWw+CgogICAgPHRhYmxlIHN0eWxlPSJoZWlnaHQ6IDEwMHB4OyB3aWR0aDogMzAwcHg7Ij4KPHRib2R5Pgo8dHI+Cjx0ZCBzdHlsZT0iYmFja2dyb3VuZC1jb2xvcjogIzJBNzk5QzsiPjxzcGFuIHN0eWxlPSJjb2xvcjogI2ZmZmZmZjsiPlF14bqtbjwvc3Bhbj48L3RkPgo8dGQgc3R5bGU9IndpZHRoOiAyMDBweDtiYWNrZ3JvdW5kLWNvbG9yOiAjQzVEQ0U3OyI+US4yPC90ZD4KPC90cj4KPHRyPgo8dGQgc3R5bGU9ImJhY2tncm91bmQtY29sb3I6ICMyQTc5OUM7Ij48c3BhbiBzdHlsZT0iY29sb3I6ICNmZmZmZmY7Ij7EkMahbiBnacOhIGfhu5lwIHRydW5nIGLDrG5oIGNobyAxIG3CsiA8L3NwYW4+PC90ZD4KPHRkIHN0eWxlPSJ3aWR0aDogMjAwcHg7YmFja2dyb3VuZC1jb2xvcjogI0M1RENFNzsiPjExMi4wNCB0cmnhu4d1L23CsjwvdGQ+CjwvdHI+Cjx0cj4KPHRkIHN0eWxlPSJiYWNrZ3JvdW5kLWNvbG9yOiAjMkE3OTlDOyI+PHNwYW4gc3R5bGU9ImNvbG9yOiAjZmZmZmZmOyI+R2nDoSB0cnVuZyBiw6xuaCAxIGPEg24gPC9zcGFuPjwvdGQ+Cjx0ZCBzdHlsZT0id2lkdGg6IDIwMHB4O2JhY2tncm91bmQtY29sb3I6ICNDNURDRTc7Ij4zMS41NCB04bu3L2PEg248L3RkPgo8L3RyPgo8dGQgc3R5bGU9ImJhY2tncm91bmQtY29sb3I6ICMyQTc5OUM7Ij48c3BhbiBzdHlsZT0iY29sb3I6ICNmZmZmZmY7Ij5EaeG7h24gdMOtY2ggxJHhuqV0IDwvc3Bhbj48L3RkPgo8dGQgc3R5bGU9IndpZHRoOiAyMDBweDtiYWNrZ3JvdW5kLWNvbG9yOiAjQzVEQ0U3OyI+Mjc1LjI4IG3CsjwvdGQ+CjwvdHI+CjwvdGJvZHk+CjwvdGFibGU+CjwvaHRtbD4=&quot; width=&quot;300&quot; style=&quot;border:none !important;&quot; height=&quot;300&quot;&gt;&lt;/iframe&gt;`)[0];\n",
       "                popup_d310fde3564c17fb37863edc4cdf74de.setContent(i_frame_0e286c785574753b83751bb0b87f6f47);\n",
       "            \n",
       "        \n",
       "\n",
       "        marker_eee6ce6b5acbaa5b2d6dc6d53b37ce03.bindPopup(popup_d310fde3564c17fb37863edc4cdf74de)\n",
       "        ;\n",
       "\n",
       "        \n",
       "    \n",
       "    \n",
       "            var marker_93fa26407fed72f2cff1d95f81eedf15 = L.marker(\n",
       "                [10.7340344, 106.7215787],\n",
       "                {}\n",
       "            ).addTo(map_7cd75769a322dd05108049beaba5abc9);\n",
       "        \n",
       "    \n",
       "            var icon_ae6fef07a4fdfd6ef1b2873ab0afd7a9 = L.AwesomeMarkers.icon(\n",
       "                {&quot;extraClasses&quot;: &quot;fa-rotate-0&quot;, &quot;icon&quot;: &quot;info-sign&quot;, &quot;iconColor&quot;: &quot;white&quot;, &quot;markerColor&quot;: &quot;blue&quot;, &quot;prefix&quot;: &quot;glyphicon&quot;}\n",
       "            );\n",
       "            marker_93fa26407fed72f2cff1d95f81eedf15.setIcon(icon_ae6fef07a4fdfd6ef1b2873ab0afd7a9);\n",
       "        \n",
       "    \n",
       "        var popup_e57cbdc50e53284f9de292b415175023 = L.popup({&quot;maxWidth&quot;: &quot;100%&quot;});\n",
       "\n",
       "        \n",
       "            \n",
       "                var i_frame_af97478ba2c9b91d4090c719467ba175 = $(`&lt;iframe src=&quot;data:text/html;charset=utf-8;base64,CiAgICA8IURPQ1RZUEUgaHRtbD4KPGh0bWw+CgogICAgPHRhYmxlIHN0eWxlPSJoZWlnaHQ6IDEwMHB4OyB3aWR0aDogMzAwcHg7Ij4KPHRib2R5Pgo8dHI+Cjx0ZCBzdHlsZT0iYmFja2dyb3VuZC1jb2xvcjogIzJBNzk5QzsiPjxzcGFuIHN0eWxlPSJjb2xvcjogI2ZmZmZmZjsiPlF14bqtbjwvc3Bhbj48L3RkPgo8dGQgc3R5bGU9IndpZHRoOiAyMDBweDtiYWNrZ3JvdW5kLWNvbG9yOiAjQzVEQ0U3OyI+US43PC90ZD4KPC90cj4KPHRyPgo8dGQgc3R5bGU9ImJhY2tncm91bmQtY29sb3I6ICMyQTc5OUM7Ij48c3BhbiBzdHlsZT0iY29sb3I6ICNmZmZmZmY7Ij7EkMahbiBnacOhIGfhu5lwIHRydW5nIGLDrG5oIGNobyAxIG3CsiA8L3NwYW4+PC90ZD4KPHRkIHN0eWxlPSJ3aWR0aDogMjAwcHg7YmFja2dyb3VuZC1jb2xvcjogI0M1RENFNzsiPjExMi41OSB0cmnhu4d1L23CsjwvdGQ+CjwvdHI+Cjx0cj4KPHRkIHN0eWxlPSJiYWNrZ3JvdW5kLWNvbG9yOiAjMkE3OTlDOyI+PHNwYW4gc3R5bGU9ImNvbG9yOiAjZmZmZmZmOyI+R2nDoSB0cnVuZyBiw6xuaCAxIGPEg24gPC9zcGFuPjwvdGQ+Cjx0ZCBzdHlsZT0id2lkdGg6IDIwMHB4O2JhY2tncm91bmQtY29sb3I6ICNDNURDRTc7Ij4xNy4zNyB04bu3L2PEg248L3RkPgo8L3RyPgo8dGQgc3R5bGU9ImJhY2tncm91bmQtY29sb3I6ICMyQTc5OUM7Ij48c3BhbiBzdHlsZT0iY29sb3I6ICNmZmZmZmY7Ij5EaeG7h24gdMOtY2ggxJHhuqV0IDwvc3Bhbj48L3RkPgo8dGQgc3R5bGU9IndpZHRoOiAyMDBweDtiYWNrZ3JvdW5kLWNvbG9yOiAjQzVEQ0U3OyI+MTM1Ljg3IG3CsjwvdGQ+CjwvdHI+CjwvdGJvZHk+CjwvdGFibGU+CjwvaHRtbD4=&quot; width=&quot;300&quot; style=&quot;border:none !important;&quot; height=&quot;300&quot;&gt;&lt;/iframe&gt;`)[0];\n",
       "                popup_e57cbdc50e53284f9de292b415175023.setContent(i_frame_af97478ba2c9b91d4090c719467ba175);\n",
       "            \n",
       "        \n",
       "\n",
       "        marker_93fa26407fed72f2cff1d95f81eedf15.bindPopup(popup_e57cbdc50e53284f9de292b415175023)\n",
       "        ;\n",
       "\n",
       "        \n",
       "    \n",
       "    \n",
       "            var marker_9487194e8d8737457fbedfd11fe4a03a = L.marker(\n",
       "                [10.8386779, 106.6652904],\n",
       "                {}\n",
       "            ).addTo(map_7cd75769a322dd05108049beaba5abc9);\n",
       "        \n",
       "    \n",
       "            var icon_b4e4207cd62a24b16dd4c25901aecfc9 = L.AwesomeMarkers.icon(\n",
       "                {&quot;extraClasses&quot;: &quot;fa-rotate-0&quot;, &quot;icon&quot;: &quot;info-sign&quot;, &quot;iconColor&quot;: &quot;white&quot;, &quot;markerColor&quot;: &quot;blue&quot;, &quot;prefix&quot;: &quot;glyphicon&quot;}\n",
       "            );\n",
       "            marker_9487194e8d8737457fbedfd11fe4a03a.setIcon(icon_b4e4207cd62a24b16dd4c25901aecfc9);\n",
       "        \n",
       "    \n",
       "        var popup_460f9a35cfceb560664923a83d66971f = L.popup({&quot;maxWidth&quot;: &quot;100%&quot;});\n",
       "\n",
       "        \n",
       "            \n",
       "                var i_frame_572eddecbb69a480f1f9c1112f7d0aac = $(`&lt;iframe src=&quot;data:text/html;charset=utf-8;base64,CiAgICA8IURPQ1RZUEUgaHRtbD4KPGh0bWw+CgogICAgPHRhYmxlIHN0eWxlPSJoZWlnaHQ6IDEwMHB4OyB3aWR0aDogMzAwcHg7Ij4KPHRib2R5Pgo8dHI+Cjx0ZCBzdHlsZT0iYmFja2dyb3VuZC1jb2xvcjogIzJBNzk5QzsiPjxzcGFuIHN0eWxlPSJjb2xvcjogI2ZmZmZmZjsiPlF14bqtbjwvc3Bhbj48L3RkPgo8dGQgc3R5bGU9IndpZHRoOiAyMDBweDtiYWNrZ3JvdW5kLWNvbG9yOiAjQzVEQ0U3OyI+US5Hw7IgVuG6pXA8L3RkPgo8L3RyPgo8dHI+Cjx0ZCBzdHlsZT0iYmFja2dyb3VuZC1jb2xvcjogIzJBNzk5QzsiPjxzcGFuIHN0eWxlPSJjb2xvcjogI2ZmZmZmZjsiPsSQxqFuIGdpw6EgZ+G7mXAgdHJ1bmcgYsOsbmggY2hvIDEgbcKyIDwvc3Bhbj48L3RkPgo8dGQgc3R5bGU9IndpZHRoOiAyMDBweDtiYWNrZ3JvdW5kLWNvbG9yOiAjQzVEQ0U3OyI+MTE5LjY3IHRyaeG7h3UvbcKyPC90ZD4KPC90cj4KPHRyPgo8dGQgc3R5bGU9ImJhY2tncm91bmQtY29sb3I6ICMyQTc5OUM7Ij48c3BhbiBzdHlsZT0iY29sb3I6ICNmZmZmZmY7Ij5HacOhIHRydW5nIGLDrG5oIDEgY8SDbiA8L3NwYW4+PC90ZD4KPHRkIHN0eWxlPSJ3aWR0aDogMjAwcHg7YmFja2dyb3VuZC1jb2xvcjogI0M1RENFNzsiPjIyLjkgdOG7ty9jxINuPC90ZD4KPC90cj4KPHRkIHN0eWxlPSJiYWNrZ3JvdW5kLWNvbG9yOiAjMkE3OTlDOyI+PHNwYW4gc3R5bGU9ImNvbG9yOiAjZmZmZmZmOyI+RGnhu4duIHTDrWNoIMSR4bqldCA8L3NwYW4+PC90ZD4KPHRkIHN0eWxlPSJ3aWR0aDogMjAwcHg7YmFja2dyb3VuZC1jb2xvcjogI0M1RENFNzsiPjE4My43MyBtwrI8L3RkPgo8L3RyPgo8L3Rib2R5Pgo8L3RhYmxlPgo8L2h0bWw+&quot; width=&quot;300&quot; style=&quot;border:none !important;&quot; height=&quot;300&quot;&gt;&lt;/iframe&gt;`)[0];\n",
       "                popup_460f9a35cfceb560664923a83d66971f.setContent(i_frame_572eddecbb69a480f1f9c1112f7d0aac);\n",
       "            \n",
       "        \n",
       "\n",
       "        marker_9487194e8d8737457fbedfd11fe4a03a.bindPopup(popup_460f9a35cfceb560664923a83d66971f)\n",
       "        ;\n",
       "\n",
       "        \n",
       "    \n",
       "    \n",
       "            var marker_7c157ec7e1d2abeed3a768f0c8c728a1 = L.marker(\n",
       "                [10.7578263, 106.7012968],\n",
       "                {}\n",
       "            ).addTo(map_7cd75769a322dd05108049beaba5abc9);\n",
       "        \n",
       "    \n",
       "            var icon_5288701afa73ce518a9eabe320627825 = L.AwesomeMarkers.icon(\n",
       "                {&quot;extraClasses&quot;: &quot;fa-rotate-0&quot;, &quot;icon&quot;: &quot;info-sign&quot;, &quot;iconColor&quot;: &quot;white&quot;, &quot;markerColor&quot;: &quot;blue&quot;, &quot;prefix&quot;: &quot;glyphicon&quot;}\n",
       "            );\n",
       "            marker_7c157ec7e1d2abeed3a768f0c8c728a1.setIcon(icon_5288701afa73ce518a9eabe320627825);\n",
       "        \n",
       "    \n",
       "        var popup_86cd1560da594c93bf0ce62639ff3781 = L.popup({&quot;maxWidth&quot;: &quot;100%&quot;});\n",
       "\n",
       "        \n",
       "            \n",
       "                var i_frame_00d9a82e71928d5195ddc2c6a6e5a70b = $(`&lt;iframe src=&quot;data:text/html;charset=utf-8;base64,CiAgICA8IURPQ1RZUEUgaHRtbD4KPGh0bWw+CgogICAgPHRhYmxlIHN0eWxlPSJoZWlnaHQ6IDEwMHB4OyB3aWR0aDogMzAwcHg7Ij4KPHRib2R5Pgo8dHI+Cjx0ZCBzdHlsZT0iYmFja2dyb3VuZC1jb2xvcjogIzJBNzk5QzsiPjxzcGFuIHN0eWxlPSJjb2xvcjogI2ZmZmZmZjsiPlF14bqtbjwvc3Bhbj48L3RkPgo8dGQgc3R5bGU9IndpZHRoOiAyMDBweDtiYWNrZ3JvdW5kLWNvbG9yOiAjQzVEQ0U3OyI+US40PC90ZD4KPC90cj4KPHRyPgo8dGQgc3R5bGU9ImJhY2tncm91bmQtY29sb3I6ICMyQTc5OUM7Ij48c3BhbiBzdHlsZT0iY29sb3I6ICNmZmZmZmY7Ij7EkMahbiBnacOhIGfhu5lwIHRydW5nIGLDrG5oIGNobyAxIG3CsiA8L3NwYW4+PC90ZD4KPHRkIHN0eWxlPSJ3aWR0aDogMjAwcHg7YmFja2dyb3VuZC1jb2xvcjogI0M1RENFNzsiPjEzOC43NyB0cmnhu4d1L23CsjwvdGQ+CjwvdHI+Cjx0cj4KPHRkIHN0eWxlPSJiYWNrZ3JvdW5kLWNvbG9yOiAjMkE3OTlDOyI+PHNwYW4gc3R5bGU9ImNvbG9yOiAjZmZmZmZmOyI+R2nDoSB0cnVuZyBiw6xuaCAxIGPEg24gPC9zcGFuPjwvdGQ+Cjx0ZCBzdHlsZT0id2lkdGg6IDIwMHB4O2JhY2tncm91bmQtY29sb3I6ICNDNURDRTc7Ij4xNC4zNyB04bu3L2PEg248L3RkPgo8L3RyPgo8dGQgc3R5bGU9ImJhY2tncm91bmQtY29sb3I6ICMyQTc5OUM7Ij48c3BhbiBzdHlsZT0iY29sb3I6ICNmZmZmZmY7Ij5EaeG7h24gdMOtY2ggxJHhuqV0IDwvc3Bhbj48L3RkPgo8dGQgc3R5bGU9IndpZHRoOiAyMDBweDtiYWNrZ3JvdW5kLWNvbG9yOiAjQzVEQ0U3OyI+ODcuMDkgbcKyPC90ZD4KPC90cj4KPC90Ym9keT4KPC90YWJsZT4KPC9odG1sPg==&quot; width=&quot;300&quot; style=&quot;border:none !important;&quot; height=&quot;300&quot;&gt;&lt;/iframe&gt;`)[0];\n",
       "                popup_86cd1560da594c93bf0ce62639ff3781.setContent(i_frame_00d9a82e71928d5195ddc2c6a6e5a70b);\n",
       "            \n",
       "        \n",
       "\n",
       "        marker_7c157ec7e1d2abeed3a768f0c8c728a1.bindPopup(popup_86cd1560da594c93bf0ce62639ff3781)\n",
       "        ;\n",
       "\n",
       "        \n",
       "    \n",
       "    \n",
       "            var marker_1cf909945c7be8cbae7842c3386f0a94 = L.marker(\n",
       "                [10.8105831, 106.7091422],\n",
       "                {}\n",
       "            ).addTo(map_7cd75769a322dd05108049beaba5abc9);\n",
       "        \n",
       "    \n",
       "            var icon_324f0183978bc27f3593f9218d9dd613 = L.AwesomeMarkers.icon(\n",
       "                {&quot;extraClasses&quot;: &quot;fa-rotate-0&quot;, &quot;icon&quot;: &quot;info-sign&quot;, &quot;iconColor&quot;: &quot;white&quot;, &quot;markerColor&quot;: &quot;blue&quot;, &quot;prefix&quot;: &quot;glyphicon&quot;}\n",
       "            );\n",
       "            marker_1cf909945c7be8cbae7842c3386f0a94.setIcon(icon_324f0183978bc27f3593f9218d9dd613);\n",
       "        \n",
       "    \n",
       "        var popup_5d92a84df86b654070f88c2f44bfc17e = L.popup({&quot;maxWidth&quot;: &quot;100%&quot;});\n",
       "\n",
       "        \n",
       "            \n",
       "                var i_frame_9be187d1c36406dc0e65114b645578c1 = $(`&lt;iframe src=&quot;data:text/html;charset=utf-8;base64,CiAgICA8IURPQ1RZUEUgaHRtbD4KPGh0bWw+CgogICAgPHRhYmxlIHN0eWxlPSJoZWlnaHQ6IDEwMHB4OyB3aWR0aDogMzAwcHg7Ij4KPHRib2R5Pgo8dHI+Cjx0ZCBzdHlsZT0iYmFja2dyb3VuZC1jb2xvcjogIzJBNzk5QzsiPjxzcGFuIHN0eWxlPSJjb2xvcjogI2ZmZmZmZjsiPlF14bqtbjwvc3Bhbj48L3RkPgo8dGQgc3R5bGU9IndpZHRoOiAyMDBweDtiYWNrZ3JvdW5kLWNvbG9yOiAjQzVEQ0U3OyI+US5Cw6xuaCBUaOG6oW5oPC90ZD4KPC90cj4KPHRyPgo8dGQgc3R5bGU9ImJhY2tncm91bmQtY29sb3I6ICMyQTc5OUM7Ij48c3BhbiBzdHlsZT0iY29sb3I6ICNmZmZmZmY7Ij7EkMahbiBnacOhIGfhu5lwIHRydW5nIGLDrG5oIGNobyAxIG3CsiA8L3NwYW4+PC90ZD4KPHRkIHN0eWxlPSJ3aWR0aDogMjAwcHg7YmFja2dyb3VuZC1jb2xvcjogI0M1RENFNzsiPjE1Ny42NSB0cmnhu4d1L23CsjwvdGQ+CjwvdHI+Cjx0cj4KPHRkIHN0eWxlPSJiYWNrZ3JvdW5kLWNvbG9yOiAjMkE3OTlDOyI+PHNwYW4gc3R5bGU9ImNvbG9yOiAjZmZmZmZmOyI+R2nDoSB0cnVuZyBiw6xuaCAxIGPEg24gPC9zcGFuPjwvdGQ+Cjx0ZCBzdHlsZT0id2lkdGg6IDIwMHB4O2JhY2tncm91bmQtY29sb3I6ICNDNURDRTc7Ij4yMy4wNiB04bu3L2PEg248L3RkPgo8L3RyPgo8dGQgc3R5bGU9ImJhY2tncm91bmQtY29sb3I6ICMyQTc5OUM7Ij48c3BhbiBzdHlsZT0iY29sb3I6ICNmZmZmZmY7Ij5EaeG7h24gdMOtY2ggxJHhuqV0IDwvc3Bhbj48L3RkPgo8dGQgc3R5bGU9IndpZHRoOiAyMDBweDtiYWNrZ3JvdW5kLWNvbG9yOiAjQzVEQ0U3OyI+MTQ2LjkxIG3CsjwvdGQ+CjwvdHI+CjwvdGJvZHk+CjwvdGFibGU+CjwvaHRtbD4=&quot; width=&quot;300&quot; style=&quot;border:none !important;&quot; height=&quot;300&quot;&gt;&lt;/iframe&gt;`)[0];\n",
       "                popup_5d92a84df86b654070f88c2f44bfc17e.setContent(i_frame_9be187d1c36406dc0e65114b645578c1);\n",
       "            \n",
       "        \n",
       "\n",
       "        marker_1cf909945c7be8cbae7842c3386f0a94.bindPopup(popup_5d92a84df86b654070f88c2f44bfc17e)\n",
       "        ;\n",
       "\n",
       "        \n",
       "    \n",
       "    \n",
       "            var marker_5f2e3eaad8b17520a3e422e4377100aa = L.marker(\n",
       "                [10.7480929, 106.6352362],\n",
       "                {}\n",
       "            ).addTo(map_7cd75769a322dd05108049beaba5abc9);\n",
       "        \n",
       "    \n",
       "            var icon_f875ed97213b96bfbc8a7823b9b2ca45 = L.AwesomeMarkers.icon(\n",
       "                {&quot;extraClasses&quot;: &quot;fa-rotate-0&quot;, &quot;icon&quot;: &quot;info-sign&quot;, &quot;iconColor&quot;: &quot;white&quot;, &quot;markerColor&quot;: &quot;blue&quot;, &quot;prefix&quot;: &quot;glyphicon&quot;}\n",
       "            );\n",
       "            marker_5f2e3eaad8b17520a3e422e4377100aa.setIcon(icon_f875ed97213b96bfbc8a7823b9b2ca45);\n",
       "        \n",
       "    \n",
       "        var popup_00c3e49953d44ae0e0fa1292a7d1d999 = L.popup({&quot;maxWidth&quot;: &quot;100%&quot;});\n",
       "\n",
       "        \n",
       "            \n",
       "                var i_frame_7ddee0ec76acd1e706c2b690b01722bb = $(`&lt;iframe src=&quot;data:text/html;charset=utf-8;base64,CiAgICA8IURPQ1RZUEUgaHRtbD4KPGh0bWw+CgogICAgPHRhYmxlIHN0eWxlPSJoZWlnaHQ6IDEwMHB4OyB3aWR0aDogMzAwcHg7Ij4KPHRib2R5Pgo8dHI+Cjx0ZCBzdHlsZT0iYmFja2dyb3VuZC1jb2xvcjogIzJBNzk5QzsiPjxzcGFuIHN0eWxlPSJjb2xvcjogI2ZmZmZmZjsiPlF14bqtbjwvc3Bhbj48L3RkPgo8dGQgc3R5bGU9IndpZHRoOiAyMDBweDtiYWNrZ3JvdW5kLWNvbG9yOiAjQzVEQ0U3OyI+US42PC90ZD4KPC90cj4KPHRyPgo8dGQgc3R5bGU9ImJhY2tncm91bmQtY29sb3I6ICMyQTc5OUM7Ij48c3BhbiBzdHlsZT0iY29sb3I6ICNmZmZmZmY7Ij7EkMahbiBnacOhIGfhu5lwIHRydW5nIGLDrG5oIGNobyAxIG3CsiA8L3NwYW4+PC90ZD4KPHRkIHN0eWxlPSJ3aWR0aDogMjAwcHg7YmFja2dyb3VuZC1jb2xvcjogI0M1RENFNzsiPjE3Mi41OCB0cmnhu4d1L23CsjwvdGQ+CjwvdHI+Cjx0cj4KPHRkIHN0eWxlPSJiYWNrZ3JvdW5kLWNvbG9yOiAjMkE3OTlDOyI+PHNwYW4gc3R5bGU9ImNvbG9yOiAjZmZmZmZmOyI+R2nDoSB0cnVuZyBiw6xuaCAxIGPEg24gPC9zcGFuPjwvdGQ+Cjx0ZCBzdHlsZT0id2lkdGg6IDIwMHB4O2JhY2tncm91bmQtY29sb3I6ICNDNURDRTc7Ij4yMS4yMSB04bu3L2PEg248L3RkPgo8L3RyPgo8dGQgc3R5bGU9ImJhY2tncm91bmQtY29sb3I6ICMyQTc5OUM7Ij48c3BhbiBzdHlsZT0iY29sb3I6ICNmZmZmZmY7Ij5EaeG7h24gdMOtY2ggxJHhuqV0IDwvc3Bhbj48L3RkPgo8dGQgc3R5bGU9IndpZHRoOiAyMDBweDtiYWNrZ3JvdW5kLWNvbG9yOiAjQzVEQ0U3OyI+MTMzLjMzIG3CsjwvdGQ+CjwvdHI+CjwvdGJvZHk+CjwvdGFibGU+CjwvaHRtbD4=&quot; width=&quot;300&quot; style=&quot;border:none !important;&quot; height=&quot;300&quot;&gt;&lt;/iframe&gt;`)[0];\n",
       "                popup_00c3e49953d44ae0e0fa1292a7d1d999.setContent(i_frame_7ddee0ec76acd1e706c2b690b01722bb);\n",
       "            \n",
       "        \n",
       "\n",
       "        marker_5f2e3eaad8b17520a3e422e4377100aa.bindPopup(popup_00c3e49953d44ae0e0fa1292a7d1d999)\n",
       "        ;\n",
       "\n",
       "        \n",
       "    \n",
       "    \n",
       "            var marker_ddc8897b1ed8303ff1448c0c5799b3af = L.marker(\n",
       "                [10.8014659, 106.6525974],\n",
       "                {}\n",
       "            ).addTo(map_7cd75769a322dd05108049beaba5abc9);\n",
       "        \n",
       "    \n",
       "            var icon_c159420ea8a0bd95fdf21eb57d74d61d = L.AwesomeMarkers.icon(\n",
       "                {&quot;extraClasses&quot;: &quot;fa-rotate-0&quot;, &quot;icon&quot;: &quot;info-sign&quot;, &quot;iconColor&quot;: &quot;white&quot;, &quot;markerColor&quot;: &quot;blue&quot;, &quot;prefix&quot;: &quot;glyphicon&quot;}\n",
       "            );\n",
       "            marker_ddc8897b1ed8303ff1448c0c5799b3af.setIcon(icon_c159420ea8a0bd95fdf21eb57d74d61d);\n",
       "        \n",
       "    \n",
       "        var popup_026ad352dabe534b1b8496620dfe271b = L.popup({&quot;maxWidth&quot;: &quot;100%&quot;});\n",
       "\n",
       "        \n",
       "            \n",
       "                var i_frame_961db43aabf689f7003e91eace1be6f2 = $(`&lt;iframe src=&quot;data:text/html;charset=utf-8;base64,CiAgICA8IURPQ1RZUEUgaHRtbD4KPGh0bWw+CgogICAgPHRhYmxlIHN0eWxlPSJoZWlnaHQ6IDEwMHB4OyB3aWR0aDogMzAwcHg7Ij4KPHRib2R5Pgo8dHI+Cjx0ZCBzdHlsZT0iYmFja2dyb3VuZC1jb2xvcjogIzJBNzk5QzsiPjxzcGFuIHN0eWxlPSJjb2xvcjogI2ZmZmZmZjsiPlF14bqtbjwvc3Bhbj48L3RkPgo8dGQgc3R5bGU9IndpZHRoOiAyMDBweDtiYWNrZ3JvdW5kLWNvbG9yOiAjQzVEQ0U3OyI+US5Uw6JuIELDrG5oPC90ZD4KPC90cj4KPHRyPgo8dGQgc3R5bGU9ImJhY2tncm91bmQtY29sb3I6ICMyQTc5OUM7Ij48c3BhbiBzdHlsZT0iY29sb3I6ICNmZmZmZmY7Ij7EkMahbiBnacOhIGfhu5lwIHRydW5nIGLDrG5oIGNobyAxIG3CsiA8L3NwYW4+PC90ZD4KPHRkIHN0eWxlPSJ3aWR0aDogMjAwcHg7YmFja2dyb3VuZC1jb2xvcjogI0M1RENFNzsiPjE5Ny41OSB0cmnhu4d1L23CsjwvdGQ+CjwvdHI+Cjx0cj4KPHRkIHN0eWxlPSJiYWNrZ3JvdW5kLWNvbG9yOiAjMkE3OTlDOyI+PHNwYW4gc3R5bGU9ImNvbG9yOiAjZmZmZmZmOyI+R2nDoSB0cnVuZyBiw6xuaCAxIGPEg24gPC9zcGFuPjwvdGQ+Cjx0ZCBzdHlsZT0id2lkdGg6IDIwMHB4O2JhY2tncm91bmQtY29sb3I6ICNDNURDRTc7Ij4zNi45NCB04bu3L2PEg248L3RkPgo8L3RyPgo8dGQgc3R5bGU9ImJhY2tncm91bmQtY29sb3I6ICMyQTc5OUM7Ij48c3BhbiBzdHlsZT0iY29sb3I6ICNmZmZmZmY7Ij5EaeG7h24gdMOtY2ggxJHhuqV0IDwvc3Bhbj48L3RkPgo8dGQgc3R5bGU9IndpZHRoOiAyMDBweDtiYWNrZ3JvdW5kLWNvbG9yOiAjQzVEQ0U3OyI+MTg3LjA0IG3CsjwvdGQ+CjwvdHI+CjwvdGJvZHk+CjwvdGFibGU+CjwvaHRtbD4=&quot; width=&quot;300&quot; style=&quot;border:none !important;&quot; height=&quot;300&quot;&gt;&lt;/iframe&gt;`)[0];\n",
       "                popup_026ad352dabe534b1b8496620dfe271b.setContent(i_frame_961db43aabf689f7003e91eace1be6f2);\n",
       "            \n",
       "        \n",
       "\n",
       "        marker_ddc8897b1ed8303ff1448c0c5799b3af.bindPopup(popup_026ad352dabe534b1b8496620dfe271b)\n",
       "        ;\n",
       "\n",
       "        \n",
       "    \n",
       "    \n",
       "            var marker_78947a78c696f003a2199ba63fa7e8c9 = L.marker(\n",
       "                [10.7991944, 106.6802639],\n",
       "                {}\n",
       "            ).addTo(map_7cd75769a322dd05108049beaba5abc9);\n",
       "        \n",
       "    \n",
       "            var icon_cac4b998dde0c07abf49fada08ec3e2a = L.AwesomeMarkers.icon(\n",
       "                {&quot;extraClasses&quot;: &quot;fa-rotate-0&quot;, &quot;icon&quot;: &quot;info-sign&quot;, &quot;iconColor&quot;: &quot;white&quot;, &quot;markerColor&quot;: &quot;red&quot;, &quot;prefix&quot;: &quot;glyphicon&quot;}\n",
       "            );\n",
       "            marker_78947a78c696f003a2199ba63fa7e8c9.setIcon(icon_cac4b998dde0c07abf49fada08ec3e2a);\n",
       "        \n",
       "    \n",
       "        var popup_4d37da82d519cc6c7188dd88c93d13c4 = L.popup({&quot;maxWidth&quot;: &quot;100%&quot;});\n",
       "\n",
       "        \n",
       "            \n",
       "                var i_frame_b93846d8999e9aadad606f7aa81849b8 = $(`&lt;iframe src=&quot;data:text/html;charset=utf-8;base64,CiAgICA8IURPQ1RZUEUgaHRtbD4KPGh0bWw+CgogICAgPHRhYmxlIHN0eWxlPSJoZWlnaHQ6IDEwMHB4OyB3aWR0aDogMzAwcHg7Ij4KPHRib2R5Pgo8dHI+Cjx0ZCBzdHlsZT0iYmFja2dyb3VuZC1jb2xvcjogIzJBNzk5QzsiPjxzcGFuIHN0eWxlPSJjb2xvcjogI2ZmZmZmZjsiPlF14bqtbjwvc3Bhbj48L3RkPgo8dGQgc3R5bGU9IndpZHRoOiAyMDBweDtiYWNrZ3JvdW5kLWNvbG9yOiAjQzVEQ0U3OyI+US5QaMO6IE5odeG6rW48L3RkPgo8L3RyPgo8dHI+Cjx0ZCBzdHlsZT0iYmFja2dyb3VuZC1jb2xvcjogIzJBNzk5QzsiPjxzcGFuIHN0eWxlPSJjb2xvcjogI2ZmZmZmZjsiPsSQxqFuIGdpw6EgZ+G7mXAgdHJ1bmcgYsOsbmggY2hvIDEgbcKyIDwvc3Bhbj48L3RkPgo8dGQgc3R5bGU9IndpZHRoOiAyMDBweDtiYWNrZ3JvdW5kLWNvbG9yOiAjQzVEQ0U3OyI+MjAyLjE5IHRyaeG7h3UvbcKyPC90ZD4KPC90cj4KPHRyPgo8dGQgc3R5bGU9ImJhY2tncm91bmQtY29sb3I6ICMyQTc5OUM7Ij48c3BhbiBzdHlsZT0iY29sb3I6ICNmZmZmZmY7Ij5HacOhIHRydW5nIGLDrG5oIDEgY8SDbiA8L3NwYW4+PC90ZD4KPHRkIHN0eWxlPSJ3aWR0aDogMjAwcHg7YmFja2dyb3VuZC1jb2xvcjogI0M1RENFNzsiPjIzLjEgdOG7ty9jxINuPC90ZD4KPC90cj4KPHRkIHN0eWxlPSJiYWNrZ3JvdW5kLWNvbG9yOiAjMkE3OTlDOyI+PHNwYW4gc3R5bGU9ImNvbG9yOiAjZmZmZmZmOyI+RGnhu4duIHTDrWNoIMSR4bqldCA8L3NwYW4+PC90ZD4KPHRkIHN0eWxlPSJ3aWR0aDogMjAwcHg7YmFja2dyb3VuZC1jb2xvcjogI0M1RENFNzsiPjExNC42MSBtwrI8L3RkPgo8L3RyPgo8L3Rib2R5Pgo8L3RhYmxlPgo8L2h0bWw+&quot; width=&quot;300&quot; style=&quot;border:none !important;&quot; height=&quot;300&quot;&gt;&lt;/iframe&gt;`)[0];\n",
       "                popup_4d37da82d519cc6c7188dd88c93d13c4.setContent(i_frame_b93846d8999e9aadad606f7aa81849b8);\n",
       "            \n",
       "        \n",
       "\n",
       "        marker_78947a78c696f003a2199ba63fa7e8c9.bindPopup(popup_4d37da82d519cc6c7188dd88c93d13c4)\n",
       "        ;\n",
       "\n",
       "        \n",
       "    \n",
       "    \n",
       "            var marker_28c2ccd8a754ead633be113fbb919abc = L.marker(\n",
       "                [10.7629739, 106.650084],\n",
       "                {}\n",
       "            ).addTo(map_7cd75769a322dd05108049beaba5abc9);\n",
       "        \n",
       "    \n",
       "            var icon_3c8c9782aa2631c50465fa450b76cd03 = L.AwesomeMarkers.icon(\n",
       "                {&quot;extraClasses&quot;: &quot;fa-rotate-0&quot;, &quot;icon&quot;: &quot;info-sign&quot;, &quot;iconColor&quot;: &quot;white&quot;, &quot;markerColor&quot;: &quot;red&quot;, &quot;prefix&quot;: &quot;glyphicon&quot;}\n",
       "            );\n",
       "            marker_28c2ccd8a754ead633be113fbb919abc.setIcon(icon_3c8c9782aa2631c50465fa450b76cd03);\n",
       "        \n",
       "    \n",
       "        var popup_d7d3bbc9515a8755429b87895408ca46 = L.popup({&quot;maxWidth&quot;: &quot;100%&quot;});\n",
       "\n",
       "        \n",
       "            \n",
       "                var i_frame_b281cd64123f312f981d2c20ed180fa2 = $(`&lt;iframe src=&quot;data:text/html;charset=utf-8;base64,CiAgICA8IURPQ1RZUEUgaHRtbD4KPGh0bWw+CgogICAgPHRhYmxlIHN0eWxlPSJoZWlnaHQ6IDEwMHB4OyB3aWR0aDogMzAwcHg7Ij4KPHRib2R5Pgo8dHI+Cjx0ZCBzdHlsZT0iYmFja2dyb3VuZC1jb2xvcjogIzJBNzk5QzsiPjxzcGFuIHN0eWxlPSJjb2xvcjogI2ZmZmZmZjsiPlF14bqtbjwvc3Bhbj48L3RkPgo8dGQgc3R5bGU9IndpZHRoOiAyMDBweDtiYWNrZ3JvdW5kLWNvbG9yOiAjQzVEQ0U3OyI+US4xMTwvdGQ+CjwvdHI+Cjx0cj4KPHRkIHN0eWxlPSJiYWNrZ3JvdW5kLWNvbG9yOiAjMkE3OTlDOyI+PHNwYW4gc3R5bGU9ImNvbG9yOiAjZmZmZmZmOyI+xJDGoW4gZ2nDoSBn4buZcCB0cnVuZyBiw6xuaCBjaG8gMSBtwrIgPC9zcGFuPjwvdGQ+Cjx0ZCBzdHlsZT0id2lkdGg6IDIwMHB4O2JhY2tncm91bmQtY29sb3I6ICNDNURDRTc7Ij4yMjAuNSB0cmnhu4d1L23CsjwvdGQ+CjwvdHI+Cjx0cj4KPHRkIHN0eWxlPSJiYWNrZ3JvdW5kLWNvbG9yOiAjMkE3OTlDOyI+PHNwYW4gc3R5bGU9ImNvbG9yOiAjZmZmZmZmOyI+R2nDoSB0cnVuZyBiw6xuaCAxIGPEg24gPC9zcGFuPjwvdGQ+Cjx0ZCBzdHlsZT0id2lkdGg6IDIwMHB4O2JhY2tncm91bmQtY29sb3I6ICNDNURDRTc7Ij4zMi4yNSB04bu3L2PEg248L3RkPgo8L3RyPgo8dGQgc3R5bGU9ImJhY2tncm91bmQtY29sb3I6ICMyQTc5OUM7Ij48c3BhbiBzdHlsZT0iY29sb3I6ICNmZmZmZmY7Ij5EaeG7h24gdMOtY2ggxJHhuqV0IDwvc3Bhbj48L3RkPgo8dGQgc3R5bGU9IndpZHRoOiAyMDBweDtiYWNrZ3JvdW5kLWNvbG9yOiAjQzVEQ0U3OyI+MTYwLjUgbcKyPC90ZD4KPC90cj4KPC90Ym9keT4KPC90YWJsZT4KPC9odG1sPg==&quot; width=&quot;300&quot; style=&quot;border:none !important;&quot; height=&quot;300&quot;&gt;&lt;/iframe&gt;`)[0];\n",
       "                popup_d7d3bbc9515a8755429b87895408ca46.setContent(i_frame_b281cd64123f312f981d2c20ed180fa2);\n",
       "            \n",
       "        \n",
       "\n",
       "        marker_28c2ccd8a754ead633be113fbb919abc.bindPopup(popup_d7d3bbc9515a8755429b87895408ca46)\n",
       "        ;\n",
       "\n",
       "        \n",
       "    \n",
       "    \n",
       "            var marker_bb603ab985d759a1172dcf3a84de61af = L.marker(\n",
       "                [10.7540279, 106.6633746],\n",
       "                {}\n",
       "            ).addTo(map_7cd75769a322dd05108049beaba5abc9);\n",
       "        \n",
       "    \n",
       "            var icon_c9c82f0f17c32597a872e31c47178469 = L.AwesomeMarkers.icon(\n",
       "                {&quot;extraClasses&quot;: &quot;fa-rotate-0&quot;, &quot;icon&quot;: &quot;info-sign&quot;, &quot;iconColor&quot;: &quot;white&quot;, &quot;markerColor&quot;: &quot;red&quot;, &quot;prefix&quot;: &quot;glyphicon&quot;}\n",
       "            );\n",
       "            marker_bb603ab985d759a1172dcf3a84de61af.setIcon(icon_c9c82f0f17c32597a872e31c47178469);\n",
       "        \n",
       "    \n",
       "        var popup_1535d5d21f9be4fdd47b9bc84fc011ba = L.popup({&quot;maxWidth&quot;: &quot;100%&quot;});\n",
       "\n",
       "        \n",
       "            \n",
       "                var i_frame_dfbb85838a9fbe8d0a93d2d1119c9a91 = $(`&lt;iframe src=&quot;data:text/html;charset=utf-8;base64,CiAgICA8IURPQ1RZUEUgaHRtbD4KPGh0bWw+CgogICAgPHRhYmxlIHN0eWxlPSJoZWlnaHQ6IDEwMHB4OyB3aWR0aDogMzAwcHg7Ij4KPHRib2R5Pgo8dHI+Cjx0ZCBzdHlsZT0iYmFja2dyb3VuZC1jb2xvcjogIzJBNzk5QzsiPjxzcGFuIHN0eWxlPSJjb2xvcjogI2ZmZmZmZjsiPlF14bqtbjwvc3Bhbj48L3RkPgo8dGQgc3R5bGU9IndpZHRoOiAyMDBweDtiYWNrZ3JvdW5kLWNvbG9yOiAjQzVEQ0U3OyI+US41PC90ZD4KPC90cj4KPHRyPgo8dGQgc3R5bGU9ImJhY2tncm91bmQtY29sb3I6ICMyQTc5OUM7Ij48c3BhbiBzdHlsZT0iY29sb3I6ICNmZmZmZmY7Ij7EkMahbiBnacOhIGfhu5lwIHRydW5nIGLDrG5oIGNobyAxIG3CsiA8L3NwYW4+PC90ZD4KPHRkIHN0eWxlPSJ3aWR0aDogMjAwcHg7YmFja2dyb3VuZC1jb2xvcjogI0M1RENFNzsiPjI4Mi42NyB0cmnhu4d1L23CsjwvdGQ+CjwvdHI+Cjx0cj4KPHRkIHN0eWxlPSJiYWNrZ3JvdW5kLWNvbG9yOiAjMkE3OTlDOyI+PHNwYW4gc3R5bGU9ImNvbG9yOiAjZmZmZmZmOyI+R2nDoSB0cnVuZyBiw6xuaCAxIGPEg24gPC9zcGFuPjwvdGQ+Cjx0ZCBzdHlsZT0id2lkdGg6IDIwMHB4O2JhY2tncm91bmQtY29sb3I6ICNDNURDRTc7Ij4yMS42NSB04bu3L2PEg248L3RkPgo8L3RyPgo8dGQgc3R5bGU9ImJhY2tncm91bmQtY29sb3I6ICMyQTc5OUM7Ij48c3BhbiBzdHlsZT0iY29sb3I6ICNmZmZmZmY7Ij5EaeG7h24gdMOtY2ggxJHhuqV0IDwvc3Bhbj48L3RkPgo8dGQgc3R5bGU9IndpZHRoOiAyMDBweDtiYWNrZ3JvdW5kLWNvbG9yOiAjQzVEQ0U3OyI+NjguNDIgbcKyPC90ZD4KPC90cj4KPC90Ym9keT4KPC90YWJsZT4KPC9odG1sPg==&quot; width=&quot;300&quot; style=&quot;border:none !important;&quot; height=&quot;300&quot;&gt;&lt;/iframe&gt;`)[0];\n",
       "                popup_1535d5d21f9be4fdd47b9bc84fc011ba.setContent(i_frame_dfbb85838a9fbe8d0a93d2d1119c9a91);\n",
       "            \n",
       "        \n",
       "\n",
       "        marker_bb603ab985d759a1172dcf3a84de61af.bindPopup(popup_1535d5d21f9be4fdd47b9bc84fc011ba)\n",
       "        ;\n",
       "\n",
       "        \n",
       "    \n",
       "    \n",
       "            var marker_1ce2b36b9d7b12dc21e37f821f1eb1ba = L.marker(\n",
       "                [10.7843695, 106.6844089],\n",
       "                {}\n",
       "            ).addTo(map_7cd75769a322dd05108049beaba5abc9);\n",
       "        \n",
       "    \n",
       "            var icon_1071bd5028efbb67c0a0f9f4f11e75e3 = L.AwesomeMarkers.icon(\n",
       "                {&quot;extraClasses&quot;: &quot;fa-rotate-0&quot;, &quot;icon&quot;: &quot;info-sign&quot;, &quot;iconColor&quot;: &quot;white&quot;, &quot;markerColor&quot;: &quot;red&quot;, &quot;prefix&quot;: &quot;glyphicon&quot;}\n",
       "            );\n",
       "            marker_1ce2b36b9d7b12dc21e37f821f1eb1ba.setIcon(icon_1071bd5028efbb67c0a0f9f4f11e75e3);\n",
       "        \n",
       "    \n",
       "        var popup_872e1bf9de26e4777fa24572d64dec4e = L.popup({&quot;maxWidth&quot;: &quot;100%&quot;});\n",
       "\n",
       "        \n",
       "            \n",
       "                var i_frame_a58af1f2bb153e9f26f7046e997e6789 = $(`&lt;iframe src=&quot;data:text/html;charset=utf-8;base64,CiAgICA8IURPQ1RZUEUgaHRtbD4KPGh0bWw+CgogICAgPHRhYmxlIHN0eWxlPSJoZWlnaHQ6IDEwMHB4OyB3aWR0aDogMzAwcHg7Ij4KPHRib2R5Pgo8dHI+Cjx0ZCBzdHlsZT0iYmFja2dyb3VuZC1jb2xvcjogIzJBNzk5QzsiPjxzcGFuIHN0eWxlPSJjb2xvcjogI2ZmZmZmZjsiPlF14bqtbjwvc3Bhbj48L3RkPgo8dGQgc3R5bGU9IndpZHRoOiAyMDBweDtiYWNrZ3JvdW5kLWNvbG9yOiAjQzVEQ0U3OyI+US4zPC90ZD4KPC90cj4KPHRyPgo8dGQgc3R5bGU9ImJhY2tncm91bmQtY29sb3I6ICMyQTc5OUM7Ij48c3BhbiBzdHlsZT0iY29sb3I6ICNmZmZmZmY7Ij7EkMahbiBnacOhIGfhu5lwIHRydW5nIGLDrG5oIGNobyAxIG3CsiA8L3NwYW4+PC90ZD4KPHRkIHN0eWxlPSJ3aWR0aDogMjAwcHg7YmFja2dyb3VuZC1jb2xvcjogI0M1RENFNzsiPjMwNS43NSB0cmnhu4d1L23CsjwvdGQ+CjwvdHI+Cjx0cj4KPHRkIHN0eWxlPSJiYWNrZ3JvdW5kLWNvbG9yOiAjMkE3OTlDOyI+PHNwYW4gc3R5bGU9ImNvbG9yOiAjZmZmZmZmOyI+R2nDoSB0cnVuZyBiw6xuaCAxIGPEg24gPC9zcGFuPjwvdGQ+Cjx0ZCBzdHlsZT0id2lkdGg6IDIwMHB4O2JhY2tncm91bmQtY29sb3I6ICNDNURDRTc7Ij4yOC41NyB04bu3L2PEg248L3RkPgo8L3RyPgo8dGQgc3R5bGU9ImJhY2tncm91bmQtY29sb3I6ICMyQTc5OUM7Ij48c3BhbiBzdHlsZT0iY29sb3I6ICNmZmZmZmY7Ij5EaeG7h24gdMOtY2ggxJHhuqV0IDwvc3Bhbj48L3RkPgo8dGQgc3R5bGU9IndpZHRoOiAyMDBweDtiYWNrZ3JvdW5kLWNvbG9yOiAjQzVEQ0U3OyI+ODcuODQgbcKyPC90ZD4KPC90cj4KPC90Ym9keT4KPC90YWJsZT4KPC9odG1sPg==&quot; width=&quot;300&quot; style=&quot;border:none !important;&quot; height=&quot;300&quot;&gt;&lt;/iframe&gt;`)[0];\n",
       "                popup_872e1bf9de26e4777fa24572d64dec4e.setContent(i_frame_a58af1f2bb153e9f26f7046e997e6789);\n",
       "            \n",
       "        \n",
       "\n",
       "        marker_1ce2b36b9d7b12dc21e37f821f1eb1ba.bindPopup(popup_872e1bf9de26e4777fa24572d64dec4e)\n",
       "        ;\n",
       "\n",
       "        \n",
       "    \n",
       "    \n",
       "            var marker_6101a25d2cfe3ef29c47769b02cf2ef2 = L.marker(\n",
       "                [10.7745965, 106.6679542],\n",
       "                {}\n",
       "            ).addTo(map_7cd75769a322dd05108049beaba5abc9);\n",
       "        \n",
       "    \n",
       "            var icon_eedb2ad230d997297f56a90eac234ab4 = L.AwesomeMarkers.icon(\n",
       "                {&quot;extraClasses&quot;: &quot;fa-rotate-0&quot;, &quot;icon&quot;: &quot;info-sign&quot;, &quot;iconColor&quot;: &quot;white&quot;, &quot;markerColor&quot;: &quot;red&quot;, &quot;prefix&quot;: &quot;glyphicon&quot;}\n",
       "            );\n",
       "            marker_6101a25d2cfe3ef29c47769b02cf2ef2.setIcon(icon_eedb2ad230d997297f56a90eac234ab4);\n",
       "        \n",
       "    \n",
       "        var popup_2fdd79ffb2c0b89b6f099cb41c8e283b = L.popup({&quot;maxWidth&quot;: &quot;100%&quot;});\n",
       "\n",
       "        \n",
       "            \n",
       "                var i_frame_b9b316d4ec67f956649a40cf1e361e98 = $(`&lt;iframe src=&quot;data:text/html;charset=utf-8;base64,CiAgICA8IURPQ1RZUEUgaHRtbD4KPGh0bWw+CgogICAgPHRhYmxlIHN0eWxlPSJoZWlnaHQ6IDEwMHB4OyB3aWR0aDogMzAwcHg7Ij4KPHRib2R5Pgo8dHI+Cjx0ZCBzdHlsZT0iYmFja2dyb3VuZC1jb2xvcjogIzJBNzk5QzsiPjxzcGFuIHN0eWxlPSJjb2xvcjogI2ZmZmZmZjsiPlF14bqtbjwvc3Bhbj48L3RkPgo8dGQgc3R5bGU9IndpZHRoOiAyMDBweDtiYWNrZ3JvdW5kLWNvbG9yOiAjQzVEQ0U3OyI+US4xMDwvdGQ+CjwvdHI+Cjx0cj4KPHRkIHN0eWxlPSJiYWNrZ3JvdW5kLWNvbG9yOiAjMkE3OTlDOyI+PHNwYW4gc3R5bGU9ImNvbG9yOiAjZmZmZmZmOyI+xJDGoW4gZ2nDoSBn4buZcCB0cnVuZyBiw6xuaCBjaG8gMSBtwrIgPC9zcGFuPjwvdGQ+Cjx0ZCBzdHlsZT0id2lkdGg6IDIwMHB4O2JhY2tncm91bmQtY29sb3I6ICNDNURDRTc7Ij4zMTIuNTkgdHJp4buHdS9twrI8L3RkPgo8L3RyPgo8dHI+Cjx0ZCBzdHlsZT0iYmFja2dyb3VuZC1jb2xvcjogIzJBNzk5QzsiPjxzcGFuIHN0eWxlPSJjb2xvcjogI2ZmZmZmZjsiPkdpw6EgdHJ1bmcgYsOsbmggMSBjxINuIDwvc3Bhbj48L3RkPgo8dGQgc3R5bGU9IndpZHRoOiAyMDBweDtiYWNrZ3JvdW5kLWNvbG9yOiAjQzVEQ0U3OyI+MzEuOCB04bu3L2PEg248L3RkPgo8L3RyPgo8dGQgc3R5bGU9ImJhY2tncm91bmQtY29sb3I6ICMyQTc5OUM7Ij48c3BhbiBzdHlsZT0iY29sb3I6ICNmZmZmZmY7Ij5EaeG7h24gdMOtY2ggxJHhuqV0IDwvc3Bhbj48L3RkPgo8dGQgc3R5bGU9IndpZHRoOiAyMDBweDtiYWNrZ3JvdW5kLWNvbG9yOiAjQzVEQ0U3OyI+MTEwLjcgbcKyPC90ZD4KPC90cj4KPC90Ym9keT4KPC90YWJsZT4KPC9odG1sPg==&quot; width=&quot;300&quot; style=&quot;border:none !important;&quot; height=&quot;300&quot;&gt;&lt;/iframe&gt;`)[0];\n",
       "                popup_2fdd79ffb2c0b89b6f099cb41c8e283b.setContent(i_frame_b9b316d4ec67f956649a40cf1e361e98);\n",
       "            \n",
       "        \n",
       "\n",
       "        marker_6101a25d2cfe3ef29c47769b02cf2ef2.bindPopup(popup_2fdd79ffb2c0b89b6f099cb41c8e283b)\n",
       "        ;\n",
       "\n",
       "        \n",
       "    \n",
       "    \n",
       "            var marker_edc51609272c9ea9baab51166ec2e838 = L.marker(\n",
       "                [10.7756587, 106.7004238],\n",
       "                {}\n",
       "            ).addTo(map_7cd75769a322dd05108049beaba5abc9);\n",
       "        \n",
       "    \n",
       "            var icon_ff4fd7ee9e0edd75fec68b66bb702730 = L.AwesomeMarkers.icon(\n",
       "                {&quot;extraClasses&quot;: &quot;fa-rotate-0&quot;, &quot;icon&quot;: &quot;info-sign&quot;, &quot;iconColor&quot;: &quot;white&quot;, &quot;markerColor&quot;: &quot;red&quot;, &quot;prefix&quot;: &quot;glyphicon&quot;}\n",
       "            );\n",
       "            marker_edc51609272c9ea9baab51166ec2e838.setIcon(icon_ff4fd7ee9e0edd75fec68b66bb702730);\n",
       "        \n",
       "    \n",
       "        var popup_204cec14ab443ff0fcd31af475eaa942 = L.popup({&quot;maxWidth&quot;: &quot;100%&quot;});\n",
       "\n",
       "        \n",
       "            \n",
       "                var i_frame_607dd279643e48d2735f7043b945ef79 = $(`&lt;iframe src=&quot;data:text/html;charset=utf-8;base64,CiAgICA8IURPQ1RZUEUgaHRtbD4KPGh0bWw+CgogICAgPHRhYmxlIHN0eWxlPSJoZWlnaHQ6IDEwMHB4OyB3aWR0aDogMzAwcHg7Ij4KPHRib2R5Pgo8dHI+Cjx0ZCBzdHlsZT0iYmFja2dyb3VuZC1jb2xvcjogIzJBNzk5QzsiPjxzcGFuIHN0eWxlPSJjb2xvcjogI2ZmZmZmZjsiPlF14bqtbjwvc3Bhbj48L3RkPgo8dGQgc3R5bGU9IndpZHRoOiAyMDBweDtiYWNrZ3JvdW5kLWNvbG9yOiAjQzVEQ0U3OyI+US4xPC90ZD4KPC90cj4KPHRyPgo8dGQgc3R5bGU9ImJhY2tncm91bmQtY29sb3I6ICMyQTc5OUM7Ij48c3BhbiBzdHlsZT0iY29sb3I6ICNmZmZmZmY7Ij7EkMahbiBnacOhIGfhu5lwIHRydW5nIGLDrG5oIGNobyAxIG3CsiA8L3NwYW4+PC90ZD4KPHRkIHN0eWxlPSJ3aWR0aDogMjAwcHg7YmFja2dyb3VuZC1jb2xvcjogI0M1RENFNzsiPjQ2My4wMSB0cmnhu4d1L23CsjwvdGQ+CjwvdHI+Cjx0cj4KPHRkIHN0eWxlPSJiYWNrZ3JvdW5kLWNvbG9yOiAjMkE3OTlDOyI+PHNwYW4gc3R5bGU9ImNvbG9yOiAjZmZmZmZmOyI+R2nDoSB0cnVuZyBiw6xuaCAxIGPEg24gPC9zcGFuPjwvdGQ+Cjx0ZCBzdHlsZT0id2lkdGg6IDIwMHB4O2JhY2tncm91bmQtY29sb3I6ICNDNURDRTc7Ij4zOS41NSB04bu3L2PEg248L3RkPgo8L3RyPgo8dGQgc3R5bGU9ImJhY2tncm91bmQtY29sb3I6ICMyQTc5OUM7Ij48c3BhbiBzdHlsZT0iY29sb3I6ICNmZmZmZmY7Ij5EaeG7h24gdMOtY2ggxJHhuqV0IDwvc3Bhbj48L3RkPgo8dGQgc3R5bGU9IndpZHRoOiAyMDBweDtiYWNrZ3JvdW5kLWNvbG9yOiAjQzVEQ0U3OyI+ODAuNzkgbcKyPC90ZD4KPC90cj4KPC90Ym9keT4KPC90YWJsZT4KPC9odG1sPg==&quot; width=&quot;300&quot; style=&quot;border:none !important;&quot; height=&quot;300&quot;&gt;&lt;/iframe&gt;`)[0];\n",
       "                popup_204cec14ab443ff0fcd31af475eaa942.setContent(i_frame_607dd279643e48d2735f7043b945ef79);\n",
       "            \n",
       "        \n",
       "\n",
       "        marker_edc51609272c9ea9baab51166ec2e838.bindPopup(popup_204cec14ab443ff0fcd31af475eaa942)\n",
       "        ;\n",
       "\n",
       "        \n",
       "    \n",
       "    \n",
       "            var feature_group_5578345e922101fa61ecf5baead76384 = L.featureGroup(\n",
       "                {}\n",
       "            ).addTo(map_7cd75769a322dd05108049beaba5abc9);\n",
       "        \n",
       "    \n",
       "            var circle_marker_585fabf779bc750a539f36c45533f74f = L.circleMarker(\n",
       "                [10.8839675, 106.5870611],\n",
       "                {&quot;bubblingMouseEvents&quot;: true, &quot;color&quot;: &quot;yellow&quot;, &quot;dashArray&quot;: null, &quot;dashOffset&quot;: null, &quot;fill&quot;: true, &quot;fillColor&quot;: &quot;blue&quot;, &quot;fillOpacity&quot;: 0.6, &quot;fillRule&quot;: &quot;evenodd&quot;, &quot;lineCap&quot;: &quot;round&quot;, &quot;lineJoin&quot;: &quot;round&quot;, &quot;opacity&quot;: 1.0, &quot;radius&quot;: 6, &quot;stroke&quot;: true, &quot;weight&quot;: 3}\n",
       "            ).addTo(feature_group_5578345e922101fa61ecf5baead76384);\n",
       "        \n",
       "    \n",
       "            var circle_marker_5538d8a3db80ef6b39b52340b3140af3 = L.circleMarker(\n",
       "                [10.687392, 106.5938538],\n",
       "                {&quot;bubblingMouseEvents&quot;: true, &quot;color&quot;: &quot;yellow&quot;, &quot;dashArray&quot;: null, &quot;dashOffset&quot;: null, &quot;fill&quot;: true, &quot;fillColor&quot;: &quot;blue&quot;, &quot;fillOpacity&quot;: 0.6, &quot;fillRule&quot;: &quot;evenodd&quot;, &quot;lineCap&quot;: &quot;round&quot;, &quot;lineJoin&quot;: &quot;round&quot;, &quot;opacity&quot;: 1.0, &quot;radius&quot;: 6, &quot;stroke&quot;: true, &quot;weight&quot;: 3}\n",
       "            ).addTo(feature_group_5578345e922101fa61ecf5baead76384);\n",
       "        \n",
       "    \n",
       "            var circle_marker_a7878f4476f9bfe3920940d546986abf = L.circleMarker(\n",
       "                [10.6952642, 106.704874],\n",
       "                {&quot;bubblingMouseEvents&quot;: true, &quot;color&quot;: &quot;yellow&quot;, &quot;dashArray&quot;: null, &quot;dashOffset&quot;: null, &quot;fill&quot;: true, &quot;fillColor&quot;: &quot;blue&quot;, &quot;fillOpacity&quot;: 0.6, &quot;fillRule&quot;: &quot;evenodd&quot;, &quot;lineCap&quot;: &quot;round&quot;, &quot;lineJoin&quot;: &quot;round&quot;, &quot;opacity&quot;: 1.0, &quot;radius&quot;: 6, &quot;stroke&quot;: true, &quot;weight&quot;: 3}\n",
       "            ).addTo(feature_group_5578345e922101fa61ecf5baead76384);\n",
       "        \n",
       "    \n",
       "            var circle_marker_6f485c897d8c42aa1c38a8f050238273 = L.circleMarker(\n",
       "                [10.8671531, 106.6413322],\n",
       "                {&quot;bubblingMouseEvents&quot;: true, &quot;color&quot;: &quot;yellow&quot;, &quot;dashArray&quot;: null, &quot;dashOffset&quot;: null, &quot;fill&quot;: true, &quot;fillColor&quot;: &quot;blue&quot;, &quot;fillOpacity&quot;: 0.6, &quot;fillRule&quot;: &quot;evenodd&quot;, &quot;lineCap&quot;: &quot;round&quot;, &quot;lineJoin&quot;: &quot;round&quot;, &quot;opacity&quot;: 1.0, &quot;radius&quot;: 6, &quot;stroke&quot;: true, &quot;weight&quot;: 3}\n",
       "            ).addTo(feature_group_5578345e922101fa61ecf5baead76384);\n",
       "        \n",
       "    \n",
       "            var circle_marker_c4de8792db1a1984d61df02199716627 = L.circleMarker(\n",
       "                [10.7652581, 106.6038535],\n",
       "                {&quot;bubblingMouseEvents&quot;: true, &quot;color&quot;: &quot;yellow&quot;, &quot;dashArray&quot;: null, &quot;dashOffset&quot;: null, &quot;fill&quot;: true, &quot;fillColor&quot;: &quot;blue&quot;, &quot;fillOpacity&quot;: 0.6, &quot;fillRule&quot;: &quot;evenodd&quot;, &quot;lineCap&quot;: &quot;round&quot;, &quot;lineJoin&quot;: &quot;round&quot;, &quot;opacity&quot;: 1.0, &quot;radius&quot;: 6, &quot;stroke&quot;: true, &quot;weight&quot;: 3}\n",
       "            ).addTo(feature_group_5578345e922101fa61ecf5baead76384);\n",
       "        \n",
       "    \n",
       "            var circle_marker_3d2a6de8916ab9a0db60af5f6bd354ad = L.circleMarker(\n",
       "                [10.8428402, 106.8286851],\n",
       "                {&quot;bubblingMouseEvents&quot;: true, &quot;color&quot;: &quot;yellow&quot;, &quot;dashArray&quot;: null, &quot;dashOffset&quot;: null, &quot;fill&quot;: true, &quot;fillColor&quot;: &quot;blue&quot;, &quot;fillOpacity&quot;: 0.6, &quot;fillRule&quot;: &quot;evenodd&quot;, &quot;lineCap&quot;: &quot;round&quot;, &quot;lineJoin&quot;: &quot;round&quot;, &quot;opacity&quot;: 1.0, &quot;radius&quot;: 6, &quot;stroke&quot;: true, &quot;weight&quot;: 3}\n",
       "            ).addTo(feature_group_5578345e922101fa61ecf5baead76384);\n",
       "        \n",
       "    \n",
       "            var circle_marker_d61650c92f606dd08b34b3112816d779 = L.circleMarker(\n",
       "                [10.8494094, 106.7537055],\n",
       "                {&quot;bubblingMouseEvents&quot;: true, &quot;color&quot;: &quot;yellow&quot;, &quot;dashArray&quot;: null, &quot;dashOffset&quot;: null, &quot;fill&quot;: true, &quot;fillColor&quot;: &quot;blue&quot;, &quot;fillOpacity&quot;: 0.6, &quot;fillRule&quot;: &quot;evenodd&quot;, &quot;lineCap&quot;: &quot;round&quot;, &quot;lineJoin&quot;: &quot;round&quot;, &quot;opacity&quot;: 1.0, &quot;radius&quot;: 6, &quot;stroke&quot;: true, &quot;weight&quot;: 3}\n",
       "            ).addTo(feature_group_5578345e922101fa61ecf5baead76384);\n",
       "        \n",
       "    \n",
       "            var circle_marker_d7cec3da0e628b1f0bde0f22f5569745 = L.circleMarker(\n",
       "                [10.7240878, 106.6286259],\n",
       "                {&quot;bubblingMouseEvents&quot;: true, &quot;color&quot;: &quot;yellow&quot;, &quot;dashArray&quot;: null, &quot;dashOffset&quot;: null, &quot;fill&quot;: true, &quot;fillColor&quot;: &quot;blue&quot;, &quot;fillOpacity&quot;: 0.6, &quot;fillRule&quot;: &quot;evenodd&quot;, &quot;lineCap&quot;: &quot;round&quot;, &quot;lineJoin&quot;: &quot;round&quot;, &quot;opacity&quot;: 1.0, &quot;radius&quot;: 6, &quot;stroke&quot;: true, &quot;weight&quot;: 3}\n",
       "            ).addTo(feature_group_5578345e922101fa61ecf5baead76384);\n",
       "        \n",
       "    \n",
       "            var circle_marker_89c9896478ad666b2e2a69aa1d5244c6 = L.circleMarker(\n",
       "                [11.4275308, 107.36123],\n",
       "                {&quot;bubblingMouseEvents&quot;: true, &quot;color&quot;: &quot;yellow&quot;, &quot;dashArray&quot;: null, &quot;dashOffset&quot;: null, &quot;fill&quot;: true, &quot;fillColor&quot;: &quot;blue&quot;, &quot;fillOpacity&quot;: 0.6, &quot;fillRule&quot;: &quot;evenodd&quot;, &quot;lineCap&quot;: &quot;round&quot;, &quot;lineJoin&quot;: &quot;round&quot;, &quot;opacity&quot;: 1.0, &quot;radius&quot;: 6, &quot;stroke&quot;: true, &quot;weight&quot;: 3}\n",
       "            ).addTo(feature_group_5578345e922101fa61ecf5baead76384);\n",
       "        \n",
       "    \n",
       "            var circle_marker_45677caba2d47814cbe74c2e7ab3c013 = L.circleMarker(\n",
       "                [10.7872729, 106.7498105],\n",
       "                {&quot;bubblingMouseEvents&quot;: true, &quot;color&quot;: &quot;yellow&quot;, &quot;dashArray&quot;: null, &quot;dashOffset&quot;: null, &quot;fill&quot;: true, &quot;fillColor&quot;: &quot;blue&quot;, &quot;fillOpacity&quot;: 0.6, &quot;fillRule&quot;: &quot;evenodd&quot;, &quot;lineCap&quot;: &quot;round&quot;, &quot;lineJoin&quot;: &quot;round&quot;, &quot;opacity&quot;: 1.0, &quot;radius&quot;: 6, &quot;stroke&quot;: true, &quot;weight&quot;: 3}\n",
       "            ).addTo(feature_group_5578345e922101fa61ecf5baead76384);\n",
       "        \n",
       "    \n",
       "            var circle_marker_eb4b9b7411784a0f0f4bea2873a40ec6 = L.circleMarker(\n",
       "                [10.7340344, 106.7215787],\n",
       "                {&quot;bubblingMouseEvents&quot;: true, &quot;color&quot;: &quot;yellow&quot;, &quot;dashArray&quot;: null, &quot;dashOffset&quot;: null, &quot;fill&quot;: true, &quot;fillColor&quot;: &quot;blue&quot;, &quot;fillOpacity&quot;: 0.6, &quot;fillRule&quot;: &quot;evenodd&quot;, &quot;lineCap&quot;: &quot;round&quot;, &quot;lineJoin&quot;: &quot;round&quot;, &quot;opacity&quot;: 1.0, &quot;radius&quot;: 6, &quot;stroke&quot;: true, &quot;weight&quot;: 3}\n",
       "            ).addTo(feature_group_5578345e922101fa61ecf5baead76384);\n",
       "        \n",
       "    \n",
       "            var circle_marker_524769efe823aa9f4b47a7319f906235 = L.circleMarker(\n",
       "                [10.8386779, 106.6652904],\n",
       "                {&quot;bubblingMouseEvents&quot;: true, &quot;color&quot;: &quot;yellow&quot;, &quot;dashArray&quot;: null, &quot;dashOffset&quot;: null, &quot;fill&quot;: true, &quot;fillColor&quot;: &quot;blue&quot;, &quot;fillOpacity&quot;: 0.6, &quot;fillRule&quot;: &quot;evenodd&quot;, &quot;lineCap&quot;: &quot;round&quot;, &quot;lineJoin&quot;: &quot;round&quot;, &quot;opacity&quot;: 1.0, &quot;radius&quot;: 6, &quot;stroke&quot;: true, &quot;weight&quot;: 3}\n",
       "            ).addTo(feature_group_5578345e922101fa61ecf5baead76384);\n",
       "        \n",
       "    \n",
       "            var circle_marker_921303084ded35af2c31b39f87c0e73b = L.circleMarker(\n",
       "                [10.7578263, 106.7012968],\n",
       "                {&quot;bubblingMouseEvents&quot;: true, &quot;color&quot;: &quot;yellow&quot;, &quot;dashArray&quot;: null, &quot;dashOffset&quot;: null, &quot;fill&quot;: true, &quot;fillColor&quot;: &quot;blue&quot;, &quot;fillOpacity&quot;: 0.6, &quot;fillRule&quot;: &quot;evenodd&quot;, &quot;lineCap&quot;: &quot;round&quot;, &quot;lineJoin&quot;: &quot;round&quot;, &quot;opacity&quot;: 1.0, &quot;radius&quot;: 6, &quot;stroke&quot;: true, &quot;weight&quot;: 3}\n",
       "            ).addTo(feature_group_5578345e922101fa61ecf5baead76384);\n",
       "        \n",
       "    \n",
       "            var circle_marker_2084f19026703b89b7076558450dd32d = L.circleMarker(\n",
       "                [10.8105831, 106.7091422],\n",
       "                {&quot;bubblingMouseEvents&quot;: true, &quot;color&quot;: &quot;yellow&quot;, &quot;dashArray&quot;: null, &quot;dashOffset&quot;: null, &quot;fill&quot;: true, &quot;fillColor&quot;: &quot;blue&quot;, &quot;fillOpacity&quot;: 0.6, &quot;fillRule&quot;: &quot;evenodd&quot;, &quot;lineCap&quot;: &quot;round&quot;, &quot;lineJoin&quot;: &quot;round&quot;, &quot;opacity&quot;: 1.0, &quot;radius&quot;: 6, &quot;stroke&quot;: true, &quot;weight&quot;: 3}\n",
       "            ).addTo(feature_group_5578345e922101fa61ecf5baead76384);\n",
       "        \n",
       "    \n",
       "            var circle_marker_8605145963a1a6d85ec3286cd9b87dd6 = L.circleMarker(\n",
       "                [10.7480929, 106.6352362],\n",
       "                {&quot;bubblingMouseEvents&quot;: true, &quot;color&quot;: &quot;yellow&quot;, &quot;dashArray&quot;: null, &quot;dashOffset&quot;: null, &quot;fill&quot;: true, &quot;fillColor&quot;: &quot;blue&quot;, &quot;fillOpacity&quot;: 0.6, &quot;fillRule&quot;: &quot;evenodd&quot;, &quot;lineCap&quot;: &quot;round&quot;, &quot;lineJoin&quot;: &quot;round&quot;, &quot;opacity&quot;: 1.0, &quot;radius&quot;: 6, &quot;stroke&quot;: true, &quot;weight&quot;: 3}\n",
       "            ).addTo(feature_group_5578345e922101fa61ecf5baead76384);\n",
       "        \n",
       "    \n",
       "            var circle_marker_db0ecc3ba3204cea82ca43c7a9780b83 = L.circleMarker(\n",
       "                [10.8014659, 106.6525974],\n",
       "                {&quot;bubblingMouseEvents&quot;: true, &quot;color&quot;: &quot;yellow&quot;, &quot;dashArray&quot;: null, &quot;dashOffset&quot;: null, &quot;fill&quot;: true, &quot;fillColor&quot;: &quot;blue&quot;, &quot;fillOpacity&quot;: 0.6, &quot;fillRule&quot;: &quot;evenodd&quot;, &quot;lineCap&quot;: &quot;round&quot;, &quot;lineJoin&quot;: &quot;round&quot;, &quot;opacity&quot;: 1.0, &quot;radius&quot;: 6, &quot;stroke&quot;: true, &quot;weight&quot;: 3}\n",
       "            ).addTo(feature_group_5578345e922101fa61ecf5baead76384);\n",
       "        \n",
       "    \n",
       "            var circle_marker_bb74cdb9ad1021650d532a21f0fa4047 = L.circleMarker(\n",
       "                [10.7991944, 106.6802639],\n",
       "                {&quot;bubblingMouseEvents&quot;: true, &quot;color&quot;: &quot;yellow&quot;, &quot;dashArray&quot;: null, &quot;dashOffset&quot;: null, &quot;fill&quot;: true, &quot;fillColor&quot;: &quot;blue&quot;, &quot;fillOpacity&quot;: 0.6, &quot;fillRule&quot;: &quot;evenodd&quot;, &quot;lineCap&quot;: &quot;round&quot;, &quot;lineJoin&quot;: &quot;round&quot;, &quot;opacity&quot;: 1.0, &quot;radius&quot;: 6, &quot;stroke&quot;: true, &quot;weight&quot;: 3}\n",
       "            ).addTo(feature_group_5578345e922101fa61ecf5baead76384);\n",
       "        \n",
       "    \n",
       "            var circle_marker_f22a9160031ffea726038290ee57fd74 = L.circleMarker(\n",
       "                [10.7629739, 106.650084],\n",
       "                {&quot;bubblingMouseEvents&quot;: true, &quot;color&quot;: &quot;yellow&quot;, &quot;dashArray&quot;: null, &quot;dashOffset&quot;: null, &quot;fill&quot;: true, &quot;fillColor&quot;: &quot;blue&quot;, &quot;fillOpacity&quot;: 0.6, &quot;fillRule&quot;: &quot;evenodd&quot;, &quot;lineCap&quot;: &quot;round&quot;, &quot;lineJoin&quot;: &quot;round&quot;, &quot;opacity&quot;: 1.0, &quot;radius&quot;: 6, &quot;stroke&quot;: true, &quot;weight&quot;: 3}\n",
       "            ).addTo(feature_group_5578345e922101fa61ecf5baead76384);\n",
       "        \n",
       "    \n",
       "            var circle_marker_334b5b62a56d184380aa934eacbb6e57 = L.circleMarker(\n",
       "                [10.7540279, 106.6633746],\n",
       "                {&quot;bubblingMouseEvents&quot;: true, &quot;color&quot;: &quot;yellow&quot;, &quot;dashArray&quot;: null, &quot;dashOffset&quot;: null, &quot;fill&quot;: true, &quot;fillColor&quot;: &quot;blue&quot;, &quot;fillOpacity&quot;: 0.6, &quot;fillRule&quot;: &quot;evenodd&quot;, &quot;lineCap&quot;: &quot;round&quot;, &quot;lineJoin&quot;: &quot;round&quot;, &quot;opacity&quot;: 1.0, &quot;radius&quot;: 6, &quot;stroke&quot;: true, &quot;weight&quot;: 3}\n",
       "            ).addTo(feature_group_5578345e922101fa61ecf5baead76384);\n",
       "        \n",
       "    \n",
       "            var circle_marker_7519d0db242455029fa83bc19cc2d59c = L.circleMarker(\n",
       "                [10.7843695, 106.6844089],\n",
       "                {&quot;bubblingMouseEvents&quot;: true, &quot;color&quot;: &quot;yellow&quot;, &quot;dashArray&quot;: null, &quot;dashOffset&quot;: null, &quot;fill&quot;: true, &quot;fillColor&quot;: &quot;blue&quot;, &quot;fillOpacity&quot;: 0.6, &quot;fillRule&quot;: &quot;evenodd&quot;, &quot;lineCap&quot;: &quot;round&quot;, &quot;lineJoin&quot;: &quot;round&quot;, &quot;opacity&quot;: 1.0, &quot;radius&quot;: 6, &quot;stroke&quot;: true, &quot;weight&quot;: 3}\n",
       "            ).addTo(feature_group_5578345e922101fa61ecf5baead76384);\n",
       "        \n",
       "    \n",
       "            var circle_marker_531c14fa4ed51ce864590d0f27dcdfd4 = L.circleMarker(\n",
       "                [10.7745965, 106.6679542],\n",
       "                {&quot;bubblingMouseEvents&quot;: true, &quot;color&quot;: &quot;yellow&quot;, &quot;dashArray&quot;: null, &quot;dashOffset&quot;: null, &quot;fill&quot;: true, &quot;fillColor&quot;: &quot;blue&quot;, &quot;fillOpacity&quot;: 0.6, &quot;fillRule&quot;: &quot;evenodd&quot;, &quot;lineCap&quot;: &quot;round&quot;, &quot;lineJoin&quot;: &quot;round&quot;, &quot;opacity&quot;: 1.0, &quot;radius&quot;: 6, &quot;stroke&quot;: true, &quot;weight&quot;: 3}\n",
       "            ).addTo(feature_group_5578345e922101fa61ecf5baead76384);\n",
       "        \n",
       "    \n",
       "            var circle_marker_dc7d7fe2825af6d2b40909d07f4762d6 = L.circleMarker(\n",
       "                [10.7756587, 106.7004238],\n",
       "                {&quot;bubblingMouseEvents&quot;: true, &quot;color&quot;: &quot;yellow&quot;, &quot;dashArray&quot;: null, &quot;dashOffset&quot;: null, &quot;fill&quot;: true, &quot;fillColor&quot;: &quot;blue&quot;, &quot;fillOpacity&quot;: 0.6, &quot;fillRule&quot;: &quot;evenodd&quot;, &quot;lineCap&quot;: &quot;round&quot;, &quot;lineJoin&quot;: &quot;round&quot;, &quot;opacity&quot;: 1.0, &quot;radius&quot;: 6, &quot;stroke&quot;: true, &quot;weight&quot;: 3}\n",
       "            ).addTo(feature_group_5578345e922101fa61ecf5baead76384);\n",
       "        \n",
       "&lt;/script&gt;\n",
       "&lt;/html&gt;\" style=\"position:absolute;width:100%;height:100%;left:0;top:0;border:none !important;\" allowfullscreen webkitallowfullscreen mozallowfullscreen></iframe></div></div>"
      ],
      "text/plain": [
       "<folium.folium.Map at 0x210343ceb30>"
      ]
     },
     "execution_count": 13,
     "metadata": {},
     "output_type": "execute_result"
    }
   ],
   "source": [
    "\n",
    "hcm_map = folium.Map(location=[10.762622, 106.660172], zoom_start=11.5) ## hcm_latitude = 10.762622, hcm_longtitude = 106.660172\n",
    "# đánh dấu vị trí các quận HCMC \n",
    "districts = folium.map.FeatureGroup()\n",
    "# đánh dấu cho các quận \n",
    "for lat, lng, in zip(hcm.Latitude, hcm.Longitude):\n",
    "    districts.add_child(\n",
    "        folium.CircleMarker(\n",
    "            [lat, lng],\n",
    "            radius=6, # define how big you want the circle markers to be\n",
    "            color='yellow',\n",
    "            fill=True,\n",
    "            fill_color='blue',\n",
    "            fill_opacity=0.6\n",
    "        )\n",
    "    )\n",
    "# add pop-up text to each marker on the map\n",
    "for i in range(0, len(hcm)):\n",
    "    if hcm['Đơn giá gộp'].iloc[i]< 100: # đơn giá gộp trung bình < 100 tr/m2: màu xanh\n",
    "        color = 'green'\n",
    "    elif hcm['Đơn giá gộp'].iloc[i] >= 100 and hcm['Đơn giá gộp'].iloc[i] < 200: \n",
    "        color = 'blue'\n",
    "    else:\n",
    "        color = 'red'\n",
    "    html = fancy_html(i)\n",
    "    iframe = branca.element.IFrame(html=html,width=300,height=300)\n",
    "    popup = folium.Popup(iframe,parse_html=True)\n",
    "    folium.Marker([hcm['Latitude'].iloc[i], hcm['Longitude'].iloc[i]], popup=popup, icon=folium.Icon(color=color, icon='info-sign')).add_to(hcm_map) \n",
    "\n",
    "# add districts to map\n",
    "hcm_map.add_child(districts)"
   ]
  },
  {
   "cell_type": "code",
   "execution_count": 14,
   "metadata": {},
   "outputs": [
    {
     "data": {
      "text/html": [
       "<div>\n",
       "<style scoped>\n",
       "    .dataframe tbody tr th:only-of-type {\n",
       "        vertical-align: middle;\n",
       "    }\n",
       "\n",
       "    .dataframe tbody tr th {\n",
       "        vertical-align: top;\n",
       "    }\n",
       "\n",
       "    .dataframe thead th {\n",
       "        text-align: right;\n",
       "    }\n",
       "</style>\n",
       "<table border=\"1\" class=\"dataframe\">\n",
       "  <thead>\n",
       "    <tr style=\"text-align: right;\">\n",
       "      <th></th>\n",
       "      <th>Quận</th>\n",
       "      <th>Đơn giá gộp</th>\n",
       "      <th>Giá</th>\n",
       "    </tr>\n",
       "  </thead>\n",
       "  <tbody>\n",
       "    <tr>\n",
       "      <th>0</th>\n",
       "      <td>Q.8</td>\n",
       "      <td>111.524051</td>\n",
       "      <td>5.061139</td>\n",
       "    </tr>\n",
       "    <tr>\n",
       "      <th>1</th>\n",
       "      <td>H.Nhà Bè</td>\n",
       "      <td>66.644444</td>\n",
       "      <td>5.918519</td>\n",
       "    </tr>\n",
       "    <tr>\n",
       "      <th>2</th>\n",
       "      <td>Q.12</td>\n",
       "      <td>81.711538</td>\n",
       "      <td>7.534231</td>\n",
       "    </tr>\n",
       "    <tr>\n",
       "      <th>3</th>\n",
       "      <td>H.Hóc Môn</td>\n",
       "      <td>53.321053</td>\n",
       "      <td>11.965789</td>\n",
       "    </tr>\n",
       "    <tr>\n",
       "      <th>4</th>\n",
       "      <td>Q.4</td>\n",
       "      <td>154.876923</td>\n",
       "      <td>12.326923</td>\n",
       "    </tr>\n",
       "    <tr>\n",
       "      <th>5</th>\n",
       "      <td>Q.Tân Phú</td>\n",
       "      <td>146.175610</td>\n",
       "      <td>18.634390</td>\n",
       "    </tr>\n",
       "    <tr>\n",
       "      <th>6</th>\n",
       "      <td>H.Bình Chánh</td>\n",
       "      <td>85.964706</td>\n",
       "      <td>19.887059</td>\n",
       "    </tr>\n",
       "    <tr>\n",
       "      <th>7</th>\n",
       "      <td>Q.Bình Tân</td>\n",
       "      <td>115.153659</td>\n",
       "      <td>20.348537</td>\n",
       "    </tr>\n",
       "    <tr>\n",
       "      <th>8</th>\n",
       "      <td>Q.Bình Thạnh</td>\n",
       "      <td>168.538272</td>\n",
       "      <td>21.235802</td>\n",
       "    </tr>\n",
       "    <tr>\n",
       "      <th>9</th>\n",
       "      <td>Q.6</td>\n",
       "      <td>190.615152</td>\n",
       "      <td>22.237576</td>\n",
       "    </tr>\n",
       "    <tr>\n",
       "      <th>10</th>\n",
       "      <td>Q.Gò Vấp</td>\n",
       "      <td>135.873016</td>\n",
       "      <td>23.325079</td>\n",
       "    </tr>\n",
       "    <tr>\n",
       "      <th>11</th>\n",
       "      <td>Q.Phú Nhuận</td>\n",
       "      <td>210.291549</td>\n",
       "      <td>23.731690</td>\n",
       "    </tr>\n",
       "    <tr>\n",
       "      <th>12</th>\n",
       "      <td>Q.7</td>\n",
       "      <td>161.081395</td>\n",
       "      <td>26.153721</td>\n",
       "    </tr>\n",
       "    <tr>\n",
       "      <th>13</th>\n",
       "      <td>Q.3</td>\n",
       "      <td>321.379167</td>\n",
       "      <td>30.220833</td>\n",
       "    </tr>\n",
       "    <tr>\n",
       "      <th>14</th>\n",
       "      <td>Q.5</td>\n",
       "      <td>395.717647</td>\n",
       "      <td>31.103824</td>\n",
       "    </tr>\n",
       "    <tr>\n",
       "      <th>15</th>\n",
       "      <td>Q.10</td>\n",
       "      <td>319.542553</td>\n",
       "      <td>32.130638</td>\n",
       "    </tr>\n",
       "    <tr>\n",
       "      <th>16</th>\n",
       "      <td>Q.Thủ Đức</td>\n",
       "      <td>112.562857</td>\n",
       "      <td>32.135143</td>\n",
       "    </tr>\n",
       "    <tr>\n",
       "      <th>17</th>\n",
       "      <td>Q.11</td>\n",
       "      <td>246.273684</td>\n",
       "      <td>34.694737</td>\n",
       "    </tr>\n",
       "    <tr>\n",
       "      <th>18</th>\n",
       "      <td>Q.2</td>\n",
       "      <td>182.429032</td>\n",
       "      <td>36.891935</td>\n",
       "    </tr>\n",
       "    <tr>\n",
       "      <th>19</th>\n",
       "      <td>Q.9</td>\n",
       "      <td>122.842857</td>\n",
       "      <td>37.033429</td>\n",
       "    </tr>\n",
       "    <tr>\n",
       "      <th>20</th>\n",
       "      <td>Q.1</td>\n",
       "      <td>489.218367</td>\n",
       "      <td>39.997959</td>\n",
       "    </tr>\n",
       "    <tr>\n",
       "      <th>21</th>\n",
       "      <td>Q.Tân Bình</td>\n",
       "      <td>222.068571</td>\n",
       "      <td>42.994286</td>\n",
       "    </tr>\n",
       "  </tbody>\n",
       "</table>\n",
       "</div>"
      ],
      "text/plain": [
       "            Quận  Đơn giá gộp        Giá\n",
       "0            Q.8   111.524051   5.061139\n",
       "1       H.Nhà Bè    66.644444   5.918519\n",
       "2           Q.12    81.711538   7.534231\n",
       "3      H.Hóc Môn    53.321053  11.965789\n",
       "4            Q.4   154.876923  12.326923\n",
       "5      Q.Tân Phú   146.175610  18.634390\n",
       "6   H.Bình Chánh    85.964706  19.887059\n",
       "7     Q.Bình Tân   115.153659  20.348537\n",
       "8   Q.Bình Thạnh   168.538272  21.235802\n",
       "9            Q.6   190.615152  22.237576\n",
       "10      Q.Gò Vấp   135.873016  23.325079\n",
       "11   Q.Phú Nhuận   210.291549  23.731690\n",
       "12           Q.7   161.081395  26.153721\n",
       "13           Q.3   321.379167  30.220833\n",
       "14           Q.5   395.717647  31.103824\n",
       "15          Q.10   319.542553  32.130638\n",
       "16     Q.Thủ Đức   112.562857  32.135143\n",
       "17          Q.11   246.273684  34.694737\n",
       "18           Q.2   182.429032  36.891935\n",
       "19           Q.9   122.842857  37.033429\n",
       "20           Q.1   489.218367  39.997959\n",
       "21    Q.Tân Bình   222.068571  42.994286"
      ]
     },
     "execution_count": 14,
     "metadata": {},
     "output_type": "execute_result"
    }
   ],
   "source": [
    "# nhà ở 1\n",
    "# chung cư 2\n",
    "# đất nền 3\n",
    "price_nha_o = df[df['phân loại']==1].groupby('Quận').agg({'Đơn giá gộp':'mean', 'Giá': 'mean'}).sort_values(by='Giá').reset_index()\n",
    "price_nha_o\n"
   ]
  },
  {
   "cell_type": "code",
   "execution_count": 15,
   "metadata": {},
   "outputs": [
    {
     "data": {
      "text/html": [
       "<div>\n",
       "<style scoped>\n",
       "    .dataframe tbody tr th:only-of-type {\n",
       "        vertical-align: middle;\n",
       "    }\n",
       "\n",
       "    .dataframe tbody tr th {\n",
       "        vertical-align: top;\n",
       "    }\n",
       "\n",
       "    .dataframe thead th {\n",
       "        text-align: right;\n",
       "    }\n",
       "</style>\n",
       "<table border=\"1\" class=\"dataframe\">\n",
       "  <thead>\n",
       "    <tr style=\"text-align: right;\">\n",
       "      <th></th>\n",
       "      <th>Quận</th>\n",
       "      <th>Đơn giá gộp nhà ở</th>\n",
       "      <th>Giá nhà ở</th>\n",
       "    </tr>\n",
       "  </thead>\n",
       "  <tbody>\n",
       "    <tr>\n",
       "      <th>0</th>\n",
       "      <td>Q.8</td>\n",
       "      <td>111.524051</td>\n",
       "      <td>5.061139</td>\n",
       "    </tr>\n",
       "    <tr>\n",
       "      <th>1</th>\n",
       "      <td>H.Nhà Bè</td>\n",
       "      <td>66.644444</td>\n",
       "      <td>5.918519</td>\n",
       "    </tr>\n",
       "    <tr>\n",
       "      <th>2</th>\n",
       "      <td>Q.12</td>\n",
       "      <td>81.711538</td>\n",
       "      <td>7.534231</td>\n",
       "    </tr>\n",
       "    <tr>\n",
       "      <th>3</th>\n",
       "      <td>H.Hóc Môn</td>\n",
       "      <td>53.321053</td>\n",
       "      <td>11.965789</td>\n",
       "    </tr>\n",
       "    <tr>\n",
       "      <th>4</th>\n",
       "      <td>Q.4</td>\n",
       "      <td>154.876923</td>\n",
       "      <td>12.326923</td>\n",
       "    </tr>\n",
       "    <tr>\n",
       "      <th>5</th>\n",
       "      <td>Q.Tân Phú</td>\n",
       "      <td>146.175610</td>\n",
       "      <td>18.634390</td>\n",
       "    </tr>\n",
       "    <tr>\n",
       "      <th>6</th>\n",
       "      <td>H.Bình Chánh</td>\n",
       "      <td>85.964706</td>\n",
       "      <td>19.887059</td>\n",
       "    </tr>\n",
       "    <tr>\n",
       "      <th>7</th>\n",
       "      <td>Q.Bình Tân</td>\n",
       "      <td>115.153659</td>\n",
       "      <td>20.348537</td>\n",
       "    </tr>\n",
       "    <tr>\n",
       "      <th>8</th>\n",
       "      <td>Q.Bình Thạnh</td>\n",
       "      <td>168.538272</td>\n",
       "      <td>21.235802</td>\n",
       "    </tr>\n",
       "    <tr>\n",
       "      <th>9</th>\n",
       "      <td>Q.6</td>\n",
       "      <td>190.615152</td>\n",
       "      <td>22.237576</td>\n",
       "    </tr>\n",
       "    <tr>\n",
       "      <th>10</th>\n",
       "      <td>Q.Gò Vấp</td>\n",
       "      <td>135.873016</td>\n",
       "      <td>23.325079</td>\n",
       "    </tr>\n",
       "    <tr>\n",
       "      <th>11</th>\n",
       "      <td>Q.Phú Nhuận</td>\n",
       "      <td>210.291549</td>\n",
       "      <td>23.731690</td>\n",
       "    </tr>\n",
       "    <tr>\n",
       "      <th>12</th>\n",
       "      <td>Q.7</td>\n",
       "      <td>161.081395</td>\n",
       "      <td>26.153721</td>\n",
       "    </tr>\n",
       "    <tr>\n",
       "      <th>13</th>\n",
       "      <td>Q.3</td>\n",
       "      <td>321.379167</td>\n",
       "      <td>30.220833</td>\n",
       "    </tr>\n",
       "    <tr>\n",
       "      <th>14</th>\n",
       "      <td>Q.5</td>\n",
       "      <td>395.717647</td>\n",
       "      <td>31.103824</td>\n",
       "    </tr>\n",
       "    <tr>\n",
       "      <th>15</th>\n",
       "      <td>Q.10</td>\n",
       "      <td>319.542553</td>\n",
       "      <td>32.130638</td>\n",
       "    </tr>\n",
       "    <tr>\n",
       "      <th>16</th>\n",
       "      <td>Q.Thủ Đức</td>\n",
       "      <td>112.562857</td>\n",
       "      <td>32.135143</td>\n",
       "    </tr>\n",
       "    <tr>\n",
       "      <th>17</th>\n",
       "      <td>Q.11</td>\n",
       "      <td>246.273684</td>\n",
       "      <td>34.694737</td>\n",
       "    </tr>\n",
       "    <tr>\n",
       "      <th>18</th>\n",
       "      <td>Q.2</td>\n",
       "      <td>182.429032</td>\n",
       "      <td>36.891935</td>\n",
       "    </tr>\n",
       "    <tr>\n",
       "      <th>19</th>\n",
       "      <td>Q.9</td>\n",
       "      <td>122.842857</td>\n",
       "      <td>37.033429</td>\n",
       "    </tr>\n",
       "    <tr>\n",
       "      <th>20</th>\n",
       "      <td>Q.1</td>\n",
       "      <td>489.218367</td>\n",
       "      <td>39.997959</td>\n",
       "    </tr>\n",
       "    <tr>\n",
       "      <th>21</th>\n",
       "      <td>Q.Tân Bình</td>\n",
       "      <td>222.068571</td>\n",
       "      <td>42.994286</td>\n",
       "    </tr>\n",
       "  </tbody>\n",
       "</table>\n",
       "</div>"
      ],
      "text/plain": [
       "            Quận  Đơn giá gộp nhà ở  Giá nhà ở\n",
       "0            Q.8         111.524051   5.061139\n",
       "1       H.Nhà Bè          66.644444   5.918519\n",
       "2           Q.12          81.711538   7.534231\n",
       "3      H.Hóc Môn          53.321053  11.965789\n",
       "4            Q.4         154.876923  12.326923\n",
       "5      Q.Tân Phú         146.175610  18.634390\n",
       "6   H.Bình Chánh          85.964706  19.887059\n",
       "7     Q.Bình Tân         115.153659  20.348537\n",
       "8   Q.Bình Thạnh         168.538272  21.235802\n",
       "9            Q.6         190.615152  22.237576\n",
       "10      Q.Gò Vấp         135.873016  23.325079\n",
       "11   Q.Phú Nhuận         210.291549  23.731690\n",
       "12           Q.7         161.081395  26.153721\n",
       "13           Q.3         321.379167  30.220833\n",
       "14           Q.5         395.717647  31.103824\n",
       "15          Q.10         319.542553  32.130638\n",
       "16     Q.Thủ Đức         112.562857  32.135143\n",
       "17          Q.11         246.273684  34.694737\n",
       "18           Q.2         182.429032  36.891935\n",
       "19           Q.9         122.842857  37.033429\n",
       "20           Q.1         489.218367  39.997959\n",
       "21    Q.Tân Bình         222.068571  42.994286"
      ]
     },
     "execution_count": 15,
     "metadata": {},
     "output_type": "execute_result"
    }
   ],
   "source": [
    "price_nha_o = price_nha_o.rename(columns = {'Đơn giá gộp':'Đơn giá gộp nhà ở',\n",
    "                          'Giá':'Giá nhà ở',\n",
    "                         })\n",
    "price_nha_o "
   ]
  },
  {
   "cell_type": "code",
   "execution_count": 16,
   "metadata": {},
   "outputs": [
    {
     "name": "stdout",
     "output_type": "stream",
     "text": [
      "            Quận  Đơn giá gộp        Giá\n",
      "0            Q.5    42.431250   1.562500\n",
      "1           Q.11    34.700000   1.640000\n",
      "2            Q.8    33.590323   1.724516\n",
      "3       H.Nhà Bè    28.475000   1.740000\n",
      "4           Q.12    29.192857   1.760714\n",
      "5     Q.Bình Tân    28.979487   1.774103\n",
      "6      Q.Tân Phú    31.850000   1.777083\n",
      "7           Q.10    38.600000   1.800000\n",
      "8       Q.Gò Vấp    28.310000   1.859000\n",
      "9   Q.Bình Thạnh    51.975000   1.903750\n",
      "10           Q.9    40.479487   1.918718\n",
      "11           Q.7    41.046875   2.022500\n",
      "12           Q.3    55.633333   2.116667\n",
      "13  H.Bình Chánh    33.750000   2.196176\n",
      "14     Q.Thủ Đức    34.876923   2.291538\n",
      "15           Q.2    50.119608   3.500784\n",
      "16           Q.6    46.811111   4.680000\n",
      "17    Q.Tân Bình    75.185714   6.657143\n",
      "18   Q.Phú Nhuận   103.820000  12.080000\n",
      "19           Q.1   155.975000  19.737500\n",
      "20           Q.4    68.950000  23.236667\n"
     ]
    },
    {
     "data": {
      "text/html": [
       "<div>\n",
       "<style scoped>\n",
       "    .dataframe tbody tr th:only-of-type {\n",
       "        vertical-align: middle;\n",
       "    }\n",
       "\n",
       "    .dataframe tbody tr th {\n",
       "        vertical-align: top;\n",
       "    }\n",
       "\n",
       "    .dataframe thead th {\n",
       "        text-align: right;\n",
       "    }\n",
       "</style>\n",
       "<table border=\"1\" class=\"dataframe\">\n",
       "  <thead>\n",
       "    <tr style=\"text-align: right;\">\n",
       "      <th></th>\n",
       "      <th>Quận</th>\n",
       "      <th>Đơn giá gộp chung cư</th>\n",
       "      <th>Giá chung cư</th>\n",
       "    </tr>\n",
       "  </thead>\n",
       "  <tbody>\n",
       "    <tr>\n",
       "      <th>0</th>\n",
       "      <td>Q.5</td>\n",
       "      <td>42.431250</td>\n",
       "      <td>1.562500</td>\n",
       "    </tr>\n",
       "    <tr>\n",
       "      <th>1</th>\n",
       "      <td>Q.11</td>\n",
       "      <td>34.700000</td>\n",
       "      <td>1.640000</td>\n",
       "    </tr>\n",
       "    <tr>\n",
       "      <th>2</th>\n",
       "      <td>Q.8</td>\n",
       "      <td>33.590323</td>\n",
       "      <td>1.724516</td>\n",
       "    </tr>\n",
       "    <tr>\n",
       "      <th>3</th>\n",
       "      <td>H.Nhà Bè</td>\n",
       "      <td>28.475000</td>\n",
       "      <td>1.740000</td>\n",
       "    </tr>\n",
       "    <tr>\n",
       "      <th>4</th>\n",
       "      <td>Q.12</td>\n",
       "      <td>29.192857</td>\n",
       "      <td>1.760714</td>\n",
       "    </tr>\n",
       "    <tr>\n",
       "      <th>5</th>\n",
       "      <td>Q.Bình Tân</td>\n",
       "      <td>28.979487</td>\n",
       "      <td>1.774103</td>\n",
       "    </tr>\n",
       "    <tr>\n",
       "      <th>6</th>\n",
       "      <td>Q.Tân Phú</td>\n",
       "      <td>31.850000</td>\n",
       "      <td>1.777083</td>\n",
       "    </tr>\n",
       "    <tr>\n",
       "      <th>7</th>\n",
       "      <td>Q.10</td>\n",
       "      <td>38.600000</td>\n",
       "      <td>1.800000</td>\n",
       "    </tr>\n",
       "    <tr>\n",
       "      <th>8</th>\n",
       "      <td>Q.Gò Vấp</td>\n",
       "      <td>28.310000</td>\n",
       "      <td>1.859000</td>\n",
       "    </tr>\n",
       "    <tr>\n",
       "      <th>9</th>\n",
       "      <td>Q.Bình Thạnh</td>\n",
       "      <td>51.975000</td>\n",
       "      <td>1.903750</td>\n",
       "    </tr>\n",
       "    <tr>\n",
       "      <th>10</th>\n",
       "      <td>Q.9</td>\n",
       "      <td>40.479487</td>\n",
       "      <td>1.918718</td>\n",
       "    </tr>\n",
       "    <tr>\n",
       "      <th>11</th>\n",
       "      <td>Q.7</td>\n",
       "      <td>41.046875</td>\n",
       "      <td>2.022500</td>\n",
       "    </tr>\n",
       "    <tr>\n",
       "      <th>12</th>\n",
       "      <td>Q.3</td>\n",
       "      <td>55.633333</td>\n",
       "      <td>2.116667</td>\n",
       "    </tr>\n",
       "    <tr>\n",
       "      <th>13</th>\n",
       "      <td>H.Bình Chánh</td>\n",
       "      <td>33.750000</td>\n",
       "      <td>2.196176</td>\n",
       "    </tr>\n",
       "    <tr>\n",
       "      <th>14</th>\n",
       "      <td>Q.Thủ Đức</td>\n",
       "      <td>34.876923</td>\n",
       "      <td>2.291538</td>\n",
       "    </tr>\n",
       "    <tr>\n",
       "      <th>15</th>\n",
       "      <td>Q.2</td>\n",
       "      <td>50.119608</td>\n",
       "      <td>3.500784</td>\n",
       "    </tr>\n",
       "    <tr>\n",
       "      <th>16</th>\n",
       "      <td>Q.6</td>\n",
       "      <td>46.811111</td>\n",
       "      <td>4.680000</td>\n",
       "    </tr>\n",
       "    <tr>\n",
       "      <th>17</th>\n",
       "      <td>Q.Tân Bình</td>\n",
       "      <td>75.185714</td>\n",
       "      <td>6.657143</td>\n",
       "    </tr>\n",
       "    <tr>\n",
       "      <th>18</th>\n",
       "      <td>Q.Phú Nhuận</td>\n",
       "      <td>103.820000</td>\n",
       "      <td>12.080000</td>\n",
       "    </tr>\n",
       "    <tr>\n",
       "      <th>19</th>\n",
       "      <td>Q.1</td>\n",
       "      <td>155.975000</td>\n",
       "      <td>19.737500</td>\n",
       "    </tr>\n",
       "    <tr>\n",
       "      <th>20</th>\n",
       "      <td>Q.4</td>\n",
       "      <td>68.950000</td>\n",
       "      <td>23.236667</td>\n",
       "    </tr>\n",
       "  </tbody>\n",
       "</table>\n",
       "</div>"
      ],
      "text/plain": [
       "            Quận  Đơn giá gộp chung cư  Giá chung cư\n",
       "0            Q.5             42.431250      1.562500\n",
       "1           Q.11             34.700000      1.640000\n",
       "2            Q.8             33.590323      1.724516\n",
       "3       H.Nhà Bè             28.475000      1.740000\n",
       "4           Q.12             29.192857      1.760714\n",
       "5     Q.Bình Tân             28.979487      1.774103\n",
       "6      Q.Tân Phú             31.850000      1.777083\n",
       "7           Q.10             38.600000      1.800000\n",
       "8       Q.Gò Vấp             28.310000      1.859000\n",
       "9   Q.Bình Thạnh             51.975000      1.903750\n",
       "10           Q.9             40.479487      1.918718\n",
       "11           Q.7             41.046875      2.022500\n",
       "12           Q.3             55.633333      2.116667\n",
       "13  H.Bình Chánh             33.750000      2.196176\n",
       "14     Q.Thủ Đức             34.876923      2.291538\n",
       "15           Q.2             50.119608      3.500784\n",
       "16           Q.6             46.811111      4.680000\n",
       "17    Q.Tân Bình             75.185714      6.657143\n",
       "18   Q.Phú Nhuận            103.820000     12.080000\n",
       "19           Q.1            155.975000     19.737500\n",
       "20           Q.4             68.950000     23.236667"
      ]
     },
     "execution_count": 16,
     "metadata": {},
     "output_type": "execute_result"
    }
   ],
   "source": [
    "price_chung_cu = df[df['phân loại']==2].groupby('Quận').agg({'Đơn giá gộp':'mean', 'Giá': 'mean'}).sort_values(by='Giá').reset_index()\n",
    "print(price_chung_cu)\n",
    "price_chung_cu = price_chung_cu.rename(columns = {'Đơn giá gộp':'Đơn giá gộp chung cư',\n",
    "                          'Giá':'Giá chung cư',\n",
    "                         })\n",
    "price_chung_cu \n"
   ]
  },
  {
   "cell_type": "code",
   "execution_count": 17,
   "metadata": {},
   "outputs": [
    {
     "name": "stdout",
     "output_type": "stream",
     "text": [
      "            Quận  Đơn giá gộp         Giá\n",
      "0   H.Bình Chánh    18.390476   12.078095\n",
      "1      H.Hóc Môn    21.922727   26.505455\n",
      "2    Q.Phú Nhuận   119.100000   33.000000\n",
      "3           Q.11   161.400000   39.600000\n",
      "4            Q.7   153.420000   40.022000\n",
      "5           Q.12    37.389474   43.239474\n",
      "6       H.Nhà Bè    27.164286   44.660714\n",
      "7            Q.9    55.169231   45.260769\n",
      "8           Q.10   259.700000   46.500000\n",
      "9      Q.Thủ Đức    74.633333   59.458571\n",
      "10           Q.6   143.400000   61.840000\n",
      "11    Q.Bình Tân    55.660000   64.822000\n",
      "12  Q.Bình Thạnh   151.483333   75.958333\n",
      "13           Q.8    44.300000   80.000000\n",
      "14      Q.Gò Vấp    83.933333   84.200000\n",
      "15     Q.Tân Phú   115.000000   88.000000\n",
      "16           Q.1   406.800000   97.000000\n",
      "17           Q.2   169.435294  105.927059\n"
     ]
    },
    {
     "data": {
      "text/html": [
       "<div>\n",
       "<style scoped>\n",
       "    .dataframe tbody tr th:only-of-type {\n",
       "        vertical-align: middle;\n",
       "    }\n",
       "\n",
       "    .dataframe tbody tr th {\n",
       "        vertical-align: top;\n",
       "    }\n",
       "\n",
       "    .dataframe thead th {\n",
       "        text-align: right;\n",
       "    }\n",
       "</style>\n",
       "<table border=\"1\" class=\"dataframe\">\n",
       "  <thead>\n",
       "    <tr style=\"text-align: right;\">\n",
       "      <th></th>\n",
       "      <th>Quận</th>\n",
       "      <th>Đơn giá gộp đất nền</th>\n",
       "      <th>Giá đất nền</th>\n",
       "    </tr>\n",
       "  </thead>\n",
       "  <tbody>\n",
       "    <tr>\n",
       "      <th>0</th>\n",
       "      <td>H.Bình Chánh</td>\n",
       "      <td>18.390476</td>\n",
       "      <td>12.078095</td>\n",
       "    </tr>\n",
       "    <tr>\n",
       "      <th>1</th>\n",
       "      <td>H.Hóc Môn</td>\n",
       "      <td>21.922727</td>\n",
       "      <td>26.505455</td>\n",
       "    </tr>\n",
       "    <tr>\n",
       "      <th>2</th>\n",
       "      <td>Q.Phú Nhuận</td>\n",
       "      <td>119.100000</td>\n",
       "      <td>33.000000</td>\n",
       "    </tr>\n",
       "    <tr>\n",
       "      <th>3</th>\n",
       "      <td>Q.11</td>\n",
       "      <td>161.400000</td>\n",
       "      <td>39.600000</td>\n",
       "    </tr>\n",
       "    <tr>\n",
       "      <th>4</th>\n",
       "      <td>Q.7</td>\n",
       "      <td>153.420000</td>\n",
       "      <td>40.022000</td>\n",
       "    </tr>\n",
       "    <tr>\n",
       "      <th>5</th>\n",
       "      <td>Q.12</td>\n",
       "      <td>37.389474</td>\n",
       "      <td>43.239474</td>\n",
       "    </tr>\n",
       "    <tr>\n",
       "      <th>6</th>\n",
       "      <td>H.Nhà Bè</td>\n",
       "      <td>27.164286</td>\n",
       "      <td>44.660714</td>\n",
       "    </tr>\n",
       "    <tr>\n",
       "      <th>7</th>\n",
       "      <td>Q.9</td>\n",
       "      <td>55.169231</td>\n",
       "      <td>45.260769</td>\n",
       "    </tr>\n",
       "    <tr>\n",
       "      <th>8</th>\n",
       "      <td>Q.10</td>\n",
       "      <td>259.700000</td>\n",
       "      <td>46.500000</td>\n",
       "    </tr>\n",
       "    <tr>\n",
       "      <th>9</th>\n",
       "      <td>Q.Thủ Đức</td>\n",
       "      <td>74.633333</td>\n",
       "      <td>59.458571</td>\n",
       "    </tr>\n",
       "    <tr>\n",
       "      <th>10</th>\n",
       "      <td>Q.6</td>\n",
       "      <td>143.400000</td>\n",
       "      <td>61.840000</td>\n",
       "    </tr>\n",
       "    <tr>\n",
       "      <th>11</th>\n",
       "      <td>Q.Bình Tân</td>\n",
       "      <td>55.660000</td>\n",
       "      <td>64.822000</td>\n",
       "    </tr>\n",
       "    <tr>\n",
       "      <th>12</th>\n",
       "      <td>Q.Bình Thạnh</td>\n",
       "      <td>151.483333</td>\n",
       "      <td>75.958333</td>\n",
       "    </tr>\n",
       "    <tr>\n",
       "      <th>13</th>\n",
       "      <td>Q.8</td>\n",
       "      <td>44.300000</td>\n",
       "      <td>80.000000</td>\n",
       "    </tr>\n",
       "    <tr>\n",
       "      <th>14</th>\n",
       "      <td>Q.Gò Vấp</td>\n",
       "      <td>83.933333</td>\n",
       "      <td>84.200000</td>\n",
       "    </tr>\n",
       "    <tr>\n",
       "      <th>15</th>\n",
       "      <td>Q.Tân Phú</td>\n",
       "      <td>115.000000</td>\n",
       "      <td>88.000000</td>\n",
       "    </tr>\n",
       "    <tr>\n",
       "      <th>16</th>\n",
       "      <td>Q.1</td>\n",
       "      <td>406.800000</td>\n",
       "      <td>97.000000</td>\n",
       "    </tr>\n",
       "    <tr>\n",
       "      <th>17</th>\n",
       "      <td>Q.2</td>\n",
       "      <td>169.435294</td>\n",
       "      <td>105.927059</td>\n",
       "    </tr>\n",
       "  </tbody>\n",
       "</table>\n",
       "</div>"
      ],
      "text/plain": [
       "            Quận  Đơn giá gộp đất nền  Giá đất nền\n",
       "0   H.Bình Chánh            18.390476    12.078095\n",
       "1      H.Hóc Môn            21.922727    26.505455\n",
       "2    Q.Phú Nhuận           119.100000    33.000000\n",
       "3           Q.11           161.400000    39.600000\n",
       "4            Q.7           153.420000    40.022000\n",
       "5           Q.12            37.389474    43.239474\n",
       "6       H.Nhà Bè            27.164286    44.660714\n",
       "7            Q.9            55.169231    45.260769\n",
       "8           Q.10           259.700000    46.500000\n",
       "9      Q.Thủ Đức            74.633333    59.458571\n",
       "10           Q.6           143.400000    61.840000\n",
       "11    Q.Bình Tân            55.660000    64.822000\n",
       "12  Q.Bình Thạnh           151.483333    75.958333\n",
       "13           Q.8            44.300000    80.000000\n",
       "14      Q.Gò Vấp            83.933333    84.200000\n",
       "15     Q.Tân Phú           115.000000    88.000000\n",
       "16           Q.1           406.800000    97.000000\n",
       "17           Q.2           169.435294   105.927059"
      ]
     },
     "execution_count": 17,
     "metadata": {},
     "output_type": "execute_result"
    }
   ],
   "source": [
    "price_dat_nen = df[df['phân loại']==3].groupby('Quận').agg({'Đơn giá gộp':'mean', 'Giá': 'mean'}).sort_values(by='Giá').reset_index()\n",
    "print(price_dat_nen)\n",
    "price_dat_nen = price_dat_nen.rename(columns = {'Đơn giá gộp':'Đơn giá gộp đất nền',\n",
    "                          'Giá':'Giá đất nền',\n",
    "                         })\n",
    "price_dat_nen                         "
   ]
  },
  {
   "cell_type": "code",
   "execution_count": 18,
   "metadata": {},
   "outputs": [],
   "source": [
    "# hcm = pd.merge(hcmc_location, price_nha_o, price_chung_cu, price_dat_nen, how='outer')\n",
    "# hcm"
   ]
  },
  {
   "cell_type": "code",
   "execution_count": 19,
   "metadata": {},
   "outputs": [
    {
     "data": {
      "text/html": [
       "<div>\n",
       "<style scoped>\n",
       "    .dataframe tbody tr th:only-of-type {\n",
       "        vertical-align: middle;\n",
       "    }\n",
       "\n",
       "    .dataframe tbody tr th {\n",
       "        vertical-align: top;\n",
       "    }\n",
       "\n",
       "    .dataframe thead th {\n",
       "        text-align: right;\n",
       "    }\n",
       "</style>\n",
       "<table border=\"1\" class=\"dataframe\">\n",
       "  <thead>\n",
       "    <tr style=\"text-align: right;\">\n",
       "      <th></th>\n",
       "      <th>Quận</th>\n",
       "      <th>Đơn giá gộp nhà ở</th>\n",
       "      <th>Giá nhà ở</th>\n",
       "      <th>Đơn giá gộp đất nền</th>\n",
       "      <th>Giá đất nền</th>\n",
       "    </tr>\n",
       "  </thead>\n",
       "  <tbody>\n",
       "    <tr>\n",
       "      <th>0</th>\n",
       "      <td>Q.8</td>\n",
       "      <td>111.524051</td>\n",
       "      <td>5.061139</td>\n",
       "      <td>44.300000</td>\n",
       "      <td>80.000000</td>\n",
       "    </tr>\n",
       "    <tr>\n",
       "      <th>1</th>\n",
       "      <td>H.Nhà Bè</td>\n",
       "      <td>66.644444</td>\n",
       "      <td>5.918519</td>\n",
       "      <td>27.164286</td>\n",
       "      <td>44.660714</td>\n",
       "    </tr>\n",
       "    <tr>\n",
       "      <th>2</th>\n",
       "      <td>Q.12</td>\n",
       "      <td>81.711538</td>\n",
       "      <td>7.534231</td>\n",
       "      <td>37.389474</td>\n",
       "      <td>43.239474</td>\n",
       "    </tr>\n",
       "    <tr>\n",
       "      <th>3</th>\n",
       "      <td>H.Hóc Môn</td>\n",
       "      <td>53.321053</td>\n",
       "      <td>11.965789</td>\n",
       "      <td>21.922727</td>\n",
       "      <td>26.505455</td>\n",
       "    </tr>\n",
       "    <tr>\n",
       "      <th>4</th>\n",
       "      <td>Q.4</td>\n",
       "      <td>154.876923</td>\n",
       "      <td>12.326923</td>\n",
       "      <td>NaN</td>\n",
       "      <td>NaN</td>\n",
       "    </tr>\n",
       "    <tr>\n",
       "      <th>5</th>\n",
       "      <td>Q.Tân Phú</td>\n",
       "      <td>146.175610</td>\n",
       "      <td>18.634390</td>\n",
       "      <td>115.000000</td>\n",
       "      <td>88.000000</td>\n",
       "    </tr>\n",
       "    <tr>\n",
       "      <th>6</th>\n",
       "      <td>H.Bình Chánh</td>\n",
       "      <td>85.964706</td>\n",
       "      <td>19.887059</td>\n",
       "      <td>18.390476</td>\n",
       "      <td>12.078095</td>\n",
       "    </tr>\n",
       "    <tr>\n",
       "      <th>7</th>\n",
       "      <td>Q.Bình Tân</td>\n",
       "      <td>115.153659</td>\n",
       "      <td>20.348537</td>\n",
       "      <td>55.660000</td>\n",
       "      <td>64.822000</td>\n",
       "    </tr>\n",
       "    <tr>\n",
       "      <th>8</th>\n",
       "      <td>Q.Bình Thạnh</td>\n",
       "      <td>168.538272</td>\n",
       "      <td>21.235802</td>\n",
       "      <td>151.483333</td>\n",
       "      <td>75.958333</td>\n",
       "    </tr>\n",
       "    <tr>\n",
       "      <th>9</th>\n",
       "      <td>Q.6</td>\n",
       "      <td>190.615152</td>\n",
       "      <td>22.237576</td>\n",
       "      <td>143.400000</td>\n",
       "      <td>61.840000</td>\n",
       "    </tr>\n",
       "    <tr>\n",
       "      <th>10</th>\n",
       "      <td>Q.Gò Vấp</td>\n",
       "      <td>135.873016</td>\n",
       "      <td>23.325079</td>\n",
       "      <td>83.933333</td>\n",
       "      <td>84.200000</td>\n",
       "    </tr>\n",
       "    <tr>\n",
       "      <th>11</th>\n",
       "      <td>Q.Phú Nhuận</td>\n",
       "      <td>210.291549</td>\n",
       "      <td>23.731690</td>\n",
       "      <td>119.100000</td>\n",
       "      <td>33.000000</td>\n",
       "    </tr>\n",
       "    <tr>\n",
       "      <th>12</th>\n",
       "      <td>Q.7</td>\n",
       "      <td>161.081395</td>\n",
       "      <td>26.153721</td>\n",
       "      <td>153.420000</td>\n",
       "      <td>40.022000</td>\n",
       "    </tr>\n",
       "    <tr>\n",
       "      <th>13</th>\n",
       "      <td>Q.3</td>\n",
       "      <td>321.379167</td>\n",
       "      <td>30.220833</td>\n",
       "      <td>NaN</td>\n",
       "      <td>NaN</td>\n",
       "    </tr>\n",
       "    <tr>\n",
       "      <th>14</th>\n",
       "      <td>Q.5</td>\n",
       "      <td>395.717647</td>\n",
       "      <td>31.103824</td>\n",
       "      <td>NaN</td>\n",
       "      <td>NaN</td>\n",
       "    </tr>\n",
       "    <tr>\n",
       "      <th>15</th>\n",
       "      <td>Q.10</td>\n",
       "      <td>319.542553</td>\n",
       "      <td>32.130638</td>\n",
       "      <td>259.700000</td>\n",
       "      <td>46.500000</td>\n",
       "    </tr>\n",
       "    <tr>\n",
       "      <th>16</th>\n",
       "      <td>Q.Thủ Đức</td>\n",
       "      <td>112.562857</td>\n",
       "      <td>32.135143</td>\n",
       "      <td>74.633333</td>\n",
       "      <td>59.458571</td>\n",
       "    </tr>\n",
       "    <tr>\n",
       "      <th>17</th>\n",
       "      <td>Q.11</td>\n",
       "      <td>246.273684</td>\n",
       "      <td>34.694737</td>\n",
       "      <td>161.400000</td>\n",
       "      <td>39.600000</td>\n",
       "    </tr>\n",
       "    <tr>\n",
       "      <th>18</th>\n",
       "      <td>Q.2</td>\n",
       "      <td>182.429032</td>\n",
       "      <td>36.891935</td>\n",
       "      <td>169.435294</td>\n",
       "      <td>105.927059</td>\n",
       "    </tr>\n",
       "    <tr>\n",
       "      <th>19</th>\n",
       "      <td>Q.9</td>\n",
       "      <td>122.842857</td>\n",
       "      <td>37.033429</td>\n",
       "      <td>55.169231</td>\n",
       "      <td>45.260769</td>\n",
       "    </tr>\n",
       "    <tr>\n",
       "      <th>20</th>\n",
       "      <td>Q.1</td>\n",
       "      <td>489.218367</td>\n",
       "      <td>39.997959</td>\n",
       "      <td>406.800000</td>\n",
       "      <td>97.000000</td>\n",
       "    </tr>\n",
       "    <tr>\n",
       "      <th>21</th>\n",
       "      <td>Q.Tân Bình</td>\n",
       "      <td>222.068571</td>\n",
       "      <td>42.994286</td>\n",
       "      <td>NaN</td>\n",
       "      <td>NaN</td>\n",
       "    </tr>\n",
       "  </tbody>\n",
       "</table>\n",
       "</div>"
      ],
      "text/plain": [
       "            Quận  Đơn giá gộp nhà ở  Giá nhà ở  Đơn giá gộp đất nền  \\\n",
       "0            Q.8         111.524051   5.061139            44.300000   \n",
       "1       H.Nhà Bè          66.644444   5.918519            27.164286   \n",
       "2           Q.12          81.711538   7.534231            37.389474   \n",
       "3      H.Hóc Môn          53.321053  11.965789            21.922727   \n",
       "4            Q.4         154.876923  12.326923                  NaN   \n",
       "5      Q.Tân Phú         146.175610  18.634390           115.000000   \n",
       "6   H.Bình Chánh          85.964706  19.887059            18.390476   \n",
       "7     Q.Bình Tân         115.153659  20.348537            55.660000   \n",
       "8   Q.Bình Thạnh         168.538272  21.235802           151.483333   \n",
       "9            Q.6         190.615152  22.237576           143.400000   \n",
       "10      Q.Gò Vấp         135.873016  23.325079            83.933333   \n",
       "11   Q.Phú Nhuận         210.291549  23.731690           119.100000   \n",
       "12           Q.7         161.081395  26.153721           153.420000   \n",
       "13           Q.3         321.379167  30.220833                  NaN   \n",
       "14           Q.5         395.717647  31.103824                  NaN   \n",
       "15          Q.10         319.542553  32.130638           259.700000   \n",
       "16     Q.Thủ Đức         112.562857  32.135143            74.633333   \n",
       "17          Q.11         246.273684  34.694737           161.400000   \n",
       "18           Q.2         182.429032  36.891935           169.435294   \n",
       "19           Q.9         122.842857  37.033429            55.169231   \n",
       "20           Q.1         489.218367  39.997959           406.800000   \n",
       "21    Q.Tân Bình         222.068571  42.994286                  NaN   \n",
       "\n",
       "    Giá đất nền  \n",
       "0     80.000000  \n",
       "1     44.660714  \n",
       "2     43.239474  \n",
       "3     26.505455  \n",
       "4           NaN  \n",
       "5     88.000000  \n",
       "6     12.078095  \n",
       "7     64.822000  \n",
       "8     75.958333  \n",
       "9     61.840000  \n",
       "10    84.200000  \n",
       "11    33.000000  \n",
       "12    40.022000  \n",
       "13          NaN  \n",
       "14          NaN  \n",
       "15    46.500000  \n",
       "16    59.458571  \n",
       "17    39.600000  \n",
       "18   105.927059  \n",
       "19    45.260769  \n",
       "20    97.000000  \n",
       "21          NaN  "
      ]
     },
     "execution_count": 19,
     "metadata": {},
     "output_type": "execute_result"
    }
   ],
   "source": [
    "x = pd.merge(price_nha_o, price_dat_nen, how='outer')\n",
    "x"
   ]
  },
  {
   "cell_type": "code",
   "execution_count": 20,
   "metadata": {},
   "outputs": [
    {
     "data": {
      "text/html": [
       "<div>\n",
       "<style scoped>\n",
       "    .dataframe tbody tr th:only-of-type {\n",
       "        vertical-align: middle;\n",
       "    }\n",
       "\n",
       "    .dataframe tbody tr th {\n",
       "        vertical-align: top;\n",
       "    }\n",
       "\n",
       "    .dataframe thead th {\n",
       "        text-align: right;\n",
       "    }\n",
       "</style>\n",
       "<table border=\"1\" class=\"dataframe\">\n",
       "  <thead>\n",
       "    <tr style=\"text-align: right;\">\n",
       "      <th></th>\n",
       "      <th>Quận</th>\n",
       "      <th>Đơn giá gộp nhà ở</th>\n",
       "      <th>Giá nhà ở</th>\n",
       "      <th>Đơn giá gộp đất nền</th>\n",
       "      <th>Giá đất nền</th>\n",
       "      <th>Đơn giá gộp chung cư</th>\n",
       "      <th>Giá chung cư</th>\n",
       "    </tr>\n",
       "  </thead>\n",
       "  <tbody>\n",
       "    <tr>\n",
       "      <th>0</th>\n",
       "      <td>Q.8</td>\n",
       "      <td>111.524051</td>\n",
       "      <td>5.061139</td>\n",
       "      <td>44.300000</td>\n",
       "      <td>80.000000</td>\n",
       "      <td>33.590323</td>\n",
       "      <td>1.724516</td>\n",
       "    </tr>\n",
       "    <tr>\n",
       "      <th>1</th>\n",
       "      <td>H.Nhà Bè</td>\n",
       "      <td>66.644444</td>\n",
       "      <td>5.918519</td>\n",
       "      <td>27.164286</td>\n",
       "      <td>44.660714</td>\n",
       "      <td>28.475000</td>\n",
       "      <td>1.740000</td>\n",
       "    </tr>\n",
       "    <tr>\n",
       "      <th>2</th>\n",
       "      <td>Q.12</td>\n",
       "      <td>81.711538</td>\n",
       "      <td>7.534231</td>\n",
       "      <td>37.389474</td>\n",
       "      <td>43.239474</td>\n",
       "      <td>29.192857</td>\n",
       "      <td>1.760714</td>\n",
       "    </tr>\n",
       "    <tr>\n",
       "      <th>3</th>\n",
       "      <td>H.Hóc Môn</td>\n",
       "      <td>53.321053</td>\n",
       "      <td>11.965789</td>\n",
       "      <td>21.922727</td>\n",
       "      <td>26.505455</td>\n",
       "      <td>NaN</td>\n",
       "      <td>NaN</td>\n",
       "    </tr>\n",
       "    <tr>\n",
       "      <th>4</th>\n",
       "      <td>Q.4</td>\n",
       "      <td>154.876923</td>\n",
       "      <td>12.326923</td>\n",
       "      <td>NaN</td>\n",
       "      <td>NaN</td>\n",
       "      <td>68.950000</td>\n",
       "      <td>23.236667</td>\n",
       "    </tr>\n",
       "    <tr>\n",
       "      <th>5</th>\n",
       "      <td>Q.Tân Phú</td>\n",
       "      <td>146.175610</td>\n",
       "      <td>18.634390</td>\n",
       "      <td>115.000000</td>\n",
       "      <td>88.000000</td>\n",
       "      <td>31.850000</td>\n",
       "      <td>1.777083</td>\n",
       "    </tr>\n",
       "    <tr>\n",
       "      <th>6</th>\n",
       "      <td>H.Bình Chánh</td>\n",
       "      <td>85.964706</td>\n",
       "      <td>19.887059</td>\n",
       "      <td>18.390476</td>\n",
       "      <td>12.078095</td>\n",
       "      <td>33.750000</td>\n",
       "      <td>2.196176</td>\n",
       "    </tr>\n",
       "    <tr>\n",
       "      <th>7</th>\n",
       "      <td>Q.Bình Tân</td>\n",
       "      <td>115.153659</td>\n",
       "      <td>20.348537</td>\n",
       "      <td>55.660000</td>\n",
       "      <td>64.822000</td>\n",
       "      <td>28.979487</td>\n",
       "      <td>1.774103</td>\n",
       "    </tr>\n",
       "    <tr>\n",
       "      <th>8</th>\n",
       "      <td>Q.Bình Thạnh</td>\n",
       "      <td>168.538272</td>\n",
       "      <td>21.235802</td>\n",
       "      <td>151.483333</td>\n",
       "      <td>75.958333</td>\n",
       "      <td>51.975000</td>\n",
       "      <td>1.903750</td>\n",
       "    </tr>\n",
       "    <tr>\n",
       "      <th>9</th>\n",
       "      <td>Q.6</td>\n",
       "      <td>190.615152</td>\n",
       "      <td>22.237576</td>\n",
       "      <td>143.400000</td>\n",
       "      <td>61.840000</td>\n",
       "      <td>46.811111</td>\n",
       "      <td>4.680000</td>\n",
       "    </tr>\n",
       "    <tr>\n",
       "      <th>10</th>\n",
       "      <td>Q.Gò Vấp</td>\n",
       "      <td>135.873016</td>\n",
       "      <td>23.325079</td>\n",
       "      <td>83.933333</td>\n",
       "      <td>84.200000</td>\n",
       "      <td>28.310000</td>\n",
       "      <td>1.859000</td>\n",
       "    </tr>\n",
       "    <tr>\n",
       "      <th>11</th>\n",
       "      <td>Q.Phú Nhuận</td>\n",
       "      <td>210.291549</td>\n",
       "      <td>23.731690</td>\n",
       "      <td>119.100000</td>\n",
       "      <td>33.000000</td>\n",
       "      <td>103.820000</td>\n",
       "      <td>12.080000</td>\n",
       "    </tr>\n",
       "    <tr>\n",
       "      <th>12</th>\n",
       "      <td>Q.7</td>\n",
       "      <td>161.081395</td>\n",
       "      <td>26.153721</td>\n",
       "      <td>153.420000</td>\n",
       "      <td>40.022000</td>\n",
       "      <td>41.046875</td>\n",
       "      <td>2.022500</td>\n",
       "    </tr>\n",
       "    <tr>\n",
       "      <th>13</th>\n",
       "      <td>Q.3</td>\n",
       "      <td>321.379167</td>\n",
       "      <td>30.220833</td>\n",
       "      <td>NaN</td>\n",
       "      <td>NaN</td>\n",
       "      <td>55.633333</td>\n",
       "      <td>2.116667</td>\n",
       "    </tr>\n",
       "    <tr>\n",
       "      <th>14</th>\n",
       "      <td>Q.5</td>\n",
       "      <td>395.717647</td>\n",
       "      <td>31.103824</td>\n",
       "      <td>NaN</td>\n",
       "      <td>NaN</td>\n",
       "      <td>42.431250</td>\n",
       "      <td>1.562500</td>\n",
       "    </tr>\n",
       "    <tr>\n",
       "      <th>15</th>\n",
       "      <td>Q.10</td>\n",
       "      <td>319.542553</td>\n",
       "      <td>32.130638</td>\n",
       "      <td>259.700000</td>\n",
       "      <td>46.500000</td>\n",
       "      <td>38.600000</td>\n",
       "      <td>1.800000</td>\n",
       "    </tr>\n",
       "    <tr>\n",
       "      <th>16</th>\n",
       "      <td>Q.Thủ Đức</td>\n",
       "      <td>112.562857</td>\n",
       "      <td>32.135143</td>\n",
       "      <td>74.633333</td>\n",
       "      <td>59.458571</td>\n",
       "      <td>34.876923</td>\n",
       "      <td>2.291538</td>\n",
       "    </tr>\n",
       "    <tr>\n",
       "      <th>17</th>\n",
       "      <td>Q.11</td>\n",
       "      <td>246.273684</td>\n",
       "      <td>34.694737</td>\n",
       "      <td>161.400000</td>\n",
       "      <td>39.600000</td>\n",
       "      <td>34.700000</td>\n",
       "      <td>1.640000</td>\n",
       "    </tr>\n",
       "    <tr>\n",
       "      <th>18</th>\n",
       "      <td>Q.2</td>\n",
       "      <td>182.429032</td>\n",
       "      <td>36.891935</td>\n",
       "      <td>169.435294</td>\n",
       "      <td>105.927059</td>\n",
       "      <td>50.119608</td>\n",
       "      <td>3.500784</td>\n",
       "    </tr>\n",
       "    <tr>\n",
       "      <th>19</th>\n",
       "      <td>Q.9</td>\n",
       "      <td>122.842857</td>\n",
       "      <td>37.033429</td>\n",
       "      <td>55.169231</td>\n",
       "      <td>45.260769</td>\n",
       "      <td>40.479487</td>\n",
       "      <td>1.918718</td>\n",
       "    </tr>\n",
       "    <tr>\n",
       "      <th>20</th>\n",
       "      <td>Q.1</td>\n",
       "      <td>489.218367</td>\n",
       "      <td>39.997959</td>\n",
       "      <td>406.800000</td>\n",
       "      <td>97.000000</td>\n",
       "      <td>155.975000</td>\n",
       "      <td>19.737500</td>\n",
       "    </tr>\n",
       "    <tr>\n",
       "      <th>21</th>\n",
       "      <td>Q.Tân Bình</td>\n",
       "      <td>222.068571</td>\n",
       "      <td>42.994286</td>\n",
       "      <td>NaN</td>\n",
       "      <td>NaN</td>\n",
       "      <td>75.185714</td>\n",
       "      <td>6.657143</td>\n",
       "    </tr>\n",
       "  </tbody>\n",
       "</table>\n",
       "</div>"
      ],
      "text/plain": [
       "            Quận  Đơn giá gộp nhà ở  Giá nhà ở  Đơn giá gộp đất nền  \\\n",
       "0            Q.8         111.524051   5.061139            44.300000   \n",
       "1       H.Nhà Bè          66.644444   5.918519            27.164286   \n",
       "2           Q.12          81.711538   7.534231            37.389474   \n",
       "3      H.Hóc Môn          53.321053  11.965789            21.922727   \n",
       "4            Q.4         154.876923  12.326923                  NaN   \n",
       "5      Q.Tân Phú         146.175610  18.634390           115.000000   \n",
       "6   H.Bình Chánh          85.964706  19.887059            18.390476   \n",
       "7     Q.Bình Tân         115.153659  20.348537            55.660000   \n",
       "8   Q.Bình Thạnh         168.538272  21.235802           151.483333   \n",
       "9            Q.6         190.615152  22.237576           143.400000   \n",
       "10      Q.Gò Vấp         135.873016  23.325079            83.933333   \n",
       "11   Q.Phú Nhuận         210.291549  23.731690           119.100000   \n",
       "12           Q.7         161.081395  26.153721           153.420000   \n",
       "13           Q.3         321.379167  30.220833                  NaN   \n",
       "14           Q.5         395.717647  31.103824                  NaN   \n",
       "15          Q.10         319.542553  32.130638           259.700000   \n",
       "16     Q.Thủ Đức         112.562857  32.135143            74.633333   \n",
       "17          Q.11         246.273684  34.694737           161.400000   \n",
       "18           Q.2         182.429032  36.891935           169.435294   \n",
       "19           Q.9         122.842857  37.033429            55.169231   \n",
       "20           Q.1         489.218367  39.997959           406.800000   \n",
       "21    Q.Tân Bình         222.068571  42.994286                  NaN   \n",
       "\n",
       "    Giá đất nền  Đơn giá gộp chung cư  Giá chung cư  \n",
       "0     80.000000             33.590323      1.724516  \n",
       "1     44.660714             28.475000      1.740000  \n",
       "2     43.239474             29.192857      1.760714  \n",
       "3     26.505455                   NaN           NaN  \n",
       "4           NaN             68.950000     23.236667  \n",
       "5     88.000000             31.850000      1.777083  \n",
       "6     12.078095             33.750000      2.196176  \n",
       "7     64.822000             28.979487      1.774103  \n",
       "8     75.958333             51.975000      1.903750  \n",
       "9     61.840000             46.811111      4.680000  \n",
       "10    84.200000             28.310000      1.859000  \n",
       "11    33.000000            103.820000     12.080000  \n",
       "12    40.022000             41.046875      2.022500  \n",
       "13          NaN             55.633333      2.116667  \n",
       "14          NaN             42.431250      1.562500  \n",
       "15    46.500000             38.600000      1.800000  \n",
       "16    59.458571             34.876923      2.291538  \n",
       "17    39.600000             34.700000      1.640000  \n",
       "18   105.927059             50.119608      3.500784  \n",
       "19    45.260769             40.479487      1.918718  \n",
       "20    97.000000            155.975000     19.737500  \n",
       "21          NaN             75.185714      6.657143  "
      ]
     },
     "execution_count": 20,
     "metadata": {},
     "output_type": "execute_result"
    }
   ],
   "source": [
    "y = pd.merge(x, price_chung_cu, how='outer')\n",
    "y"
   ]
  },
  {
   "cell_type": "code",
   "execution_count": 21,
   "metadata": {},
   "outputs": [
    {
     "data": {
      "text/html": [
       "<div>\n",
       "<style scoped>\n",
       "    .dataframe tbody tr th:only-of-type {\n",
       "        vertical-align: middle;\n",
       "    }\n",
       "\n",
       "    .dataframe tbody tr th {\n",
       "        vertical-align: top;\n",
       "    }\n",
       "\n",
       "    .dataframe thead th {\n",
       "        text-align: right;\n",
       "    }\n",
       "</style>\n",
       "<table border=\"1\" class=\"dataframe\">\n",
       "  <thead>\n",
       "    <tr style=\"text-align: right;\">\n",
       "      <th></th>\n",
       "      <th>Quận</th>\n",
       "      <th>Latitude</th>\n",
       "      <th>Longitude</th>\n",
       "      <th>Đơn giá gộp</th>\n",
       "      <th>Giá</th>\n",
       "      <th>Diện tích đất</th>\n",
       "      <th>Đơn giá gộp nhà ở</th>\n",
       "      <th>Giá nhà ở</th>\n",
       "      <th>Đơn giá gộp đất nền</th>\n",
       "      <th>Giá đất nền</th>\n",
       "      <th>Đơn giá gộp chung cư</th>\n",
       "      <th>Giá chung cư</th>\n",
       "    </tr>\n",
       "  </thead>\n",
       "  <tbody>\n",
       "    <tr>\n",
       "      <th>0</th>\n",
       "      <td>H.Hóc Môn</td>\n",
       "      <td>10.883968</td>\n",
       "      <td>106.587061</td>\n",
       "      <td>36.473</td>\n",
       "      <td>19.768</td>\n",
       "      <td>1028.0</td>\n",
       "      <td>53.321053</td>\n",
       "      <td>11.965789</td>\n",
       "      <td>21.922727</td>\n",
       "      <td>26.505455</td>\n",
       "      <td>NaN</td>\n",
       "      <td>NaN</td>\n",
       "    </tr>\n",
       "    <tr>\n",
       "      <th>1</th>\n",
       "      <td>H.Bình Chánh</td>\n",
       "      <td>10.687392</td>\n",
       "      <td>106.593854</td>\n",
       "      <td>41.599</td>\n",
       "      <td>9.255</td>\n",
       "      <td>436.0</td>\n",
       "      <td>85.964706</td>\n",
       "      <td>19.887059</td>\n",
       "      <td>18.390476</td>\n",
       "      <td>12.078095</td>\n",
       "      <td>33.750000</td>\n",
       "      <td>2.196176</td>\n",
       "    </tr>\n",
       "    <tr>\n",
       "      <th>2</th>\n",
       "      <td>H.Nhà Bè</td>\n",
       "      <td>10.695264</td>\n",
       "      <td>106.704874</td>\n",
       "      <td>50.969</td>\n",
       "      <td>17.600</td>\n",
       "      <td>611.0</td>\n",
       "      <td>66.644444</td>\n",
       "      <td>5.918519</td>\n",
       "      <td>27.164286</td>\n",
       "      <td>44.660714</td>\n",
       "      <td>28.475000</td>\n",
       "      <td>1.740000</td>\n",
       "    </tr>\n",
       "    <tr>\n",
       "      <th>3</th>\n",
       "      <td>Q.12</td>\n",
       "      <td>10.867153</td>\n",
       "      <td>106.641332</td>\n",
       "      <td>54.976</td>\n",
       "      <td>17.663</td>\n",
       "      <td>537.0</td>\n",
       "      <td>81.711538</td>\n",
       "      <td>7.534231</td>\n",
       "      <td>37.389474</td>\n",
       "      <td>43.239474</td>\n",
       "      <td>29.192857</td>\n",
       "      <td>1.760714</td>\n",
       "    </tr>\n",
       "    <tr>\n",
       "      <th>4</th>\n",
       "      <td>Q.Bình Tân</td>\n",
       "      <td>10.765258</td>\n",
       "      <td>106.603853</td>\n",
       "      <td>70.383</td>\n",
       "      <td>19.745</td>\n",
       "      <td>380.0</td>\n",
       "      <td>115.153659</td>\n",
       "      <td>20.348537</td>\n",
       "      <td>55.660000</td>\n",
       "      <td>64.822000</td>\n",
       "      <td>28.979487</td>\n",
       "      <td>1.774103</td>\n",
       "    </tr>\n",
       "    <tr>\n",
       "      <th>5</th>\n",
       "      <td>Q.9</td>\n",
       "      <td>10.842840</td>\n",
       "      <td>106.828685</td>\n",
       "      <td>75.809</td>\n",
       "      <td>22.522</td>\n",
       "      <td>399.0</td>\n",
       "      <td>122.842857</td>\n",
       "      <td>37.033429</td>\n",
       "      <td>55.169231</td>\n",
       "      <td>45.260769</td>\n",
       "      <td>40.479487</td>\n",
       "      <td>1.918718</td>\n",
       "    </tr>\n",
       "    <tr>\n",
       "      <th>6</th>\n",
       "      <td>Q.Thủ Đức</td>\n",
       "      <td>10.849409</td>\n",
       "      <td>106.753705</td>\n",
       "      <td>86.383</td>\n",
       "      <td>34.828</td>\n",
       "      <td>746.0</td>\n",
       "      <td>112.562857</td>\n",
       "      <td>32.135143</td>\n",
       "      <td>74.633333</td>\n",
       "      <td>59.458571</td>\n",
       "      <td>34.876923</td>\n",
       "      <td>2.291538</td>\n",
       "    </tr>\n",
       "    <tr>\n",
       "      <th>7</th>\n",
       "      <td>Q.8</td>\n",
       "      <td>10.724088</td>\n",
       "      <td>106.628626</td>\n",
       "      <td>89.153</td>\n",
       "      <td>4.804</td>\n",
       "      <td>64.0</td>\n",
       "      <td>111.524051</td>\n",
       "      <td>5.061139</td>\n",
       "      <td>44.300000</td>\n",
       "      <td>80.000000</td>\n",
       "      <td>33.590323</td>\n",
       "      <td>1.724516</td>\n",
       "    </tr>\n",
       "    <tr>\n",
       "      <th>8</th>\n",
       "      <td>Q.Tân Phú</td>\n",
       "      <td>11.427531</td>\n",
       "      <td>107.361230</td>\n",
       "      <td>104.450</td>\n",
       "      <td>15.745</td>\n",
       "      <td>126.0</td>\n",
       "      <td>146.175610</td>\n",
       "      <td>18.634390</td>\n",
       "      <td>115.000000</td>\n",
       "      <td>88.000000</td>\n",
       "      <td>31.850000</td>\n",
       "      <td>1.777083</td>\n",
       "    </tr>\n",
       "    <tr>\n",
       "      <th>9</th>\n",
       "      <td>Q.2</td>\n",
       "      <td>10.787273</td>\n",
       "      <td>106.749810</td>\n",
       "      <td>112.038</td>\n",
       "      <td>31.545</td>\n",
       "      <td>275.0</td>\n",
       "      <td>182.429032</td>\n",
       "      <td>36.891935</td>\n",
       "      <td>169.435294</td>\n",
       "      <td>105.927059</td>\n",
       "      <td>50.119608</td>\n",
       "      <td>3.500784</td>\n",
       "    </tr>\n",
       "    <tr>\n",
       "      <th>10</th>\n",
       "      <td>Q.7</td>\n",
       "      <td>10.734034</td>\n",
       "      <td>106.721579</td>\n",
       "      <td>112.589</td>\n",
       "      <td>17.368</td>\n",
       "      <td>136.0</td>\n",
       "      <td>161.081395</td>\n",
       "      <td>26.153721</td>\n",
       "      <td>153.420000</td>\n",
       "      <td>40.022000</td>\n",
       "      <td>41.046875</td>\n",
       "      <td>2.022500</td>\n",
       "    </tr>\n",
       "    <tr>\n",
       "      <th>11</th>\n",
       "      <td>Q.Gò Vấp</td>\n",
       "      <td>10.838678</td>\n",
       "      <td>106.665290</td>\n",
       "      <td>119.670</td>\n",
       "      <td>22.904</td>\n",
       "      <td>184.0</td>\n",
       "      <td>135.873016</td>\n",
       "      <td>23.325079</td>\n",
       "      <td>83.933333</td>\n",
       "      <td>84.200000</td>\n",
       "      <td>28.310000</td>\n",
       "      <td>1.859000</td>\n",
       "    </tr>\n",
       "    <tr>\n",
       "      <th>12</th>\n",
       "      <td>Q.4</td>\n",
       "      <td>10.757826</td>\n",
       "      <td>106.701297</td>\n",
       "      <td>138.766</td>\n",
       "      <td>14.373</td>\n",
       "      <td>87.0</td>\n",
       "      <td>154.876923</td>\n",
       "      <td>12.326923</td>\n",
       "      <td>NaN</td>\n",
       "      <td>NaN</td>\n",
       "      <td>68.950000</td>\n",
       "      <td>23.236667</td>\n",
       "    </tr>\n",
       "    <tr>\n",
       "      <th>13</th>\n",
       "      <td>Q.Bình Thạnh</td>\n",
       "      <td>10.810583</td>\n",
       "      <td>106.709142</td>\n",
       "      <td>157.645</td>\n",
       "      <td>23.064</td>\n",
       "      <td>147.0</td>\n",
       "      <td>168.538272</td>\n",
       "      <td>21.235802</td>\n",
       "      <td>151.483333</td>\n",
       "      <td>75.958333</td>\n",
       "      <td>51.975000</td>\n",
       "      <td>1.903750</td>\n",
       "    </tr>\n",
       "    <tr>\n",
       "      <th>14</th>\n",
       "      <td>Q.6</td>\n",
       "      <td>10.748093</td>\n",
       "      <td>106.635236</td>\n",
       "      <td>172.581</td>\n",
       "      <td>21.214</td>\n",
       "      <td>133.0</td>\n",
       "      <td>190.615152</td>\n",
       "      <td>22.237576</td>\n",
       "      <td>143.400000</td>\n",
       "      <td>61.840000</td>\n",
       "      <td>46.811111</td>\n",
       "      <td>4.680000</td>\n",
       "    </tr>\n",
       "    <tr>\n",
       "      <th>15</th>\n",
       "      <td>Q.Tân Bình</td>\n",
       "      <td>10.801466</td>\n",
       "      <td>106.652597</td>\n",
       "      <td>197.588</td>\n",
       "      <td>36.938</td>\n",
       "      <td>187.0</td>\n",
       "      <td>222.068571</td>\n",
       "      <td>42.994286</td>\n",
       "      <td>NaN</td>\n",
       "      <td>NaN</td>\n",
       "      <td>75.185714</td>\n",
       "      <td>6.657143</td>\n",
       "    </tr>\n",
       "    <tr>\n",
       "      <th>16</th>\n",
       "      <td>Q.Phú Nhuận</td>\n",
       "      <td>10.799194</td>\n",
       "      <td>106.680264</td>\n",
       "      <td>202.194</td>\n",
       "      <td>23.095</td>\n",
       "      <td>115.0</td>\n",
       "      <td>210.291549</td>\n",
       "      <td>23.731690</td>\n",
       "      <td>119.100000</td>\n",
       "      <td>33.000000</td>\n",
       "      <td>103.820000</td>\n",
       "      <td>12.080000</td>\n",
       "    </tr>\n",
       "    <tr>\n",
       "      <th>17</th>\n",
       "      <td>Q.11</td>\n",
       "      <td>10.762974</td>\n",
       "      <td>106.650084</td>\n",
       "      <td>220.496</td>\n",
       "      <td>32.247</td>\n",
       "      <td>161.0</td>\n",
       "      <td>246.273684</td>\n",
       "      <td>34.694737</td>\n",
       "      <td>161.400000</td>\n",
       "      <td>39.600000</td>\n",
       "      <td>34.700000</td>\n",
       "      <td>1.640000</td>\n",
       "    </tr>\n",
       "    <tr>\n",
       "      <th>18</th>\n",
       "      <td>Q.5</td>\n",
       "      <td>10.754028</td>\n",
       "      <td>106.663375</td>\n",
       "      <td>282.666</td>\n",
       "      <td>21.651</td>\n",
       "      <td>68.0</td>\n",
       "      <td>395.717647</td>\n",
       "      <td>31.103824</td>\n",
       "      <td>NaN</td>\n",
       "      <td>NaN</td>\n",
       "      <td>42.431250</td>\n",
       "      <td>1.562500</td>\n",
       "    </tr>\n",
       "    <tr>\n",
       "      <th>19</th>\n",
       "      <td>Q.3</td>\n",
       "      <td>10.784370</td>\n",
       "      <td>106.684409</td>\n",
       "      <td>305.747</td>\n",
       "      <td>28.568</td>\n",
       "      <td>88.0</td>\n",
       "      <td>321.379167</td>\n",
       "      <td>30.220833</td>\n",
       "      <td>NaN</td>\n",
       "      <td>NaN</td>\n",
       "      <td>55.633333</td>\n",
       "      <td>2.116667</td>\n",
       "    </tr>\n",
       "    <tr>\n",
       "      <th>20</th>\n",
       "      <td>Q.10</td>\n",
       "      <td>10.774596</td>\n",
       "      <td>106.667954</td>\n",
       "      <td>312.588</td>\n",
       "      <td>31.805</td>\n",
       "      <td>111.0</td>\n",
       "      <td>319.542553</td>\n",
       "      <td>32.130638</td>\n",
       "      <td>259.700000</td>\n",
       "      <td>46.500000</td>\n",
       "      <td>38.600000</td>\n",
       "      <td>1.800000</td>\n",
       "    </tr>\n",
       "    <tr>\n",
       "      <th>21</th>\n",
       "      <td>Q.1</td>\n",
       "      <td>10.775659</td>\n",
       "      <td>106.700424</td>\n",
       "      <td>463.007</td>\n",
       "      <td>39.553</td>\n",
       "      <td>81.0</td>\n",
       "      <td>489.218367</td>\n",
       "      <td>39.997959</td>\n",
       "      <td>406.800000</td>\n",
       "      <td>97.000000</td>\n",
       "      <td>155.975000</td>\n",
       "      <td>19.737500</td>\n",
       "    </tr>\n",
       "  </tbody>\n",
       "</table>\n",
       "</div>"
      ],
      "text/plain": [
       "            Quận   Latitude   Longitude  Đơn giá gộp     Giá  Diện tích đất  \\\n",
       "0      H.Hóc Môn  10.883968  106.587061       36.473  19.768         1028.0   \n",
       "1   H.Bình Chánh  10.687392  106.593854       41.599   9.255          436.0   \n",
       "2       H.Nhà Bè  10.695264  106.704874       50.969  17.600          611.0   \n",
       "3           Q.12  10.867153  106.641332       54.976  17.663          537.0   \n",
       "4     Q.Bình Tân  10.765258  106.603853       70.383  19.745          380.0   \n",
       "5            Q.9  10.842840  106.828685       75.809  22.522          399.0   \n",
       "6      Q.Thủ Đức  10.849409  106.753705       86.383  34.828          746.0   \n",
       "7            Q.8  10.724088  106.628626       89.153   4.804           64.0   \n",
       "8      Q.Tân Phú  11.427531  107.361230      104.450  15.745          126.0   \n",
       "9            Q.2  10.787273  106.749810      112.038  31.545          275.0   \n",
       "10           Q.7  10.734034  106.721579      112.589  17.368          136.0   \n",
       "11      Q.Gò Vấp  10.838678  106.665290      119.670  22.904          184.0   \n",
       "12           Q.4  10.757826  106.701297      138.766  14.373           87.0   \n",
       "13  Q.Bình Thạnh  10.810583  106.709142      157.645  23.064          147.0   \n",
       "14           Q.6  10.748093  106.635236      172.581  21.214          133.0   \n",
       "15    Q.Tân Bình  10.801466  106.652597      197.588  36.938          187.0   \n",
       "16   Q.Phú Nhuận  10.799194  106.680264      202.194  23.095          115.0   \n",
       "17          Q.11  10.762974  106.650084      220.496  32.247          161.0   \n",
       "18           Q.5  10.754028  106.663375      282.666  21.651           68.0   \n",
       "19           Q.3  10.784370  106.684409      305.747  28.568           88.0   \n",
       "20          Q.10  10.774596  106.667954      312.588  31.805          111.0   \n",
       "21           Q.1  10.775659  106.700424      463.007  39.553           81.0   \n",
       "\n",
       "    Đơn giá gộp nhà ở  Giá nhà ở  Đơn giá gộp đất nền  Giá đất nền  \\\n",
       "0           53.321053  11.965789            21.922727    26.505455   \n",
       "1           85.964706  19.887059            18.390476    12.078095   \n",
       "2           66.644444   5.918519            27.164286    44.660714   \n",
       "3           81.711538   7.534231            37.389474    43.239474   \n",
       "4          115.153659  20.348537            55.660000    64.822000   \n",
       "5          122.842857  37.033429            55.169231    45.260769   \n",
       "6          112.562857  32.135143            74.633333    59.458571   \n",
       "7          111.524051   5.061139            44.300000    80.000000   \n",
       "8          146.175610  18.634390           115.000000    88.000000   \n",
       "9          182.429032  36.891935           169.435294   105.927059   \n",
       "10         161.081395  26.153721           153.420000    40.022000   \n",
       "11         135.873016  23.325079            83.933333    84.200000   \n",
       "12         154.876923  12.326923                  NaN          NaN   \n",
       "13         168.538272  21.235802           151.483333    75.958333   \n",
       "14         190.615152  22.237576           143.400000    61.840000   \n",
       "15         222.068571  42.994286                  NaN          NaN   \n",
       "16         210.291549  23.731690           119.100000    33.000000   \n",
       "17         246.273684  34.694737           161.400000    39.600000   \n",
       "18         395.717647  31.103824                  NaN          NaN   \n",
       "19         321.379167  30.220833                  NaN          NaN   \n",
       "20         319.542553  32.130638           259.700000    46.500000   \n",
       "21         489.218367  39.997959           406.800000    97.000000   \n",
       "\n",
       "    Đơn giá gộp chung cư  Giá chung cư  \n",
       "0                    NaN           NaN  \n",
       "1              33.750000      2.196176  \n",
       "2              28.475000      1.740000  \n",
       "3              29.192857      1.760714  \n",
       "4              28.979487      1.774103  \n",
       "5              40.479487      1.918718  \n",
       "6              34.876923      2.291538  \n",
       "7              33.590323      1.724516  \n",
       "8              31.850000      1.777083  \n",
       "9              50.119608      3.500784  \n",
       "10             41.046875      2.022500  \n",
       "11             28.310000      1.859000  \n",
       "12             68.950000     23.236667  \n",
       "13             51.975000      1.903750  \n",
       "14             46.811111      4.680000  \n",
       "15             75.185714      6.657143  \n",
       "16            103.820000     12.080000  \n",
       "17             34.700000      1.640000  \n",
       "18             42.431250      1.562500  \n",
       "19             55.633333      2.116667  \n",
       "20             38.600000      1.800000  \n",
       "21            155.975000     19.737500  "
      ]
     },
     "execution_count": 21,
     "metadata": {},
     "output_type": "execute_result"
    }
   ],
   "source": [
    "hcm_stat = pd.merge(hcm, y, how='outer').sort_values(by='Đơn giá gộp')\n",
    "hcm_stat['Đơn giá gộp']= hcm_stat['Đơn giá gộp'].apply(lambda x: round(x,3))\n",
    "hcm_stat['Giá']= hcm_stat['Giá'].apply(lambda x: round(x,3))\n",
    "hcm_stat['Diện tích đất']= hcm_stat['Diện tích đất'].apply(lambda x: round(x,0))\n",
    "hcm_stat"
   ]
  },
  {
   "cell_type": "code",
   "execution_count": 22,
   "metadata": {},
   "outputs": [],
   "source": [
    "hcm_stat.to_csv('hcm_stat.csv')\n",
    "hcm_stat.to_excel('hcm_stat.xlsx')\n"
   ]
  },
  {
   "cell_type": "code",
   "execution_count": 23,
   "metadata": {},
   "outputs": [],
   "source": [
    "# import plotly.express as px\n",
    "# fig = px.scatter(hcm_stat, x='Quận', y='Diện tích đất', color='Diện tích đất', size=hcm['Diện tích đất'])\n",
    "# fig.update_layout(\n",
    "#     title = 'Diện tích đất trung bình (m²) cho 1 căn hộ giữa các Quận ở TP.HCM',\n",
    "#     xaxis_title=\"Quận/ Huyện\",\n",
    "#     yaxis_title=\"Diện tích đất trung bình (m²)\")\n",
    "# fig.show()"
   ]
  },
  {
   "cell_type": "code",
   "execution_count": 24,
   "metadata": {},
   "outputs": [],
   "source": [
    "# fig = px.bar(hcm_stat, x='Quận', y='Đơn giá gộp', color='Đơn giá gộp', title = 'Đơn giá gộp trung bình (triệu/m²) giữa các Quận ở TP.HCM')\n",
    "# fig.update_layout(\n",
    "#     xaxis_title=\"Quận/ Huyện\",\n",
    "#     yaxis_title=\"Đơn giá gộp trung bình (triệu/m²)\")\n",
    "# fig.show()"
   ]
  },
  {
   "cell_type": "code",
   "execution_count": 25,
   "metadata": {},
   "outputs": [
    {
     "data": {
      "application/vnd.plotly.v1+json": {
       "config": {
        "plotlyServerURL": "https://plot.ly"
       },
       "data": [
        {
         "hovertemplate": "Quận=%{x}<br>Diện tích đất=%{y}<br>size=%{marker.size}<extra></extra>",
         "legendgroup": "",
         "marker": {
          "color": "#636efa",
          "size": [
           1028,
           436,
           611,
           537,
           380,
           399,
           746,
           64,
           126,
           275,
           136,
           184,
           87,
           147,
           133,
           187,
           115,
           161,
           68,
           88,
           111,
           81
          ],
          "sizemode": "area",
          "sizeref": 0.8391836734693877,
          "symbol": "circle"
         },
         "mode": "markers",
         "name": "",
         "orientation": "v",
         "showlegend": false,
         "type": "scatter",
         "x": [
          "H.Hóc Môn",
          "H.Bình Chánh",
          "H.Nhà Bè",
          "Q.12",
          "Q.Bình Tân",
          "Q.9",
          "Q.Thủ Đức",
          "Q.8",
          "Q.Tân Phú",
          "Q.2",
          "Q.7",
          "Q.Gò Vấp",
          "Q.4",
          "Q.Bình Thạnh",
          "Q.6",
          "Q.Tân Bình",
          "Q.Phú Nhuận",
          "Q.11",
          "Q.5",
          "Q.3",
          "Q.10",
          "Q.1"
         ],
         "xaxis": "x",
         "y": [
          1028,
          436,
          611,
          537,
          380,
          399,
          746,
          64,
          126,
          275,
          136,
          184,
          87,
          147,
          133,
          187,
          115,
          161,
          68,
          88,
          111,
          81
         ],
         "yaxis": "y"
        },
        {
         "name": "Đơn giá gộp trung bình (triệu/m²)",
         "type": "bar",
         "x": [
          "H.Hóc Môn",
          "H.Bình Chánh",
          "H.Nhà Bè",
          "Q.12",
          "Q.Bình Tân",
          "Q.9",
          "Q.Thủ Đức",
          "Q.8",
          "Q.Tân Phú",
          "Q.2",
          "Q.7",
          "Q.Gò Vấp",
          "Q.4",
          "Q.Bình Thạnh",
          "Q.6",
          "Q.Tân Bình",
          "Q.Phú Nhuận",
          "Q.11",
          "Q.5",
          "Q.3",
          "Q.10",
          "Q.1"
         ],
         "y": [
          36.47317073170732,
          41.59861111111111,
          50.968888888888884,
          54.97627118644068,
          70.38315789473684,
          75.80919540229884,
          86.38260869565217,
          89.15315315315316,
          104.45,
          112.03838383838384,
          112.58875,
          119.66973684210525,
          138.765625,
          157.64526315789473,
          172.58051948051948,
          197.58809523809526,
          202.19350649350648,
          220.49565217391302,
          282.666,
          305.7470588235294,
          312.58775510204083,
          463.0074074074074
         ]
        }
       ],
       "layout": {
        "legend": {
         "itemsizing": "constant",
         "tracegroupgap": 0
        },
        "margin": {
         "t": 60
        },
        "template": {
         "data": {
          "bar": [
           {
            "error_x": {
             "color": "#2a3f5f"
            },
            "error_y": {
             "color": "#2a3f5f"
            },
            "marker": {
             "line": {
              "color": "#E5ECF6",
              "width": 0.5
             },
             "pattern": {
              "fillmode": "overlay",
              "size": 10,
              "solidity": 0.2
             }
            },
            "type": "bar"
           }
          ],
          "barpolar": [
           {
            "marker": {
             "line": {
              "color": "#E5ECF6",
              "width": 0.5
             },
             "pattern": {
              "fillmode": "overlay",
              "size": 10,
              "solidity": 0.2
             }
            },
            "type": "barpolar"
           }
          ],
          "carpet": [
           {
            "aaxis": {
             "endlinecolor": "#2a3f5f",
             "gridcolor": "white",
             "linecolor": "white",
             "minorgridcolor": "white",
             "startlinecolor": "#2a3f5f"
            },
            "baxis": {
             "endlinecolor": "#2a3f5f",
             "gridcolor": "white",
             "linecolor": "white",
             "minorgridcolor": "white",
             "startlinecolor": "#2a3f5f"
            },
            "type": "carpet"
           }
          ],
          "choropleth": [
           {
            "colorbar": {
             "outlinewidth": 0,
             "ticks": ""
            },
            "type": "choropleth"
           }
          ],
          "contour": [
           {
            "colorbar": {
             "outlinewidth": 0,
             "ticks": ""
            },
            "colorscale": [
             [
              0,
              "#0d0887"
             ],
             [
              0.1111111111111111,
              "#46039f"
             ],
             [
              0.2222222222222222,
              "#7201a8"
             ],
             [
              0.3333333333333333,
              "#9c179e"
             ],
             [
              0.4444444444444444,
              "#bd3786"
             ],
             [
              0.5555555555555556,
              "#d8576b"
             ],
             [
              0.6666666666666666,
              "#ed7953"
             ],
             [
              0.7777777777777778,
              "#fb9f3a"
             ],
             [
              0.8888888888888888,
              "#fdca26"
             ],
             [
              1,
              "#f0f921"
             ]
            ],
            "type": "contour"
           }
          ],
          "contourcarpet": [
           {
            "colorbar": {
             "outlinewidth": 0,
             "ticks": ""
            },
            "type": "contourcarpet"
           }
          ],
          "heatmap": [
           {
            "colorbar": {
             "outlinewidth": 0,
             "ticks": ""
            },
            "colorscale": [
             [
              0,
              "#0d0887"
             ],
             [
              0.1111111111111111,
              "#46039f"
             ],
             [
              0.2222222222222222,
              "#7201a8"
             ],
             [
              0.3333333333333333,
              "#9c179e"
             ],
             [
              0.4444444444444444,
              "#bd3786"
             ],
             [
              0.5555555555555556,
              "#d8576b"
             ],
             [
              0.6666666666666666,
              "#ed7953"
             ],
             [
              0.7777777777777778,
              "#fb9f3a"
             ],
             [
              0.8888888888888888,
              "#fdca26"
             ],
             [
              1,
              "#f0f921"
             ]
            ],
            "type": "heatmap"
           }
          ],
          "heatmapgl": [
           {
            "colorbar": {
             "outlinewidth": 0,
             "ticks": ""
            },
            "colorscale": [
             [
              0,
              "#0d0887"
             ],
             [
              0.1111111111111111,
              "#46039f"
             ],
             [
              0.2222222222222222,
              "#7201a8"
             ],
             [
              0.3333333333333333,
              "#9c179e"
             ],
             [
              0.4444444444444444,
              "#bd3786"
             ],
             [
              0.5555555555555556,
              "#d8576b"
             ],
             [
              0.6666666666666666,
              "#ed7953"
             ],
             [
              0.7777777777777778,
              "#fb9f3a"
             ],
             [
              0.8888888888888888,
              "#fdca26"
             ],
             [
              1,
              "#f0f921"
             ]
            ],
            "type": "heatmapgl"
           }
          ],
          "histogram": [
           {
            "marker": {
             "pattern": {
              "fillmode": "overlay",
              "size": 10,
              "solidity": 0.2
             }
            },
            "type": "histogram"
           }
          ],
          "histogram2d": [
           {
            "colorbar": {
             "outlinewidth": 0,
             "ticks": ""
            },
            "colorscale": [
             [
              0,
              "#0d0887"
             ],
             [
              0.1111111111111111,
              "#46039f"
             ],
             [
              0.2222222222222222,
              "#7201a8"
             ],
             [
              0.3333333333333333,
              "#9c179e"
             ],
             [
              0.4444444444444444,
              "#bd3786"
             ],
             [
              0.5555555555555556,
              "#d8576b"
             ],
             [
              0.6666666666666666,
              "#ed7953"
             ],
             [
              0.7777777777777778,
              "#fb9f3a"
             ],
             [
              0.8888888888888888,
              "#fdca26"
             ],
             [
              1,
              "#f0f921"
             ]
            ],
            "type": "histogram2d"
           }
          ],
          "histogram2dcontour": [
           {
            "colorbar": {
             "outlinewidth": 0,
             "ticks": ""
            },
            "colorscale": [
             [
              0,
              "#0d0887"
             ],
             [
              0.1111111111111111,
              "#46039f"
             ],
             [
              0.2222222222222222,
              "#7201a8"
             ],
             [
              0.3333333333333333,
              "#9c179e"
             ],
             [
              0.4444444444444444,
              "#bd3786"
             ],
             [
              0.5555555555555556,
              "#d8576b"
             ],
             [
              0.6666666666666666,
              "#ed7953"
             ],
             [
              0.7777777777777778,
              "#fb9f3a"
             ],
             [
              0.8888888888888888,
              "#fdca26"
             ],
             [
              1,
              "#f0f921"
             ]
            ],
            "type": "histogram2dcontour"
           }
          ],
          "mesh3d": [
           {
            "colorbar": {
             "outlinewidth": 0,
             "ticks": ""
            },
            "type": "mesh3d"
           }
          ],
          "parcoords": [
           {
            "line": {
             "colorbar": {
              "outlinewidth": 0,
              "ticks": ""
             }
            },
            "type": "parcoords"
           }
          ],
          "pie": [
           {
            "automargin": true,
            "type": "pie"
           }
          ],
          "scatter": [
           {
            "fillpattern": {
             "fillmode": "overlay",
             "size": 10,
             "solidity": 0.2
            },
            "type": "scatter"
           }
          ],
          "scatter3d": [
           {
            "line": {
             "colorbar": {
              "outlinewidth": 0,
              "ticks": ""
             }
            },
            "marker": {
             "colorbar": {
              "outlinewidth": 0,
              "ticks": ""
             }
            },
            "type": "scatter3d"
           }
          ],
          "scattercarpet": [
           {
            "marker": {
             "colorbar": {
              "outlinewidth": 0,
              "ticks": ""
             }
            },
            "type": "scattercarpet"
           }
          ],
          "scattergeo": [
           {
            "marker": {
             "colorbar": {
              "outlinewidth": 0,
              "ticks": ""
             }
            },
            "type": "scattergeo"
           }
          ],
          "scattergl": [
           {
            "marker": {
             "colorbar": {
              "outlinewidth": 0,
              "ticks": ""
             }
            },
            "type": "scattergl"
           }
          ],
          "scattermapbox": [
           {
            "marker": {
             "colorbar": {
              "outlinewidth": 0,
              "ticks": ""
             }
            },
            "type": "scattermapbox"
           }
          ],
          "scatterpolar": [
           {
            "marker": {
             "colorbar": {
              "outlinewidth": 0,
              "ticks": ""
             }
            },
            "type": "scatterpolar"
           }
          ],
          "scatterpolargl": [
           {
            "marker": {
             "colorbar": {
              "outlinewidth": 0,
              "ticks": ""
             }
            },
            "type": "scatterpolargl"
           }
          ],
          "scatterternary": [
           {
            "marker": {
             "colorbar": {
              "outlinewidth": 0,
              "ticks": ""
             }
            },
            "type": "scatterternary"
           }
          ],
          "surface": [
           {
            "colorbar": {
             "outlinewidth": 0,
             "ticks": ""
            },
            "colorscale": [
             [
              0,
              "#0d0887"
             ],
             [
              0.1111111111111111,
              "#46039f"
             ],
             [
              0.2222222222222222,
              "#7201a8"
             ],
             [
              0.3333333333333333,
              "#9c179e"
             ],
             [
              0.4444444444444444,
              "#bd3786"
             ],
             [
              0.5555555555555556,
              "#d8576b"
             ],
             [
              0.6666666666666666,
              "#ed7953"
             ],
             [
              0.7777777777777778,
              "#fb9f3a"
             ],
             [
              0.8888888888888888,
              "#fdca26"
             ],
             [
              1,
              "#f0f921"
             ]
            ],
            "type": "surface"
           }
          ],
          "table": [
           {
            "cells": {
             "fill": {
              "color": "#EBF0F8"
             },
             "line": {
              "color": "white"
             }
            },
            "header": {
             "fill": {
              "color": "#C8D4E3"
             },
             "line": {
              "color": "white"
             }
            },
            "type": "table"
           }
          ]
         },
         "layout": {
          "annotationdefaults": {
           "arrowcolor": "#2a3f5f",
           "arrowhead": 0,
           "arrowwidth": 1
          },
          "autotypenumbers": "strict",
          "coloraxis": {
           "colorbar": {
            "outlinewidth": 0,
            "ticks": ""
           }
          },
          "colorscale": {
           "diverging": [
            [
             0,
             "#8e0152"
            ],
            [
             0.1,
             "#c51b7d"
            ],
            [
             0.2,
             "#de77ae"
            ],
            [
             0.3,
             "#f1b6da"
            ],
            [
             0.4,
             "#fde0ef"
            ],
            [
             0.5,
             "#f7f7f7"
            ],
            [
             0.6,
             "#e6f5d0"
            ],
            [
             0.7,
             "#b8e186"
            ],
            [
             0.8,
             "#7fbc41"
            ],
            [
             0.9,
             "#4d9221"
            ],
            [
             1,
             "#276419"
            ]
           ],
           "sequential": [
            [
             0,
             "#0d0887"
            ],
            [
             0.1111111111111111,
             "#46039f"
            ],
            [
             0.2222222222222222,
             "#7201a8"
            ],
            [
             0.3333333333333333,
             "#9c179e"
            ],
            [
             0.4444444444444444,
             "#bd3786"
            ],
            [
             0.5555555555555556,
             "#d8576b"
            ],
            [
             0.6666666666666666,
             "#ed7953"
            ],
            [
             0.7777777777777778,
             "#fb9f3a"
            ],
            [
             0.8888888888888888,
             "#fdca26"
            ],
            [
             1,
             "#f0f921"
            ]
           ],
           "sequentialminus": [
            [
             0,
             "#0d0887"
            ],
            [
             0.1111111111111111,
             "#46039f"
            ],
            [
             0.2222222222222222,
             "#7201a8"
            ],
            [
             0.3333333333333333,
             "#9c179e"
            ],
            [
             0.4444444444444444,
             "#bd3786"
            ],
            [
             0.5555555555555556,
             "#d8576b"
            ],
            [
             0.6666666666666666,
             "#ed7953"
            ],
            [
             0.7777777777777778,
             "#fb9f3a"
            ],
            [
             0.8888888888888888,
             "#fdca26"
            ],
            [
             1,
             "#f0f921"
            ]
           ]
          },
          "colorway": [
           "#636efa",
           "#EF553B",
           "#00cc96",
           "#ab63fa",
           "#FFA15A",
           "#19d3f3",
           "#FF6692",
           "#B6E880",
           "#FF97FF",
           "#FECB52"
          ],
          "font": {
           "color": "#2a3f5f"
          },
          "geo": {
           "bgcolor": "white",
           "lakecolor": "white",
           "landcolor": "#E5ECF6",
           "showlakes": true,
           "showland": true,
           "subunitcolor": "white"
          },
          "hoverlabel": {
           "align": "left"
          },
          "hovermode": "closest",
          "mapbox": {
           "style": "light"
          },
          "paper_bgcolor": "white",
          "plot_bgcolor": "#E5ECF6",
          "polar": {
           "angularaxis": {
            "gridcolor": "white",
            "linecolor": "white",
            "ticks": ""
           },
           "bgcolor": "#E5ECF6",
           "radialaxis": {
            "gridcolor": "white",
            "linecolor": "white",
            "ticks": ""
           }
          },
          "scene": {
           "xaxis": {
            "backgroundcolor": "#E5ECF6",
            "gridcolor": "white",
            "gridwidth": 2,
            "linecolor": "white",
            "showbackground": true,
            "ticks": "",
            "zerolinecolor": "white"
           },
           "yaxis": {
            "backgroundcolor": "#E5ECF6",
            "gridcolor": "white",
            "gridwidth": 2,
            "linecolor": "white",
            "showbackground": true,
            "ticks": "",
            "zerolinecolor": "white"
           },
           "zaxis": {
            "backgroundcolor": "#E5ECF6",
            "gridcolor": "white",
            "gridwidth": 2,
            "linecolor": "white",
            "showbackground": true,
            "ticks": "",
            "zerolinecolor": "white"
           }
          },
          "shapedefaults": {
           "line": {
            "color": "#2a3f5f"
           }
          },
          "ternary": {
           "aaxis": {
            "gridcolor": "white",
            "linecolor": "white",
            "ticks": ""
           },
           "baxis": {
            "gridcolor": "white",
            "linecolor": "white",
            "ticks": ""
           },
           "bgcolor": "#E5ECF6",
           "caxis": {
            "gridcolor": "white",
            "linecolor": "white",
            "ticks": ""
           }
          },
          "title": {
           "x": 0.05
          },
          "xaxis": {
           "automargin": true,
           "gridcolor": "white",
           "linecolor": "white",
           "ticks": "",
           "title": {
            "standoff": 15
           },
           "zerolinecolor": "white",
           "zerolinewidth": 2
          },
          "yaxis": {
           "automargin": true,
           "gridcolor": "white",
           "linecolor": "white",
           "ticks": "",
           "title": {
            "standoff": 15
           },
           "zerolinecolor": "white",
           "zerolinewidth": 2
          }
         }
        },
        "title": {
         "text": "Diện tích đất trung bình (m²) cho 1 căn hộ và Đơn giá gộp trung bình (triệu/m²) giữa các Quận ở TP.HCM"
        },
        "xaxis": {
         "anchor": "y",
         "domain": [
          0,
          1
         ],
         "title": {
          "text": "Quận/ Huyện"
         }
        },
        "yaxis": {
         "anchor": "x",
         "domain": [
          0,
          1
         ],
         "title": {
          "text": "Diện tích đất trung bình (m²)"
         }
        }
       }
      }
     },
     "metadata": {},
     "output_type": "display_data"
    }
   ],
   "source": [
    "import plotly.express as px\n",
    "\n",
    "fig = px.scatter(hcm_stat, x='Quận', y='Diện tích đất', size=round(hcm['Diện tích đất'],0), size_max=35)\n",
    "fig.update_layout(\n",
    "    title = 'Diện tích đất trung bình (m²) cho 1 căn hộ và Đơn giá gộp trung bình (triệu/m²) giữa các Quận ở TP.HCM',\n",
    "    xaxis_title=\"Quận/ Huyện\",\n",
    "    yaxis_title=\"Diện tích đất trung bình (m²)\")\n",
    "fig.add_bar(x=hcm['Quận'], y=hcm['Đơn giá gộp'], name = 'Đơn giá gộp trung bình (triệu/m²)')\n",
    "fig.show()"
   ]
  },
  {
   "cell_type": "code",
   "execution_count": 26,
   "metadata": {},
   "outputs": [],
   "source": [
    "# import plotly.graph_objects as go\n",
    "\n",
    "# fig = go.Figure()\n",
    "# fig.add_trace(go.Bar(name=\"Nhà ở\", x=hcm_stat['Quận'], y=hcm_stat['Đơn giá gộp nhà ở']))\n",
    "# fig.add_trace(go.Bar(name=\"Chung cư\", x=hcm_stat['Quận'], y=hcm_stat['Đơn giá gộp chung cư']))\n",
    "# fig.add_trace(go.Bar(name=\"Đất nền\", x=hcm_stat['Quận'], y=hcm_stat['Đơn giá gộp đất nền']))\n",
    "\n",
    "# fig.update_layout(\n",
    "#     title=\"Đơn giá gộp trung bình (triệu/m²) giữa các Quận ở TP.HCM\",\n",
    "#     xaxis_title=\"Quận/ Huyện\",\n",
    "#     yaxis_title=\"Đơn giá gộp trung bình (triệu/m²)\",\n",
    "#     legend_title=\"Loại bất động sản\"\n",
    "# )\n",
    "# fig.show()"
   ]
  },
  {
   "cell_type": "code",
   "execution_count": 27,
   "metadata": {},
   "outputs": [
    {
     "name": "stderr",
     "output_type": "stream",
     "text": [
      "c:\\Users\\MACBOOK AIR\\AppData\\Local\\Programs\\Python\\Python310\\lib\\site-packages\\plotly\\graph_objs\\_deprecations.py:378: DeprecationWarning:\n",
      "\n",
      "plotly.graph_objs.Line is deprecated.\n",
      "Please replace it with one of the following more specific types\n",
      "  - plotly.graph_objs.scatter.Line\n",
      "  - plotly.graph_objs.layout.shape.Line\n",
      "  - etc.\n",
      "\n",
      "\n"
     ]
    },
    {
     "data": {
      "application/vnd.plotly.v1+json": {
       "config": {
        "plotlyServerURL": "https://plot.ly"
       },
       "data": [
        {
         "mode": "lines+markers",
         "name": "Nhà ở",
         "type": "scatter",
         "x": [
          "H.Hóc Môn",
          "H.Bình Chánh",
          "H.Nhà Bè",
          "Q.12",
          "Q.Bình Tân",
          "Q.9",
          "Q.Thủ Đức",
          "Q.8",
          "Q.Tân Phú",
          "Q.2",
          "Q.7",
          "Q.Gò Vấp",
          "Q.4",
          "Q.Bình Thạnh",
          "Q.6",
          "Q.Tân Bình",
          "Q.Phú Nhuận",
          "Q.11",
          "Q.5",
          "Q.3",
          "Q.10",
          "Q.1"
         ],
         "y": [
          53.32105263157895,
          85.96470588235294,
          66.64444444444445,
          81.71153846153847,
          115.15365853658537,
          122.84285714285714,
          112.56285714285714,
          111.52405063291138,
          146.17560975609754,
          182.42903225806452,
          161.08139534883722,
          135.87301587301587,
          154.87692307692308,
          168.53827160493827,
          190.61515151515152,
          222.06857142857143,
          210.29154929577467,
          246.2736842105263,
          395.7176470588235,
          321.37916666666666,
          319.5425531914894,
          489.2183673469388
         ]
        },
        {
         "mode": "lines+markers",
         "name": "Chung cư",
         "type": "scatter",
         "x": [
          "H.Hóc Môn",
          "H.Bình Chánh",
          "H.Nhà Bè",
          "Q.12",
          "Q.Bình Tân",
          "Q.9",
          "Q.Thủ Đức",
          "Q.8",
          "Q.Tân Phú",
          "Q.2",
          "Q.7",
          "Q.Gò Vấp",
          "Q.4",
          "Q.Bình Thạnh",
          "Q.6",
          "Q.Tân Bình",
          "Q.Phú Nhuận",
          "Q.11",
          "Q.5",
          "Q.3",
          "Q.10",
          "Q.1"
         ],
         "y": [
          null,
          33.75,
          28.475,
          29.192857142857143,
          28.97948717948718,
          40.47948717948718,
          34.87692307692308,
          33.59032258064516,
          31.849999999999998,
          50.11960784313725,
          41.046875,
          28.310000000000002,
          68.95,
          51.975,
          46.81111111111111,
          75.18571428571428,
          103.82000000000001,
          34.7,
          42.43125,
          55.63333333333333,
          38.6,
          155.975
         ]
        },
        {
         "mode": "lines+markers",
         "name": "Đất nền",
         "type": "scatter",
         "x": [
          "H.Hóc Môn",
          "H.Bình Chánh",
          "H.Nhà Bè",
          "Q.12",
          "Q.Bình Tân",
          "Q.9",
          "Q.Thủ Đức",
          "Q.8",
          "Q.Tân Phú",
          "Q.2",
          "Q.7",
          "Q.Gò Vấp",
          "Q.4",
          "Q.Bình Thạnh",
          "Q.6",
          "Q.Tân Bình",
          "Q.Phú Nhuận",
          "Q.11",
          "Q.5",
          "Q.3",
          "Q.10",
          "Q.1"
         ],
         "y": [
          21.922727272727272,
          18.39047619047619,
          27.164285714285715,
          37.38947368421052,
          55.66,
          55.16923076923077,
          74.63333333333333,
          44.3,
          115,
          169.43529411764706,
          153.42000000000002,
          83.93333333333332,
          null,
          151.48333333333332,
          143.4,
          null,
          119.1,
          161.4,
          null,
          null,
          259.7,
          406.8
         ]
        }
       ],
       "layout": {
        "legend": {
         "title": {
          "text": "Loại bất động sản"
         }
        },
        "template": {
         "data": {
          "bar": [
           {
            "error_x": {
             "color": "#2a3f5f"
            },
            "error_y": {
             "color": "#2a3f5f"
            },
            "marker": {
             "line": {
              "color": "#E5ECF6",
              "width": 0.5
             },
             "pattern": {
              "fillmode": "overlay",
              "size": 10,
              "solidity": 0.2
             }
            },
            "type": "bar"
           }
          ],
          "barpolar": [
           {
            "marker": {
             "line": {
              "color": "#E5ECF6",
              "width": 0.5
             },
             "pattern": {
              "fillmode": "overlay",
              "size": 10,
              "solidity": 0.2
             }
            },
            "type": "barpolar"
           }
          ],
          "carpet": [
           {
            "aaxis": {
             "endlinecolor": "#2a3f5f",
             "gridcolor": "white",
             "linecolor": "white",
             "minorgridcolor": "white",
             "startlinecolor": "#2a3f5f"
            },
            "baxis": {
             "endlinecolor": "#2a3f5f",
             "gridcolor": "white",
             "linecolor": "white",
             "minorgridcolor": "white",
             "startlinecolor": "#2a3f5f"
            },
            "type": "carpet"
           }
          ],
          "choropleth": [
           {
            "colorbar": {
             "outlinewidth": 0,
             "ticks": ""
            },
            "type": "choropleth"
           }
          ],
          "contour": [
           {
            "colorbar": {
             "outlinewidth": 0,
             "ticks": ""
            },
            "colorscale": [
             [
              0,
              "#0d0887"
             ],
             [
              0.1111111111111111,
              "#46039f"
             ],
             [
              0.2222222222222222,
              "#7201a8"
             ],
             [
              0.3333333333333333,
              "#9c179e"
             ],
             [
              0.4444444444444444,
              "#bd3786"
             ],
             [
              0.5555555555555556,
              "#d8576b"
             ],
             [
              0.6666666666666666,
              "#ed7953"
             ],
             [
              0.7777777777777778,
              "#fb9f3a"
             ],
             [
              0.8888888888888888,
              "#fdca26"
             ],
             [
              1,
              "#f0f921"
             ]
            ],
            "type": "contour"
           }
          ],
          "contourcarpet": [
           {
            "colorbar": {
             "outlinewidth": 0,
             "ticks": ""
            },
            "type": "contourcarpet"
           }
          ],
          "heatmap": [
           {
            "colorbar": {
             "outlinewidth": 0,
             "ticks": ""
            },
            "colorscale": [
             [
              0,
              "#0d0887"
             ],
             [
              0.1111111111111111,
              "#46039f"
             ],
             [
              0.2222222222222222,
              "#7201a8"
             ],
             [
              0.3333333333333333,
              "#9c179e"
             ],
             [
              0.4444444444444444,
              "#bd3786"
             ],
             [
              0.5555555555555556,
              "#d8576b"
             ],
             [
              0.6666666666666666,
              "#ed7953"
             ],
             [
              0.7777777777777778,
              "#fb9f3a"
             ],
             [
              0.8888888888888888,
              "#fdca26"
             ],
             [
              1,
              "#f0f921"
             ]
            ],
            "type": "heatmap"
           }
          ],
          "heatmapgl": [
           {
            "colorbar": {
             "outlinewidth": 0,
             "ticks": ""
            },
            "colorscale": [
             [
              0,
              "#0d0887"
             ],
             [
              0.1111111111111111,
              "#46039f"
             ],
             [
              0.2222222222222222,
              "#7201a8"
             ],
             [
              0.3333333333333333,
              "#9c179e"
             ],
             [
              0.4444444444444444,
              "#bd3786"
             ],
             [
              0.5555555555555556,
              "#d8576b"
             ],
             [
              0.6666666666666666,
              "#ed7953"
             ],
             [
              0.7777777777777778,
              "#fb9f3a"
             ],
             [
              0.8888888888888888,
              "#fdca26"
             ],
             [
              1,
              "#f0f921"
             ]
            ],
            "type": "heatmapgl"
           }
          ],
          "histogram": [
           {
            "marker": {
             "pattern": {
              "fillmode": "overlay",
              "size": 10,
              "solidity": 0.2
             }
            },
            "type": "histogram"
           }
          ],
          "histogram2d": [
           {
            "colorbar": {
             "outlinewidth": 0,
             "ticks": ""
            },
            "colorscale": [
             [
              0,
              "#0d0887"
             ],
             [
              0.1111111111111111,
              "#46039f"
             ],
             [
              0.2222222222222222,
              "#7201a8"
             ],
             [
              0.3333333333333333,
              "#9c179e"
             ],
             [
              0.4444444444444444,
              "#bd3786"
             ],
             [
              0.5555555555555556,
              "#d8576b"
             ],
             [
              0.6666666666666666,
              "#ed7953"
             ],
             [
              0.7777777777777778,
              "#fb9f3a"
             ],
             [
              0.8888888888888888,
              "#fdca26"
             ],
             [
              1,
              "#f0f921"
             ]
            ],
            "type": "histogram2d"
           }
          ],
          "histogram2dcontour": [
           {
            "colorbar": {
             "outlinewidth": 0,
             "ticks": ""
            },
            "colorscale": [
             [
              0,
              "#0d0887"
             ],
             [
              0.1111111111111111,
              "#46039f"
             ],
             [
              0.2222222222222222,
              "#7201a8"
             ],
             [
              0.3333333333333333,
              "#9c179e"
             ],
             [
              0.4444444444444444,
              "#bd3786"
             ],
             [
              0.5555555555555556,
              "#d8576b"
             ],
             [
              0.6666666666666666,
              "#ed7953"
             ],
             [
              0.7777777777777778,
              "#fb9f3a"
             ],
             [
              0.8888888888888888,
              "#fdca26"
             ],
             [
              1,
              "#f0f921"
             ]
            ],
            "type": "histogram2dcontour"
           }
          ],
          "mesh3d": [
           {
            "colorbar": {
             "outlinewidth": 0,
             "ticks": ""
            },
            "type": "mesh3d"
           }
          ],
          "parcoords": [
           {
            "line": {
             "colorbar": {
              "outlinewidth": 0,
              "ticks": ""
             }
            },
            "type": "parcoords"
           }
          ],
          "pie": [
           {
            "automargin": true,
            "type": "pie"
           }
          ],
          "scatter": [
           {
            "fillpattern": {
             "fillmode": "overlay",
             "size": 10,
             "solidity": 0.2
            },
            "type": "scatter"
           }
          ],
          "scatter3d": [
           {
            "line": {
             "colorbar": {
              "outlinewidth": 0,
              "ticks": ""
             }
            },
            "marker": {
             "colorbar": {
              "outlinewidth": 0,
              "ticks": ""
             }
            },
            "type": "scatter3d"
           }
          ],
          "scattercarpet": [
           {
            "marker": {
             "colorbar": {
              "outlinewidth": 0,
              "ticks": ""
             }
            },
            "type": "scattercarpet"
           }
          ],
          "scattergeo": [
           {
            "marker": {
             "colorbar": {
              "outlinewidth": 0,
              "ticks": ""
             }
            },
            "type": "scattergeo"
           }
          ],
          "scattergl": [
           {
            "marker": {
             "colorbar": {
              "outlinewidth": 0,
              "ticks": ""
             }
            },
            "type": "scattergl"
           }
          ],
          "scattermapbox": [
           {
            "marker": {
             "colorbar": {
              "outlinewidth": 0,
              "ticks": ""
             }
            },
            "type": "scattermapbox"
           }
          ],
          "scatterpolar": [
           {
            "marker": {
             "colorbar": {
              "outlinewidth": 0,
              "ticks": ""
             }
            },
            "type": "scatterpolar"
           }
          ],
          "scatterpolargl": [
           {
            "marker": {
             "colorbar": {
              "outlinewidth": 0,
              "ticks": ""
             }
            },
            "type": "scatterpolargl"
           }
          ],
          "scatterternary": [
           {
            "marker": {
             "colorbar": {
              "outlinewidth": 0,
              "ticks": ""
             }
            },
            "type": "scatterternary"
           }
          ],
          "surface": [
           {
            "colorbar": {
             "outlinewidth": 0,
             "ticks": ""
            },
            "colorscale": [
             [
              0,
              "#0d0887"
             ],
             [
              0.1111111111111111,
              "#46039f"
             ],
             [
              0.2222222222222222,
              "#7201a8"
             ],
             [
              0.3333333333333333,
              "#9c179e"
             ],
             [
              0.4444444444444444,
              "#bd3786"
             ],
             [
              0.5555555555555556,
              "#d8576b"
             ],
             [
              0.6666666666666666,
              "#ed7953"
             ],
             [
              0.7777777777777778,
              "#fb9f3a"
             ],
             [
              0.8888888888888888,
              "#fdca26"
             ],
             [
              1,
              "#f0f921"
             ]
            ],
            "type": "surface"
           }
          ],
          "table": [
           {
            "cells": {
             "fill": {
              "color": "#EBF0F8"
             },
             "line": {
              "color": "white"
             }
            },
            "header": {
             "fill": {
              "color": "#C8D4E3"
             },
             "line": {
              "color": "white"
             }
            },
            "type": "table"
           }
          ]
         },
         "layout": {
          "annotationdefaults": {
           "arrowcolor": "#2a3f5f",
           "arrowhead": 0,
           "arrowwidth": 1
          },
          "autotypenumbers": "strict",
          "coloraxis": {
           "colorbar": {
            "outlinewidth": 0,
            "ticks": ""
           }
          },
          "colorscale": {
           "diverging": [
            [
             0,
             "#8e0152"
            ],
            [
             0.1,
             "#c51b7d"
            ],
            [
             0.2,
             "#de77ae"
            ],
            [
             0.3,
             "#f1b6da"
            ],
            [
             0.4,
             "#fde0ef"
            ],
            [
             0.5,
             "#f7f7f7"
            ],
            [
             0.6,
             "#e6f5d0"
            ],
            [
             0.7,
             "#b8e186"
            ],
            [
             0.8,
             "#7fbc41"
            ],
            [
             0.9,
             "#4d9221"
            ],
            [
             1,
             "#276419"
            ]
           ],
           "sequential": [
            [
             0,
             "#0d0887"
            ],
            [
             0.1111111111111111,
             "#46039f"
            ],
            [
             0.2222222222222222,
             "#7201a8"
            ],
            [
             0.3333333333333333,
             "#9c179e"
            ],
            [
             0.4444444444444444,
             "#bd3786"
            ],
            [
             0.5555555555555556,
             "#d8576b"
            ],
            [
             0.6666666666666666,
             "#ed7953"
            ],
            [
             0.7777777777777778,
             "#fb9f3a"
            ],
            [
             0.8888888888888888,
             "#fdca26"
            ],
            [
             1,
             "#f0f921"
            ]
           ],
           "sequentialminus": [
            [
             0,
             "#0d0887"
            ],
            [
             0.1111111111111111,
             "#46039f"
            ],
            [
             0.2222222222222222,
             "#7201a8"
            ],
            [
             0.3333333333333333,
             "#9c179e"
            ],
            [
             0.4444444444444444,
             "#bd3786"
            ],
            [
             0.5555555555555556,
             "#d8576b"
            ],
            [
             0.6666666666666666,
             "#ed7953"
            ],
            [
             0.7777777777777778,
             "#fb9f3a"
            ],
            [
             0.8888888888888888,
             "#fdca26"
            ],
            [
             1,
             "#f0f921"
            ]
           ]
          },
          "colorway": [
           "#636efa",
           "#EF553B",
           "#00cc96",
           "#ab63fa",
           "#FFA15A",
           "#19d3f3",
           "#FF6692",
           "#B6E880",
           "#FF97FF",
           "#FECB52"
          ],
          "font": {
           "color": "#2a3f5f"
          },
          "geo": {
           "bgcolor": "white",
           "lakecolor": "white",
           "landcolor": "#E5ECF6",
           "showlakes": true,
           "showland": true,
           "subunitcolor": "white"
          },
          "hoverlabel": {
           "align": "left"
          },
          "hovermode": "closest",
          "mapbox": {
           "style": "light"
          },
          "paper_bgcolor": "white",
          "plot_bgcolor": "#E5ECF6",
          "polar": {
           "angularaxis": {
            "gridcolor": "white",
            "linecolor": "white",
            "ticks": ""
           },
           "bgcolor": "#E5ECF6",
           "radialaxis": {
            "gridcolor": "white",
            "linecolor": "white",
            "ticks": ""
           }
          },
          "scene": {
           "xaxis": {
            "backgroundcolor": "#E5ECF6",
            "gridcolor": "white",
            "gridwidth": 2,
            "linecolor": "white",
            "showbackground": true,
            "ticks": "",
            "zerolinecolor": "white"
           },
           "yaxis": {
            "backgroundcolor": "#E5ECF6",
            "gridcolor": "white",
            "gridwidth": 2,
            "linecolor": "white",
            "showbackground": true,
            "ticks": "",
            "zerolinecolor": "white"
           },
           "zaxis": {
            "backgroundcolor": "#E5ECF6",
            "gridcolor": "white",
            "gridwidth": 2,
            "linecolor": "white",
            "showbackground": true,
            "ticks": "",
            "zerolinecolor": "white"
           }
          },
          "shapedefaults": {
           "line": {
            "color": "#2a3f5f"
           }
          },
          "ternary": {
           "aaxis": {
            "gridcolor": "white",
            "linecolor": "white",
            "ticks": ""
           },
           "baxis": {
            "gridcolor": "white",
            "linecolor": "white",
            "ticks": ""
           },
           "bgcolor": "#E5ECF6",
           "caxis": {
            "gridcolor": "white",
            "linecolor": "white",
            "ticks": ""
           }
          },
          "title": {
           "x": 0.05
          },
          "xaxis": {
           "automargin": true,
           "gridcolor": "white",
           "linecolor": "white",
           "ticks": "",
           "title": {
            "standoff": 15
           },
           "zerolinecolor": "white",
           "zerolinewidth": 2
          },
          "yaxis": {
           "automargin": true,
           "gridcolor": "white",
           "linecolor": "white",
           "ticks": "",
           "title": {
            "standoff": 15
           },
           "zerolinecolor": "white",
           "zerolinewidth": 2
          }
         }
        },
        "title": {
         "text": "Đơn giá gộp trung bình (triệu/m²) giữa các Quận ở TP.HCM"
        },
        "xaxis": {
         "title": {
          "text": "Quận/ Huyện"
         }
        },
        "yaxis": {
         "title": {
          "text": "Đơn giá gộp trung bình (triệu/m²)"
         }
        }
       }
      }
     },
     "metadata": {},
     "output_type": "display_data"
    }
   ],
   "source": [
    "import plotly.graph_objects as go\n",
    "\n",
    "fig = go.Figure()\n",
    "fig.add_trace(go.Line(name=\"Nhà ở\", x=hcm_stat['Quận'], y=hcm_stat['Đơn giá gộp nhà ở'], mode='lines+markers'))\n",
    "fig.add_trace(go.Line(name=\"Chung cư\", x=hcm_stat['Quận'], y=hcm_stat['Đơn giá gộp chung cư'], mode='lines+markers'))\n",
    "fig.add_trace(go.Line(name=\"Đất nền\", x=hcm_stat['Quận'], y=hcm_stat['Đơn giá gộp đất nền'], mode='lines+markers'))\n",
    "\n",
    "fig.update_layout(\n",
    "    title=\"Đơn giá gộp trung bình (triệu/m²) giữa các Quận ở TP.HCM\",\n",
    "    xaxis_title=\"Quận/ Huyện\",\n",
    "    yaxis_title=\"Đơn giá gộp trung bình (triệu/m²)\",\n",
    "    legend_title=\"Loại bất động sản\"\n",
    ")\n",
    "fig.show()"
   ]
  },
  {
   "cell_type": "code",
   "execution_count": 28,
   "metadata": {},
   "outputs": [],
   "source": [
    "# from plotly.subplots import make_subplots\n",
    "# import plotly.graph_objects as go\n",
    "\n",
    "# fig = make_subplots(rows=3, cols=1)\n",
    "\n",
    "# fig.append_trace(go.Scatter(\n",
    "#     x=hcm_stat['Quận'],\n",
    "#     y=hcm_stat['Đơn giá gộp nhà ở'], mode='lines+markers', name ='Nhà ở'\n",
    "# ), row=1, col=1)\n",
    "\n",
    "# fig.append_trace(go.Scatter(\n",
    "#     x=hcm_stat['Quận'],\n",
    "#     y=hcm_stat['Đơn giá gộp chung cư'], mode='lines+markers', name ='Chung cư'\n",
    "# ), row=2, col=1)\n",
    "\n",
    "# fig.append_trace(go.Scatter(\n",
    "#     x=hcm_stat['Quận'],\n",
    "#     y=hcm_stat['Đơn giá gộp đất nền'], mode='lines+markers', name ='Đất nền'\n",
    "# ), row=3, col=1)\n",
    "\n",
    "\n",
    "# fig.update_layout(height=1200, width=800, \n",
    "# xaxis_title=\"Quận/ Huyện\",\n",
    "# yaxis_title=\"Đơn giá gộp trung bình (triệu/m²)\",\n",
    "# title_text=\"Đơn giá gộp trung bình (triệu/m²) từng loại BĐS giữa các Quận ở TP.HCM\")\n",
    "# fig.show()"
   ]
  },
  {
   "cell_type": "markdown",
   "metadata": {},
   "source": [
    "# Tách data\n",
    "giá cao : 1, giá thấp 0 \n"
   ]
  },
  {
   "cell_type": "code",
   "execution_count": 29,
   "metadata": {},
   "outputs": [
    {
     "data": {
      "text/plain": [
       "count    1452.000000\n",
       "mean      142.666942\n",
       "std       139.194708\n",
       "min         1.000000\n",
       "25%        42.775000\n",
       "50%       104.450000\n",
       "75%       184.925000\n",
       "max       980.300000\n",
       "Name: Đơn giá gộp, dtype: float64"
      ]
     },
     "execution_count": 29,
     "metadata": {},
     "output_type": "execute_result"
    }
   ],
   "source": [
    "df['Đơn giá gộp'].describe()"
   ]
  },
  {
   "cell_type": "code",
   "execution_count": 30,
   "metadata": {},
   "outputs": [
    {
     "data": {
      "text/html": [
       "<div>\n",
       "<style scoped>\n",
       "    .dataframe tbody tr th:only-of-type {\n",
       "        vertical-align: middle;\n",
       "    }\n",
       "\n",
       "    .dataframe tbody tr th {\n",
       "        vertical-align: top;\n",
       "    }\n",
       "\n",
       "    .dataframe thead th {\n",
       "        text-align: right;\n",
       "    }\n",
       "</style>\n",
       "<table border=\"1\" class=\"dataframe\">\n",
       "  <thead>\n",
       "    <tr style=\"text-align: right;\">\n",
       "      <th></th>\n",
       "      <th>Unnamed: 0</th>\n",
       "      <th>Mã tin</th>\n",
       "      <th>Diện tích đất</th>\n",
       "      <th>Diện tích sử dụng</th>\n",
       "      <th>Chiều dài</th>\n",
       "      <th>Chiều rộng</th>\n",
       "      <th>Độ rộng hẻm</th>\n",
       "      <th>Độ rộng mặt tiền đường</th>\n",
       "      <th>Phòng ngủ</th>\n",
       "      <th>Phòng tắm</th>\n",
       "      <th>Lầu</th>\n",
       "      <th>Lửng</th>\n",
       "      <th>Tầng thượng</th>\n",
       "      <th>Hướng</th>\n",
       "      <th>Đường</th>\n",
       "      <th>Phường</th>\n",
       "      <th>Quận</th>\n",
       "      <th>Giá</th>\n",
       "      <th>Đơn giá gộp</th>\n",
       "      <th>Tiêu đề</th>\n",
       "      <th>Địa chỉ</th>\n",
       "      <th>Gần chợ, siêu thị</th>\n",
       "      <th>Gần trường học</th>\n",
       "      <th>Di chuyển thuận tiện ra trung tâm</th>\n",
       "      <th>Khu vực an ninh, yên tĩnh</th>\n",
       "      <th>phân loại</th>\n",
       "      <th>Đơn giá cao</th>\n",
       "    </tr>\n",
       "  </thead>\n",
       "  <tbody>\n",
       "    <tr>\n",
       "      <th>0</th>\n",
       "      <td>0</td>\n",
       "      <td>387193</td>\n",
       "      <td>14.00</td>\n",
       "      <td>14.00</td>\n",
       "      <td>NaN</td>\n",
       "      <td>NaN</td>\n",
       "      <td>NaN</td>\n",
       "      <td>NaN</td>\n",
       "      <td>1.0</td>\n",
       "      <td>1.0</td>\n",
       "      <td>0</td>\n",
       "      <td>0</td>\n",
       "      <td>0</td>\n",
       "      <td>Đông</td>\n",
       "      <td>Đ.Gò Công</td>\n",
       "      <td>P.13</td>\n",
       "      <td>Q.5</td>\n",
       "      <td>0.75</td>\n",
       "      <td>53.5</td>\n",
       "      <td>bán chung cư cũ gò công quận 5 - gần chợ kim biên</td>\n",
       "      <td>Đ.Gò Công, P.13, Q.5, Hồ Chí Minh</td>\n",
       "      <td>0</td>\n",
       "      <td>0</td>\n",
       "      <td>0</td>\n",
       "      <td>0</td>\n",
       "      <td>2.0</td>\n",
       "      <td>0</td>\n",
       "    </tr>\n",
       "    <tr>\n",
       "      <th>1</th>\n",
       "      <td>1</td>\n",
       "      <td>417224</td>\n",
       "      <td>34.91</td>\n",
       "      <td>34.91</td>\n",
       "      <td>NaN</td>\n",
       "      <td>NaN</td>\n",
       "      <td>NaN</td>\n",
       "      <td>NaN</td>\n",
       "      <td>1.0</td>\n",
       "      <td>1.0</td>\n",
       "      <td>0</td>\n",
       "      <td>0</td>\n",
       "      <td>0</td>\n",
       "      <td>NaN</td>\n",
       "      <td>Đ.Hương Lộ 80</td>\n",
       "      <td>X.Vĩnh Lộc A</td>\n",
       "      <td>H.Bình Chánh</td>\n",
       "      <td>0.78</td>\n",
       "      <td>22.3</td>\n",
       "      <td>bán căn hộ nhà ở xã hội huyện bình chánh</td>\n",
       "      <td>Đ.Hương Lộ 80, X.Vĩnh Lộc A, H.Bình Chánh, Hồ ...</td>\n",
       "      <td>0</td>\n",
       "      <td>0</td>\n",
       "      <td>0</td>\n",
       "      <td>0</td>\n",
       "      <td>1.0</td>\n",
       "      <td>0</td>\n",
       "    </tr>\n",
       "    <tr>\n",
       "      <th>2</th>\n",
       "      <td>2</td>\n",
       "      <td>391821</td>\n",
       "      <td>4.30</td>\n",
       "      <td>12.90</td>\n",
       "      <td>2.11</td>\n",
       "      <td>2.22</td>\n",
       "      <td>1.0</td>\n",
       "      <td>NaN</td>\n",
       "      <td>2.0</td>\n",
       "      <td>1.0</td>\n",
       "      <td>2</td>\n",
       "      <td>0</td>\n",
       "      <td>0</td>\n",
       "      <td>Đ.Bắc</td>\n",
       "      <td>Đ.Hồ Thị Kỷ</td>\n",
       "      <td>P.1</td>\n",
       "      <td>Q.10</td>\n",
       "      <td>0.90</td>\n",
       "      <td>209.3</td>\n",
       "      <td>bán nhà hẻm an ninh hồ thị kỷ p1 q10 - nhà kiê...</td>\n",
       "      <td>Đ.Hồ Thị Kỷ, P.1, Q.10, Hồ Chí Minh</td>\n",
       "      <td>0</td>\n",
       "      <td>0</td>\n",
       "      <td>0</td>\n",
       "      <td>0</td>\n",
       "      <td>1.0</td>\n",
       "      <td>1</td>\n",
       "    </tr>\n",
       "    <tr>\n",
       "      <th>3</th>\n",
       "      <td>3</td>\n",
       "      <td>345253</td>\n",
       "      <td>10.20</td>\n",
       "      <td>20.40</td>\n",
       "      <td>4.00</td>\n",
       "      <td>2.50</td>\n",
       "      <td>1.8</td>\n",
       "      <td>NaN</td>\n",
       "      <td>1.0</td>\n",
       "      <td>1.0</td>\n",
       "      <td>1</td>\n",
       "      <td>0</td>\n",
       "      <td>0</td>\n",
       "      <td>Đ.Nam</td>\n",
       "      <td>Đ.Tôn Đản</td>\n",
       "      <td>P.10</td>\n",
       "      <td>Q.4</td>\n",
       "      <td>0.93</td>\n",
       "      <td>91.1</td>\n",
       "      <td>bán nhà hẻm quận 4 - nhà nhỏ, thích hợp gia đì...</td>\n",
       "      <td>Đ.Tôn Đản, P.10, Q.4, Hồ Chí Minh</td>\n",
       "      <td>1</td>\n",
       "      <td>1</td>\n",
       "      <td>1</td>\n",
       "      <td>1</td>\n",
       "      <td>1.0</td>\n",
       "      <td>0</td>\n",
       "    </tr>\n",
       "    <tr>\n",
       "      <th>4</th>\n",
       "      <td>4</td>\n",
       "      <td>377209</td>\n",
       "      <td>96.10</td>\n",
       "      <td>NaN</td>\n",
       "      <td>19.40</td>\n",
       "      <td>5.00</td>\n",
       "      <td>2.0</td>\n",
       "      <td>NaN</td>\n",
       "      <td>NaN</td>\n",
       "      <td>NaN</td>\n",
       "      <td>0</td>\n",
       "      <td>0</td>\n",
       "      <td>0</td>\n",
       "      <td>T.Nam</td>\n",
       "      <td>Đ.TL15</td>\n",
       "      <td>X.Tân Hiệp</td>\n",
       "      <td>H.Hóc Môn</td>\n",
       "      <td>0.95</td>\n",
       "      <td>9.8</td>\n",
       "      <td>bán lô đất nông nghiệp, diện tích 96.1m2 tân h...</td>\n",
       "      <td>Đ.TL15, X.Tân Hiệp, H.Hóc Môn, Hồ Chí Minh</td>\n",
       "      <td>1</td>\n",
       "      <td>1</td>\n",
       "      <td>0</td>\n",
       "      <td>0</td>\n",
       "      <td>3.0</td>\n",
       "      <td>0</td>\n",
       "    </tr>\n",
       "  </tbody>\n",
       "</table>\n",
       "</div>"
      ],
      "text/plain": [
       "   Unnamed: 0  Mã tin  Diện tích đất  Diện tích sử dụng  Chiều dài  \\\n",
       "0           0  387193          14.00              14.00        NaN   \n",
       "1           1  417224          34.91              34.91        NaN   \n",
       "2           2  391821           4.30              12.90       2.11   \n",
       "3           3  345253          10.20              20.40       4.00   \n",
       "4           4  377209          96.10                NaN      19.40   \n",
       "\n",
       "   Chiều rộng  Độ rộng hẻm  Độ rộng mặt tiền đường  Phòng ngủ  Phòng tắm  Lầu  \\\n",
       "0         NaN          NaN                     NaN        1.0        1.0    0   \n",
       "1         NaN          NaN                     NaN        1.0        1.0    0   \n",
       "2        2.22          1.0                     NaN        2.0        1.0    2   \n",
       "3        2.50          1.8                     NaN        1.0        1.0    1   \n",
       "4        5.00          2.0                     NaN        NaN        NaN    0   \n",
       "\n",
       "   Lửng  Tầng thượng  Hướng          Đường        Phường          Quận   Giá  \\\n",
       "0     0            0   Đông      Đ.Gò Công          P.13           Q.5  0.75   \n",
       "1     0            0    NaN  Đ.Hương Lộ 80  X.Vĩnh Lộc A  H.Bình Chánh  0.78   \n",
       "2     0            0  Đ.Bắc    Đ.Hồ Thị Kỷ           P.1          Q.10  0.90   \n",
       "3     0            0  Đ.Nam      Đ.Tôn Đản          P.10           Q.4  0.93   \n",
       "4     0            0  T.Nam         Đ.TL15    X.Tân Hiệp     H.Hóc Môn  0.95   \n",
       "\n",
       "   Đơn giá gộp                                            Tiêu đề  \\\n",
       "0         53.5  bán chung cư cũ gò công quận 5 - gần chợ kim biên   \n",
       "1         22.3           bán căn hộ nhà ở xã hội huyện bình chánh   \n",
       "2        209.3  bán nhà hẻm an ninh hồ thị kỷ p1 q10 - nhà kiê...   \n",
       "3         91.1  bán nhà hẻm quận 4 - nhà nhỏ, thích hợp gia đì...   \n",
       "4          9.8  bán lô đất nông nghiệp, diện tích 96.1m2 tân h...   \n",
       "\n",
       "                                             Địa chỉ  Gần chợ, siêu thị  \\\n",
       "0                  Đ.Gò Công, P.13, Q.5, Hồ Chí Minh                  0   \n",
       "1  Đ.Hương Lộ 80, X.Vĩnh Lộc A, H.Bình Chánh, Hồ ...                  0   \n",
       "2                Đ.Hồ Thị Kỷ, P.1, Q.10, Hồ Chí Minh                  0   \n",
       "3                  Đ.Tôn Đản, P.10, Q.4, Hồ Chí Minh                  1   \n",
       "4         Đ.TL15, X.Tân Hiệp, H.Hóc Môn, Hồ Chí Minh                  1   \n",
       "\n",
       "   Gần trường học  Di chuyển thuận tiện ra trung tâm  \\\n",
       "0               0                                  0   \n",
       "1               0                                  0   \n",
       "2               0                                  0   \n",
       "3               1                                  1   \n",
       "4               1                                  0   \n",
       "\n",
       "   Khu vực an ninh, yên tĩnh  phân loại  Đơn giá cao  \n",
       "0                          0        2.0            0  \n",
       "1                          0        1.0            0  \n",
       "2                          0        1.0            1  \n",
       "3                          1        1.0            0  \n",
       "4                          0        3.0            0  "
      ]
     },
     "execution_count": 30,
     "metadata": {},
     "output_type": "execute_result"
    }
   ],
   "source": [
    "df['Đơn giá cao'] = df['Đơn giá gộp'].apply(lambda x: 1 if x >= df['Đơn giá gộp'].mean() else 0)\n",
    "df.head()"
   ]
  },
  {
   "cell_type": "code",
   "execution_count": 31,
   "metadata": {},
   "outputs": [],
   "source": [
    "df_high = df[df['Đơn giá cao']==1]\n",
    "df_low = df[df['Đơn giá cao']==0]"
   ]
  },
  {
   "cell_type": "code",
   "execution_count": 32,
   "metadata": {},
   "outputs": [
    {
     "name": "stdout",
     "output_type": "stream",
     "text": [
      "<class 'pandas.core.frame.DataFrame'>\n",
      "Int64Index: 943 entries, 0 to 1451\n",
      "Data columns (total 27 columns):\n",
      " #   Column                             Non-Null Count  Dtype  \n",
      "---  ------                             --------------  -----  \n",
      " 0   Unnamed: 0                         943 non-null    int64  \n",
      " 1   Mã tin                             943 non-null    int64  \n",
      " 2   Diện tích đất                      943 non-null    float64\n",
      " 3   Diện tích sử dụng                  833 non-null    float64\n",
      " 4   Chiều dài                          611 non-null    float64\n",
      " 5   Chiều rộng                         611 non-null    float64\n",
      " 6   Độ rộng hẻm                        391 non-null    float64\n",
      " 7   Độ rộng mặt tiền đường             218 non-null    float64\n",
      " 8   Phòng ngủ                          769 non-null    float64\n",
      " 9   Phòng tắm                          804 non-null    float64\n",
      " 10  Lầu                                943 non-null    int64  \n",
      " 11  Lửng                               943 non-null    int64  \n",
      " 12  Tầng thượng                        943 non-null    int64  \n",
      " 13  Hướng                              767 non-null    object \n",
      " 14  Đường                              943 non-null    object \n",
      " 15  Phường                             943 non-null    object \n",
      " 16  Quận                               943 non-null    object \n",
      " 17  Giá                                943 non-null    float64\n",
      " 18  Đơn giá gộp                        943 non-null    float64\n",
      " 19  Tiêu đề                            943 non-null    object \n",
      " 20  Địa chỉ                            943 non-null    object \n",
      " 21  Gần chợ, siêu thị                  943 non-null    int64  \n",
      " 22  Gần trường học                     943 non-null    int64  \n",
      " 23  Di chuyển thuận tiện ra trung tâm  943 non-null    int64  \n",
      " 24  Khu vực an ninh, yên tĩnh          943 non-null    int64  \n",
      " 25  phân loại                          943 non-null    float64\n",
      " 26  Đơn giá cao                        943 non-null    int64  \n",
      "dtypes: float64(11), int64(10), object(6)\n",
      "memory usage: 206.3+ KB\n"
     ]
    }
   ],
   "source": [
    "df_low.info()"
   ]
  },
  {
   "cell_type": "code",
   "execution_count": 33,
   "metadata": {},
   "outputs": [
    {
     "data": {
      "text/html": [
       "<div>\n",
       "<style scoped>\n",
       "    .dataframe tbody tr th:only-of-type {\n",
       "        vertical-align: middle;\n",
       "    }\n",
       "\n",
       "    .dataframe tbody tr th {\n",
       "        vertical-align: top;\n",
       "    }\n",
       "\n",
       "    .dataframe thead th {\n",
       "        text-align: right;\n",
       "    }\n",
       "</style>\n",
       "<table border=\"1\" class=\"dataframe\">\n",
       "  <thead>\n",
       "    <tr style=\"text-align: right;\">\n",
       "      <th></th>\n",
       "      <th>Quận</th>\n",
       "      <th>Đơn giá gộp</th>\n",
       "      <th>Giá</th>\n",
       "      <th>Diện tích đất</th>\n",
       "    </tr>\n",
       "  </thead>\n",
       "  <tbody>\n",
       "    <tr>\n",
       "      <th>0</th>\n",
       "      <td>Q.12</td>\n",
       "      <td>159.500000</td>\n",
       "      <td>1.500000</td>\n",
       "      <td>9.400000</td>\n",
       "    </tr>\n",
       "    <tr>\n",
       "      <th>1</th>\n",
       "      <td>H.Bình Chánh</td>\n",
       "      <td>161.266667</td>\n",
       "      <td>39.500000</td>\n",
       "      <td>249.200000</td>\n",
       "    </tr>\n",
       "    <tr>\n",
       "      <th>2</th>\n",
       "      <td>Q.Tân Phú</td>\n",
       "      <td>185.661111</td>\n",
       "      <td>36.233333</td>\n",
       "      <td>204.788889</td>\n",
       "    </tr>\n",
       "    <tr>\n",
       "      <th>3</th>\n",
       "      <td>Q.Bình Tân</td>\n",
       "      <td>188.025000</td>\n",
       "      <td>27.150000</td>\n",
       "      <td>147.737500</td>\n",
       "    </tr>\n",
       "    <tr>\n",
       "      <th>4</th>\n",
       "      <td>Q.8</td>\n",
       "      <td>197.450000</td>\n",
       "      <td>12.315833</td>\n",
       "      <td>64.650000</td>\n",
       "    </tr>\n",
       "    <tr>\n",
       "      <th>5</th>\n",
       "      <td>Q.9</td>\n",
       "      <td>198.240000</td>\n",
       "      <td>32.957000</td>\n",
       "      <td>175.725000</td>\n",
       "    </tr>\n",
       "    <tr>\n",
       "      <th>6</th>\n",
       "      <td>Q.Thủ Đức</td>\n",
       "      <td>199.275000</td>\n",
       "      <td>35.150000</td>\n",
       "      <td>173.353750</td>\n",
       "    </tr>\n",
       "    <tr>\n",
       "      <th>7</th>\n",
       "      <td>Q.Bình Thạnh</td>\n",
       "      <td>208.762745</td>\n",
       "      <td>26.977843</td>\n",
       "      <td>124.958824</td>\n",
       "    </tr>\n",
       "    <tr>\n",
       "      <th>8</th>\n",
       "      <td>Q.Gò Vấp</td>\n",
       "      <td>208.947368</td>\n",
       "      <td>41.642105</td>\n",
       "      <td>215.151053</td>\n",
       "    </tr>\n",
       "    <tr>\n",
       "      <th>9</th>\n",
       "      <td>Q.2</td>\n",
       "      <td>213.794118</td>\n",
       "      <td>65.667647</td>\n",
       "      <td>292.394706</td>\n",
       "    </tr>\n",
       "    <tr>\n",
       "      <th>10</th>\n",
       "      <td>Q.4</td>\n",
       "      <td>217.045455</td>\n",
       "      <td>26.947273</td>\n",
       "      <td>118.136364</td>\n",
       "    </tr>\n",
       "    <tr>\n",
       "      <th>11</th>\n",
       "      <td>Q.7</td>\n",
       "      <td>226.495455</td>\n",
       "      <td>38.461818</td>\n",
       "      <td>181.087273</td>\n",
       "    </tr>\n",
       "    <tr>\n",
       "      <th>12</th>\n",
       "      <td>Q.Phú Nhuận</td>\n",
       "      <td>235.960714</td>\n",
       "      <td>24.938750</td>\n",
       "      <td>101.057500</td>\n",
       "    </tr>\n",
       "    <tr>\n",
       "      <th>13</th>\n",
       "      <td>Q.Tân Bình</td>\n",
       "      <td>241.170000</td>\n",
       "      <td>45.680000</td>\n",
       "      <td>209.421000</td>\n",
       "    </tr>\n",
       "    <tr>\n",
       "      <th>14</th>\n",
       "      <td>Q.6</td>\n",
       "      <td>249.820513</td>\n",
       "      <td>28.320000</td>\n",
       "      <td>119.894359</td>\n",
       "    </tr>\n",
       "    <tr>\n",
       "      <th>15</th>\n",
       "      <td>Q.11</td>\n",
       "      <td>257.622222</td>\n",
       "      <td>34.466667</td>\n",
       "      <td>145.305000</td>\n",
       "    </tr>\n",
       "    <tr>\n",
       "      <th>16</th>\n",
       "      <td>Q.10</td>\n",
       "      <td>326.532609</td>\n",
       "      <td>33.680217</td>\n",
       "      <td>115.681522</td>\n",
       "    </tr>\n",
       "    <tr>\n",
       "      <th>17</th>\n",
       "      <td>Q.3</td>\n",
       "      <td>351.623256</td>\n",
       "      <td>30.729070</td>\n",
       "      <td>96.155581</td>\n",
       "    </tr>\n",
       "    <tr>\n",
       "      <th>18</th>\n",
       "      <td>Q.5</td>\n",
       "      <td>403.603030</td>\n",
       "      <td>32.002424</td>\n",
       "      <td>82.784242</td>\n",
       "    </tr>\n",
       "    <tr>\n",
       "      <th>19</th>\n",
       "      <td>Q.1</td>\n",
       "      <td>525.091489</td>\n",
       "      <td>40.910638</td>\n",
       "      <td>85.954468</td>\n",
       "    </tr>\n",
       "  </tbody>\n",
       "</table>\n",
       "</div>"
      ],
      "text/plain": [
       "            Quận  Đơn giá gộp        Giá  Diện tích đất\n",
       "0           Q.12   159.500000   1.500000       9.400000\n",
       "1   H.Bình Chánh   161.266667  39.500000     249.200000\n",
       "2      Q.Tân Phú   185.661111  36.233333     204.788889\n",
       "3     Q.Bình Tân   188.025000  27.150000     147.737500\n",
       "4            Q.8   197.450000  12.315833      64.650000\n",
       "5            Q.9   198.240000  32.957000     175.725000\n",
       "6      Q.Thủ Đức   199.275000  35.150000     173.353750\n",
       "7   Q.Bình Thạnh   208.762745  26.977843     124.958824\n",
       "8       Q.Gò Vấp   208.947368  41.642105     215.151053\n",
       "9            Q.2   213.794118  65.667647     292.394706\n",
       "10           Q.4   217.045455  26.947273     118.136364\n",
       "11           Q.7   226.495455  38.461818     181.087273\n",
       "12   Q.Phú Nhuận   235.960714  24.938750     101.057500\n",
       "13    Q.Tân Bình   241.170000  45.680000     209.421000\n",
       "14           Q.6   249.820513  28.320000     119.894359\n",
       "15          Q.11   257.622222  34.466667     145.305000\n",
       "16          Q.10   326.532609  33.680217     115.681522\n",
       "17           Q.3   351.623256  30.729070      96.155581\n",
       "18           Q.5   403.603030  32.002424      82.784242\n",
       "19           Q.1   525.091489  40.910638      85.954468"
      ]
     },
     "execution_count": 33,
     "metadata": {},
     "output_type": "execute_result"
    }
   ],
   "source": [
    "price_high = df_high.groupby('Quận').agg({'Đơn giá gộp':'mean', 'Giá': 'mean', 'Diện tích đất':'mean'}).sort_values(by='Đơn giá gộp').reset_index()\n",
    "price_high"
   ]
  },
  {
   "cell_type": "code",
   "execution_count": 34,
   "metadata": {},
   "outputs": [
    {
     "data": {
      "text/html": [
       "<div>\n",
       "<style scoped>\n",
       "    .dataframe tbody tr th:only-of-type {\n",
       "        vertical-align: middle;\n",
       "    }\n",
       "\n",
       "    .dataframe tbody tr th {\n",
       "        vertical-align: top;\n",
       "    }\n",
       "\n",
       "    .dataframe thead th {\n",
       "        text-align: right;\n",
       "    }\n",
       "</style>\n",
       "<table border=\"1\" class=\"dataframe\">\n",
       "  <thead>\n",
       "    <tr style=\"text-align: right;\">\n",
       "      <th></th>\n",
       "      <th>Quận</th>\n",
       "      <th>Đơn giá gộp</th>\n",
       "      <th>Giá</th>\n",
       "      <th>Diện tích đất</th>\n",
       "    </tr>\n",
       "  </thead>\n",
       "  <tbody>\n",
       "    <tr>\n",
       "      <th>0</th>\n",
       "      <td>H.Bình Chánh</td>\n",
       "      <td>36.395652</td>\n",
       "      <td>7.940435</td>\n",
       "      <td>444.492609</td>\n",
       "    </tr>\n",
       "    <tr>\n",
       "      <th>1</th>\n",
       "      <td>H.Hóc Môn</td>\n",
       "      <td>36.473171</td>\n",
       "      <td>19.767561</td>\n",
       "      <td>1028.078293</td>\n",
       "    </tr>\n",
       "    <tr>\n",
       "      <th>2</th>\n",
       "      <td>Q.1</td>\n",
       "      <td>46.157143</td>\n",
       "      <td>30.435714</td>\n",
       "      <td>46.084286</td>\n",
       "    </tr>\n",
       "    <tr>\n",
       "      <th>3</th>\n",
       "      <td>Q.5</td>\n",
       "      <td>47.905882</td>\n",
       "      <td>1.555882</td>\n",
       "      <td>40.536471</td>\n",
       "    </tr>\n",
       "    <tr>\n",
       "      <th>4</th>\n",
       "      <td>H.Nhà Bè</td>\n",
       "      <td>50.968889</td>\n",
       "      <td>17.600222</td>\n",
       "      <td>610.882000</td>\n",
       "    </tr>\n",
       "    <tr>\n",
       "      <th>5</th>\n",
       "      <td>Q.12</td>\n",
       "      <td>53.174138</td>\n",
       "      <td>17.941207</td>\n",
       "      <td>546.466724</td>\n",
       "    </tr>\n",
       "    <tr>\n",
       "      <th>6</th>\n",
       "      <td>Q.2</td>\n",
       "      <td>58.812308</td>\n",
       "      <td>13.696154</td>\n",
       "      <td>266.328769</td>\n",
       "    </tr>\n",
       "    <tr>\n",
       "      <th>7</th>\n",
       "      <td>Q.3</td>\n",
       "      <td>59.162500</td>\n",
       "      <td>16.950000</td>\n",
       "      <td>43.147500</td>\n",
       "    </tr>\n",
       "    <tr>\n",
       "      <th>8</th>\n",
       "      <td>Q.Bình Tân</td>\n",
       "      <td>59.565517</td>\n",
       "      <td>19.064483</td>\n",
       "      <td>400.949540</td>\n",
       "    </tr>\n",
       "    <tr>\n",
       "      <th>9</th>\n",
       "      <td>Q.9</td>\n",
       "      <td>59.909091</td>\n",
       "      <td>21.166494</td>\n",
       "      <td>428.019610</td>\n",
       "    </tr>\n",
       "    <tr>\n",
       "      <th>10</th>\n",
       "      <td>Q.7</td>\n",
       "      <td>69.382759</td>\n",
       "      <td>9.366897</td>\n",
       "      <td>118.716724</td>\n",
       "    </tr>\n",
       "    <tr>\n",
       "      <th>11</th>\n",
       "      <td>Q.Thủ Đức</td>\n",
       "      <td>71.577049</td>\n",
       "      <td>34.786066</td>\n",
       "      <td>821.288525</td>\n",
       "    </tr>\n",
       "    <tr>\n",
       "      <th>12</th>\n",
       "      <td>Q.Tân Phú</td>\n",
       "      <td>75.214000</td>\n",
       "      <td>8.369200</td>\n",
       "      <td>98.049000</td>\n",
       "    </tr>\n",
       "    <tr>\n",
       "      <th>13</th>\n",
       "      <td>Q.8</td>\n",
       "      <td>76.026263</td>\n",
       "      <td>3.893939</td>\n",
       "      <td>63.533939</td>\n",
       "    </tr>\n",
       "    <tr>\n",
       "      <th>14</th>\n",
       "      <td>Q.11</td>\n",
       "      <td>86.840000</td>\n",
       "      <td>24.256000</td>\n",
       "      <td>215.220000</td>\n",
       "    </tr>\n",
       "    <tr>\n",
       "      <th>15</th>\n",
       "      <td>Q.Tân Bình</td>\n",
       "      <td>88.633333</td>\n",
       "      <td>15.083333</td>\n",
       "      <td>131.073333</td>\n",
       "    </tr>\n",
       "    <tr>\n",
       "      <th>16</th>\n",
       "      <td>Q.Gò Vấp</td>\n",
       "      <td>89.910526</td>\n",
       "      <td>16.657368</td>\n",
       "      <td>173.251930</td>\n",
       "    </tr>\n",
       "    <tr>\n",
       "      <th>17</th>\n",
       "      <td>Q.6</td>\n",
       "      <td>93.307895</td>\n",
       "      <td>13.921053</td>\n",
       "      <td>147.115263</td>\n",
       "    </tr>\n",
       "    <tr>\n",
       "      <th>18</th>\n",
       "      <td>Q.4</td>\n",
       "      <td>97.761905</td>\n",
       "      <td>7.785714</td>\n",
       "      <td>70.832381</td>\n",
       "    </tr>\n",
       "    <tr>\n",
       "      <th>19</th>\n",
       "      <td>Q.Bình Thạnh</td>\n",
       "      <td>98.395455</td>\n",
       "      <td>18.527500</td>\n",
       "      <td>172.350227</td>\n",
       "    </tr>\n",
       "    <tr>\n",
       "      <th>20</th>\n",
       "      <td>Q.10</td>\n",
       "      <td>98.766667</td>\n",
       "      <td>3.050000</td>\n",
       "      <td>34.396667</td>\n",
       "    </tr>\n",
       "    <tr>\n",
       "      <th>21</th>\n",
       "      <td>Q.Phú Nhuận</td>\n",
       "      <td>112.147619</td>\n",
       "      <td>18.180000</td>\n",
       "      <td>150.767619</td>\n",
       "    </tr>\n",
       "  </tbody>\n",
       "</table>\n",
       "</div>"
      ],
      "text/plain": [
       "            Quận  Đơn giá gộp        Giá  Diện tích đất\n",
       "0   H.Bình Chánh    36.395652   7.940435     444.492609\n",
       "1      H.Hóc Môn    36.473171  19.767561    1028.078293\n",
       "2            Q.1    46.157143  30.435714      46.084286\n",
       "3            Q.5    47.905882   1.555882      40.536471\n",
       "4       H.Nhà Bè    50.968889  17.600222     610.882000\n",
       "5           Q.12    53.174138  17.941207     546.466724\n",
       "6            Q.2    58.812308  13.696154     266.328769\n",
       "7            Q.3    59.162500  16.950000      43.147500\n",
       "8     Q.Bình Tân    59.565517  19.064483     400.949540\n",
       "9            Q.9    59.909091  21.166494     428.019610\n",
       "10           Q.7    69.382759   9.366897     118.716724\n",
       "11     Q.Thủ Đức    71.577049  34.786066     821.288525\n",
       "12     Q.Tân Phú    75.214000   8.369200      98.049000\n",
       "13           Q.8    76.026263   3.893939      63.533939\n",
       "14          Q.11    86.840000  24.256000     215.220000\n",
       "15    Q.Tân Bình    88.633333  15.083333     131.073333\n",
       "16      Q.Gò Vấp    89.910526  16.657368     173.251930\n",
       "17           Q.6    93.307895  13.921053     147.115263\n",
       "18           Q.4    97.761905   7.785714      70.832381\n",
       "19  Q.Bình Thạnh    98.395455  18.527500     172.350227\n",
       "20          Q.10    98.766667   3.050000      34.396667\n",
       "21   Q.Phú Nhuận   112.147619  18.180000     150.767619"
      ]
     },
     "execution_count": 34,
     "metadata": {},
     "output_type": "execute_result"
    }
   ],
   "source": [
    "price_low = df_low.groupby('Quận').agg({'Đơn giá gộp':'mean', 'Giá': 'mean', 'Diện tích đất':'mean'}).sort_values(by='Đơn giá gộp').reset_index()\n",
    "price_low"
   ]
  },
  {
   "cell_type": "code",
   "execution_count": 35,
   "metadata": {},
   "outputs": [],
   "source": [
    "def bubble_chart(data):\n",
    "    fig = px.scatter(data, x='Đơn giá gộp', y='Diện tích đất', \n",
    "    size='Giá', color='Quận', hover_name='Quận', size_max=40)\n",
    "    # \n",
    "    fig.update_layout(\n",
    "    title = 'Diện tích đất trung bình (m²) cho 1 căn hộ và Đơn giá gộp trung bình (triệu/m²) giữa các Quận ở TP.HCM',\n",
    "    xaxis_title=\"Đơn giá gộp trung bình (triệu/m²)\",\n",
    "    yaxis_title=\"Diện tích đất trung bình (m²)\")\n",
    "    return fig "
   ]
  },
  {
   "cell_type": "code",
   "execution_count": 36,
   "metadata": {},
   "outputs": [
    {
     "data": {
      "application/vnd.plotly.v1+json": {
       "config": {
        "plotlyServerURL": "https://plot.ly"
       },
       "data": [
        {
         "hovertemplate": "<b>%{hovertext}</b><br><br>Quận=H.Bình Chánh<br>Đơn giá gộp=%{x}<br>Diện tích đất=%{y}<br>Giá=%{marker.size}<extra></extra>",
         "hovertext": [
          "H.Bình Chánh"
         ],
         "legendgroup": "H.Bình Chánh",
         "marker": {
          "color": "#636efa",
          "size": [
           7.940434782608696
          ],
          "sizemode": "area",
          "sizeref": 0.021741290983606554,
          "symbol": "circle"
         },
         "mode": "markers",
         "name": "H.Bình Chánh",
         "orientation": "v",
         "showlegend": true,
         "type": "scatter",
         "x": [
          36.39565217391305
         ],
         "xaxis": "x",
         "y": [
          444.49260869565217
         ],
         "yaxis": "y"
        },
        {
         "hovertemplate": "<b>%{hovertext}</b><br><br>Quận=H.Hóc Môn<br>Đơn giá gộp=%{x}<br>Diện tích đất=%{y}<br>Giá=%{marker.size}<extra></extra>",
         "hovertext": [
          "H.Hóc Môn"
         ],
         "legendgroup": "H.Hóc Môn",
         "marker": {
          "color": "#EF553B",
          "size": [
           19.767560975609758
          ],
          "sizemode": "area",
          "sizeref": 0.021741290983606554,
          "symbol": "circle"
         },
         "mode": "markers",
         "name": "H.Hóc Môn",
         "orientation": "v",
         "showlegend": true,
         "type": "scatter",
         "x": [
          36.47317073170732
         ],
         "xaxis": "x",
         "y": [
          1028.0782926829268
         ],
         "yaxis": "y"
        },
        {
         "hovertemplate": "<b>%{hovertext}</b><br><br>Quận=Q.1<br>Đơn giá gộp=%{x}<br>Diện tích đất=%{y}<br>Giá=%{marker.size}<extra></extra>",
         "hovertext": [
          "Q.1"
         ],
         "legendgroup": "Q.1",
         "marker": {
          "color": "#00cc96",
          "size": [
           30.435714285714287
          ],
          "sizemode": "area",
          "sizeref": 0.021741290983606554,
          "symbol": "circle"
         },
         "mode": "markers",
         "name": "Q.1",
         "orientation": "v",
         "showlegend": true,
         "type": "scatter",
         "x": [
          46.15714285714286
         ],
         "xaxis": "x",
         "y": [
          46.08428571428571
         ],
         "yaxis": "y"
        },
        {
         "hovertemplate": "<b>%{hovertext}</b><br><br>Quận=Q.5<br>Đơn giá gộp=%{x}<br>Diện tích đất=%{y}<br>Giá=%{marker.size}<extra></extra>",
         "hovertext": [
          "Q.5"
         ],
         "legendgroup": "Q.5",
         "marker": {
          "color": "#ab63fa",
          "size": [
           1.5558823529411765
          ],
          "sizemode": "area",
          "sizeref": 0.021741290983606554,
          "symbol": "circle"
         },
         "mode": "markers",
         "name": "Q.5",
         "orientation": "v",
         "showlegend": true,
         "type": "scatter",
         "x": [
          47.90588235294118
         ],
         "xaxis": "x",
         "y": [
          40.5364705882353
         ],
         "yaxis": "y"
        },
        {
         "hovertemplate": "<b>%{hovertext}</b><br><br>Quận=H.Nhà Bè<br>Đơn giá gộp=%{x}<br>Diện tích đất=%{y}<br>Giá=%{marker.size}<extra></extra>",
         "hovertext": [
          "H.Nhà Bè"
         ],
         "legendgroup": "H.Nhà Bè",
         "marker": {
          "color": "#FFA15A",
          "size": [
           17.60022222222222
          ],
          "sizemode": "area",
          "sizeref": 0.021741290983606554,
          "symbol": "circle"
         },
         "mode": "markers",
         "name": "H.Nhà Bè",
         "orientation": "v",
         "showlegend": true,
         "type": "scatter",
         "x": [
          50.968888888888884
         ],
         "xaxis": "x",
         "y": [
          610.882
         ],
         "yaxis": "y"
        },
        {
         "hovertemplate": "<b>%{hovertext}</b><br><br>Quận=Q.12<br>Đơn giá gộp=%{x}<br>Diện tích đất=%{y}<br>Giá=%{marker.size}<extra></extra>",
         "hovertext": [
          "Q.12"
         ],
         "legendgroup": "Q.12",
         "marker": {
          "color": "#19d3f3",
          "size": [
           17.941206896551723
          ],
          "sizemode": "area",
          "sizeref": 0.021741290983606554,
          "symbol": "circle"
         },
         "mode": "markers",
         "name": "Q.12",
         "orientation": "v",
         "showlegend": true,
         "type": "scatter",
         "x": [
          53.17413793103448
         ],
         "xaxis": "x",
         "y": [
          546.466724137931
         ],
         "yaxis": "y"
        },
        {
         "hovertemplate": "<b>%{hovertext}</b><br><br>Quận=Q.2<br>Đơn giá gộp=%{x}<br>Diện tích đất=%{y}<br>Giá=%{marker.size}<extra></extra>",
         "hovertext": [
          "Q.2"
         ],
         "legendgroup": "Q.2",
         "marker": {
          "color": "#FF6692",
          "size": [
           13.696153846153846
          ],
          "sizemode": "area",
          "sizeref": 0.021741290983606554,
          "symbol": "circle"
         },
         "mode": "markers",
         "name": "Q.2",
         "orientation": "v",
         "showlegend": true,
         "type": "scatter",
         "x": [
          58.8123076923077
         ],
         "xaxis": "x",
         "y": [
          266.32876923076924
         ],
         "yaxis": "y"
        },
        {
         "hovertemplate": "<b>%{hovertext}</b><br><br>Quận=Q.3<br>Đơn giá gộp=%{x}<br>Diện tích đất=%{y}<br>Giá=%{marker.size}<extra></extra>",
         "hovertext": [
          "Q.3"
         ],
         "legendgroup": "Q.3",
         "marker": {
          "color": "#B6E880",
          "size": [
           16.95
          ],
          "sizemode": "area",
          "sizeref": 0.021741290983606554,
          "symbol": "circle"
         },
         "mode": "markers",
         "name": "Q.3",
         "orientation": "v",
         "showlegend": true,
         "type": "scatter",
         "x": [
          59.1625
         ],
         "xaxis": "x",
         "y": [
          43.147499999999994
         ],
         "yaxis": "y"
        },
        {
         "hovertemplate": "<b>%{hovertext}</b><br><br>Quận=Q.Bình Tân<br>Đơn giá gộp=%{x}<br>Diện tích đất=%{y}<br>Giá=%{marker.size}<extra></extra>",
         "hovertext": [
          "Q.Bình Tân"
         ],
         "legendgroup": "Q.Bình Tân",
         "marker": {
          "color": "#FF97FF",
          "size": [
           19.06448275862069
          ],
          "sizemode": "area",
          "sizeref": 0.021741290983606554,
          "symbol": "circle"
         },
         "mode": "markers",
         "name": "Q.Bình Tân",
         "orientation": "v",
         "showlegend": true,
         "type": "scatter",
         "x": [
          59.56551724137931
         ],
         "xaxis": "x",
         "y": [
          400.9495402298851
         ],
         "yaxis": "y"
        },
        {
         "hovertemplate": "<b>%{hovertext}</b><br><br>Quận=Q.9<br>Đơn giá gộp=%{x}<br>Diện tích đất=%{y}<br>Giá=%{marker.size}<extra></extra>",
         "hovertext": [
          "Q.9"
         ],
         "legendgroup": "Q.9",
         "marker": {
          "color": "#FECB52",
          "size": [
           21.166493506493506
          ],
          "sizemode": "area",
          "sizeref": 0.021741290983606554,
          "symbol": "circle"
         },
         "mode": "markers",
         "name": "Q.9",
         "orientation": "v",
         "showlegend": true,
         "type": "scatter",
         "x": [
          59.90909090909091
         ],
         "xaxis": "x",
         "y": [
          428.0196103896104
         ],
         "yaxis": "y"
        },
        {
         "hovertemplate": "<b>%{hovertext}</b><br><br>Quận=Q.7<br>Đơn giá gộp=%{x}<br>Diện tích đất=%{y}<br>Giá=%{marker.size}<extra></extra>",
         "hovertext": [
          "Q.7"
         ],
         "legendgroup": "Q.7",
         "marker": {
          "color": "#636efa",
          "size": [
           9.366896551724137
          ],
          "sizemode": "area",
          "sizeref": 0.021741290983606554,
          "symbol": "circle"
         },
         "mode": "markers",
         "name": "Q.7",
         "orientation": "v",
         "showlegend": true,
         "type": "scatter",
         "x": [
          69.38275862068966
         ],
         "xaxis": "x",
         "y": [
          118.71672413793102
         ],
         "yaxis": "y"
        },
        {
         "hovertemplate": "<b>%{hovertext}</b><br><br>Quận=Q.Thủ Đức<br>Đơn giá gộp=%{x}<br>Diện tích đất=%{y}<br>Giá=%{marker.size}<extra></extra>",
         "hovertext": [
          "Q.Thủ Đức"
         ],
         "legendgroup": "Q.Thủ Đức",
         "marker": {
          "color": "#EF553B",
          "size": [
           34.786065573770486
          ],
          "sizemode": "area",
          "sizeref": 0.021741290983606554,
          "symbol": "circle"
         },
         "mode": "markers",
         "name": "Q.Thủ Đức",
         "orientation": "v",
         "showlegend": true,
         "type": "scatter",
         "x": [
          71.57704918032786
         ],
         "xaxis": "x",
         "y": [
          821.2885245901639
         ],
         "yaxis": "y"
        },
        {
         "hovertemplate": "<b>%{hovertext}</b><br><br>Quận=Q.Tân Phú<br>Đơn giá gộp=%{x}<br>Diện tích đất=%{y}<br>Giá=%{marker.size}<extra></extra>",
         "hovertext": [
          "Q.Tân Phú"
         ],
         "legendgroup": "Q.Tân Phú",
         "marker": {
          "color": "#00cc96",
          "size": [
           8.3692
          ],
          "sizemode": "area",
          "sizeref": 0.021741290983606554,
          "symbol": "circle"
         },
         "mode": "markers",
         "name": "Q.Tân Phú",
         "orientation": "v",
         "showlegend": true,
         "type": "scatter",
         "x": [
          75.214
         ],
         "xaxis": "x",
         "y": [
          98.04899999999999
         ],
         "yaxis": "y"
        },
        {
         "hovertemplate": "<b>%{hovertext}</b><br><br>Quận=Q.8<br>Đơn giá gộp=%{x}<br>Diện tích đất=%{y}<br>Giá=%{marker.size}<extra></extra>",
         "hovertext": [
          "Q.8"
         ],
         "legendgroup": "Q.8",
         "marker": {
          "color": "#ab63fa",
          "size": [
           3.893939393939394
          ],
          "sizemode": "area",
          "sizeref": 0.021741290983606554,
          "symbol": "circle"
         },
         "mode": "markers",
         "name": "Q.8",
         "orientation": "v",
         "showlegend": true,
         "type": "scatter",
         "x": [
          76.02626262626264
         ],
         "xaxis": "x",
         "y": [
          63.5339393939394
         ],
         "yaxis": "y"
        },
        {
         "hovertemplate": "<b>%{hovertext}</b><br><br>Quận=Q.11<br>Đơn giá gộp=%{x}<br>Diện tích đất=%{y}<br>Giá=%{marker.size}<extra></extra>",
         "hovertext": [
          "Q.11"
         ],
         "legendgroup": "Q.11",
         "marker": {
          "color": "#FFA15A",
          "size": [
           24.256
          ],
          "sizemode": "area",
          "sizeref": 0.021741290983606554,
          "symbol": "circle"
         },
         "mode": "markers",
         "name": "Q.11",
         "orientation": "v",
         "showlegend": true,
         "type": "scatter",
         "x": [
          86.84
         ],
         "xaxis": "x",
         "y": [
          215.22000000000003
         ],
         "yaxis": "y"
        },
        {
         "hovertemplate": "<b>%{hovertext}</b><br><br>Quận=Q.Tân Bình<br>Đơn giá gộp=%{x}<br>Diện tích đất=%{y}<br>Giá=%{marker.size}<extra></extra>",
         "hovertext": [
          "Q.Tân Bình"
         ],
         "legendgroup": "Q.Tân Bình",
         "marker": {
          "color": "#19d3f3",
          "size": [
           15.083333333333334
          ],
          "sizemode": "area",
          "sizeref": 0.021741290983606554,
          "symbol": "circle"
         },
         "mode": "markers",
         "name": "Q.Tân Bình",
         "orientation": "v",
         "showlegend": true,
         "type": "scatter",
         "x": [
          88.63333333333333
         ],
         "xaxis": "x",
         "y": [
          131.07333333333332
         ],
         "yaxis": "y"
        },
        {
         "hovertemplate": "<b>%{hovertext}</b><br><br>Quận=Q.Gò Vấp<br>Đơn giá gộp=%{x}<br>Diện tích đất=%{y}<br>Giá=%{marker.size}<extra></extra>",
         "hovertext": [
          "Q.Gò Vấp"
         ],
         "legendgroup": "Q.Gò Vấp",
         "marker": {
          "color": "#FF6692",
          "size": [
           16.65736842105263
          ],
          "sizemode": "area",
          "sizeref": 0.021741290983606554,
          "symbol": "circle"
         },
         "mode": "markers",
         "name": "Q.Gò Vấp",
         "orientation": "v",
         "showlegend": true,
         "type": "scatter",
         "x": [
          89.91052631578947
         ],
         "xaxis": "x",
         "y": [
          173.25192982456142
         ],
         "yaxis": "y"
        },
        {
         "hovertemplate": "<b>%{hovertext}</b><br><br>Quận=Q.6<br>Đơn giá gộp=%{x}<br>Diện tích đất=%{y}<br>Giá=%{marker.size}<extra></extra>",
         "hovertext": [
          "Q.6"
         ],
         "legendgroup": "Q.6",
         "marker": {
          "color": "#B6E880",
          "size": [
           13.921052631578947
          ],
          "sizemode": "area",
          "sizeref": 0.021741290983606554,
          "symbol": "circle"
         },
         "mode": "markers",
         "name": "Q.6",
         "orientation": "v",
         "showlegend": true,
         "type": "scatter",
         "x": [
          93.3078947368421
         ],
         "xaxis": "x",
         "y": [
          147.11526315789473
         ],
         "yaxis": "y"
        },
        {
         "hovertemplate": "<b>%{hovertext}</b><br><br>Quận=Q.4<br>Đơn giá gộp=%{x}<br>Diện tích đất=%{y}<br>Giá=%{marker.size}<extra></extra>",
         "hovertext": [
          "Q.4"
         ],
         "legendgroup": "Q.4",
         "marker": {
          "color": "#FF97FF",
          "size": [
           7.785714285714286
          ],
          "sizemode": "area",
          "sizeref": 0.021741290983606554,
          "symbol": "circle"
         },
         "mode": "markers",
         "name": "Q.4",
         "orientation": "v",
         "showlegend": true,
         "type": "scatter",
         "x": [
          97.76190476190476
         ],
         "xaxis": "x",
         "y": [
          70.83238095238096
         ],
         "yaxis": "y"
        },
        {
         "hovertemplate": "<b>%{hovertext}</b><br><br>Quận=Q.Bình Thạnh<br>Đơn giá gộp=%{x}<br>Diện tích đất=%{y}<br>Giá=%{marker.size}<extra></extra>",
         "hovertext": [
          "Q.Bình Thạnh"
         ],
         "legendgroup": "Q.Bình Thạnh",
         "marker": {
          "color": "#FECB52",
          "size": [
           18.5275
          ],
          "sizemode": "area",
          "sizeref": 0.021741290983606554,
          "symbol": "circle"
         },
         "mode": "markers",
         "name": "Q.Bình Thạnh",
         "orientation": "v",
         "showlegend": true,
         "type": "scatter",
         "x": [
          98.39545454545454
         ],
         "xaxis": "x",
         "y": [
          172.35022727272727
         ],
         "yaxis": "y"
        },
        {
         "hovertemplate": "<b>%{hovertext}</b><br><br>Quận=Q.10<br>Đơn giá gộp=%{x}<br>Diện tích đất=%{y}<br>Giá=%{marker.size}<extra></extra>",
         "hovertext": [
          "Q.10"
         ],
         "legendgroup": "Q.10",
         "marker": {
          "color": "#636efa",
          "size": [
           3.0500000000000003
          ],
          "sizemode": "area",
          "sizeref": 0.021741290983606554,
          "symbol": "circle"
         },
         "mode": "markers",
         "name": "Q.10",
         "orientation": "v",
         "showlegend": true,
         "type": "scatter",
         "x": [
          98.76666666666665
         ],
         "xaxis": "x",
         "y": [
          34.39666666666667
         ],
         "yaxis": "y"
        },
        {
         "hovertemplate": "<b>%{hovertext}</b><br><br>Quận=Q.Phú Nhuận<br>Đơn giá gộp=%{x}<br>Diện tích đất=%{y}<br>Giá=%{marker.size}<extra></extra>",
         "hovertext": [
          "Q.Phú Nhuận"
         ],
         "legendgroup": "Q.Phú Nhuận",
         "marker": {
          "color": "#EF553B",
          "size": [
           18.18
          ],
          "sizemode": "area",
          "sizeref": 0.021741290983606554,
          "symbol": "circle"
         },
         "mode": "markers",
         "name": "Q.Phú Nhuận",
         "orientation": "v",
         "showlegend": true,
         "type": "scatter",
         "x": [
          112.14761904761905
         ],
         "xaxis": "x",
         "y": [
          150.76761904761904
         ],
         "yaxis": "y"
        }
       ],
       "layout": {
        "legend": {
         "itemsizing": "constant",
         "title": {
          "text": "Quận"
         },
         "tracegroupgap": 0
        },
        "margin": {
         "t": 60
        },
        "template": {
         "data": {
          "bar": [
           {
            "error_x": {
             "color": "#2a3f5f"
            },
            "error_y": {
             "color": "#2a3f5f"
            },
            "marker": {
             "line": {
              "color": "#E5ECF6",
              "width": 0.5
             },
             "pattern": {
              "fillmode": "overlay",
              "size": 10,
              "solidity": 0.2
             }
            },
            "type": "bar"
           }
          ],
          "barpolar": [
           {
            "marker": {
             "line": {
              "color": "#E5ECF6",
              "width": 0.5
             },
             "pattern": {
              "fillmode": "overlay",
              "size": 10,
              "solidity": 0.2
             }
            },
            "type": "barpolar"
           }
          ],
          "carpet": [
           {
            "aaxis": {
             "endlinecolor": "#2a3f5f",
             "gridcolor": "white",
             "linecolor": "white",
             "minorgridcolor": "white",
             "startlinecolor": "#2a3f5f"
            },
            "baxis": {
             "endlinecolor": "#2a3f5f",
             "gridcolor": "white",
             "linecolor": "white",
             "minorgridcolor": "white",
             "startlinecolor": "#2a3f5f"
            },
            "type": "carpet"
           }
          ],
          "choropleth": [
           {
            "colorbar": {
             "outlinewidth": 0,
             "ticks": ""
            },
            "type": "choropleth"
           }
          ],
          "contour": [
           {
            "colorbar": {
             "outlinewidth": 0,
             "ticks": ""
            },
            "colorscale": [
             [
              0,
              "#0d0887"
             ],
             [
              0.1111111111111111,
              "#46039f"
             ],
             [
              0.2222222222222222,
              "#7201a8"
             ],
             [
              0.3333333333333333,
              "#9c179e"
             ],
             [
              0.4444444444444444,
              "#bd3786"
             ],
             [
              0.5555555555555556,
              "#d8576b"
             ],
             [
              0.6666666666666666,
              "#ed7953"
             ],
             [
              0.7777777777777778,
              "#fb9f3a"
             ],
             [
              0.8888888888888888,
              "#fdca26"
             ],
             [
              1,
              "#f0f921"
             ]
            ],
            "type": "contour"
           }
          ],
          "contourcarpet": [
           {
            "colorbar": {
             "outlinewidth": 0,
             "ticks": ""
            },
            "type": "contourcarpet"
           }
          ],
          "heatmap": [
           {
            "colorbar": {
             "outlinewidth": 0,
             "ticks": ""
            },
            "colorscale": [
             [
              0,
              "#0d0887"
             ],
             [
              0.1111111111111111,
              "#46039f"
             ],
             [
              0.2222222222222222,
              "#7201a8"
             ],
             [
              0.3333333333333333,
              "#9c179e"
             ],
             [
              0.4444444444444444,
              "#bd3786"
             ],
             [
              0.5555555555555556,
              "#d8576b"
             ],
             [
              0.6666666666666666,
              "#ed7953"
             ],
             [
              0.7777777777777778,
              "#fb9f3a"
             ],
             [
              0.8888888888888888,
              "#fdca26"
             ],
             [
              1,
              "#f0f921"
             ]
            ],
            "type": "heatmap"
           }
          ],
          "heatmapgl": [
           {
            "colorbar": {
             "outlinewidth": 0,
             "ticks": ""
            },
            "colorscale": [
             [
              0,
              "#0d0887"
             ],
             [
              0.1111111111111111,
              "#46039f"
             ],
             [
              0.2222222222222222,
              "#7201a8"
             ],
             [
              0.3333333333333333,
              "#9c179e"
             ],
             [
              0.4444444444444444,
              "#bd3786"
             ],
             [
              0.5555555555555556,
              "#d8576b"
             ],
             [
              0.6666666666666666,
              "#ed7953"
             ],
             [
              0.7777777777777778,
              "#fb9f3a"
             ],
             [
              0.8888888888888888,
              "#fdca26"
             ],
             [
              1,
              "#f0f921"
             ]
            ],
            "type": "heatmapgl"
           }
          ],
          "histogram": [
           {
            "marker": {
             "pattern": {
              "fillmode": "overlay",
              "size": 10,
              "solidity": 0.2
             }
            },
            "type": "histogram"
           }
          ],
          "histogram2d": [
           {
            "colorbar": {
             "outlinewidth": 0,
             "ticks": ""
            },
            "colorscale": [
             [
              0,
              "#0d0887"
             ],
             [
              0.1111111111111111,
              "#46039f"
             ],
             [
              0.2222222222222222,
              "#7201a8"
             ],
             [
              0.3333333333333333,
              "#9c179e"
             ],
             [
              0.4444444444444444,
              "#bd3786"
             ],
             [
              0.5555555555555556,
              "#d8576b"
             ],
             [
              0.6666666666666666,
              "#ed7953"
             ],
             [
              0.7777777777777778,
              "#fb9f3a"
             ],
             [
              0.8888888888888888,
              "#fdca26"
             ],
             [
              1,
              "#f0f921"
             ]
            ],
            "type": "histogram2d"
           }
          ],
          "histogram2dcontour": [
           {
            "colorbar": {
             "outlinewidth": 0,
             "ticks": ""
            },
            "colorscale": [
             [
              0,
              "#0d0887"
             ],
             [
              0.1111111111111111,
              "#46039f"
             ],
             [
              0.2222222222222222,
              "#7201a8"
             ],
             [
              0.3333333333333333,
              "#9c179e"
             ],
             [
              0.4444444444444444,
              "#bd3786"
             ],
             [
              0.5555555555555556,
              "#d8576b"
             ],
             [
              0.6666666666666666,
              "#ed7953"
             ],
             [
              0.7777777777777778,
              "#fb9f3a"
             ],
             [
              0.8888888888888888,
              "#fdca26"
             ],
             [
              1,
              "#f0f921"
             ]
            ],
            "type": "histogram2dcontour"
           }
          ],
          "mesh3d": [
           {
            "colorbar": {
             "outlinewidth": 0,
             "ticks": ""
            },
            "type": "mesh3d"
           }
          ],
          "parcoords": [
           {
            "line": {
             "colorbar": {
              "outlinewidth": 0,
              "ticks": ""
             }
            },
            "type": "parcoords"
           }
          ],
          "pie": [
           {
            "automargin": true,
            "type": "pie"
           }
          ],
          "scatter": [
           {
            "fillpattern": {
             "fillmode": "overlay",
             "size": 10,
             "solidity": 0.2
            },
            "type": "scatter"
           }
          ],
          "scatter3d": [
           {
            "line": {
             "colorbar": {
              "outlinewidth": 0,
              "ticks": ""
             }
            },
            "marker": {
             "colorbar": {
              "outlinewidth": 0,
              "ticks": ""
             }
            },
            "type": "scatter3d"
           }
          ],
          "scattercarpet": [
           {
            "marker": {
             "colorbar": {
              "outlinewidth": 0,
              "ticks": ""
             }
            },
            "type": "scattercarpet"
           }
          ],
          "scattergeo": [
           {
            "marker": {
             "colorbar": {
              "outlinewidth": 0,
              "ticks": ""
             }
            },
            "type": "scattergeo"
           }
          ],
          "scattergl": [
           {
            "marker": {
             "colorbar": {
              "outlinewidth": 0,
              "ticks": ""
             }
            },
            "type": "scattergl"
           }
          ],
          "scattermapbox": [
           {
            "marker": {
             "colorbar": {
              "outlinewidth": 0,
              "ticks": ""
             }
            },
            "type": "scattermapbox"
           }
          ],
          "scatterpolar": [
           {
            "marker": {
             "colorbar": {
              "outlinewidth": 0,
              "ticks": ""
             }
            },
            "type": "scatterpolar"
           }
          ],
          "scatterpolargl": [
           {
            "marker": {
             "colorbar": {
              "outlinewidth": 0,
              "ticks": ""
             }
            },
            "type": "scatterpolargl"
           }
          ],
          "scatterternary": [
           {
            "marker": {
             "colorbar": {
              "outlinewidth": 0,
              "ticks": ""
             }
            },
            "type": "scatterternary"
           }
          ],
          "surface": [
           {
            "colorbar": {
             "outlinewidth": 0,
             "ticks": ""
            },
            "colorscale": [
             [
              0,
              "#0d0887"
             ],
             [
              0.1111111111111111,
              "#46039f"
             ],
             [
              0.2222222222222222,
              "#7201a8"
             ],
             [
              0.3333333333333333,
              "#9c179e"
             ],
             [
              0.4444444444444444,
              "#bd3786"
             ],
             [
              0.5555555555555556,
              "#d8576b"
             ],
             [
              0.6666666666666666,
              "#ed7953"
             ],
             [
              0.7777777777777778,
              "#fb9f3a"
             ],
             [
              0.8888888888888888,
              "#fdca26"
             ],
             [
              1,
              "#f0f921"
             ]
            ],
            "type": "surface"
           }
          ],
          "table": [
           {
            "cells": {
             "fill": {
              "color": "#EBF0F8"
             },
             "line": {
              "color": "white"
             }
            },
            "header": {
             "fill": {
              "color": "#C8D4E3"
             },
             "line": {
              "color": "white"
             }
            },
            "type": "table"
           }
          ]
         },
         "layout": {
          "annotationdefaults": {
           "arrowcolor": "#2a3f5f",
           "arrowhead": 0,
           "arrowwidth": 1
          },
          "autotypenumbers": "strict",
          "coloraxis": {
           "colorbar": {
            "outlinewidth": 0,
            "ticks": ""
           }
          },
          "colorscale": {
           "diverging": [
            [
             0,
             "#8e0152"
            ],
            [
             0.1,
             "#c51b7d"
            ],
            [
             0.2,
             "#de77ae"
            ],
            [
             0.3,
             "#f1b6da"
            ],
            [
             0.4,
             "#fde0ef"
            ],
            [
             0.5,
             "#f7f7f7"
            ],
            [
             0.6,
             "#e6f5d0"
            ],
            [
             0.7,
             "#b8e186"
            ],
            [
             0.8,
             "#7fbc41"
            ],
            [
             0.9,
             "#4d9221"
            ],
            [
             1,
             "#276419"
            ]
           ],
           "sequential": [
            [
             0,
             "#0d0887"
            ],
            [
             0.1111111111111111,
             "#46039f"
            ],
            [
             0.2222222222222222,
             "#7201a8"
            ],
            [
             0.3333333333333333,
             "#9c179e"
            ],
            [
             0.4444444444444444,
             "#bd3786"
            ],
            [
             0.5555555555555556,
             "#d8576b"
            ],
            [
             0.6666666666666666,
             "#ed7953"
            ],
            [
             0.7777777777777778,
             "#fb9f3a"
            ],
            [
             0.8888888888888888,
             "#fdca26"
            ],
            [
             1,
             "#f0f921"
            ]
           ],
           "sequentialminus": [
            [
             0,
             "#0d0887"
            ],
            [
             0.1111111111111111,
             "#46039f"
            ],
            [
             0.2222222222222222,
             "#7201a8"
            ],
            [
             0.3333333333333333,
             "#9c179e"
            ],
            [
             0.4444444444444444,
             "#bd3786"
            ],
            [
             0.5555555555555556,
             "#d8576b"
            ],
            [
             0.6666666666666666,
             "#ed7953"
            ],
            [
             0.7777777777777778,
             "#fb9f3a"
            ],
            [
             0.8888888888888888,
             "#fdca26"
            ],
            [
             1,
             "#f0f921"
            ]
           ]
          },
          "colorway": [
           "#636efa",
           "#EF553B",
           "#00cc96",
           "#ab63fa",
           "#FFA15A",
           "#19d3f3",
           "#FF6692",
           "#B6E880",
           "#FF97FF",
           "#FECB52"
          ],
          "font": {
           "color": "#2a3f5f"
          },
          "geo": {
           "bgcolor": "white",
           "lakecolor": "white",
           "landcolor": "#E5ECF6",
           "showlakes": true,
           "showland": true,
           "subunitcolor": "white"
          },
          "hoverlabel": {
           "align": "left"
          },
          "hovermode": "closest",
          "mapbox": {
           "style": "light"
          },
          "paper_bgcolor": "white",
          "plot_bgcolor": "#E5ECF6",
          "polar": {
           "angularaxis": {
            "gridcolor": "white",
            "linecolor": "white",
            "ticks": ""
           },
           "bgcolor": "#E5ECF6",
           "radialaxis": {
            "gridcolor": "white",
            "linecolor": "white",
            "ticks": ""
           }
          },
          "scene": {
           "xaxis": {
            "backgroundcolor": "#E5ECF6",
            "gridcolor": "white",
            "gridwidth": 2,
            "linecolor": "white",
            "showbackground": true,
            "ticks": "",
            "zerolinecolor": "white"
           },
           "yaxis": {
            "backgroundcolor": "#E5ECF6",
            "gridcolor": "white",
            "gridwidth": 2,
            "linecolor": "white",
            "showbackground": true,
            "ticks": "",
            "zerolinecolor": "white"
           },
           "zaxis": {
            "backgroundcolor": "#E5ECF6",
            "gridcolor": "white",
            "gridwidth": 2,
            "linecolor": "white",
            "showbackground": true,
            "ticks": "",
            "zerolinecolor": "white"
           }
          },
          "shapedefaults": {
           "line": {
            "color": "#2a3f5f"
           }
          },
          "ternary": {
           "aaxis": {
            "gridcolor": "white",
            "linecolor": "white",
            "ticks": ""
           },
           "baxis": {
            "gridcolor": "white",
            "linecolor": "white",
            "ticks": ""
           },
           "bgcolor": "#E5ECF6",
           "caxis": {
            "gridcolor": "white",
            "linecolor": "white",
            "ticks": ""
           }
          },
          "title": {
           "x": 0.05
          },
          "xaxis": {
           "automargin": true,
           "gridcolor": "white",
           "linecolor": "white",
           "ticks": "",
           "title": {
            "standoff": 15
           },
           "zerolinecolor": "white",
           "zerolinewidth": 2
          },
          "yaxis": {
           "automargin": true,
           "gridcolor": "white",
           "linecolor": "white",
           "ticks": "",
           "title": {
            "standoff": 15
           },
           "zerolinecolor": "white",
           "zerolinewidth": 2
          }
         }
        },
        "title": {
         "text": "Diện tích đất trung bình (m²) cho 1 căn hộ và Đơn giá gộp trung bình (triệu/m²) giữa các Quận ở TP.HCM"
        },
        "xaxis": {
         "anchor": "y",
         "domain": [
          0,
          1
         ],
         "title": {
          "text": "Đơn giá gộp trung bình (triệu/m²)"
         }
        },
        "yaxis": {
         "anchor": "x",
         "domain": [
          0,
          1
         ],
         "title": {
          "text": "Diện tích đất trung bình (m²)"
         }
        }
       }
      }
     },
     "metadata": {},
     "output_type": "display_data"
    }
   ],
   "source": [
    "bubble_chart(price_low)"
   ]
  },
  {
   "cell_type": "code",
   "execution_count": 37,
   "metadata": {},
   "outputs": [
    {
     "data": {
      "application/vnd.plotly.v1+json": {
       "config": {
        "plotlyServerURL": "https://plot.ly"
       },
       "data": [
        {
         "hovertemplate": "<b>%{hovertext}</b><br><br>Quận=Q.12<br>Đơn giá gộp=%{x}<br>Diện tích đất=%{y}<br>Giá=%{marker.size}<extra></extra>",
         "hovertext": [
          "Q.12"
         ],
         "legendgroup": "Q.12",
         "marker": {
          "color": "#636efa",
          "size": [
           1.5
          ],
          "sizemode": "area",
          "sizeref": 0.0410422794117647,
          "symbol": "circle"
         },
         "mode": "markers",
         "name": "Q.12",
         "orientation": "v",
         "showlegend": true,
         "type": "scatter",
         "x": [
          159.5
         ],
         "xaxis": "x",
         "y": [
          9.4
         ],
         "yaxis": "y"
        },
        {
         "hovertemplate": "<b>%{hovertext}</b><br><br>Quận=H.Bình Chánh<br>Đơn giá gộp=%{x}<br>Diện tích đất=%{y}<br>Giá=%{marker.size}<extra></extra>",
         "hovertext": [
          "H.Bình Chánh"
         ],
         "legendgroup": "H.Bình Chánh",
         "marker": {
          "color": "#EF553B",
          "size": [
           39.5
          ],
          "sizemode": "area",
          "sizeref": 0.0410422794117647,
          "symbol": "circle"
         },
         "mode": "markers",
         "name": "H.Bình Chánh",
         "orientation": "v",
         "showlegend": true,
         "type": "scatter",
         "x": [
          161.26666666666665
         ],
         "xaxis": "x",
         "y": [
          249.20000000000002
         ],
         "yaxis": "y"
        },
        {
         "hovertemplate": "<b>%{hovertext}</b><br><br>Quận=Q.Tân Phú<br>Đơn giá gộp=%{x}<br>Diện tích đất=%{y}<br>Giá=%{marker.size}<extra></extra>",
         "hovertext": [
          "Q.Tân Phú"
         ],
         "legendgroup": "Q.Tân Phú",
         "marker": {
          "color": "#00cc96",
          "size": [
           36.233333333333334
          ],
          "sizemode": "area",
          "sizeref": 0.0410422794117647,
          "symbol": "circle"
         },
         "mode": "markers",
         "name": "Q.Tân Phú",
         "orientation": "v",
         "showlegend": true,
         "type": "scatter",
         "x": [
          185.66111111111113
         ],
         "xaxis": "x",
         "y": [
          204.7888888888889
         ],
         "yaxis": "y"
        },
        {
         "hovertemplate": "<b>%{hovertext}</b><br><br>Quận=Q.Bình Tân<br>Đơn giá gộp=%{x}<br>Diện tích đất=%{y}<br>Giá=%{marker.size}<extra></extra>",
         "hovertext": [
          "Q.Bình Tân"
         ],
         "legendgroup": "Q.Bình Tân",
         "marker": {
          "color": "#ab63fa",
          "size": [
           27.15
          ],
          "sizemode": "area",
          "sizeref": 0.0410422794117647,
          "symbol": "circle"
         },
         "mode": "markers",
         "name": "Q.Bình Tân",
         "orientation": "v",
         "showlegend": true,
         "type": "scatter",
         "x": [
          188.025
         ],
         "xaxis": "x",
         "y": [
          147.7375
         ],
         "yaxis": "y"
        },
        {
         "hovertemplate": "<b>%{hovertext}</b><br><br>Quận=Q.8<br>Đơn giá gộp=%{x}<br>Diện tích đất=%{y}<br>Giá=%{marker.size}<extra></extra>",
         "hovertext": [
          "Q.8"
         ],
         "legendgroup": "Q.8",
         "marker": {
          "color": "#FFA15A",
          "size": [
           12.315833333333332
          ],
          "sizemode": "area",
          "sizeref": 0.0410422794117647,
          "symbol": "circle"
         },
         "mode": "markers",
         "name": "Q.8",
         "orientation": "v",
         "showlegend": true,
         "type": "scatter",
         "x": [
          197.45000000000002
         ],
         "xaxis": "x",
         "y": [
          64.64999999999999
         ],
         "yaxis": "y"
        },
        {
         "hovertemplate": "<b>%{hovertext}</b><br><br>Quận=Q.9<br>Đơn giá gộp=%{x}<br>Diện tích đất=%{y}<br>Giá=%{marker.size}<extra></extra>",
         "hovertext": [
          "Q.9"
         ],
         "legendgroup": "Q.9",
         "marker": {
          "color": "#19d3f3",
          "size": [
           32.957
          ],
          "sizemode": "area",
          "sizeref": 0.0410422794117647,
          "symbol": "circle"
         },
         "mode": "markers",
         "name": "Q.9",
         "orientation": "v",
         "showlegend": true,
         "type": "scatter",
         "x": [
          198.23999999999998
         ],
         "xaxis": "x",
         "y": [
          175.725
         ],
         "yaxis": "y"
        },
        {
         "hovertemplate": "<b>%{hovertext}</b><br><br>Quận=Q.Thủ Đức<br>Đơn giá gộp=%{x}<br>Diện tích đất=%{y}<br>Giá=%{marker.size}<extra></extra>",
         "hovertext": [
          "Q.Thủ Đức"
         ],
         "legendgroup": "Q.Thủ Đức",
         "marker": {
          "color": "#FF6692",
          "size": [
           35.15
          ],
          "sizemode": "area",
          "sizeref": 0.0410422794117647,
          "symbol": "circle"
         },
         "mode": "markers",
         "name": "Q.Thủ Đức",
         "orientation": "v",
         "showlegend": true,
         "type": "scatter",
         "x": [
          199.275
         ],
         "xaxis": "x",
         "y": [
          173.35375
         ],
         "yaxis": "y"
        },
        {
         "hovertemplate": "<b>%{hovertext}</b><br><br>Quận=Q.Bình Thạnh<br>Đơn giá gộp=%{x}<br>Diện tích đất=%{y}<br>Giá=%{marker.size}<extra></extra>",
         "hovertext": [
          "Q.Bình Thạnh"
         ],
         "legendgroup": "Q.Bình Thạnh",
         "marker": {
          "color": "#B6E880",
          "size": [
           26.9778431372549
          ],
          "sizemode": "area",
          "sizeref": 0.0410422794117647,
          "symbol": "circle"
         },
         "mode": "markers",
         "name": "Q.Bình Thạnh",
         "orientation": "v",
         "showlegend": true,
         "type": "scatter",
         "x": [
          208.7627450980392
         ],
         "xaxis": "x",
         "y": [
          124.95882352941176
         ],
         "yaxis": "y"
        },
        {
         "hovertemplate": "<b>%{hovertext}</b><br><br>Quận=Q.Gò Vấp<br>Đơn giá gộp=%{x}<br>Diện tích đất=%{y}<br>Giá=%{marker.size}<extra></extra>",
         "hovertext": [
          "Q.Gò Vấp"
         ],
         "legendgroup": "Q.Gò Vấp",
         "marker": {
          "color": "#FF97FF",
          "size": [
           41.642105263157895
          ],
          "sizemode": "area",
          "sizeref": 0.0410422794117647,
          "symbol": "circle"
         },
         "mode": "markers",
         "name": "Q.Gò Vấp",
         "orientation": "v",
         "showlegend": true,
         "type": "scatter",
         "x": [
          208.94736842105263
         ],
         "xaxis": "x",
         "y": [
          215.15105263157895
         ],
         "yaxis": "y"
        },
        {
         "hovertemplate": "<b>%{hovertext}</b><br><br>Quận=Q.2<br>Đơn giá gộp=%{x}<br>Diện tích đất=%{y}<br>Giá=%{marker.size}<extra></extra>",
         "hovertext": [
          "Q.2"
         ],
         "legendgroup": "Q.2",
         "marker": {
          "color": "#FECB52",
          "size": [
           65.66764705882352
          ],
          "sizemode": "area",
          "sizeref": 0.0410422794117647,
          "symbol": "circle"
         },
         "mode": "markers",
         "name": "Q.2",
         "orientation": "v",
         "showlegend": true,
         "type": "scatter",
         "x": [
          213.7941176470588
         ],
         "xaxis": "x",
         "y": [
          292.3947058823529
         ],
         "yaxis": "y"
        },
        {
         "hovertemplate": "<b>%{hovertext}</b><br><br>Quận=Q.4<br>Đơn giá gộp=%{x}<br>Diện tích đất=%{y}<br>Giá=%{marker.size}<extra></extra>",
         "hovertext": [
          "Q.4"
         ],
         "legendgroup": "Q.4",
         "marker": {
          "color": "#636efa",
          "size": [
           26.94727272727273
          ],
          "sizemode": "area",
          "sizeref": 0.0410422794117647,
          "symbol": "circle"
         },
         "mode": "markers",
         "name": "Q.4",
         "orientation": "v",
         "showlegend": true,
         "type": "scatter",
         "x": [
          217.04545454545453
         ],
         "xaxis": "x",
         "y": [
          118.13636363636364
         ],
         "yaxis": "y"
        },
        {
         "hovertemplate": "<b>%{hovertext}</b><br><br>Quận=Q.7<br>Đơn giá gộp=%{x}<br>Diện tích đất=%{y}<br>Giá=%{marker.size}<extra></extra>",
         "hovertext": [
          "Q.7"
         ],
         "legendgroup": "Q.7",
         "marker": {
          "color": "#EF553B",
          "size": [
           38.46181818181818
          ],
          "sizemode": "area",
          "sizeref": 0.0410422794117647,
          "symbol": "circle"
         },
         "mode": "markers",
         "name": "Q.7",
         "orientation": "v",
         "showlegend": true,
         "type": "scatter",
         "x": [
          226.49545454545452
         ],
         "xaxis": "x",
         "y": [
          181.08727272727273
         ],
         "yaxis": "y"
        },
        {
         "hovertemplate": "<b>%{hovertext}</b><br><br>Quận=Q.Phú Nhuận<br>Đơn giá gộp=%{x}<br>Diện tích đất=%{y}<br>Giá=%{marker.size}<extra></extra>",
         "hovertext": [
          "Q.Phú Nhuận"
         ],
         "legendgroup": "Q.Phú Nhuận",
         "marker": {
          "color": "#00cc96",
          "size": [
           24.93875
          ],
          "sizemode": "area",
          "sizeref": 0.0410422794117647,
          "symbol": "circle"
         },
         "mode": "markers",
         "name": "Q.Phú Nhuận",
         "orientation": "v",
         "showlegend": true,
         "type": "scatter",
         "x": [
          235.96071428571426
         ],
         "xaxis": "x",
         "y": [
          101.0575
         ],
         "yaxis": "y"
        },
        {
         "hovertemplate": "<b>%{hovertext}</b><br><br>Quận=Q.Tân Bình<br>Đơn giá gộp=%{x}<br>Diện tích đất=%{y}<br>Giá=%{marker.size}<extra></extra>",
         "hovertext": [
          "Q.Tân Bình"
         ],
         "legendgroup": "Q.Tân Bình",
         "marker": {
          "color": "#ab63fa",
          "size": [
           45.68
          ],
          "sizemode": "area",
          "sizeref": 0.0410422794117647,
          "symbol": "circle"
         },
         "mode": "markers",
         "name": "Q.Tân Bình",
         "orientation": "v",
         "showlegend": true,
         "type": "scatter",
         "x": [
          241.17000000000002
         ],
         "xaxis": "x",
         "y": [
          209.421
         ],
         "yaxis": "y"
        },
        {
         "hovertemplate": "<b>%{hovertext}</b><br><br>Quận=Q.6<br>Đơn giá gộp=%{x}<br>Diện tích đất=%{y}<br>Giá=%{marker.size}<extra></extra>",
         "hovertext": [
          "Q.6"
         ],
         "legendgroup": "Q.6",
         "marker": {
          "color": "#FFA15A",
          "size": [
           28.32
          ],
          "sizemode": "area",
          "sizeref": 0.0410422794117647,
          "symbol": "circle"
         },
         "mode": "markers",
         "name": "Q.6",
         "orientation": "v",
         "showlegend": true,
         "type": "scatter",
         "x": [
          249.82051282051282
         ],
         "xaxis": "x",
         "y": [
          119.89435897435898
         ],
         "yaxis": "y"
        },
        {
         "hovertemplate": "<b>%{hovertext}</b><br><br>Quận=Q.11<br>Đơn giá gộp=%{x}<br>Diện tích đất=%{y}<br>Giá=%{marker.size}<extra></extra>",
         "hovertext": [
          "Q.11"
         ],
         "legendgroup": "Q.11",
         "marker": {
          "color": "#19d3f3",
          "size": [
           34.46666666666667
          ],
          "sizemode": "area",
          "sizeref": 0.0410422794117647,
          "symbol": "circle"
         },
         "mode": "markers",
         "name": "Q.11",
         "orientation": "v",
         "showlegend": true,
         "type": "scatter",
         "x": [
          257.6222222222222
         ],
         "xaxis": "x",
         "y": [
          145.30499999999998
         ],
         "yaxis": "y"
        },
        {
         "hovertemplate": "<b>%{hovertext}</b><br><br>Quận=Q.10<br>Đơn giá gộp=%{x}<br>Diện tích đất=%{y}<br>Giá=%{marker.size}<extra></extra>",
         "hovertext": [
          "Q.10"
         ],
         "legendgroup": "Q.10",
         "marker": {
          "color": "#FF6692",
          "size": [
           33.680217391304346
          ],
          "sizemode": "area",
          "sizeref": 0.0410422794117647,
          "symbol": "circle"
         },
         "mode": "markers",
         "name": "Q.10",
         "orientation": "v",
         "showlegend": true,
         "type": "scatter",
         "x": [
          326.5326086956522
         ],
         "xaxis": "x",
         "y": [
          115.68152173913045
         ],
         "yaxis": "y"
        },
        {
         "hovertemplate": "<b>%{hovertext}</b><br><br>Quận=Q.3<br>Đơn giá gộp=%{x}<br>Diện tích đất=%{y}<br>Giá=%{marker.size}<extra></extra>",
         "hovertext": [
          "Q.3"
         ],
         "legendgroup": "Q.3",
         "marker": {
          "color": "#B6E880",
          "size": [
           30.729069767441857
          ],
          "sizemode": "area",
          "sizeref": 0.0410422794117647,
          "symbol": "circle"
         },
         "mode": "markers",
         "name": "Q.3",
         "orientation": "v",
         "showlegend": true,
         "type": "scatter",
         "x": [
          351.62325581395345
         ],
         "xaxis": "x",
         "y": [
          96.15558139534883
         ],
         "yaxis": "y"
        },
        {
         "hovertemplate": "<b>%{hovertext}</b><br><br>Quận=Q.5<br>Đơn giá gộp=%{x}<br>Diện tích đất=%{y}<br>Giá=%{marker.size}<extra></extra>",
         "hovertext": [
          "Q.5"
         ],
         "legendgroup": "Q.5",
         "marker": {
          "color": "#FF97FF",
          "size": [
           32.00242424242424
          ],
          "sizemode": "area",
          "sizeref": 0.0410422794117647,
          "symbol": "circle"
         },
         "mode": "markers",
         "name": "Q.5",
         "orientation": "v",
         "showlegend": true,
         "type": "scatter",
         "x": [
          403.60303030303027
         ],
         "xaxis": "x",
         "y": [
          82.78424242424242
         ],
         "yaxis": "y"
        },
        {
         "hovertemplate": "<b>%{hovertext}</b><br><br>Quận=Q.1<br>Đơn giá gộp=%{x}<br>Diện tích đất=%{y}<br>Giá=%{marker.size}<extra></extra>",
         "hovertext": [
          "Q.1"
         ],
         "legendgroup": "Q.1",
         "marker": {
          "color": "#FECB52",
          "size": [
           40.91063829787234
          ],
          "sizemode": "area",
          "sizeref": 0.0410422794117647,
          "symbol": "circle"
         },
         "mode": "markers",
         "name": "Q.1",
         "orientation": "v",
         "showlegend": true,
         "type": "scatter",
         "x": [
          525.0914893617021
         ],
         "xaxis": "x",
         "y": [
          85.95446808510638
         ],
         "yaxis": "y"
        }
       ],
       "layout": {
        "legend": {
         "itemsizing": "constant",
         "title": {
          "text": "Quận"
         },
         "tracegroupgap": 0
        },
        "margin": {
         "t": 60
        },
        "template": {
         "data": {
          "bar": [
           {
            "error_x": {
             "color": "#2a3f5f"
            },
            "error_y": {
             "color": "#2a3f5f"
            },
            "marker": {
             "line": {
              "color": "#E5ECF6",
              "width": 0.5
             },
             "pattern": {
              "fillmode": "overlay",
              "size": 10,
              "solidity": 0.2
             }
            },
            "type": "bar"
           }
          ],
          "barpolar": [
           {
            "marker": {
             "line": {
              "color": "#E5ECF6",
              "width": 0.5
             },
             "pattern": {
              "fillmode": "overlay",
              "size": 10,
              "solidity": 0.2
             }
            },
            "type": "barpolar"
           }
          ],
          "carpet": [
           {
            "aaxis": {
             "endlinecolor": "#2a3f5f",
             "gridcolor": "white",
             "linecolor": "white",
             "minorgridcolor": "white",
             "startlinecolor": "#2a3f5f"
            },
            "baxis": {
             "endlinecolor": "#2a3f5f",
             "gridcolor": "white",
             "linecolor": "white",
             "minorgridcolor": "white",
             "startlinecolor": "#2a3f5f"
            },
            "type": "carpet"
           }
          ],
          "choropleth": [
           {
            "colorbar": {
             "outlinewidth": 0,
             "ticks": ""
            },
            "type": "choropleth"
           }
          ],
          "contour": [
           {
            "colorbar": {
             "outlinewidth": 0,
             "ticks": ""
            },
            "colorscale": [
             [
              0,
              "#0d0887"
             ],
             [
              0.1111111111111111,
              "#46039f"
             ],
             [
              0.2222222222222222,
              "#7201a8"
             ],
             [
              0.3333333333333333,
              "#9c179e"
             ],
             [
              0.4444444444444444,
              "#bd3786"
             ],
             [
              0.5555555555555556,
              "#d8576b"
             ],
             [
              0.6666666666666666,
              "#ed7953"
             ],
             [
              0.7777777777777778,
              "#fb9f3a"
             ],
             [
              0.8888888888888888,
              "#fdca26"
             ],
             [
              1,
              "#f0f921"
             ]
            ],
            "type": "contour"
           }
          ],
          "contourcarpet": [
           {
            "colorbar": {
             "outlinewidth": 0,
             "ticks": ""
            },
            "type": "contourcarpet"
           }
          ],
          "heatmap": [
           {
            "colorbar": {
             "outlinewidth": 0,
             "ticks": ""
            },
            "colorscale": [
             [
              0,
              "#0d0887"
             ],
             [
              0.1111111111111111,
              "#46039f"
             ],
             [
              0.2222222222222222,
              "#7201a8"
             ],
             [
              0.3333333333333333,
              "#9c179e"
             ],
             [
              0.4444444444444444,
              "#bd3786"
             ],
             [
              0.5555555555555556,
              "#d8576b"
             ],
             [
              0.6666666666666666,
              "#ed7953"
             ],
             [
              0.7777777777777778,
              "#fb9f3a"
             ],
             [
              0.8888888888888888,
              "#fdca26"
             ],
             [
              1,
              "#f0f921"
             ]
            ],
            "type": "heatmap"
           }
          ],
          "heatmapgl": [
           {
            "colorbar": {
             "outlinewidth": 0,
             "ticks": ""
            },
            "colorscale": [
             [
              0,
              "#0d0887"
             ],
             [
              0.1111111111111111,
              "#46039f"
             ],
             [
              0.2222222222222222,
              "#7201a8"
             ],
             [
              0.3333333333333333,
              "#9c179e"
             ],
             [
              0.4444444444444444,
              "#bd3786"
             ],
             [
              0.5555555555555556,
              "#d8576b"
             ],
             [
              0.6666666666666666,
              "#ed7953"
             ],
             [
              0.7777777777777778,
              "#fb9f3a"
             ],
             [
              0.8888888888888888,
              "#fdca26"
             ],
             [
              1,
              "#f0f921"
             ]
            ],
            "type": "heatmapgl"
           }
          ],
          "histogram": [
           {
            "marker": {
             "pattern": {
              "fillmode": "overlay",
              "size": 10,
              "solidity": 0.2
             }
            },
            "type": "histogram"
           }
          ],
          "histogram2d": [
           {
            "colorbar": {
             "outlinewidth": 0,
             "ticks": ""
            },
            "colorscale": [
             [
              0,
              "#0d0887"
             ],
             [
              0.1111111111111111,
              "#46039f"
             ],
             [
              0.2222222222222222,
              "#7201a8"
             ],
             [
              0.3333333333333333,
              "#9c179e"
             ],
             [
              0.4444444444444444,
              "#bd3786"
             ],
             [
              0.5555555555555556,
              "#d8576b"
             ],
             [
              0.6666666666666666,
              "#ed7953"
             ],
             [
              0.7777777777777778,
              "#fb9f3a"
             ],
             [
              0.8888888888888888,
              "#fdca26"
             ],
             [
              1,
              "#f0f921"
             ]
            ],
            "type": "histogram2d"
           }
          ],
          "histogram2dcontour": [
           {
            "colorbar": {
             "outlinewidth": 0,
             "ticks": ""
            },
            "colorscale": [
             [
              0,
              "#0d0887"
             ],
             [
              0.1111111111111111,
              "#46039f"
             ],
             [
              0.2222222222222222,
              "#7201a8"
             ],
             [
              0.3333333333333333,
              "#9c179e"
             ],
             [
              0.4444444444444444,
              "#bd3786"
             ],
             [
              0.5555555555555556,
              "#d8576b"
             ],
             [
              0.6666666666666666,
              "#ed7953"
             ],
             [
              0.7777777777777778,
              "#fb9f3a"
             ],
             [
              0.8888888888888888,
              "#fdca26"
             ],
             [
              1,
              "#f0f921"
             ]
            ],
            "type": "histogram2dcontour"
           }
          ],
          "mesh3d": [
           {
            "colorbar": {
             "outlinewidth": 0,
             "ticks": ""
            },
            "type": "mesh3d"
           }
          ],
          "parcoords": [
           {
            "line": {
             "colorbar": {
              "outlinewidth": 0,
              "ticks": ""
             }
            },
            "type": "parcoords"
           }
          ],
          "pie": [
           {
            "automargin": true,
            "type": "pie"
           }
          ],
          "scatter": [
           {
            "fillpattern": {
             "fillmode": "overlay",
             "size": 10,
             "solidity": 0.2
            },
            "type": "scatter"
           }
          ],
          "scatter3d": [
           {
            "line": {
             "colorbar": {
              "outlinewidth": 0,
              "ticks": ""
             }
            },
            "marker": {
             "colorbar": {
              "outlinewidth": 0,
              "ticks": ""
             }
            },
            "type": "scatter3d"
           }
          ],
          "scattercarpet": [
           {
            "marker": {
             "colorbar": {
              "outlinewidth": 0,
              "ticks": ""
             }
            },
            "type": "scattercarpet"
           }
          ],
          "scattergeo": [
           {
            "marker": {
             "colorbar": {
              "outlinewidth": 0,
              "ticks": ""
             }
            },
            "type": "scattergeo"
           }
          ],
          "scattergl": [
           {
            "marker": {
             "colorbar": {
              "outlinewidth": 0,
              "ticks": ""
             }
            },
            "type": "scattergl"
           }
          ],
          "scattermapbox": [
           {
            "marker": {
             "colorbar": {
              "outlinewidth": 0,
              "ticks": ""
             }
            },
            "type": "scattermapbox"
           }
          ],
          "scatterpolar": [
           {
            "marker": {
             "colorbar": {
              "outlinewidth": 0,
              "ticks": ""
             }
            },
            "type": "scatterpolar"
           }
          ],
          "scatterpolargl": [
           {
            "marker": {
             "colorbar": {
              "outlinewidth": 0,
              "ticks": ""
             }
            },
            "type": "scatterpolargl"
           }
          ],
          "scatterternary": [
           {
            "marker": {
             "colorbar": {
              "outlinewidth": 0,
              "ticks": ""
             }
            },
            "type": "scatterternary"
           }
          ],
          "surface": [
           {
            "colorbar": {
             "outlinewidth": 0,
             "ticks": ""
            },
            "colorscale": [
             [
              0,
              "#0d0887"
             ],
             [
              0.1111111111111111,
              "#46039f"
             ],
             [
              0.2222222222222222,
              "#7201a8"
             ],
             [
              0.3333333333333333,
              "#9c179e"
             ],
             [
              0.4444444444444444,
              "#bd3786"
             ],
             [
              0.5555555555555556,
              "#d8576b"
             ],
             [
              0.6666666666666666,
              "#ed7953"
             ],
             [
              0.7777777777777778,
              "#fb9f3a"
             ],
             [
              0.8888888888888888,
              "#fdca26"
             ],
             [
              1,
              "#f0f921"
             ]
            ],
            "type": "surface"
           }
          ],
          "table": [
           {
            "cells": {
             "fill": {
              "color": "#EBF0F8"
             },
             "line": {
              "color": "white"
             }
            },
            "header": {
             "fill": {
              "color": "#C8D4E3"
             },
             "line": {
              "color": "white"
             }
            },
            "type": "table"
           }
          ]
         },
         "layout": {
          "annotationdefaults": {
           "arrowcolor": "#2a3f5f",
           "arrowhead": 0,
           "arrowwidth": 1
          },
          "autotypenumbers": "strict",
          "coloraxis": {
           "colorbar": {
            "outlinewidth": 0,
            "ticks": ""
           }
          },
          "colorscale": {
           "diverging": [
            [
             0,
             "#8e0152"
            ],
            [
             0.1,
             "#c51b7d"
            ],
            [
             0.2,
             "#de77ae"
            ],
            [
             0.3,
             "#f1b6da"
            ],
            [
             0.4,
             "#fde0ef"
            ],
            [
             0.5,
             "#f7f7f7"
            ],
            [
             0.6,
             "#e6f5d0"
            ],
            [
             0.7,
             "#b8e186"
            ],
            [
             0.8,
             "#7fbc41"
            ],
            [
             0.9,
             "#4d9221"
            ],
            [
             1,
             "#276419"
            ]
           ],
           "sequential": [
            [
             0,
             "#0d0887"
            ],
            [
             0.1111111111111111,
             "#46039f"
            ],
            [
             0.2222222222222222,
             "#7201a8"
            ],
            [
             0.3333333333333333,
             "#9c179e"
            ],
            [
             0.4444444444444444,
             "#bd3786"
            ],
            [
             0.5555555555555556,
             "#d8576b"
            ],
            [
             0.6666666666666666,
             "#ed7953"
            ],
            [
             0.7777777777777778,
             "#fb9f3a"
            ],
            [
             0.8888888888888888,
             "#fdca26"
            ],
            [
             1,
             "#f0f921"
            ]
           ],
           "sequentialminus": [
            [
             0,
             "#0d0887"
            ],
            [
             0.1111111111111111,
             "#46039f"
            ],
            [
             0.2222222222222222,
             "#7201a8"
            ],
            [
             0.3333333333333333,
             "#9c179e"
            ],
            [
             0.4444444444444444,
             "#bd3786"
            ],
            [
             0.5555555555555556,
             "#d8576b"
            ],
            [
             0.6666666666666666,
             "#ed7953"
            ],
            [
             0.7777777777777778,
             "#fb9f3a"
            ],
            [
             0.8888888888888888,
             "#fdca26"
            ],
            [
             1,
             "#f0f921"
            ]
           ]
          },
          "colorway": [
           "#636efa",
           "#EF553B",
           "#00cc96",
           "#ab63fa",
           "#FFA15A",
           "#19d3f3",
           "#FF6692",
           "#B6E880",
           "#FF97FF",
           "#FECB52"
          ],
          "font": {
           "color": "#2a3f5f"
          },
          "geo": {
           "bgcolor": "white",
           "lakecolor": "white",
           "landcolor": "#E5ECF6",
           "showlakes": true,
           "showland": true,
           "subunitcolor": "white"
          },
          "hoverlabel": {
           "align": "left"
          },
          "hovermode": "closest",
          "mapbox": {
           "style": "light"
          },
          "paper_bgcolor": "white",
          "plot_bgcolor": "#E5ECF6",
          "polar": {
           "angularaxis": {
            "gridcolor": "white",
            "linecolor": "white",
            "ticks": ""
           },
           "bgcolor": "#E5ECF6",
           "radialaxis": {
            "gridcolor": "white",
            "linecolor": "white",
            "ticks": ""
           }
          },
          "scene": {
           "xaxis": {
            "backgroundcolor": "#E5ECF6",
            "gridcolor": "white",
            "gridwidth": 2,
            "linecolor": "white",
            "showbackground": true,
            "ticks": "",
            "zerolinecolor": "white"
           },
           "yaxis": {
            "backgroundcolor": "#E5ECF6",
            "gridcolor": "white",
            "gridwidth": 2,
            "linecolor": "white",
            "showbackground": true,
            "ticks": "",
            "zerolinecolor": "white"
           },
           "zaxis": {
            "backgroundcolor": "#E5ECF6",
            "gridcolor": "white",
            "gridwidth": 2,
            "linecolor": "white",
            "showbackground": true,
            "ticks": "",
            "zerolinecolor": "white"
           }
          },
          "shapedefaults": {
           "line": {
            "color": "#2a3f5f"
           }
          },
          "ternary": {
           "aaxis": {
            "gridcolor": "white",
            "linecolor": "white",
            "ticks": ""
           },
           "baxis": {
            "gridcolor": "white",
            "linecolor": "white",
            "ticks": ""
           },
           "bgcolor": "#E5ECF6",
           "caxis": {
            "gridcolor": "white",
            "linecolor": "white",
            "ticks": ""
           }
          },
          "title": {
           "x": 0.05
          },
          "xaxis": {
           "automargin": true,
           "gridcolor": "white",
           "linecolor": "white",
           "ticks": "",
           "title": {
            "standoff": 15
           },
           "zerolinecolor": "white",
           "zerolinewidth": 2
          },
          "yaxis": {
           "automargin": true,
           "gridcolor": "white",
           "linecolor": "white",
           "ticks": "",
           "title": {
            "standoff": 15
           },
           "zerolinecolor": "white",
           "zerolinewidth": 2
          }
         }
        },
        "title": {
         "text": "Diện tích đất trung bình (m²) cho 1 căn hộ và Đơn giá gộp trung bình (triệu/m²) giữa các Quận ở TP.HCM"
        },
        "xaxis": {
         "anchor": "y",
         "domain": [
          0,
          1
         ],
         "title": {
          "text": "Đơn giá gộp trung bình (triệu/m²)"
         }
        },
        "yaxis": {
         "anchor": "x",
         "domain": [
          0,
          1
         ],
         "title": {
          "text": "Diện tích đất trung bình (m²)"
         }
        }
       }
      }
     },
     "metadata": {},
     "output_type": "display_data"
    }
   ],
   "source": [
    "bubble_chart(price_high)"
   ]
  },
  {
   "cell_type": "code",
   "execution_count": 38,
   "metadata": {},
   "outputs": [
    {
     "data": {
      "text/plain": [
       "0.75"
      ]
     },
     "execution_count": 38,
     "metadata": {},
     "output_type": "execute_result"
    }
   ],
   "source": [
    "df['Giá'].min()"
   ]
  },
  {
   "cell_type": "code",
   "execution_count": 39,
   "metadata": {},
   "outputs": [
    {
     "data": {
      "text/plain": [
       "610.0"
      ]
     },
     "execution_count": 39,
     "metadata": {},
     "output_type": "execute_result"
    }
   ],
   "source": [
    "df['Giá'].max()"
   ]
  },
  {
   "cell_type": "code",
   "execution_count": 40,
   "metadata": {},
   "outputs": [
    {
     "name": "stdout",
     "output_type": "stream",
     "text": [
      "<class 'pandas.core.frame.DataFrame'>\n",
      "RangeIndex: 1452 entries, 0 to 1451\n",
      "Data columns (total 27 columns):\n",
      " #   Column                             Non-Null Count  Dtype  \n",
      "---  ------                             --------------  -----  \n",
      " 0   Unnamed: 0                         1452 non-null   int64  \n",
      " 1   Mã tin                             1452 non-null   int64  \n",
      " 2   Diện tích đất                      1452 non-null   float64\n",
      " 3   Diện tích sử dụng                  1326 non-null   float64\n",
      " 4   Chiều dài                          1117 non-null   float64\n",
      " 5   Chiều rộng                         1117 non-null   float64\n",
      " 6   Độ rộng hẻm                        565 non-null    float64\n",
      " 7   Độ rộng mặt tiền đường             566 non-null    float64\n",
      " 8   Phòng ngủ                          1221 non-null   float64\n",
      " 9   Phòng tắm                          1288 non-null   float64\n",
      " 10  Lầu                                1452 non-null   int64  \n",
      " 11  Lửng                               1452 non-null   int64  \n",
      " 12  Tầng thượng                        1452 non-null   int64  \n",
      " 13  Hướng                              1268 non-null   object \n",
      " 14  Đường                              1452 non-null   object \n",
      " 15  Phường                             1452 non-null   object \n",
      " 16  Quận                               1452 non-null   object \n",
      " 17  Giá                                1452 non-null   float64\n",
      " 18  Đơn giá gộp                        1452 non-null   float64\n",
      " 19  Tiêu đề                            1452 non-null   object \n",
      " 20  Địa chỉ                            1452 non-null   object \n",
      " 21  Gần chợ, siêu thị                  1452 non-null   int64  \n",
      " 22  Gần trường học                     1452 non-null   int64  \n",
      " 23  Di chuyển thuận tiện ra trung tâm  1452 non-null   int64  \n",
      " 24  Khu vực an ninh, yên tĩnh          1452 non-null   int64  \n",
      " 25  phân loại                          1452 non-null   float64\n",
      " 26  Đơn giá cao                        1452 non-null   int64  \n",
      "dtypes: float64(11), int64(10), object(6)\n",
      "memory usage: 306.4+ KB\n"
     ]
    }
   ],
   "source": [
    "df.info()"
   ]
  },
  {
   "cell_type": "code",
   "execution_count": 41,
   "metadata": {},
   "outputs": [
    {
     "data": {
      "text/plain": [
       "count     1326.000000\n",
       "mean       235.306018\n",
       "std        434.748066\n",
       "min          6.200000\n",
       "25%         44.600000\n",
       "50%        100.000000\n",
       "75%        287.650000\n",
       "max      10396.000000\n",
       "Name: Diện tích sử dụng, dtype: float64"
      ]
     },
     "execution_count": 41,
     "metadata": {},
     "output_type": "execute_result"
    }
   ],
   "source": [
    "df['Diện tích sử dụng'].describe()"
   ]
  },
  {
   "cell_type": "code",
   "execution_count": 42,
   "metadata": {},
   "outputs": [
    {
     "data": {
      "text/html": [
       "<div>\n",
       "<style scoped>\n",
       "    .dataframe tbody tr th:only-of-type {\n",
       "        vertical-align: middle;\n",
       "    }\n",
       "\n",
       "    .dataframe tbody tr th {\n",
       "        vertical-align: top;\n",
       "    }\n",
       "\n",
       "    .dataframe thead th {\n",
       "        text-align: right;\n",
       "    }\n",
       "</style>\n",
       "<table border=\"1\" class=\"dataframe\">\n",
       "  <thead>\n",
       "    <tr style=\"text-align: right;\">\n",
       "      <th></th>\n",
       "      <th>Unnamed: 0</th>\n",
       "      <th>Mã tin</th>\n",
       "      <th>Diện tích đất</th>\n",
       "      <th>Diện tích sử dụng</th>\n",
       "      <th>Chiều dài</th>\n",
       "      <th>Chiều rộng</th>\n",
       "      <th>Độ rộng hẻm</th>\n",
       "      <th>Độ rộng mặt tiền đường</th>\n",
       "      <th>Phòng ngủ</th>\n",
       "      <th>Phòng tắm</th>\n",
       "      <th>Lầu</th>\n",
       "      <th>Lửng</th>\n",
       "      <th>Tầng thượng</th>\n",
       "      <th>Hướng</th>\n",
       "      <th>Đường</th>\n",
       "      <th>Phường</th>\n",
       "      <th>Quận</th>\n",
       "      <th>Giá</th>\n",
       "      <th>Đơn giá gộp</th>\n",
       "      <th>Tiêu đề</th>\n",
       "      <th>Địa chỉ</th>\n",
       "      <th>Gần chợ, siêu thị</th>\n",
       "      <th>Gần trường học</th>\n",
       "      <th>Di chuyển thuận tiện ra trung tâm</th>\n",
       "      <th>Khu vực an ninh, yên tĩnh</th>\n",
       "      <th>phân loại</th>\n",
       "      <th>Đơn giá cao</th>\n",
       "    </tr>\n",
       "  </thead>\n",
       "  <tbody>\n",
       "    <tr>\n",
       "      <th>69</th>\n",
       "      <td>69</td>\n",
       "      <td>168416</td>\n",
       "      <td>6.2</td>\n",
       "      <td>6.2</td>\n",
       "      <td>4.06</td>\n",
       "      <td>2.55</td>\n",
       "      <td>1.34</td>\n",
       "      <td>NaN</td>\n",
       "      <td>1.0</td>\n",
       "      <td>1.0</td>\n",
       "      <td>1</td>\n",
       "      <td>0</td>\n",
       "      <td>0</td>\n",
       "      <td>Đ.Bắc</td>\n",
       "      <td>Đ.Trường Sa</td>\n",
       "      <td>P.17</td>\n",
       "      <td>Q.Bình Thạnh</td>\n",
       "      <td>1.35</td>\n",
       "      <td>217.7</td>\n",
       "      <td>bán nhà hẻm đường trường sa quận bình thạnh - ...</td>\n",
       "      <td>Đ.Trường Sa, P.17, Q.Bình Thạnh, Hồ Chí Minh</td>\n",
       "      <td>0</td>\n",
       "      <td>0</td>\n",
       "      <td>0</td>\n",
       "      <td>0</td>\n",
       "      <td>1.0</td>\n",
       "      <td>1</td>\n",
       "    </tr>\n",
       "  </tbody>\n",
       "</table>\n",
       "</div>"
      ],
      "text/plain": [
       "    Unnamed: 0  Mã tin  Diện tích đất  Diện tích sử dụng  Chiều dài  \\\n",
       "69          69  168416            6.2                6.2       4.06   \n",
       "\n",
       "    Chiều rộng  Độ rộng hẻm  Độ rộng mặt tiền đường  Phòng ngủ  Phòng tắm  \\\n",
       "69        2.55         1.34                     NaN        1.0        1.0   \n",
       "\n",
       "    Lầu  Lửng  Tầng thượng  Hướng        Đường Phường          Quận   Giá  \\\n",
       "69    1     0            0  Đ.Bắc  Đ.Trường Sa   P.17  Q.Bình Thạnh  1.35   \n",
       "\n",
       "    Đơn giá gộp                                            Tiêu đề  \\\n",
       "69        217.7  bán nhà hẻm đường trường sa quận bình thạnh - ...   \n",
       "\n",
       "                                         Địa chỉ  Gần chợ, siêu thị  \\\n",
       "69  Đ.Trường Sa, P.17, Q.Bình Thạnh, Hồ Chí Minh                  0   \n",
       "\n",
       "    Gần trường học  Di chuyển thuận tiện ra trung tâm  \\\n",
       "69               0                                  0   \n",
       "\n",
       "    Khu vực an ninh, yên tĩnh  phân loại  Đơn giá cao  \n",
       "69                          0        1.0            1  "
      ]
     },
     "execution_count": 42,
     "metadata": {},
     "output_type": "execute_result"
    }
   ],
   "source": [
    "df[df['Diện tích sử dụng']==6.2]"
   ]
  }
 ],
 "metadata": {
  "kernelspec": {
   "display_name": "Python 3 (ipykernel)",
   "language": "python",
   "name": "python3"
  },
  "language_info": {
   "codemirror_mode": {
    "name": "ipython",
    "version": 3
   },
   "file_extension": ".py",
   "mimetype": "text/x-python",
   "name": "python",
   "nbconvert_exporter": "python",
   "pygments_lexer": "ipython3",
   "version": "3.10.2"
  },
  "vscode": {
   "interpreter": {
    "hash": "bc99aaafc5cc797f9a995151b1d4bee555715561fb8465e7608afe1df4776c14"
   }
  }
 },
 "nbformat": 4,
 "nbformat_minor": 2
}
